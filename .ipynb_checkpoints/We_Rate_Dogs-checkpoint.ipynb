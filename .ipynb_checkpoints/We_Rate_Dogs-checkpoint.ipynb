{
 "cells": [
  {
   "cell_type": "markdown",
   "metadata": {
    "extensions": {
     "jupyter_dashboards": {
      "version": 1,
      "views": {
       "grid_default": {
        "col": 0,
        "height": 4,
        "hidden": false,
        "row": 0,
        "width": 4
       },
       "report_default": {
        "hidden": false
       }
      }
     }
    }
   },
   "source": [
    "# Project: Wrangling and Analyze Data"
   ]
  },
  {
   "cell_type": "markdown",
   "metadata": {},
   "source": [
    "## Data Gathering\n",
    "In the cell below, gather **all** three pieces of data for this project and load them in the notebook. **Note:** the methods required to gather each data are different.\n",
    "1. Directly download the WeRateDogs Twitter archive data (twitter_archive_enhanced.csv)"
   ]
  },
  {
   "cell_type": "code",
   "execution_count": 1,
   "metadata": {},
   "outputs": [],
   "source": [
    "# import libraries\n",
    "import pandas as pd\n",
    "import numpy as np\n",
    "import matplotlib.pyplot as plt\n",
    "import json\n",
    "import requests\n",
    "\n",
    "%matplotlib inline"
   ]
  },
  {
   "cell_type": "code",
   "execution_count": 2,
   "metadata": {
    "extensions": {
     "jupyter_dashboards": {
      "version": 1,
      "views": {
       "grid_default": {
        "hidden": true
       },
       "report_default": {
        "hidden": true
       }
      }
     }
    }
   },
   "outputs": [],
   "source": [
    "# load the twitter-archive-enhanced.csv into a dataframe\n",
    "twit_arch = pd.read_csv('twitter-archive-enhanced.csv')"
   ]
  },
  {
   "cell_type": "markdown",
   "metadata": {},
   "source": [
    "2. Use the Requests library to download the tweet image prediction (image_predictions.tsv)"
   ]
  },
  {
   "cell_type": "code",
   "execution_count": 3,
   "metadata": {},
   "outputs": [],
   "source": [
    "# downlod the image prediction file programmatically\n",
    "url = 'https://d17h27t6h515a5.cloudfront.net/topher/2017/August/599fd2ad_image-predictions/image-predictions.tsv'\n",
    "response = requests.get(url)\n",
    "\n",
    "with open(url.split('/')[-1], mode = 'wb') as file:\n",
    "    file.write(response.content)"
   ]
  },
  {
   "cell_type": "code",
   "execution_count": 4,
   "metadata": {},
   "outputs": [],
   "source": [
    "# load the image-prediction.tsv into a dataframe\n",
    "image_pred = pd.read_table('image-predictions.tsv')"
   ]
  },
  {
   "cell_type": "markdown",
   "metadata": {},
   "source": [
    "3. Use the Tweepy library to query additional data via the Twitter API (tweet_json.txt)"
   ]
  },
  {
   "cell_type": "code",
   "execution_count": 5,
   "metadata": {},
   "outputs": [],
   "source": [
    "# I have no access to twitter API, so download the tweet-json provided by Udacity\n",
    "data = []\n",
    "with open('tweet-json.txt', 'r')  as file:\n",
    "    for line in file:\n",
    "        data.append(json.loads(line))"
   ]
  },
  {
   "cell_type": "code",
   "execution_count": 6,
   "metadata": {},
   "outputs": [],
   "source": [
    "# extract the contents needed(tweet_id, retweet_count, favorite_count)\n",
    "deets = []\n",
    "for item in data:\n",
    "    tweet_id = item['id']\n",
    "    retweet_count = item['retweet_count']\n",
    "    favorite_count = item['favorite_count']\n",
    "    \n",
    "    deets.append({'tweet_id': tweet_id,\n",
    "                 'retweet_count': retweet_count,\n",
    "                 'favorite_count': favorite_count})"
   ]
  },
  {
   "cell_type": "code",
   "execution_count": 7,
   "metadata": {},
   "outputs": [],
   "source": [
    "# read the extracted content into a dataframe\n",
    "twit_like = pd.DataFrame(deets, columns = ['tweet_id', 'retweet_count', 'favorite_count'])"
   ]
  },
  {
   "cell_type": "markdown",
   "metadata": {
    "extensions": {
     "jupyter_dashboards": {
      "version": 1,
      "views": {
       "grid_default": {
        "col": 4,
        "height": 4,
        "hidden": false,
        "row": 28,
        "width": 4
       },
       "report_default": {
        "hidden": false
       }
      }
     }
    }
   },
   "source": [
    "## Assessing Data\n",
    "In this section, detect and document at least **eight (8) quality issues and two (2) tidiness issue**. You must use **both** visual assessment\n",
    "programmatic assessement to assess the data.\n",
    "\n",
    "**Note:** pay attention to the following key points when you access the data.\n",
    "\n",
    "* You only want original ratings (no retweets) that have images. Though there are 5000+ tweets in the dataset, not all are dog ratings and some are retweets.\n",
    "* Assessing and cleaning the entire dataset completely would require a lot of time, and is not necessary to practice and demonstrate your skills in data wrangling. Therefore, the requirements of this project are only to assess and clean at least 8 quality issues and at least 2 tidiness issues in this dataset.\n",
    "* The fact that the rating numerators are greater than the denominators does not need to be cleaned. This [unique rating system](http://knowyourmeme.com/memes/theyre-good-dogs-brent) is a big part of the popularity of WeRateDogs.\n",
    "* You do not need to gather the tweets beyond August 1st, 2017. You can, but note that you won't be able to gather the image predictions for these tweets since you don't have access to the algorithm used.\n",
    "\n"
   ]
  },
  {
   "cell_type": "code",
   "execution_count": 8,
   "metadata": {
    "tags": []
   },
   "outputs": [
    {
     "data": {
      "text/html": [
       "<div>\n",
       "<style scoped>\n",
       "    .dataframe tbody tr th:only-of-type {\n",
       "        vertical-align: middle;\n",
       "    }\n",
       "\n",
       "    .dataframe tbody tr th {\n",
       "        vertical-align: top;\n",
       "    }\n",
       "\n",
       "    .dataframe thead th {\n",
       "        text-align: right;\n",
       "    }\n",
       "</style>\n",
       "<table border=\"1\" class=\"dataframe\">\n",
       "  <thead>\n",
       "    <tr style=\"text-align: right;\">\n",
       "      <th></th>\n",
       "      <th>tweet_id</th>\n",
       "      <th>in_reply_to_status_id</th>\n",
       "      <th>in_reply_to_user_id</th>\n",
       "      <th>timestamp</th>\n",
       "      <th>source</th>\n",
       "      <th>text</th>\n",
       "      <th>retweeted_status_id</th>\n",
       "      <th>retweeted_status_user_id</th>\n",
       "      <th>retweeted_status_timestamp</th>\n",
       "      <th>expanded_urls</th>\n",
       "      <th>rating_numerator</th>\n",
       "      <th>rating_denominator</th>\n",
       "      <th>name</th>\n",
       "      <th>doggo</th>\n",
       "      <th>floofer</th>\n",
       "      <th>pupper</th>\n",
       "      <th>puppo</th>\n",
       "    </tr>\n",
       "  </thead>\n",
       "  <tbody>\n",
       "    <tr>\n",
       "      <th>1494</th>\n",
       "      <td>692568918515392513</td>\n",
       "      <td>NaN</td>\n",
       "      <td>NaN</td>\n",
       "      <td>2016-01-28 04:44:32 +0000</td>\n",
       "      <td>&lt;a href=\"http://twitter.com/download/iphone\" r...</td>\n",
       "      <td>This is Chester. He's been guarding this pumpk...</td>\n",
       "      <td>NaN</td>\n",
       "      <td>NaN</td>\n",
       "      <td>NaN</td>\n",
       "      <td>https://twitter.com/dog_rates/status/692568918...</td>\n",
       "      <td>12</td>\n",
       "      <td>10</td>\n",
       "      <td>Chester</td>\n",
       "      <td>None</td>\n",
       "      <td>None</td>\n",
       "      <td>None</td>\n",
       "      <td>None</td>\n",
       "    </tr>\n",
       "    <tr>\n",
       "      <th>701</th>\n",
       "      <td>786051337297522688</td>\n",
       "      <td>7.727430e+17</td>\n",
       "      <td>7.305050e+17</td>\n",
       "      <td>2016-10-12 03:50:17 +0000</td>\n",
       "      <td>&lt;a href=\"http://twitter.com/download/iphone\" r...</td>\n",
       "      <td>13/10 for breakdancing puppo @shibbnbot</td>\n",
       "      <td>NaN</td>\n",
       "      <td>NaN</td>\n",
       "      <td>NaN</td>\n",
       "      <td>NaN</td>\n",
       "      <td>13</td>\n",
       "      <td>10</td>\n",
       "      <td>None</td>\n",
       "      <td>None</td>\n",
       "      <td>None</td>\n",
       "      <td>None</td>\n",
       "      <td>puppo</td>\n",
       "    </tr>\n",
       "    <tr>\n",
       "      <th>1269</th>\n",
       "      <td>709519240576036864</td>\n",
       "      <td>NaN</td>\n",
       "      <td>NaN</td>\n",
       "      <td>2016-03-14 23:19:03 +0000</td>\n",
       "      <td>&lt;a href=\"http://twitter.com/download/iphone\" r...</td>\n",
       "      <td>This is Vince. He's a Gregorian Flapjeck. Whit...</td>\n",
       "      <td>NaN</td>\n",
       "      <td>NaN</td>\n",
       "      <td>NaN</td>\n",
       "      <td>https://twitter.com/dog_rates/status/709519240...</td>\n",
       "      <td>9</td>\n",
       "      <td>10</td>\n",
       "      <td>Vince</td>\n",
       "      <td>None</td>\n",
       "      <td>None</td>\n",
       "      <td>None</td>\n",
       "      <td>None</td>\n",
       "    </tr>\n",
       "    <tr>\n",
       "      <th>2348</th>\n",
       "      <td>666055525042405380</td>\n",
       "      <td>NaN</td>\n",
       "      <td>NaN</td>\n",
       "      <td>2015-11-16 00:49:46 +0000</td>\n",
       "      <td>&lt;a href=\"http://twitter.com/download/iphone\" r...</td>\n",
       "      <td>Here is a Siberian heavily armored polar bear ...</td>\n",
       "      <td>NaN</td>\n",
       "      <td>NaN</td>\n",
       "      <td>NaN</td>\n",
       "      <td>https://twitter.com/dog_rates/status/666055525...</td>\n",
       "      <td>10</td>\n",
       "      <td>10</td>\n",
       "      <td>a</td>\n",
       "      <td>None</td>\n",
       "      <td>None</td>\n",
       "      <td>None</td>\n",
       "      <td>None</td>\n",
       "    </tr>\n",
       "    <tr>\n",
       "      <th>2042</th>\n",
       "      <td>671538301157904385</td>\n",
       "      <td>NaN</td>\n",
       "      <td>NaN</td>\n",
       "      <td>2015-12-01 03:56:22 +0000</td>\n",
       "      <td>&lt;a href=\"http://twitter.com/download/iphone\" r...</td>\n",
       "      <td>This is Baxter. He's very calm. Hasn't eaten i...</td>\n",
       "      <td>NaN</td>\n",
       "      <td>NaN</td>\n",
       "      <td>NaN</td>\n",
       "      <td>https://twitter.com/dog_rates/status/671538301...</td>\n",
       "      <td>8</td>\n",
       "      <td>10</td>\n",
       "      <td>Baxter</td>\n",
       "      <td>None</td>\n",
       "      <td>None</td>\n",
       "      <td>None</td>\n",
       "      <td>None</td>\n",
       "    </tr>\n",
       "  </tbody>\n",
       "</table>\n",
       "</div>"
      ],
      "text/plain": [
       "                tweet_id  in_reply_to_status_id  in_reply_to_user_id  \\\n",
       "1494  692568918515392513                    NaN                  NaN   \n",
       "701   786051337297522688           7.727430e+17         7.305050e+17   \n",
       "1269  709519240576036864                    NaN                  NaN   \n",
       "2348  666055525042405380                    NaN                  NaN   \n",
       "2042  671538301157904385                    NaN                  NaN   \n",
       "\n",
       "                      timestamp  \\\n",
       "1494  2016-01-28 04:44:32 +0000   \n",
       "701   2016-10-12 03:50:17 +0000   \n",
       "1269  2016-03-14 23:19:03 +0000   \n",
       "2348  2015-11-16 00:49:46 +0000   \n",
       "2042  2015-12-01 03:56:22 +0000   \n",
       "\n",
       "                                                 source  \\\n",
       "1494  <a href=\"http://twitter.com/download/iphone\" r...   \n",
       "701   <a href=\"http://twitter.com/download/iphone\" r...   \n",
       "1269  <a href=\"http://twitter.com/download/iphone\" r...   \n",
       "2348  <a href=\"http://twitter.com/download/iphone\" r...   \n",
       "2042  <a href=\"http://twitter.com/download/iphone\" r...   \n",
       "\n",
       "                                                   text  retweeted_status_id  \\\n",
       "1494  This is Chester. He's been guarding this pumpk...                  NaN   \n",
       "701             13/10 for breakdancing puppo @shibbnbot                  NaN   \n",
       "1269  This is Vince. He's a Gregorian Flapjeck. Whit...                  NaN   \n",
       "2348  Here is a Siberian heavily armored polar bear ...                  NaN   \n",
       "2042  This is Baxter. He's very calm. Hasn't eaten i...                  NaN   \n",
       "\n",
       "      retweeted_status_user_id retweeted_status_timestamp  \\\n",
       "1494                       NaN                        NaN   \n",
       "701                        NaN                        NaN   \n",
       "1269                       NaN                        NaN   \n",
       "2348                       NaN                        NaN   \n",
       "2042                       NaN                        NaN   \n",
       "\n",
       "                                          expanded_urls  rating_numerator  \\\n",
       "1494  https://twitter.com/dog_rates/status/692568918...                12   \n",
       "701                                                 NaN                13   \n",
       "1269  https://twitter.com/dog_rates/status/709519240...                 9   \n",
       "2348  https://twitter.com/dog_rates/status/666055525...                10   \n",
       "2042  https://twitter.com/dog_rates/status/671538301...                 8   \n",
       "\n",
       "      rating_denominator     name doggo floofer pupper  puppo  \n",
       "1494                  10  Chester  None    None   None   None  \n",
       "701                   10     None  None    None   None  puppo  \n",
       "1269                  10    Vince  None    None   None   None  \n",
       "2348                  10        a  None    None   None   None  \n",
       "2042                  10   Baxter  None    None   None   None  "
      ]
     },
     "execution_count": 8,
     "metadata": {},
     "output_type": "execute_result"
    }
   ],
   "source": [
    "# First assess the tables (twitter-archive-enhanced) visually with google sheets, or any other program, for review, I'll use pandas .sample() function\n",
    "twit_arch.sample(5)"
   ]
  },
  {
   "cell_type": "code",
   "execution_count": 9,
   "metadata": {},
   "outputs": [
    {
     "data": {
      "text/html": [
       "<div>\n",
       "<style scoped>\n",
       "    .dataframe tbody tr th:only-of-type {\n",
       "        vertical-align: middle;\n",
       "    }\n",
       "\n",
       "    .dataframe tbody tr th {\n",
       "        vertical-align: top;\n",
       "    }\n",
       "\n",
       "    .dataframe thead th {\n",
       "        text-align: right;\n",
       "    }\n",
       "</style>\n",
       "<table border=\"1\" class=\"dataframe\">\n",
       "  <thead>\n",
       "    <tr style=\"text-align: right;\">\n",
       "      <th></th>\n",
       "      <th>tweet_id</th>\n",
       "      <th>jpg_url</th>\n",
       "      <th>img_num</th>\n",
       "      <th>p1</th>\n",
       "      <th>p1_conf</th>\n",
       "      <th>p1_dog</th>\n",
       "      <th>p2</th>\n",
       "      <th>p2_conf</th>\n",
       "      <th>p2_dog</th>\n",
       "      <th>p3</th>\n",
       "      <th>p3_conf</th>\n",
       "      <th>p3_dog</th>\n",
       "    </tr>\n",
       "  </thead>\n",
       "  <tbody>\n",
       "    <tr>\n",
       "      <th>1857</th>\n",
       "      <td>841680585030541313</td>\n",
       "      <td>https://pbs.twimg.com/media/C65AA7_WoAEGqA9.jpg</td>\n",
       "      <td>1</td>\n",
       "      <td>Chihuahua</td>\n",
       "      <td>0.547401</td>\n",
       "      <td>True</td>\n",
       "      <td>bow_tie</td>\n",
       "      <td>0.198361</td>\n",
       "      <td>False</td>\n",
       "      <td>Pembroke</td>\n",
       "      <td>0.058492</td>\n",
       "      <td>True</td>\n",
       "    </tr>\n",
       "    <tr>\n",
       "      <th>2013</th>\n",
       "      <td>879376492567855104</td>\n",
       "      <td>https://pbs.twimg.com/media/DDQsQGFV0AAw6u9.jpg</td>\n",
       "      <td>1</td>\n",
       "      <td>tricycle</td>\n",
       "      <td>0.663601</td>\n",
       "      <td>False</td>\n",
       "      <td>Labrador_retriever</td>\n",
       "      <td>0.033496</td>\n",
       "      <td>True</td>\n",
       "      <td>Pembroke</td>\n",
       "      <td>0.018827</td>\n",
       "      <td>True</td>\n",
       "    </tr>\n",
       "    <tr>\n",
       "      <th>1582</th>\n",
       "      <td>796759840936919040</td>\n",
       "      <td>https://pbs.twimg.com/media/Cw6o1JQXcAAtP78.jpg</td>\n",
       "      <td>1</td>\n",
       "      <td>American_Staffordshire_terrier</td>\n",
       "      <td>0.463996</td>\n",
       "      <td>True</td>\n",
       "      <td>Staffordshire_bullterrier</td>\n",
       "      <td>0.155566</td>\n",
       "      <td>True</td>\n",
       "      <td>Weimaraner</td>\n",
       "      <td>0.137587</td>\n",
       "      <td>True</td>\n",
       "    </tr>\n",
       "    <tr>\n",
       "      <th>1492</th>\n",
       "      <td>782969140009107456</td>\n",
       "      <td>https://pbs.twimg.com/media/Ct2qO5PXEAE6eB0.jpg</td>\n",
       "      <td>1</td>\n",
       "      <td>seat_belt</td>\n",
       "      <td>0.474292</td>\n",
       "      <td>False</td>\n",
       "      <td>golden_retriever</td>\n",
       "      <td>0.171393</td>\n",
       "      <td>True</td>\n",
       "      <td>Labrador_retriever</td>\n",
       "      <td>0.110592</td>\n",
       "      <td>True</td>\n",
       "    </tr>\n",
       "    <tr>\n",
       "      <th>1148</th>\n",
       "      <td>731156023742988288</td>\n",
       "      <td>https://pbs.twimg.com/media/CiWWhVNUYAAab_r.jpg</td>\n",
       "      <td>1</td>\n",
       "      <td>lakeside</td>\n",
       "      <td>0.501767</td>\n",
       "      <td>False</td>\n",
       "      <td>breakwater</td>\n",
       "      <td>0.051351</td>\n",
       "      <td>False</td>\n",
       "      <td>king_penguin</td>\n",
       "      <td>0.049444</td>\n",
       "      <td>False</td>\n",
       "    </tr>\n",
       "  </tbody>\n",
       "</table>\n",
       "</div>"
      ],
      "text/plain": [
       "                tweet_id                                          jpg_url  \\\n",
       "1857  841680585030541313  https://pbs.twimg.com/media/C65AA7_WoAEGqA9.jpg   \n",
       "2013  879376492567855104  https://pbs.twimg.com/media/DDQsQGFV0AAw6u9.jpg   \n",
       "1582  796759840936919040  https://pbs.twimg.com/media/Cw6o1JQXcAAtP78.jpg   \n",
       "1492  782969140009107456  https://pbs.twimg.com/media/Ct2qO5PXEAE6eB0.jpg   \n",
       "1148  731156023742988288  https://pbs.twimg.com/media/CiWWhVNUYAAab_r.jpg   \n",
       "\n",
       "      img_num                              p1   p1_conf  p1_dog  \\\n",
       "1857        1                       Chihuahua  0.547401    True   \n",
       "2013        1                        tricycle  0.663601   False   \n",
       "1582        1  American_Staffordshire_terrier  0.463996    True   \n",
       "1492        1                       seat_belt  0.474292   False   \n",
       "1148        1                        lakeside  0.501767   False   \n",
       "\n",
       "                             p2   p2_conf  p2_dog                  p3  \\\n",
       "1857                    bow_tie  0.198361   False            Pembroke   \n",
       "2013         Labrador_retriever  0.033496    True            Pembroke   \n",
       "1582  Staffordshire_bullterrier  0.155566    True          Weimaraner   \n",
       "1492           golden_retriever  0.171393    True  Labrador_retriever   \n",
       "1148                 breakwater  0.051351   False        king_penguin   \n",
       "\n",
       "       p3_conf  p3_dog  \n",
       "1857  0.058492    True  \n",
       "2013  0.018827    True  \n",
       "1582  0.137587    True  \n",
       "1492  0.110592    True  \n",
       "1148  0.049444   False  "
      ]
     },
     "execution_count": 9,
     "metadata": {},
     "output_type": "execute_result"
    }
   ],
   "source": [
    "# Assess the tables(image-prediction) visually\n",
    "image_pred.sample(5)"
   ]
  },
  {
   "cell_type": "code",
   "execution_count": 10,
   "metadata": {
    "tags": []
   },
   "outputs": [
    {
     "data": {
      "text/html": [
       "<div>\n",
       "<style scoped>\n",
       "    .dataframe tbody tr th:only-of-type {\n",
       "        vertical-align: middle;\n",
       "    }\n",
       "\n",
       "    .dataframe tbody tr th {\n",
       "        vertical-align: top;\n",
       "    }\n",
       "\n",
       "    .dataframe thead th {\n",
       "        text-align: right;\n",
       "    }\n",
       "</style>\n",
       "<table border=\"1\" class=\"dataframe\">\n",
       "  <thead>\n",
       "    <tr style=\"text-align: right;\">\n",
       "      <th></th>\n",
       "      <th>tweet_id</th>\n",
       "      <th>retweet_count</th>\n",
       "      <th>favorite_count</th>\n",
       "    </tr>\n",
       "  </thead>\n",
       "  <tbody>\n",
       "    <tr>\n",
       "      <th>1826</th>\n",
       "      <td>676263575653122048</td>\n",
       "      <td>609</td>\n",
       "      <td>2243</td>\n",
       "    </tr>\n",
       "    <tr>\n",
       "      <th>168</th>\n",
       "      <td>859196978902773760</td>\n",
       "      <td>25661</td>\n",
       "      <td>75193</td>\n",
       "    </tr>\n",
       "    <tr>\n",
       "      <th>338</th>\n",
       "      <td>832273440279240704</td>\n",
       "      <td>2673</td>\n",
       "      <td>12385</td>\n",
       "    </tr>\n",
       "    <tr>\n",
       "      <th>1061</th>\n",
       "      <td>741067306818797568</td>\n",
       "      <td>3520</td>\n",
       "      <td>10342</td>\n",
       "    </tr>\n",
       "    <tr>\n",
       "      <th>1364</th>\n",
       "      <td>702671118226825216</td>\n",
       "      <td>634</td>\n",
       "      <td>2398</td>\n",
       "    </tr>\n",
       "  </tbody>\n",
       "</table>\n",
       "</div>"
      ],
      "text/plain": [
       "                tweet_id  retweet_count  favorite_count\n",
       "1826  676263575653122048            609            2243\n",
       "168   859196978902773760          25661           75193\n",
       "338   832273440279240704           2673           12385\n",
       "1061  741067306818797568           3520           10342\n",
       "1364  702671118226825216            634            2398"
      ]
     },
     "execution_count": 10,
     "metadata": {},
     "output_type": "execute_result"
    }
   ],
   "source": [
    "# Assess the tables(retweet and tweet likes) visually\n",
    "twit_like.sample(5)"
   ]
  },
  {
   "cell_type": "markdown",
   "metadata": {},
   "source": [
    "Assess each table programatically with pandas methods or functions(.head(), .describe(), .duplicated(), .info(), e.t.c)"
   ]
  },
  {
   "cell_type": "code",
   "execution_count": 11,
   "metadata": {},
   "outputs": [
    {
     "name": "stdout",
     "output_type": "stream",
     "text": [
      "<class 'pandas.core.frame.DataFrame'>\n",
      "RangeIndex: 2356 entries, 0 to 2355\n",
      "Data columns (total 17 columns):\n",
      " #   Column                      Non-Null Count  Dtype  \n",
      "---  ------                      --------------  -----  \n",
      " 0   tweet_id                    2356 non-null   int64  \n",
      " 1   in_reply_to_status_id       78 non-null     float64\n",
      " 2   in_reply_to_user_id         78 non-null     float64\n",
      " 3   timestamp                   2356 non-null   object \n",
      " 4   source                      2356 non-null   object \n",
      " 5   text                        2356 non-null   object \n",
      " 6   retweeted_status_id         181 non-null    float64\n",
      " 7   retweeted_status_user_id    181 non-null    float64\n",
      " 8   retweeted_status_timestamp  181 non-null    object \n",
      " 9   expanded_urls               2297 non-null   object \n",
      " 10  rating_numerator            2356 non-null   int64  \n",
      " 11  rating_denominator          2356 non-null   int64  \n",
      " 12  name                        2356 non-null   object \n",
      " 13  doggo                       2356 non-null   object \n",
      " 14  floofer                     2356 non-null   object \n",
      " 15  pupper                      2356 non-null   object \n",
      " 16  puppo                       2356 non-null   object \n",
      "dtypes: float64(4), int64(3), object(10)\n",
      "memory usage: 313.0+ KB\n"
     ]
    }
   ],
   "source": [
    "# Assess each table programatically (twitter-archive-enhanced)\n",
    "twit_arch.info()"
   ]
  },
  {
   "cell_type": "code",
   "execution_count": 12,
   "metadata": {},
   "outputs": [
    {
     "data": {
      "text/html": [
       "<div>\n",
       "<style scoped>\n",
       "    .dataframe tbody tr th:only-of-type {\n",
       "        vertical-align: middle;\n",
       "    }\n",
       "\n",
       "    .dataframe tbody tr th {\n",
       "        vertical-align: top;\n",
       "    }\n",
       "\n",
       "    .dataframe thead th {\n",
       "        text-align: right;\n",
       "    }\n",
       "</style>\n",
       "<table border=\"1\" class=\"dataframe\">\n",
       "  <thead>\n",
       "    <tr style=\"text-align: right;\">\n",
       "      <th></th>\n",
       "      <th>tweet_id</th>\n",
       "      <th>in_reply_to_status_id</th>\n",
       "      <th>in_reply_to_user_id</th>\n",
       "      <th>retweeted_status_id</th>\n",
       "      <th>retweeted_status_user_id</th>\n",
       "      <th>rating_numerator</th>\n",
       "      <th>rating_denominator</th>\n",
       "    </tr>\n",
       "  </thead>\n",
       "  <tbody>\n",
       "    <tr>\n",
       "      <th>count</th>\n",
       "      <td>2.356000e+03</td>\n",
       "      <td>7.800000e+01</td>\n",
       "      <td>7.800000e+01</td>\n",
       "      <td>1.810000e+02</td>\n",
       "      <td>1.810000e+02</td>\n",
       "      <td>2356.000000</td>\n",
       "      <td>2356.000000</td>\n",
       "    </tr>\n",
       "    <tr>\n",
       "      <th>mean</th>\n",
       "      <td>7.427716e+17</td>\n",
       "      <td>7.455079e+17</td>\n",
       "      <td>2.014171e+16</td>\n",
       "      <td>7.720400e+17</td>\n",
       "      <td>1.241698e+16</td>\n",
       "      <td>13.126486</td>\n",
       "      <td>10.455433</td>\n",
       "    </tr>\n",
       "    <tr>\n",
       "      <th>std</th>\n",
       "      <td>6.856705e+16</td>\n",
       "      <td>7.582492e+16</td>\n",
       "      <td>1.252797e+17</td>\n",
       "      <td>6.236928e+16</td>\n",
       "      <td>9.599254e+16</td>\n",
       "      <td>45.876648</td>\n",
       "      <td>6.745237</td>\n",
       "    </tr>\n",
       "    <tr>\n",
       "      <th>min</th>\n",
       "      <td>6.660209e+17</td>\n",
       "      <td>6.658147e+17</td>\n",
       "      <td>1.185634e+07</td>\n",
       "      <td>6.661041e+17</td>\n",
       "      <td>7.832140e+05</td>\n",
       "      <td>0.000000</td>\n",
       "      <td>0.000000</td>\n",
       "    </tr>\n",
       "    <tr>\n",
       "      <th>25%</th>\n",
       "      <td>6.783989e+17</td>\n",
       "      <td>6.757419e+17</td>\n",
       "      <td>3.086374e+08</td>\n",
       "      <td>7.186315e+17</td>\n",
       "      <td>4.196984e+09</td>\n",
       "      <td>10.000000</td>\n",
       "      <td>10.000000</td>\n",
       "    </tr>\n",
       "    <tr>\n",
       "      <th>50%</th>\n",
       "      <td>7.196279e+17</td>\n",
       "      <td>7.038708e+17</td>\n",
       "      <td>4.196984e+09</td>\n",
       "      <td>7.804657e+17</td>\n",
       "      <td>4.196984e+09</td>\n",
       "      <td>11.000000</td>\n",
       "      <td>10.000000</td>\n",
       "    </tr>\n",
       "    <tr>\n",
       "      <th>75%</th>\n",
       "      <td>7.993373e+17</td>\n",
       "      <td>8.257804e+17</td>\n",
       "      <td>4.196984e+09</td>\n",
       "      <td>8.203146e+17</td>\n",
       "      <td>4.196984e+09</td>\n",
       "      <td>12.000000</td>\n",
       "      <td>10.000000</td>\n",
       "    </tr>\n",
       "    <tr>\n",
       "      <th>max</th>\n",
       "      <td>8.924206e+17</td>\n",
       "      <td>8.862664e+17</td>\n",
       "      <td>8.405479e+17</td>\n",
       "      <td>8.874740e+17</td>\n",
       "      <td>7.874618e+17</td>\n",
       "      <td>1776.000000</td>\n",
       "      <td>170.000000</td>\n",
       "    </tr>\n",
       "  </tbody>\n",
       "</table>\n",
       "</div>"
      ],
      "text/plain": [
       "           tweet_id  in_reply_to_status_id  in_reply_to_user_id  \\\n",
       "count  2.356000e+03           7.800000e+01         7.800000e+01   \n",
       "mean   7.427716e+17           7.455079e+17         2.014171e+16   \n",
       "std    6.856705e+16           7.582492e+16         1.252797e+17   \n",
       "min    6.660209e+17           6.658147e+17         1.185634e+07   \n",
       "25%    6.783989e+17           6.757419e+17         3.086374e+08   \n",
       "50%    7.196279e+17           7.038708e+17         4.196984e+09   \n",
       "75%    7.993373e+17           8.257804e+17         4.196984e+09   \n",
       "max    8.924206e+17           8.862664e+17         8.405479e+17   \n",
       "\n",
       "       retweeted_status_id  retweeted_status_user_id  rating_numerator  \\\n",
       "count         1.810000e+02              1.810000e+02       2356.000000   \n",
       "mean          7.720400e+17              1.241698e+16         13.126486   \n",
       "std           6.236928e+16              9.599254e+16         45.876648   \n",
       "min           6.661041e+17              7.832140e+05          0.000000   \n",
       "25%           7.186315e+17              4.196984e+09         10.000000   \n",
       "50%           7.804657e+17              4.196984e+09         11.000000   \n",
       "75%           8.203146e+17              4.196984e+09         12.000000   \n",
       "max           8.874740e+17              7.874618e+17       1776.000000   \n",
       "\n",
       "       rating_denominator  \n",
       "count         2356.000000  \n",
       "mean            10.455433  \n",
       "std              6.745237  \n",
       "min              0.000000  \n",
       "25%             10.000000  \n",
       "50%             10.000000  \n",
       "75%             10.000000  \n",
       "max            170.000000  "
      ]
     },
     "execution_count": 12,
     "metadata": {},
     "output_type": "execute_result"
    }
   ],
   "source": [
    "# show statistical summary of table\n",
    "twit_arch.describe()"
   ]
  },
  {
   "cell_type": "code",
   "execution_count": 13,
   "metadata": {},
   "outputs": [
    {
     "data": {
      "text/plain": [
       "0"
      ]
     },
     "execution_count": 13,
     "metadata": {},
     "output_type": "execute_result"
    }
   ],
   "source": [
    "# check number of duplicated rows\n",
    "sum(twit_arch.duplicated())"
   ]
  },
  {
   "cell_type": "code",
   "execution_count": 14,
   "metadata": {},
   "outputs": [
    {
     "data": {
      "text/plain": [
       "tweet_id                         0\n",
       "in_reply_to_status_id         2278\n",
       "in_reply_to_user_id           2278\n",
       "timestamp                        0\n",
       "source                           0\n",
       "text                             0\n",
       "retweeted_status_id           2175\n",
       "retweeted_status_user_id      2175\n",
       "retweeted_status_timestamp    2175\n",
       "expanded_urls                   59\n",
       "rating_numerator                 0\n",
       "rating_denominator               0\n",
       "name                             0\n",
       "doggo                            0\n",
       "floofer                          0\n",
       "pupper                           0\n",
       "puppo                            0\n",
       "dtype: int64"
      ]
     },
     "execution_count": 14,
     "metadata": {},
     "output_type": "execute_result"
    }
   ],
   "source": [
    "# show number of missing values in each column\n",
    "twit_arch.isna().sum()"
   ]
  },
  {
   "cell_type": "code",
   "execution_count": 15,
   "metadata": {},
   "outputs": [
    {
     "name": "stdout",
     "output_type": "stream",
     "text": [
      "<class 'pandas.core.frame.DataFrame'>\n",
      "RangeIndex: 2075 entries, 0 to 2074\n",
      "Data columns (total 12 columns):\n",
      " #   Column    Non-Null Count  Dtype  \n",
      "---  ------    --------------  -----  \n",
      " 0   tweet_id  2075 non-null   int64  \n",
      " 1   jpg_url   2075 non-null   object \n",
      " 2   img_num   2075 non-null   int64  \n",
      " 3   p1        2075 non-null   object \n",
      " 4   p1_conf   2075 non-null   float64\n",
      " 5   p1_dog    2075 non-null   bool   \n",
      " 6   p2        2075 non-null   object \n",
      " 7   p2_conf   2075 non-null   float64\n",
      " 8   p2_dog    2075 non-null   bool   \n",
      " 9   p3        2075 non-null   object \n",
      " 10  p3_conf   2075 non-null   float64\n",
      " 11  p3_dog    2075 non-null   bool   \n",
      "dtypes: bool(3), float64(3), int64(2), object(4)\n",
      "memory usage: 152.1+ KB\n"
     ]
    }
   ],
   "source": [
    "# Assess each table programatically (image-prediction)\n",
    "image_pred.info()"
   ]
  },
  {
   "cell_type": "code",
   "execution_count": 16,
   "metadata": {},
   "outputs": [
    {
     "data": {
      "text/html": [
       "<div>\n",
       "<style scoped>\n",
       "    .dataframe tbody tr th:only-of-type {\n",
       "        vertical-align: middle;\n",
       "    }\n",
       "\n",
       "    .dataframe tbody tr th {\n",
       "        vertical-align: top;\n",
       "    }\n",
       "\n",
       "    .dataframe thead th {\n",
       "        text-align: right;\n",
       "    }\n",
       "</style>\n",
       "<table border=\"1\" class=\"dataframe\">\n",
       "  <thead>\n",
       "    <tr style=\"text-align: right;\">\n",
       "      <th></th>\n",
       "      <th>tweet_id</th>\n",
       "      <th>img_num</th>\n",
       "      <th>p1_conf</th>\n",
       "      <th>p2_conf</th>\n",
       "      <th>p3_conf</th>\n",
       "    </tr>\n",
       "  </thead>\n",
       "  <tbody>\n",
       "    <tr>\n",
       "      <th>count</th>\n",
       "      <td>2.075000e+03</td>\n",
       "      <td>2075.000000</td>\n",
       "      <td>2075.000000</td>\n",
       "      <td>2.075000e+03</td>\n",
       "      <td>2.075000e+03</td>\n",
       "    </tr>\n",
       "    <tr>\n",
       "      <th>mean</th>\n",
       "      <td>7.384514e+17</td>\n",
       "      <td>1.203855</td>\n",
       "      <td>0.594548</td>\n",
       "      <td>1.345886e-01</td>\n",
       "      <td>6.032417e-02</td>\n",
       "    </tr>\n",
       "    <tr>\n",
       "      <th>std</th>\n",
       "      <td>6.785203e+16</td>\n",
       "      <td>0.561875</td>\n",
       "      <td>0.271174</td>\n",
       "      <td>1.006657e-01</td>\n",
       "      <td>5.090593e-02</td>\n",
       "    </tr>\n",
       "    <tr>\n",
       "      <th>min</th>\n",
       "      <td>6.660209e+17</td>\n",
       "      <td>1.000000</td>\n",
       "      <td>0.044333</td>\n",
       "      <td>1.011300e-08</td>\n",
       "      <td>1.740170e-10</td>\n",
       "    </tr>\n",
       "    <tr>\n",
       "      <th>25%</th>\n",
       "      <td>6.764835e+17</td>\n",
       "      <td>1.000000</td>\n",
       "      <td>0.364412</td>\n",
       "      <td>5.388625e-02</td>\n",
       "      <td>1.622240e-02</td>\n",
       "    </tr>\n",
       "    <tr>\n",
       "      <th>50%</th>\n",
       "      <td>7.119988e+17</td>\n",
       "      <td>1.000000</td>\n",
       "      <td>0.588230</td>\n",
       "      <td>1.181810e-01</td>\n",
       "      <td>4.944380e-02</td>\n",
       "    </tr>\n",
       "    <tr>\n",
       "      <th>75%</th>\n",
       "      <td>7.932034e+17</td>\n",
       "      <td>1.000000</td>\n",
       "      <td>0.843855</td>\n",
       "      <td>1.955655e-01</td>\n",
       "      <td>9.180755e-02</td>\n",
       "    </tr>\n",
       "    <tr>\n",
       "      <th>max</th>\n",
       "      <td>8.924206e+17</td>\n",
       "      <td>4.000000</td>\n",
       "      <td>1.000000</td>\n",
       "      <td>4.880140e-01</td>\n",
       "      <td>2.734190e-01</td>\n",
       "    </tr>\n",
       "  </tbody>\n",
       "</table>\n",
       "</div>"
      ],
      "text/plain": [
       "           tweet_id      img_num      p1_conf       p2_conf       p3_conf\n",
       "count  2.075000e+03  2075.000000  2075.000000  2.075000e+03  2.075000e+03\n",
       "mean   7.384514e+17     1.203855     0.594548  1.345886e-01  6.032417e-02\n",
       "std    6.785203e+16     0.561875     0.271174  1.006657e-01  5.090593e-02\n",
       "min    6.660209e+17     1.000000     0.044333  1.011300e-08  1.740170e-10\n",
       "25%    6.764835e+17     1.000000     0.364412  5.388625e-02  1.622240e-02\n",
       "50%    7.119988e+17     1.000000     0.588230  1.181810e-01  4.944380e-02\n",
       "75%    7.932034e+17     1.000000     0.843855  1.955655e-01  9.180755e-02\n",
       "max    8.924206e+17     4.000000     1.000000  4.880140e-01  2.734190e-01"
      ]
     },
     "execution_count": 16,
     "metadata": {},
     "output_type": "execute_result"
    }
   ],
   "source": [
    "# show statistical summary of table\n",
    "image_pred.describe()"
   ]
  },
  {
   "cell_type": "code",
   "execution_count": 17,
   "metadata": {},
   "outputs": [
    {
     "data": {
      "text/plain": [
       "0"
      ]
     },
     "execution_count": 17,
     "metadata": {},
     "output_type": "execute_result"
    }
   ],
   "source": [
    "# check number of duplicated rows\n",
    "sum(image_pred.duplicated())"
   ]
  },
  {
   "cell_type": "code",
   "execution_count": 18,
   "metadata": {},
   "outputs": [
    {
     "name": "stdout",
     "output_type": "stream",
     "text": [
      "<class 'pandas.core.frame.DataFrame'>\n",
      "RangeIndex: 2354 entries, 0 to 2353\n",
      "Data columns (total 3 columns):\n",
      " #   Column          Non-Null Count  Dtype\n",
      "---  ------          --------------  -----\n",
      " 0   tweet_id        2354 non-null   int64\n",
      " 1   retweet_count   2354 non-null   int64\n",
      " 2   favorite_count  2354 non-null   int64\n",
      "dtypes: int64(3)\n",
      "memory usage: 55.3 KB\n"
     ]
    }
   ],
   "source": [
    "# Assess each table programatically (tweet-json)\n",
    "twit_like.info()"
   ]
  },
  {
   "cell_type": "code",
   "execution_count": 19,
   "metadata": {},
   "outputs": [
    {
     "data": {
      "text/html": [
       "<div>\n",
       "<style scoped>\n",
       "    .dataframe tbody tr th:only-of-type {\n",
       "        vertical-align: middle;\n",
       "    }\n",
       "\n",
       "    .dataframe tbody tr th {\n",
       "        vertical-align: top;\n",
       "    }\n",
       "\n",
       "    .dataframe thead th {\n",
       "        text-align: right;\n",
       "    }\n",
       "</style>\n",
       "<table border=\"1\" class=\"dataframe\">\n",
       "  <thead>\n",
       "    <tr style=\"text-align: right;\">\n",
       "      <th></th>\n",
       "      <th>tweet_id</th>\n",
       "      <th>retweet_count</th>\n",
       "      <th>favorite_count</th>\n",
       "    </tr>\n",
       "  </thead>\n",
       "  <tbody>\n",
       "    <tr>\n",
       "      <th>count</th>\n",
       "      <td>2.354000e+03</td>\n",
       "      <td>2354.000000</td>\n",
       "      <td>2354.000000</td>\n",
       "    </tr>\n",
       "    <tr>\n",
       "      <th>mean</th>\n",
       "      <td>7.426978e+17</td>\n",
       "      <td>3164.797366</td>\n",
       "      <td>8080.968564</td>\n",
       "    </tr>\n",
       "    <tr>\n",
       "      <th>std</th>\n",
       "      <td>6.852812e+16</td>\n",
       "      <td>5284.770364</td>\n",
       "      <td>11814.771334</td>\n",
       "    </tr>\n",
       "    <tr>\n",
       "      <th>min</th>\n",
       "      <td>6.660209e+17</td>\n",
       "      <td>0.000000</td>\n",
       "      <td>0.000000</td>\n",
       "    </tr>\n",
       "    <tr>\n",
       "      <th>25%</th>\n",
       "      <td>6.783975e+17</td>\n",
       "      <td>624.500000</td>\n",
       "      <td>1415.000000</td>\n",
       "    </tr>\n",
       "    <tr>\n",
       "      <th>50%</th>\n",
       "      <td>7.194596e+17</td>\n",
       "      <td>1473.500000</td>\n",
       "      <td>3603.500000</td>\n",
       "    </tr>\n",
       "    <tr>\n",
       "      <th>75%</th>\n",
       "      <td>7.993058e+17</td>\n",
       "      <td>3652.000000</td>\n",
       "      <td>10122.250000</td>\n",
       "    </tr>\n",
       "    <tr>\n",
       "      <th>max</th>\n",
       "      <td>8.924206e+17</td>\n",
       "      <td>79515.000000</td>\n",
       "      <td>132810.000000</td>\n",
       "    </tr>\n",
       "  </tbody>\n",
       "</table>\n",
       "</div>"
      ],
      "text/plain": [
       "           tweet_id  retweet_count  favorite_count\n",
       "count  2.354000e+03    2354.000000     2354.000000\n",
       "mean   7.426978e+17    3164.797366     8080.968564\n",
       "std    6.852812e+16    5284.770364    11814.771334\n",
       "min    6.660209e+17       0.000000        0.000000\n",
       "25%    6.783975e+17     624.500000     1415.000000\n",
       "50%    7.194596e+17    1473.500000     3603.500000\n",
       "75%    7.993058e+17    3652.000000    10122.250000\n",
       "max    8.924206e+17   79515.000000   132810.000000"
      ]
     },
     "execution_count": 19,
     "metadata": {},
     "output_type": "execute_result"
    }
   ],
   "source": [
    "# show statistical summary of table\n",
    "twit_like.describe()"
   ]
  },
  {
   "cell_type": "code",
   "execution_count": 20,
   "metadata": {},
   "outputs": [
    {
     "data": {
      "text/plain": [
       "0"
      ]
     },
     "execution_count": 20,
     "metadata": {},
     "output_type": "execute_result"
    }
   ],
   "source": [
    "# check number of duplicated rows\n",
    "sum(twit_like.duplicated())"
   ]
  },
  {
   "cell_type": "markdown",
   "metadata": {},
   "source": [
    "### Quality issues\n",
    "1. twitter-archive-enhanced table: Source column is not in a proper format\n",
    "\n",
    "2. twitter-archive-enhanced table: Columns that are not relevant to analysis are present\n",
    "\n",
    "3. twitter-archive-enhanced table: incorrect datatype for timestamp column\n",
    "\n",
    "4. image-prediction table: missing records leading to incomplete dataset (2075 out of 2356)\n",
    "\n",
    "5. twitter-archive-enhanced table: Null values represented as None in name column\n",
    "\n",
    "6. image-prediction table: some values in P1, P2 ans p3 columns begin with lowercase\n",
    "\n",
    "7. twitter-archive-enhanced table: maximum and minimum value for rating_denominator column are 170 and 0 instead of 10\n",
    "\n",
    "8. image-preiction table: p1, p2 and p3 column values containing underscore(_)"
   ]
  },
  {
   "cell_type": "markdown",
   "metadata": {
    "extensions": {
     "jupyter_dashboards": {
      "version": 1,
      "views": {
       "grid_default": {
        "col": 0,
        "height": 7,
        "hidden": false,
        "row": 40,
        "width": 12
       },
       "report_default": {
        "hidden": false
       }
      }
     }
    }
   },
   "source": [
    "### Tidiness issues\n",
    "1. twitter-archive-enhanced table: Dog stages are divided into columns \n",
    "\n",
    "2. image-preiction table: names of columns are not explanatory"
   ]
  },
  {
   "cell_type": "markdown",
   "metadata": {
    "extensions": {
     "jupyter_dashboards": {
      "version": 1,
      "views": {
       "grid_default": {
        "col": 4,
        "height": 4,
        "hidden": false,
        "row": 32,
        "width": 4
       },
       "report_default": {
        "hidden": false
       }
      }
     }
    }
   },
   "source": [
    "## Cleaning Data\n",
    "In this section, clean **all** of the issues you documented while assessing. \n",
    "\n",
    "**Note:** Make a copy of the original data before cleaning. Cleaning includes merging individual pieces of data according to the rules of [tidy data](https://cran.r-project.org/web/packages/tidyr/vignettes/tidy-data.html). The result should be a high-quality and tidy master pandas DataFrame (or DataFrames, if appropriate)."
   ]
  },
  {
   "cell_type": "code",
   "execution_count": 21,
   "metadata": {},
   "outputs": [],
   "source": [
    "# Make copies of original pieces of data\n",
    "twit_arch_cp = twit_arch.copy()\n",
    "image_pred_cp = image_pred.copy()\n",
    "twit_like_cp = twit_like.copy()"
   ]
  },
  {
   "cell_type": "code",
   "execution_count": 22,
   "metadata": {
    "tags": []
   },
   "outputs": [
    {
     "data": {
      "text/html": [
       "<div>\n",
       "<style scoped>\n",
       "    .dataframe tbody tr th:only-of-type {\n",
       "        vertical-align: middle;\n",
       "    }\n",
       "\n",
       "    .dataframe tbody tr th {\n",
       "        vertical-align: top;\n",
       "    }\n",
       "\n",
       "    .dataframe thead th {\n",
       "        text-align: right;\n",
       "    }\n",
       "</style>\n",
       "<table border=\"1\" class=\"dataframe\">\n",
       "  <thead>\n",
       "    <tr style=\"text-align: right;\">\n",
       "      <th></th>\n",
       "      <th>tweet_id</th>\n",
       "      <th>in_reply_to_status_id</th>\n",
       "      <th>in_reply_to_user_id</th>\n",
       "      <th>timestamp</th>\n",
       "      <th>source</th>\n",
       "      <th>text</th>\n",
       "      <th>retweeted_status_id</th>\n",
       "      <th>retweeted_status_user_id</th>\n",
       "      <th>retweeted_status_timestamp</th>\n",
       "      <th>expanded_urls</th>\n",
       "      <th>rating_numerator</th>\n",
       "      <th>rating_denominator</th>\n",
       "      <th>name</th>\n",
       "      <th>doggo</th>\n",
       "      <th>floofer</th>\n",
       "      <th>pupper</th>\n",
       "      <th>puppo</th>\n",
       "    </tr>\n",
       "  </thead>\n",
       "  <tbody>\n",
       "    <tr>\n",
       "      <th>333</th>\n",
       "      <td>832757312314028032</td>\n",
       "      <td>NaN</td>\n",
       "      <td>NaN</td>\n",
       "      <td>2017-02-18 01:03:09 +0000</td>\n",
       "      <td>&lt;a href=\"http://twitter.com/download/iphone\" r...</td>\n",
       "      <td>This is Willow. She's the official strawberry ...</td>\n",
       "      <td>NaN</td>\n",
       "      <td>NaN</td>\n",
       "      <td>NaN</td>\n",
       "      <td>https://twitter.com/dog_rates/status/832757312...</td>\n",
       "      <td>13</td>\n",
       "      <td>10</td>\n",
       "      <td>Willow</td>\n",
       "      <td>None</td>\n",
       "      <td>None</td>\n",
       "      <td>None</td>\n",
       "      <td>None</td>\n",
       "    </tr>\n",
       "  </tbody>\n",
       "</table>\n",
       "</div>"
      ],
      "text/plain": [
       "               tweet_id  in_reply_to_status_id  in_reply_to_user_id  \\\n",
       "333  832757312314028032                    NaN                  NaN   \n",
       "\n",
       "                     timestamp  \\\n",
       "333  2017-02-18 01:03:09 +0000   \n",
       "\n",
       "                                                source  \\\n",
       "333  <a href=\"http://twitter.com/download/iphone\" r...   \n",
       "\n",
       "                                                  text  retweeted_status_id  \\\n",
       "333  This is Willow. She's the official strawberry ...                  NaN   \n",
       "\n",
       "     retweeted_status_user_id retweeted_status_timestamp  \\\n",
       "333                       NaN                        NaN   \n",
       "\n",
       "                                         expanded_urls  rating_numerator  \\\n",
       "333  https://twitter.com/dog_rates/status/832757312...                13   \n",
       "\n",
       "     rating_denominator    name doggo floofer pupper puppo  \n",
       "333                  10  Willow  None    None   None  None  "
      ]
     },
     "execution_count": 22,
     "metadata": {},
     "output_type": "execute_result"
    }
   ],
   "source": [
    "twit_arch_cp.sample()"
   ]
  },
  {
   "cell_type": "markdown",
   "metadata": {},
   "source": [
    "### Issue #1: twitter-archive-enhanced table: Columns that are not relevant to analysis are present"
   ]
  },
  {
   "cell_type": "markdown",
   "metadata": {
    "tags": []
   },
   "source": [
    "#### Define: Drop columns that are not needed for analysis"
   ]
  },
  {
   "cell_type": "markdown",
   "metadata": {},
   "source": [
    "#### Code"
   ]
  },
  {
   "cell_type": "code",
   "execution_count": 23,
   "metadata": {},
   "outputs": [],
   "source": [
    "# define the columns to drop\n",
    "cols = ['in_reply_to_status_id', 'in_reply_to_user_id', 'retweeted_status_id', 'retweeted_status_user_id', 'retweeted_status_timestamp']\n",
    "# drop the columns\n",
    "twit_arch_cp.drop(cols, axis = 1, inplace = True)"
   ]
  },
  {
   "cell_type": "markdown",
   "metadata": {},
   "source": [
    "#### Test"
   ]
  },
  {
   "cell_type": "code",
   "execution_count": 24,
   "metadata": {},
   "outputs": [
    {
     "name": "stdout",
     "output_type": "stream",
     "text": [
      "<class 'pandas.core.frame.DataFrame'>\n",
      "RangeIndex: 2356 entries, 0 to 2355\n",
      "Data columns (total 12 columns):\n",
      " #   Column              Non-Null Count  Dtype \n",
      "---  ------              --------------  ----- \n",
      " 0   tweet_id            2356 non-null   int64 \n",
      " 1   timestamp           2356 non-null   object\n",
      " 2   source              2356 non-null   object\n",
      " 3   text                2356 non-null   object\n",
      " 4   expanded_urls       2297 non-null   object\n",
      " 5   rating_numerator    2356 non-null   int64 \n",
      " 6   rating_denominator  2356 non-null   int64 \n",
      " 7   name                2356 non-null   object\n",
      " 8   doggo               2356 non-null   object\n",
      " 9   floofer             2356 non-null   object\n",
      " 10  pupper              2356 non-null   object\n",
      " 11  puppo               2356 non-null   object\n",
      "dtypes: int64(3), object(9)\n",
      "memory usage: 221.0+ KB\n"
     ]
    }
   ],
   "source": [
    "# check if the columns are dropped\n",
    "twit_arch_cp.info()"
   ]
  },
  {
   "cell_type": "markdown",
   "metadata": {},
   "source": [
    "### Issue #2: twitter-archive-enhanced table: incorrect datatype for timestamp column"
   ]
  },
  {
   "cell_type": "markdown",
   "metadata": {
    "extensions": {
     "jupyter_dashboards": {
      "version": 1,
      "views": {
       "grid_default": {
        "hidden": true
       },
       "report_default": {
        "hidden": true
       }
      }
     }
    }
   },
   "source": [
    "#### Define: Convert the timestamp coumn from object data type to datetime data type"
   ]
  },
  {
   "cell_type": "markdown",
   "metadata": {},
   "source": [
    "#### Code"
   ]
  },
  {
   "cell_type": "code",
   "execution_count": 25,
   "metadata": {},
   "outputs": [],
   "source": [
    "# use pd.to_datetime function\n",
    "twit_arch_cp['timestamp'] = pd.to_datetime(twit_arch_cp['timestamp'])"
   ]
  },
  {
   "cell_type": "markdown",
   "metadata": {},
   "source": [
    "#### Test"
   ]
  },
  {
   "cell_type": "code",
   "execution_count": 26,
   "metadata": {},
   "outputs": [
    {
     "name": "stdout",
     "output_type": "stream",
     "text": [
      "<class 'pandas.core.frame.DataFrame'>\n",
      "RangeIndex: 2356 entries, 0 to 2355\n",
      "Data columns (total 12 columns):\n",
      " #   Column              Non-Null Count  Dtype              \n",
      "---  ------              --------------  -----              \n",
      " 0   tweet_id            2356 non-null   int64              \n",
      " 1   timestamp           2356 non-null   datetime64[ns, UTC]\n",
      " 2   source              2356 non-null   object             \n",
      " 3   text                2356 non-null   object             \n",
      " 4   expanded_urls       2297 non-null   object             \n",
      " 5   rating_numerator    2356 non-null   int64              \n",
      " 6   rating_denominator  2356 non-null   int64              \n",
      " 7   name                2356 non-null   object             \n",
      " 8   doggo               2356 non-null   object             \n",
      " 9   floofer             2356 non-null   object             \n",
      " 10  pupper              2356 non-null   object             \n",
      " 11  puppo               2356 non-null   object             \n",
      "dtypes: datetime64[ns, UTC](1), int64(3), object(8)\n",
      "memory usage: 221.0+ KB\n"
     ]
    }
   ],
   "source": [
    "# confirm if the change has been made\n",
    "twit_arch_cp.info()"
   ]
  },
  {
   "cell_type": "markdown",
   "metadata": {},
   "source": [
    "### Issue #3: twitter-archive-enhanced table: Null values represented as None and 'a' in name column"
   ]
  },
  {
   "cell_type": "markdown",
   "metadata": {},
   "source": [
    "#### Define: convert None and 'a' in name column to NaN values with np.nan"
   ]
  },
  {
   "cell_type": "markdown",
   "metadata": {},
   "source": [
    "#### Code"
   ]
  },
  {
   "cell_type": "code",
   "execution_count": 27,
   "metadata": {},
   "outputs": [
    {
     "data": {
      "text/plain": [
       "None          745\n",
       "a              55\n",
       "Charlie        12\n",
       "Cooper         11\n",
       "Lucy           11\n",
       "             ... \n",
       "Dex             1\n",
       "Ace             1\n",
       "Tayzie          1\n",
       "Grizzie         1\n",
       "Christoper      1\n",
       "Name: name, Length: 957, dtype: int64"
      ]
     },
     "execution_count": 27,
     "metadata": {},
     "output_type": "execute_result"
    }
   ],
   "source": [
    "# check the values in name column\n",
    "twit_arch_cp.name.value_counts()"
   ]
  },
  {
   "cell_type": "code",
   "execution_count": 28,
   "metadata": {},
   "outputs": [],
   "source": [
    "# replace the 'none' and 'a' values with NaN value\n",
    "(twit_arch_cp['name']).replace(['None', 'a'], np.nan, inplace = True)"
   ]
  },
  {
   "cell_type": "markdown",
   "metadata": {},
   "source": [
    "\n",
    "\n",
    "#### Test"
   ]
  },
  {
   "cell_type": "code",
   "execution_count": 29,
   "metadata": {},
   "outputs": [
    {
     "data": {
      "text/plain": [
       "Charlie       12\n",
       "Cooper        11\n",
       "Lucy          11\n",
       "Oliver        11\n",
       "Tucker        10\n",
       "              ..\n",
       "Aqua           1\n",
       "Chase          1\n",
       "Meatball       1\n",
       "Rorie          1\n",
       "Christoper     1\n",
       "Name: name, Length: 955, dtype: int64"
      ]
     },
     "execution_count": 29,
     "metadata": {},
     "output_type": "execute_result"
    }
   ],
   "source": [
    "# confirm if the change has been made\n",
    "twit_arch_cp.name.value_counts()"
   ]
  },
  {
   "cell_type": "markdown",
   "metadata": {},
   "source": [
    "### Issue #4: **image-prediction table**: some fields in P1, P2 ans p3 columns begin with lowercase"
   ]
  },
  {
   "cell_type": "markdown",
   "metadata": {},
   "source": [
    "#### Define: Change the starting characters in the columns to uppercase"
   ]
  },
  {
   "cell_type": "markdown",
   "metadata": {},
   "source": [
    "#### Code"
   ]
  },
  {
   "cell_type": "code",
   "execution_count": 30,
   "metadata": {},
   "outputs": [],
   "source": [
    "# capitalize the first characters and characters after a delimeter\n",
    "image_pred_cp['p1'] = image_pred_cp['p1'].str.title()\n",
    "image_pred_cp['p2'] = image_pred_cp['p2'].str.title()\n",
    "image_pred_cp['p3'] = image_pred_cp['p3'].str.title()"
   ]
  },
  {
   "cell_type": "markdown",
   "metadata": {},
   "source": [
    "#### Test"
   ]
  },
  {
   "cell_type": "code",
   "execution_count": 31,
   "metadata": {},
   "outputs": [
    {
     "data": {
      "text/html": [
       "<div>\n",
       "<style scoped>\n",
       "    .dataframe tbody tr th:only-of-type {\n",
       "        vertical-align: middle;\n",
       "    }\n",
       "\n",
       "    .dataframe tbody tr th {\n",
       "        vertical-align: top;\n",
       "    }\n",
       "\n",
       "    .dataframe thead th {\n",
       "        text-align: right;\n",
       "    }\n",
       "</style>\n",
       "<table border=\"1\" class=\"dataframe\">\n",
       "  <thead>\n",
       "    <tr style=\"text-align: right;\">\n",
       "      <th></th>\n",
       "      <th>tweet_id</th>\n",
       "      <th>jpg_url</th>\n",
       "      <th>img_num</th>\n",
       "      <th>p1</th>\n",
       "      <th>p1_conf</th>\n",
       "      <th>p1_dog</th>\n",
       "      <th>p2</th>\n",
       "      <th>p2_conf</th>\n",
       "      <th>p2_dog</th>\n",
       "      <th>p3</th>\n",
       "      <th>p3_conf</th>\n",
       "      <th>p3_dog</th>\n",
       "    </tr>\n",
       "  </thead>\n",
       "  <tbody>\n",
       "    <tr>\n",
       "      <th>2070</th>\n",
       "      <td>891327558926688256</td>\n",
       "      <td>https://pbs.twimg.com/media/DF6hr6BUMAAzZgT.jpg</td>\n",
       "      <td>2</td>\n",
       "      <td>Basset</td>\n",
       "      <td>0.555712</td>\n",
       "      <td>True</td>\n",
       "      <td>English_Springer</td>\n",
       "      <td>0.225770</td>\n",
       "      <td>True</td>\n",
       "      <td>German_Short-Haired_Pointer</td>\n",
       "      <td>0.175219</td>\n",
       "      <td>True</td>\n",
       "    </tr>\n",
       "    <tr>\n",
       "      <th>2071</th>\n",
       "      <td>891689557279858688</td>\n",
       "      <td>https://pbs.twimg.com/media/DF_q7IAWsAEuuN8.jpg</td>\n",
       "      <td>1</td>\n",
       "      <td>Paper_Towel</td>\n",
       "      <td>0.170278</td>\n",
       "      <td>False</td>\n",
       "      <td>Labrador_Retriever</td>\n",
       "      <td>0.168086</td>\n",
       "      <td>True</td>\n",
       "      <td>Spatula</td>\n",
       "      <td>0.040836</td>\n",
       "      <td>False</td>\n",
       "    </tr>\n",
       "    <tr>\n",
       "      <th>2072</th>\n",
       "      <td>891815181378084864</td>\n",
       "      <td>https://pbs.twimg.com/media/DGBdLU1WsAANxJ9.jpg</td>\n",
       "      <td>1</td>\n",
       "      <td>Chihuahua</td>\n",
       "      <td>0.716012</td>\n",
       "      <td>True</td>\n",
       "      <td>Malamute</td>\n",
       "      <td>0.078253</td>\n",
       "      <td>True</td>\n",
       "      <td>Kelpie</td>\n",
       "      <td>0.031379</td>\n",
       "      <td>True</td>\n",
       "    </tr>\n",
       "    <tr>\n",
       "      <th>2073</th>\n",
       "      <td>892177421306343426</td>\n",
       "      <td>https://pbs.twimg.com/media/DGGmoV4XsAAUL6n.jpg</td>\n",
       "      <td>1</td>\n",
       "      <td>Chihuahua</td>\n",
       "      <td>0.323581</td>\n",
       "      <td>True</td>\n",
       "      <td>Pekinese</td>\n",
       "      <td>0.090647</td>\n",
       "      <td>True</td>\n",
       "      <td>Papillon</td>\n",
       "      <td>0.068957</td>\n",
       "      <td>True</td>\n",
       "    </tr>\n",
       "    <tr>\n",
       "      <th>2074</th>\n",
       "      <td>892420643555336193</td>\n",
       "      <td>https://pbs.twimg.com/media/DGKD1-bXoAAIAUK.jpg</td>\n",
       "      <td>1</td>\n",
       "      <td>Orange</td>\n",
       "      <td>0.097049</td>\n",
       "      <td>False</td>\n",
       "      <td>Bagel</td>\n",
       "      <td>0.085851</td>\n",
       "      <td>False</td>\n",
       "      <td>Banana</td>\n",
       "      <td>0.076110</td>\n",
       "      <td>False</td>\n",
       "    </tr>\n",
       "  </tbody>\n",
       "</table>\n",
       "</div>"
      ],
      "text/plain": [
       "                tweet_id                                          jpg_url  \\\n",
       "2070  891327558926688256  https://pbs.twimg.com/media/DF6hr6BUMAAzZgT.jpg   \n",
       "2071  891689557279858688  https://pbs.twimg.com/media/DF_q7IAWsAEuuN8.jpg   \n",
       "2072  891815181378084864  https://pbs.twimg.com/media/DGBdLU1WsAANxJ9.jpg   \n",
       "2073  892177421306343426  https://pbs.twimg.com/media/DGGmoV4XsAAUL6n.jpg   \n",
       "2074  892420643555336193  https://pbs.twimg.com/media/DGKD1-bXoAAIAUK.jpg   \n",
       "\n",
       "      img_num           p1   p1_conf  p1_dog                  p2   p2_conf  \\\n",
       "2070        2       Basset  0.555712    True    English_Springer  0.225770   \n",
       "2071        1  Paper_Towel  0.170278   False  Labrador_Retriever  0.168086   \n",
       "2072        1    Chihuahua  0.716012    True            Malamute  0.078253   \n",
       "2073        1    Chihuahua  0.323581    True            Pekinese  0.090647   \n",
       "2074        1       Orange  0.097049   False               Bagel  0.085851   \n",
       "\n",
       "      p2_dog                           p3   p3_conf  p3_dog  \n",
       "2070    True  German_Short-Haired_Pointer  0.175219    True  \n",
       "2071    True                      Spatula  0.040836   False  \n",
       "2072    True                       Kelpie  0.031379    True  \n",
       "2073    True                     Papillon  0.068957    True  \n",
       "2074   False                       Banana  0.076110   False  "
      ]
     },
     "execution_count": 31,
     "metadata": {},
     "output_type": "execute_result"
    }
   ],
   "source": [
    "# check if the change has been made\n",
    "image_pred_cp.tail()"
   ]
  },
  {
   "cell_type": "markdown",
   "metadata": {},
   "source": [
    "### Issue #5: **image-preiction table**: p1, p2 and p3 column values containing underscore(_)"
   ]
  },
  {
   "cell_type": "markdown",
   "metadata": {},
   "source": [
    "#### Define: Replace underscore(_) with white space(' ') in the elemets of the columns"
   ]
  },
  {
   "cell_type": "markdown",
   "metadata": {},
   "source": [
    "#### Code"
   ]
  },
  {
   "cell_type": "code",
   "execution_count": 32,
   "metadata": {},
   "outputs": [],
   "source": [
    "# replace underscore with white space\n",
    "image_pred_cp['p1'] = image_pred_cp['p1'].str.replace('_', ' ')\n",
    "image_pred_cp['p2'] = image_pred_cp['p2'].str.replace('_', ' ')\n",
    "image_pred_cp['p3'] = image_pred_cp['p3'].str.replace('_', ' ')"
   ]
  },
  {
   "cell_type": "markdown",
   "metadata": {},
   "source": [
    "#### Test"
   ]
  },
  {
   "cell_type": "code",
   "execution_count": 33,
   "metadata": {},
   "outputs": [
    {
     "data": {
      "text/html": [
       "<div>\n",
       "<style scoped>\n",
       "    .dataframe tbody tr th:only-of-type {\n",
       "        vertical-align: middle;\n",
       "    }\n",
       "\n",
       "    .dataframe tbody tr th {\n",
       "        vertical-align: top;\n",
       "    }\n",
       "\n",
       "    .dataframe thead th {\n",
       "        text-align: right;\n",
       "    }\n",
       "</style>\n",
       "<table border=\"1\" class=\"dataframe\">\n",
       "  <thead>\n",
       "    <tr style=\"text-align: right;\">\n",
       "      <th></th>\n",
       "      <th>tweet_id</th>\n",
       "      <th>jpg_url</th>\n",
       "      <th>img_num</th>\n",
       "      <th>p1</th>\n",
       "      <th>p1_conf</th>\n",
       "      <th>p1_dog</th>\n",
       "      <th>p2</th>\n",
       "      <th>p2_conf</th>\n",
       "      <th>p2_dog</th>\n",
       "      <th>p3</th>\n",
       "      <th>p3_conf</th>\n",
       "      <th>p3_dog</th>\n",
       "    </tr>\n",
       "  </thead>\n",
       "  <tbody>\n",
       "    <tr>\n",
       "      <th>1153</th>\n",
       "      <td>732726085725589504</td>\n",
       "      <td>https://pbs.twimg.com/media/CisqdVcXEAE3iW7.jpg</td>\n",
       "      <td>1</td>\n",
       "      <td>Pomeranian</td>\n",
       "      <td>0.961902</td>\n",
       "      <td>True</td>\n",
       "      <td>Samoyed</td>\n",
       "      <td>0.024289</td>\n",
       "      <td>True</td>\n",
       "      <td>Chow</td>\n",
       "      <td>0.005772</td>\n",
       "      <td>True</td>\n",
       "    </tr>\n",
       "    <tr>\n",
       "      <th>405</th>\n",
       "      <td>673707060090052608</td>\n",
       "      <td>https://pbs.twimg.com/media/CVl8_EPWoAAcuSC.jpg</td>\n",
       "      <td>1</td>\n",
       "      <td>German Short-Haired Pointer</td>\n",
       "      <td>0.935771</td>\n",
       "      <td>True</td>\n",
       "      <td>Kelpie</td>\n",
       "      <td>0.022561</td>\n",
       "      <td>True</td>\n",
       "      <td>Labrador Retriever</td>\n",
       "      <td>0.008847</td>\n",
       "      <td>True</td>\n",
       "    </tr>\n",
       "    <tr>\n",
       "      <th>1456</th>\n",
       "      <td>777641927919427584</td>\n",
       "      <td>https://pbs.twimg.com/media/CmoPdmHW8AAi8BI.jpg</td>\n",
       "      <td>1</td>\n",
       "      <td>Golden Retriever</td>\n",
       "      <td>0.964929</td>\n",
       "      <td>True</td>\n",
       "      <td>Labrador Retriever</td>\n",
       "      <td>0.011584</td>\n",
       "      <td>True</td>\n",
       "      <td>Refrigerator</td>\n",
       "      <td>0.007499</td>\n",
       "      <td>False</td>\n",
       "    </tr>\n",
       "    <tr>\n",
       "      <th>749</th>\n",
       "      <td>687818504314159109</td>\n",
       "      <td>https://pbs.twimg.com/media/CYufR8_WQAAWCqo.jpg</td>\n",
       "      <td>1</td>\n",
       "      <td>Lakeland Terrier</td>\n",
       "      <td>0.873029</td>\n",
       "      <td>True</td>\n",
       "      <td>Soft-Coated Wheaten Terrier</td>\n",
       "      <td>0.060924</td>\n",
       "      <td>True</td>\n",
       "      <td>Toy Poodle</td>\n",
       "      <td>0.017031</td>\n",
       "      <td>True</td>\n",
       "    </tr>\n",
       "    <tr>\n",
       "      <th>254</th>\n",
       "      <td>670733412878163972</td>\n",
       "      <td>https://pbs.twimg.com/media/CU7seitWwAArlVy.jpg</td>\n",
       "      <td>1</td>\n",
       "      <td>Dhole</td>\n",
       "      <td>0.350416</td>\n",
       "      <td>False</td>\n",
       "      <td>Hare</td>\n",
       "      <td>0.236661</td>\n",
       "      <td>False</td>\n",
       "      <td>Wood Rabbit</td>\n",
       "      <td>0.091133</td>\n",
       "      <td>False</td>\n",
       "    </tr>\n",
       "  </tbody>\n",
       "</table>\n",
       "</div>"
      ],
      "text/plain": [
       "                tweet_id                                          jpg_url  \\\n",
       "1153  732726085725589504  https://pbs.twimg.com/media/CisqdVcXEAE3iW7.jpg   \n",
       "405   673707060090052608  https://pbs.twimg.com/media/CVl8_EPWoAAcuSC.jpg   \n",
       "1456  777641927919427584  https://pbs.twimg.com/media/CmoPdmHW8AAi8BI.jpg   \n",
       "749   687818504314159109  https://pbs.twimg.com/media/CYufR8_WQAAWCqo.jpg   \n",
       "254   670733412878163972  https://pbs.twimg.com/media/CU7seitWwAArlVy.jpg   \n",
       "\n",
       "      img_num                           p1   p1_conf  p1_dog  \\\n",
       "1153        1                   Pomeranian  0.961902    True   \n",
       "405         1  German Short-Haired Pointer  0.935771    True   \n",
       "1456        1             Golden Retriever  0.964929    True   \n",
       "749         1             Lakeland Terrier  0.873029    True   \n",
       "254         1                        Dhole  0.350416   False   \n",
       "\n",
       "                               p2   p2_conf  p2_dog                  p3  \\\n",
       "1153                      Samoyed  0.024289    True                Chow   \n",
       "405                        Kelpie  0.022561    True  Labrador Retriever   \n",
       "1456           Labrador Retriever  0.011584    True        Refrigerator   \n",
       "749   Soft-Coated Wheaten Terrier  0.060924    True          Toy Poodle   \n",
       "254                          Hare  0.236661   False         Wood Rabbit   \n",
       "\n",
       "       p3_conf  p3_dog  \n",
       "1153  0.005772    True  \n",
       "405   0.008847    True  \n",
       "1456  0.007499   False  \n",
       "749   0.017031    True  \n",
       "254   0.091133   False  "
      ]
     },
     "execution_count": 33,
     "metadata": {},
     "output_type": "execute_result"
    }
   ],
   "source": [
    "# confirm if the change has been made\n",
    "image_pred_cp.sample(5)"
   ]
  },
  {
   "cell_type": "markdown",
   "metadata": {},
   "source": [
    "### Issue #6: **twitter-archive-enhanced table**: maximum and minimum value for rating_denominator column are 170 and 0 instead of 10"
   ]
  },
  {
   "cell_type": "markdown",
   "metadata": {},
   "source": [
    "#### Define: Replace all denominator that has the value of 170 and 0 to 10"
   ]
  },
  {
   "cell_type": "markdown",
   "metadata": {},
   "source": [
    "#### Code"
   ]
  },
  {
   "cell_type": "code",
   "execution_count": 34,
   "metadata": {},
   "outputs": [],
   "source": [
    "# replace any denominator value less than 10 woth 10\n",
    "twit_arch_cp[twit_arch_cp['rating_denominator'] < 10] = 10\n",
    "# replace any denominator value greater than 10 woth 10\n",
    "twit_arch_cp[twit_arch_cp['rating_denominator'] > 10] = 10"
   ]
  },
  {
   "cell_type": "markdown",
   "metadata": {},
   "source": [
    "#### Test"
   ]
  },
  {
   "cell_type": "code",
   "execution_count": 35,
   "metadata": {},
   "outputs": [
    {
     "data": {
      "text/plain": [
       "count    2356.0\n",
       "mean       10.0\n",
       "std         0.0\n",
       "min        10.0\n",
       "25%        10.0\n",
       "50%        10.0\n",
       "75%        10.0\n",
       "max        10.0\n",
       "Name: rating_denominator, dtype: float64"
      ]
     },
     "execution_count": 35,
     "metadata": {},
     "output_type": "execute_result"
    }
   ],
   "source": [
    "# check for correction\n",
    "twit_arch_cp['rating_denominator'].describe()"
   ]
  },
  {
   "cell_type": "markdown",
   "metadata": {},
   "source": [
    "### Issue #7: twitter-archive-enhanced table: Source column is not in a proper format"
   ]
  },
  {
   "cell_type": "markdown",
   "metadata": {},
   "source": [
    "#### Define: Extract tweet source from long complicated string"
   ]
  },
  {
   "cell_type": "markdown",
   "metadata": {},
   "source": [
    "#### Code"
   ]
  },
  {
   "cell_type": "code",
   "execution_count": 36,
   "metadata": {},
   "outputs": [],
   "source": [
    "#extract the tweet source\n",
    "twit_arch_cp['source'] = twit_arch_cp['source'].str.split(\"/\").str[4]\n",
    "twit_arch_cp['source'] = twit_arch_cp['source'].str.split('>').str[1]\n",
    "twit_arch_cp['source'] = twit_arch_cp['source'].str.replace('<', \" \")"
   ]
  },
  {
   "cell_type": "markdown",
   "metadata": {},
   "source": [
    "#### Test"
   ]
  },
  {
   "cell_type": "code",
   "execution_count": 37,
   "metadata": {},
   "outputs": [
    {
     "data": {
      "text/plain": [
       "Twitter for iPhone     2198\n",
       "TweetDeck                11\n",
       "Name: source, dtype: int64"
      ]
     },
     "execution_count": 37,
     "metadata": {},
     "output_type": "execute_result"
    }
   ],
   "source": [
    "# confirm if the change has been made\n",
    "twit_arch_cp['source'].value_counts()"
   ]
  },
  {
   "cell_type": "markdown",
   "metadata": {},
   "source": [
    "### Issue #8: **twitter-archive-enhanced table**: Dog stages are divided into columns"
   ]
  },
  {
   "cell_type": "markdown",
   "metadata": {},
   "source": [
    "#### Define: Convert the different dog stages columns into a single column containing the value of dog stage"
   ]
  },
  {
   "cell_type": "markdown",
   "metadata": {},
   "source": [
    "#### Code"
   ]
  },
  {
   "cell_type": "code",
   "execution_count": 38,
   "metadata": {},
   "outputs": [],
   "source": [
    "# replace none values with NaN\n",
    "dog = [\"doggo\",\"floofer\",\"pupper\",\"puppo\"]\n",
    "twit_arch_cp[dog] = twit_arch_cp[dog].replace({'None':np.nan})"
   ]
  },
  {
   "cell_type": "code",
   "execution_count": 39,
   "metadata": {},
   "outputs": [],
   "source": [
    "# create a new column to represent dog stages by merging all relevant columns\n",
    "twit_arch_cp['dog_stage'] = twit_arch_cp[twit_arch_cp.columns[8:]].apply(lambda x: ','.join(x.dropna().astype(str)), axis=1)"
   ]
  },
  {
   "cell_type": "code",
   "execution_count": 40,
   "metadata": {},
   "outputs": [],
   "source": [
    "# replace whitespace with NaN in the newly created column\n",
    "twit_arch_cp['dog_stage'] = twit_arch_cp['dog_stage'].replace('',np.nan)\n",
    "#drop columns after merging\n",
    "twit_arch_cp.drop([\"doggo\",\"floofer\",\"pupper\",\"puppo\"], axis=1, inplace=True)"
   ]
  },
  {
   "cell_type": "code",
   "execution_count": 41,
   "metadata": {},
   "outputs": [
    {
     "data": {
      "text/plain": [
       "pupper           245\n",
       "doggo             83\n",
       "puppo             29\n",
       "10,10,10,10       23\n",
       "doggo,pupper      12\n",
       "floofer            9\n",
       "doggo,puppo        1\n",
       "doggo,floofer      1\n",
       "Name: dog_stage, dtype: int64"
      ]
     },
     "execution_count": 41,
     "metadata": {},
     "output_type": "execute_result"
    }
   ],
   "source": [
    "# check the values of the new column\n",
    "twit_arch_cp.dog_stage.value_counts()"
   ]
  },
  {
   "cell_type": "markdown",
   "metadata": {},
   "source": [
    "A value 10,10,10,10 is present, this is not a valid value of the dog_stage column, lets check for duplicates in the dataset"
   ]
  },
  {
   "cell_type": "code",
   "execution_count": 42,
   "metadata": {},
   "outputs": [
    {
     "data": {
      "text/plain": [
       "22"
      ]
     },
     "execution_count": 42,
     "metadata": {},
     "output_type": "execute_result"
    }
   ],
   "source": [
    "sum(twit_arch_cp.duplicated())"
   ]
  },
  {
   "cell_type": "code",
   "execution_count": 43,
   "metadata": {},
   "outputs": [
    {
     "data": {
      "text/plain": [
       "pupper           245\n",
       "doggo             83\n",
       "puppo             29\n",
       "doggo,pupper      12\n",
       "floofer            9\n",
       "doggo,puppo        1\n",
       "doggo,floofer      1\n",
       "10,10,10,10        1\n",
       "Name: dog_stage, dtype: int64"
      ]
     },
     "execution_count": 43,
     "metadata": {},
     "output_type": "execute_result"
    }
   ],
   "source": [
    "# drop duplicated rows\n",
    "twit_arch_cp.drop_duplicates(inplace = True)\n",
    "# check the values of the new column if there's still 10,10,10,10 present\n",
    "twit_arch_cp.dog_stage.value_counts()"
   ]
  },
  {
   "cell_type": "code",
   "execution_count": 44,
   "metadata": {},
   "outputs": [],
   "source": [
    "# replace the value with NaN\n",
    "twit_arch_cp['dog_stage'] = twit_arch_cp['dog_stage'].replace('10,10,10,10', np.nan)"
   ]
  },
  {
   "cell_type": "code",
   "execution_count": 45,
   "metadata": {},
   "outputs": [
    {
     "data": {
      "text/plain": [
       "pupper           245\n",
       "doggo             83\n",
       "puppo             29\n",
       "doggo,pupper      12\n",
       "floofer            9\n",
       "doggo,puppo        1\n",
       "doggo,floofer      1\n",
       "Name: dog_stage, dtype: int64"
      ]
     },
     "execution_count": 45,
     "metadata": {},
     "output_type": "execute_result"
    }
   ],
   "source": [
    "twit_arch_cp.dog_stage.value_counts()"
   ]
  },
  {
   "cell_type": "markdown",
   "metadata": {},
   "source": [
    "#### Test"
   ]
  },
  {
   "cell_type": "code",
   "execution_count": 46,
   "metadata": {},
   "outputs": [
    {
     "data": {
      "text/html": [
       "<div>\n",
       "<style scoped>\n",
       "    .dataframe tbody tr th:only-of-type {\n",
       "        vertical-align: middle;\n",
       "    }\n",
       "\n",
       "    .dataframe tbody tr th {\n",
       "        vertical-align: top;\n",
       "    }\n",
       "\n",
       "    .dataframe thead th {\n",
       "        text-align: right;\n",
       "    }\n",
       "</style>\n",
       "<table border=\"1\" class=\"dataframe\">\n",
       "  <thead>\n",
       "    <tr style=\"text-align: right;\">\n",
       "      <th></th>\n",
       "      <th>tweet_id</th>\n",
       "      <th>timestamp</th>\n",
       "      <th>source</th>\n",
       "      <th>text</th>\n",
       "      <th>expanded_urls</th>\n",
       "      <th>rating_numerator</th>\n",
       "      <th>rating_denominator</th>\n",
       "      <th>name</th>\n",
       "      <th>dog_stage</th>\n",
       "    </tr>\n",
       "  </thead>\n",
       "  <tbody>\n",
       "    <tr>\n",
       "      <th>129</th>\n",
       "      <td>867421006826221569</td>\n",
       "      <td>2017-05-24 16:44:18+00:00</td>\n",
       "      <td>Twitter for iPhone</td>\n",
       "      <td>This is Shikha. She just watched you drop a sk...</td>\n",
       "      <td>https://twitter.com/dog_rates/status/867421006...</td>\n",
       "      <td>12</td>\n",
       "      <td>10</td>\n",
       "      <td>Shikha</td>\n",
       "      <td>puppo</td>\n",
       "    </tr>\n",
       "    <tr>\n",
       "      <th>545</th>\n",
       "      <td>805826884734976000</td>\n",
       "      <td>2016-12-05 17:31:15+00:00</td>\n",
       "      <td>Twitter for iPhone</td>\n",
       "      <td>This is Duke. He is not a fan of the pupporazz...</td>\n",
       "      <td>https://twitter.com/dog_rates/status/805826884...</td>\n",
       "      <td>12</td>\n",
       "      <td>10</td>\n",
       "      <td>Duke</td>\n",
       "      <td>NaN</td>\n",
       "    </tr>\n",
       "    <tr>\n",
       "      <th>1131</th>\n",
       "      <td>728986383096946689</td>\n",
       "      <td>2016-05-07 16:34:32+00:00</td>\n",
       "      <td>Twitter for iPhone</td>\n",
       "      <td>This is Puff. He started out on the streets (f...</td>\n",
       "      <td>https://twitter.com/dog_rates/status/728986383...</td>\n",
       "      <td>11</td>\n",
       "      <td>10</td>\n",
       "      <td>Puff</td>\n",
       "      <td>NaN</td>\n",
       "    </tr>\n",
       "    <tr>\n",
       "      <th>894</th>\n",
       "      <td>759197388317847553</td>\n",
       "      <td>2016-07-30 01:22:17+00:00</td>\n",
       "      <td>Twitter for iPhone</td>\n",
       "      <td>This is Luna. She's just heckin precious af I ...</td>\n",
       "      <td>https://twitter.com/dog_rates/status/759197388...</td>\n",
       "      <td>12</td>\n",
       "      <td>10</td>\n",
       "      <td>Luna</td>\n",
       "      <td>NaN</td>\n",
       "    </tr>\n",
       "    <tr>\n",
       "      <th>374</th>\n",
       "      <td>828372645993398273</td>\n",
       "      <td>2017-02-05 22:40:03+00:00</td>\n",
       "      <td>Twitter for iPhone</td>\n",
       "      <td>This is Alexander Hamilpup. He was one of the ...</td>\n",
       "      <td>https://twitter.com/dog_rates/status/828372645...</td>\n",
       "      <td>12</td>\n",
       "      <td>10</td>\n",
       "      <td>Alexander</td>\n",
       "      <td>NaN</td>\n",
       "    </tr>\n",
       "    <tr>\n",
       "      <th>574</th>\n",
       "      <td>801127390143516673</td>\n",
       "      <td>2016-11-22 18:17:08+00:00</td>\n",
       "      <td>Twitter for iPhone</td>\n",
       "      <td>RT @dog_rates: This is Anakin. He strives to r...</td>\n",
       "      <td>https://twitter.com/dog_rates/status/775733305...</td>\n",
       "      <td>11</td>\n",
       "      <td>10</td>\n",
       "      <td>Anakin</td>\n",
       "      <td>doggo</td>\n",
       "    </tr>\n",
       "    <tr>\n",
       "      <th>1172</th>\n",
       "      <td>720389942216527872</td>\n",
       "      <td>2016-04-13 23:15:21+00:00</td>\n",
       "      <td>Twitter for iPhone</td>\n",
       "      <td>This is Ralphé. He patrols the lake. Looking f...</td>\n",
       "      <td>https://twitter.com/dog_rates/status/720389942...</td>\n",
       "      <td>11</td>\n",
       "      <td>10</td>\n",
       "      <td>Ralphé</td>\n",
       "      <td>NaN</td>\n",
       "    </tr>\n",
       "  </tbody>\n",
       "</table>\n",
       "</div>"
      ],
      "text/plain": [
       "                tweet_id                  timestamp               source  \\\n",
       "129   867421006826221569  2017-05-24 16:44:18+00:00  Twitter for iPhone    \n",
       "545   805826884734976000  2016-12-05 17:31:15+00:00  Twitter for iPhone    \n",
       "1131  728986383096946689  2016-05-07 16:34:32+00:00  Twitter for iPhone    \n",
       "894   759197388317847553  2016-07-30 01:22:17+00:00  Twitter for iPhone    \n",
       "374   828372645993398273  2017-02-05 22:40:03+00:00  Twitter for iPhone    \n",
       "574   801127390143516673  2016-11-22 18:17:08+00:00  Twitter for iPhone    \n",
       "1172  720389942216527872  2016-04-13 23:15:21+00:00  Twitter for iPhone    \n",
       "\n",
       "                                                   text  \\\n",
       "129   This is Shikha. She just watched you drop a sk...   \n",
       "545   This is Duke. He is not a fan of the pupporazz...   \n",
       "1131  This is Puff. He started out on the streets (f...   \n",
       "894   This is Luna. She's just heckin precious af I ...   \n",
       "374   This is Alexander Hamilpup. He was one of the ...   \n",
       "574   RT @dog_rates: This is Anakin. He strives to r...   \n",
       "1172  This is Ralphé. He patrols the lake. Looking f...   \n",
       "\n",
       "                                          expanded_urls  rating_numerator  \\\n",
       "129   https://twitter.com/dog_rates/status/867421006...                12   \n",
       "545   https://twitter.com/dog_rates/status/805826884...                12   \n",
       "1131  https://twitter.com/dog_rates/status/728986383...                11   \n",
       "894   https://twitter.com/dog_rates/status/759197388...                12   \n",
       "374   https://twitter.com/dog_rates/status/828372645...                12   \n",
       "574   https://twitter.com/dog_rates/status/775733305...                11   \n",
       "1172  https://twitter.com/dog_rates/status/720389942...                11   \n",
       "\n",
       "      rating_denominator       name dog_stage  \n",
       "129                   10     Shikha     puppo  \n",
       "545                   10       Duke       NaN  \n",
       "1131                  10       Puff       NaN  \n",
       "894                   10       Luna       NaN  \n",
       "374                   10  Alexander       NaN  \n",
       "574                   10     Anakin     doggo  \n",
       "1172                  10     Ralphé       NaN  "
      ]
     },
     "execution_count": 46,
     "metadata": {},
     "output_type": "execute_result"
    }
   ],
   "source": [
    "twit_arch_cp.sample(7)"
   ]
  },
  {
   "cell_type": "markdown",
   "metadata": {},
   "source": [
    "### Issue #9: image-preiction table: names of columns are not explanatory"
   ]
  },
  {
   "cell_type": "markdown",
   "metadata": {},
   "source": [
    "#### Define: Rename the columns in image-prediction dataset "
   ]
  },
  {
   "cell_type": "markdown",
   "metadata": {},
   "source": [
    "#### Code"
   ]
  },
  {
   "cell_type": "code",
   "execution_count": 47,
   "metadata": {},
   "outputs": [
    {
     "name": "stdout",
     "output_type": "stream",
     "text": [
      "<class 'pandas.core.frame.DataFrame'>\n",
      "RangeIndex: 2075 entries, 0 to 2074\n",
      "Data columns (total 12 columns):\n",
      " #   Column    Non-Null Count  Dtype  \n",
      "---  ------    --------------  -----  \n",
      " 0   tweet_id  2075 non-null   int64  \n",
      " 1   jpg_url   2075 non-null   object \n",
      " 2   img_num   2075 non-null   int64  \n",
      " 3   p1        2075 non-null   object \n",
      " 4   p1_conf   2075 non-null   float64\n",
      " 5   p1_dog    2075 non-null   bool   \n",
      " 6   p2        2075 non-null   object \n",
      " 7   p2_conf   2075 non-null   float64\n",
      " 8   p2_dog    2075 non-null   bool   \n",
      " 9   p3        2075 non-null   object \n",
      " 10  p3_conf   2075 non-null   float64\n",
      " 11  p3_dog    2075 non-null   bool   \n",
      "dtypes: bool(3), float64(3), int64(2), object(4)\n",
      "memory usage: 152.1+ KB\n"
     ]
    }
   ],
   "source": [
    "image_pred_cp.info()"
   ]
  },
  {
   "cell_type": "code",
   "execution_count": 48,
   "metadata": {},
   "outputs": [],
   "source": [
    "# rename the vague column names\n",
    "image_pred_cp.rename(columns = {'jpg_url':'image_url', 'p1':'first_prediction',\n",
    "                                'p2':'second_prediction', 'p3':'third_prediction',\n",
    "                               'p1_dog':'first_is_dog', 'p2_dog':'second_is_dog',\n",
    "                               'p3_dog':'third_is_dog', 'p1_conf':'first_pred_score',\n",
    "                               'p2_conf':'second_pred_score', 'p3_conf':'third_pred_score'}, inplace = True)"
   ]
  },
  {
   "cell_type": "markdown",
   "metadata": {},
   "source": [
    "#### Test"
   ]
  },
  {
   "cell_type": "code",
   "execution_count": 49,
   "metadata": {},
   "outputs": [
    {
     "data": {
      "text/html": [
       "<div>\n",
       "<style scoped>\n",
       "    .dataframe tbody tr th:only-of-type {\n",
       "        vertical-align: middle;\n",
       "    }\n",
       "\n",
       "    .dataframe tbody tr th {\n",
       "        vertical-align: top;\n",
       "    }\n",
       "\n",
       "    .dataframe thead th {\n",
       "        text-align: right;\n",
       "    }\n",
       "</style>\n",
       "<table border=\"1\" class=\"dataframe\">\n",
       "  <thead>\n",
       "    <tr style=\"text-align: right;\">\n",
       "      <th></th>\n",
       "      <th>tweet_id</th>\n",
       "      <th>image_url</th>\n",
       "      <th>img_num</th>\n",
       "      <th>first_prediction</th>\n",
       "      <th>first_pred_score</th>\n",
       "      <th>first_is_dog</th>\n",
       "      <th>second_prediction</th>\n",
       "      <th>second_pred_score</th>\n",
       "      <th>second_is_dog</th>\n",
       "      <th>third_prediction</th>\n",
       "      <th>third_pred_score</th>\n",
       "      <th>third_is_dog</th>\n",
       "    </tr>\n",
       "  </thead>\n",
       "  <tbody>\n",
       "    <tr>\n",
       "      <th>910</th>\n",
       "      <td>700747788515020802</td>\n",
       "      <td>https://pbs.twimg.com/media/CbmOY41UAAQylmA.jpg</td>\n",
       "      <td>1</td>\n",
       "      <td>Great Pyrenees</td>\n",
       "      <td>0.481333</td>\n",
       "      <td>True</td>\n",
       "      <td>Samoyed</td>\n",
       "      <td>0.311769</td>\n",
       "      <td>True</td>\n",
       "      <td>Maltese Dog</td>\n",
       "      <td>0.074962</td>\n",
       "      <td>True</td>\n",
       "    </tr>\n",
       "  </tbody>\n",
       "</table>\n",
       "</div>"
      ],
      "text/plain": [
       "               tweet_id                                        image_url  \\\n",
       "910  700747788515020802  https://pbs.twimg.com/media/CbmOY41UAAQylmA.jpg   \n",
       "\n",
       "     img_num first_prediction  first_pred_score  first_is_dog  \\\n",
       "910        1   Great Pyrenees          0.481333          True   \n",
       "\n",
       "    second_prediction  second_pred_score  second_is_dog third_prediction  \\\n",
       "910           Samoyed           0.311769           True      Maltese Dog   \n",
       "\n",
       "     third_pred_score  third_is_dog  \n",
       "910          0.074962          True  "
      ]
     },
     "execution_count": 49,
     "metadata": {},
     "output_type": "execute_result"
    }
   ],
   "source": [
    "image_pred_cp.sample()"
   ]
  },
  {
   "cell_type": "markdown",
   "metadata": {},
   "source": [
    "### Issue #10: **image-prediction table**: missing records leading to incomplete dataset (2075 out of 2356)"
   ]
  },
  {
   "cell_type": "markdown",
   "metadata": {},
   "source": [
    "#### Define: Merge all the tables(image-prediction, tweet-json, twitter archive) table to drop rows with no records"
   ]
  },
  {
   "cell_type": "markdown",
   "metadata": {},
   "source": [
    "#### Code"
   ]
  },
  {
   "cell_type": "code",
   "execution_count": 50,
   "metadata": {},
   "outputs": [],
   "source": [
    "# merge twit_arch_cp with image_pred_cp\n",
    "twit_image_merged = pd.merge(twit_arch_cp, image_pred_cp, on='tweet_id', how='inner')"
   ]
  },
  {
   "cell_type": "code",
   "execution_count": 51,
   "metadata": {},
   "outputs": [],
   "source": [
    "# merge twit_image_merged with twit_like_cp\n",
    "all_df_merged = pd.merge(twit_image_merged, twit_like_cp, on = 'tweet_id', how = 'inner')"
   ]
  },
  {
   "cell_type": "markdown",
   "metadata": {},
   "source": [
    "#### Test"
   ]
  },
  {
   "cell_type": "code",
   "execution_count": 52,
   "metadata": {},
   "outputs": [
    {
     "data": {
      "text/html": [
       "<div>\n",
       "<style scoped>\n",
       "    .dataframe tbody tr th:only-of-type {\n",
       "        vertical-align: middle;\n",
       "    }\n",
       "\n",
       "    .dataframe tbody tr th {\n",
       "        vertical-align: top;\n",
       "    }\n",
       "\n",
       "    .dataframe thead th {\n",
       "        text-align: right;\n",
       "    }\n",
       "</style>\n",
       "<table border=\"1\" class=\"dataframe\">\n",
       "  <thead>\n",
       "    <tr style=\"text-align: right;\">\n",
       "      <th></th>\n",
       "      <th>tweet_id</th>\n",
       "      <th>timestamp</th>\n",
       "      <th>source</th>\n",
       "      <th>text</th>\n",
       "      <th>expanded_urls</th>\n",
       "      <th>rating_numerator</th>\n",
       "      <th>rating_denominator</th>\n",
       "      <th>name</th>\n",
       "      <th>dog_stage</th>\n",
       "      <th>image_url</th>\n",
       "      <th>img_num</th>\n",
       "      <th>first_prediction</th>\n",
       "      <th>first_pred_score</th>\n",
       "      <th>first_is_dog</th>\n",
       "      <th>second_prediction</th>\n",
       "      <th>second_pred_score</th>\n",
       "      <th>second_is_dog</th>\n",
       "      <th>third_prediction</th>\n",
       "      <th>third_pred_score</th>\n",
       "      <th>third_is_dog</th>\n",
       "    </tr>\n",
       "  </thead>\n",
       "  <tbody>\n",
       "    <tr>\n",
       "      <th>1146</th>\n",
       "      <td>701570477911896070</td>\n",
       "      <td>2016-02-22 00:53:31+00:00</td>\n",
       "      <td>Twitter for iPhone</td>\n",
       "      <td>This is Yoda. He's a Zimbabwean Rutabaga. Frea...</td>\n",
       "      <td>https://twitter.com/dog_rates/status/701570477...</td>\n",
       "      <td>9</td>\n",
       "      <td>10</td>\n",
       "      <td>Yoda</td>\n",
       "      <td>NaN</td>\n",
       "      <td>https://pbs.twimg.com/media/Cbx6nz1WIAA0QSW.jpg</td>\n",
       "      <td>1</td>\n",
       "      <td>Yorkshire Terrier</td>\n",
       "      <td>0.907990</td>\n",
       "      <td>True</td>\n",
       "      <td>Silky Terrier</td>\n",
       "      <td>0.076883</td>\n",
       "      <td>True</td>\n",
       "      <td>Australian Terrier</td>\n",
       "      <td>0.008473</td>\n",
       "      <td>True</td>\n",
       "    </tr>\n",
       "    <tr>\n",
       "      <th>552</th>\n",
       "      <td>787810552592695296</td>\n",
       "      <td>2016-10-17 00:20:47+00:00</td>\n",
       "      <td>Twitter for iPhone</td>\n",
       "      <td>This is Frank. He wears sunglasses and walks h...</td>\n",
       "      <td>https://twitter.com/dog_rates/status/787810552...</td>\n",
       "      <td>11</td>\n",
       "      <td>10</td>\n",
       "      <td>Frank</td>\n",
       "      <td>NaN</td>\n",
       "      <td>https://pbs.twimg.com/media/Cu7dg2RXYAIaGXE.jpg</td>\n",
       "      <td>2</td>\n",
       "      <td>Pug</td>\n",
       "      <td>0.362835</td>\n",
       "      <td>True</td>\n",
       "      <td>French Bulldog</td>\n",
       "      <td>0.221864</td>\n",
       "      <td>True</td>\n",
       "      <td>English Setter</td>\n",
       "      <td>0.080418</td>\n",
       "      <td>True</td>\n",
       "    </tr>\n",
       "    <tr>\n",
       "      <th>1534</th>\n",
       "      <td>676603393314578432</td>\n",
       "      <td>2015-12-15 03:23:14+00:00</td>\n",
       "      <td>Twitter for iPhone</td>\n",
       "      <td>This is Godzilla pupper. He had a ruff childho...</td>\n",
       "      <td>https://twitter.com/dog_rates/status/676603393...</td>\n",
       "      <td>9</td>\n",
       "      <td>10</td>\n",
       "      <td>Godzilla</td>\n",
       "      <td>pupper</td>\n",
       "      <td>https://pbs.twimg.com/media/CWPHMqKVAAAE78E.jpg</td>\n",
       "      <td>1</td>\n",
       "      <td>Whippet</td>\n",
       "      <td>0.877021</td>\n",
       "      <td>True</td>\n",
       "      <td>Great Dane</td>\n",
       "      <td>0.034182</td>\n",
       "      <td>True</td>\n",
       "      <td>Boxer</td>\n",
       "      <td>0.028404</td>\n",
       "      <td>True</td>\n",
       "    </tr>\n",
       "    <tr>\n",
       "      <th>146</th>\n",
       "      <td>858107933456039936</td>\n",
       "      <td>2017-04-28 23:57:28+00:00</td>\n",
       "      <td>Twitter for iPhone</td>\n",
       "      <td>This is Wyatt. He had an interview earlier tod...</td>\n",
       "      <td>https://twitter.com/dog_rates/status/858107933...</td>\n",
       "      <td>12</td>\n",
       "      <td>10</td>\n",
       "      <td>Wyatt</td>\n",
       "      <td>NaN</td>\n",
       "      <td>https://pbs.twimg.com/media/C-icm_WXUAAmuRR.jpg</td>\n",
       "      <td>1</td>\n",
       "      <td>Golden Retriever</td>\n",
       "      <td>0.863874</td>\n",
       "      <td>True</td>\n",
       "      <td>Labrador Retriever</td>\n",
       "      <td>0.015920</td>\n",
       "      <td>True</td>\n",
       "      <td>Doormat</td>\n",
       "      <td>0.010615</td>\n",
       "      <td>False</td>\n",
       "    </tr>\n",
       "    <tr>\n",
       "      <th>157</th>\n",
       "      <td>854732716440526848</td>\n",
       "      <td>2017-04-19 16:25:34+00:00</td>\n",
       "      <td>Twitter for iPhone</td>\n",
       "      <td>This is Marlee. She fetched a flower and immed...</td>\n",
       "      <td>https://twitter.com/dog_rates/status/854732716...</td>\n",
       "      <td>12</td>\n",
       "      <td>10</td>\n",
       "      <td>Marlee</td>\n",
       "      <td>NaN</td>\n",
       "      <td>https://pbs.twimg.com/media/C9ye3b3WAAAlTo0.jpg</td>\n",
       "      <td>1</td>\n",
       "      <td>Pembroke</td>\n",
       "      <td>0.695548</td>\n",
       "      <td>True</td>\n",
       "      <td>Cardigan</td>\n",
       "      <td>0.058902</td>\n",
       "      <td>True</td>\n",
       "      <td>Chow</td>\n",
       "      <td>0.028411</td>\n",
       "      <td>True</td>\n",
       "    </tr>\n",
       "  </tbody>\n",
       "</table>\n",
       "</div>"
      ],
      "text/plain": [
       "                tweet_id                  timestamp               source  \\\n",
       "1146  701570477911896070  2016-02-22 00:53:31+00:00  Twitter for iPhone    \n",
       "552   787810552592695296  2016-10-17 00:20:47+00:00  Twitter for iPhone    \n",
       "1534  676603393314578432  2015-12-15 03:23:14+00:00  Twitter for iPhone    \n",
       "146   858107933456039936  2017-04-28 23:57:28+00:00  Twitter for iPhone    \n",
       "157   854732716440526848  2017-04-19 16:25:34+00:00  Twitter for iPhone    \n",
       "\n",
       "                                                   text  \\\n",
       "1146  This is Yoda. He's a Zimbabwean Rutabaga. Frea...   \n",
       "552   This is Frank. He wears sunglasses and walks h...   \n",
       "1534  This is Godzilla pupper. He had a ruff childho...   \n",
       "146   This is Wyatt. He had an interview earlier tod...   \n",
       "157   This is Marlee. She fetched a flower and immed...   \n",
       "\n",
       "                                          expanded_urls  rating_numerator  \\\n",
       "1146  https://twitter.com/dog_rates/status/701570477...                 9   \n",
       "552   https://twitter.com/dog_rates/status/787810552...                11   \n",
       "1534  https://twitter.com/dog_rates/status/676603393...                 9   \n",
       "146   https://twitter.com/dog_rates/status/858107933...                12   \n",
       "157   https://twitter.com/dog_rates/status/854732716...                12   \n",
       "\n",
       "      rating_denominator      name dog_stage  \\\n",
       "1146                  10      Yoda       NaN   \n",
       "552                   10     Frank       NaN   \n",
       "1534                  10  Godzilla    pupper   \n",
       "146                   10     Wyatt       NaN   \n",
       "157                   10    Marlee       NaN   \n",
       "\n",
       "                                            image_url  img_num  \\\n",
       "1146  https://pbs.twimg.com/media/Cbx6nz1WIAA0QSW.jpg        1   \n",
       "552   https://pbs.twimg.com/media/Cu7dg2RXYAIaGXE.jpg        2   \n",
       "1534  https://pbs.twimg.com/media/CWPHMqKVAAAE78E.jpg        1   \n",
       "146   https://pbs.twimg.com/media/C-icm_WXUAAmuRR.jpg        1   \n",
       "157   https://pbs.twimg.com/media/C9ye3b3WAAAlTo0.jpg        1   \n",
       "\n",
       "       first_prediction  first_pred_score  first_is_dog   second_prediction  \\\n",
       "1146  Yorkshire Terrier          0.907990          True       Silky Terrier   \n",
       "552                 Pug          0.362835          True      French Bulldog   \n",
       "1534            Whippet          0.877021          True          Great Dane   \n",
       "146    Golden Retriever          0.863874          True  Labrador Retriever   \n",
       "157            Pembroke          0.695548          True            Cardigan   \n",
       "\n",
       "      second_pred_score  second_is_dog    third_prediction  third_pred_score  \\\n",
       "1146           0.076883           True  Australian Terrier          0.008473   \n",
       "552            0.221864           True      English Setter          0.080418   \n",
       "1534           0.034182           True               Boxer          0.028404   \n",
       "146            0.015920           True             Doormat          0.010615   \n",
       "157            0.058902           True                Chow          0.028411   \n",
       "\n",
       "      third_is_dog  \n",
       "1146          True  \n",
       "552           True  \n",
       "1534          True  \n",
       "146          False  \n",
       "157           True  "
      ]
     },
     "execution_count": 52,
     "metadata": {},
     "output_type": "execute_result"
    }
   ],
   "source": [
    "twit_image_merged.sample(5)"
   ]
  },
  {
   "cell_type": "code",
   "execution_count": 53,
   "metadata": {},
   "outputs": [
    {
     "data": {
      "text/html": [
       "<div>\n",
       "<style scoped>\n",
       "    .dataframe tbody tr th:only-of-type {\n",
       "        vertical-align: middle;\n",
       "    }\n",
       "\n",
       "    .dataframe tbody tr th {\n",
       "        vertical-align: top;\n",
       "    }\n",
       "\n",
       "    .dataframe thead th {\n",
       "        text-align: right;\n",
       "    }\n",
       "</style>\n",
       "<table border=\"1\" class=\"dataframe\">\n",
       "  <thead>\n",
       "    <tr style=\"text-align: right;\">\n",
       "      <th></th>\n",
       "      <th>tweet_id</th>\n",
       "      <th>timestamp</th>\n",
       "      <th>source</th>\n",
       "      <th>text</th>\n",
       "      <th>expanded_urls</th>\n",
       "      <th>rating_numerator</th>\n",
       "      <th>rating_denominator</th>\n",
       "      <th>name</th>\n",
       "      <th>dog_stage</th>\n",
       "      <th>image_url</th>\n",
       "      <th>...</th>\n",
       "      <th>first_pred_score</th>\n",
       "      <th>first_is_dog</th>\n",
       "      <th>second_prediction</th>\n",
       "      <th>second_pred_score</th>\n",
       "      <th>second_is_dog</th>\n",
       "      <th>third_prediction</th>\n",
       "      <th>third_pred_score</th>\n",
       "      <th>third_is_dog</th>\n",
       "      <th>retweet_count</th>\n",
       "      <th>favorite_count</th>\n",
       "    </tr>\n",
       "  </thead>\n",
       "  <tbody>\n",
       "    <tr>\n",
       "      <th>1718</th>\n",
       "      <td>672231046314901505</td>\n",
       "      <td>2015-12-03 01:49:05+00:00</td>\n",
       "      <td>Twitter for iPhone</td>\n",
       "      <td>Exotic underwater dog here. Very shy. Wont ret...</td>\n",
       "      <td>https://twitter.com/dog_rates/status/672231046...</td>\n",
       "      <td>5</td>\n",
       "      <td>10</td>\n",
       "      <td>NaN</td>\n",
       "      <td>NaN</td>\n",
       "      <td>https://pbs.twimg.com/media/CVQ-kfWWoAAXV15.jpg</td>\n",
       "      <td>...</td>\n",
       "      <td>0.823919</td>\n",
       "      <td>False</td>\n",
       "      <td>Grey Whale</td>\n",
       "      <td>0.036601</td>\n",
       "      <td>False</td>\n",
       "      <td>Hammerhead</td>\n",
       "      <td>0.029522</td>\n",
       "      <td>False</td>\n",
       "      <td>1089</td>\n",
       "      <td>1956</td>\n",
       "    </tr>\n",
       "    <tr>\n",
       "      <th>24</th>\n",
       "      <td>887101392804085760</td>\n",
       "      <td>2017-07-18 00:07:08+00:00</td>\n",
       "      <td>Twitter for iPhone</td>\n",
       "      <td>This... is a Jubilant Antarctic House Bear. We...</td>\n",
       "      <td>https://twitter.com/dog_rates/status/887101392...</td>\n",
       "      <td>12</td>\n",
       "      <td>10</td>\n",
       "      <td>NaN</td>\n",
       "      <td>NaN</td>\n",
       "      <td>https://pbs.twimg.com/media/DE-eAq6UwAA-jaE.jpg</td>\n",
       "      <td>...</td>\n",
       "      <td>0.733942</td>\n",
       "      <td>True</td>\n",
       "      <td>Eskimo Dog</td>\n",
       "      <td>0.035029</td>\n",
       "      <td>True</td>\n",
       "      <td>Staffordshire Bullterrier</td>\n",
       "      <td>0.029705</td>\n",
       "      <td>True</td>\n",
       "      <td>6167</td>\n",
       "      <td>31061</td>\n",
       "    </tr>\n",
       "    <tr>\n",
       "      <th>799</th>\n",
       "      <td>749981277374128128</td>\n",
       "      <td>2016-07-04 15:00:45+00:00</td>\n",
       "      <td>TweetDeck</td>\n",
       "      <td>This is Atticus. He's quite simply America af....</td>\n",
       "      <td>https://twitter.com/dog_rates/status/749981277...</td>\n",
       "      <td>1776</td>\n",
       "      <td>10</td>\n",
       "      <td>Atticus</td>\n",
       "      <td>NaN</td>\n",
       "      <td>https://pbs.twimg.com/media/CmgBZ7kWcAAlzFD.jpg</td>\n",
       "      <td>...</td>\n",
       "      <td>0.533941</td>\n",
       "      <td>False</td>\n",
       "      <td>Sunglasses</td>\n",
       "      <td>0.080822</td>\n",
       "      <td>False</td>\n",
       "      <td>Sunglass</td>\n",
       "      <td>0.050776</td>\n",
       "      <td>False</td>\n",
       "      <td>2772</td>\n",
       "      <td>5569</td>\n",
       "    </tr>\n",
       "    <tr>\n",
       "      <th>564</th>\n",
       "      <td>785639753186217984</td>\n",
       "      <td>2016-10-11 00:34:48+00:00</td>\n",
       "      <td>Twitter for iPhone</td>\n",
       "      <td>This is Pinot. He's a sophisticated doggo. You...</td>\n",
       "      <td>https://twitter.com/dog_rates/status/785639753...</td>\n",
       "      <td>10</td>\n",
       "      <td>10</td>\n",
       "      <td>Pinot</td>\n",
       "      <td>doggo,pupper</td>\n",
       "      <td>https://pbs.twimg.com/media/CucnLmeWAAALOSC.jpg</td>\n",
       "      <td>...</td>\n",
       "      <td>0.978042</td>\n",
       "      <td>False</td>\n",
       "      <td>Sea Urchin</td>\n",
       "      <td>0.006106</td>\n",
       "      <td>False</td>\n",
       "      <td>Echidna</td>\n",
       "      <td>0.005442</td>\n",
       "      <td>False</td>\n",
       "      <td>2561</td>\n",
       "      <td>8735</td>\n",
       "    </tr>\n",
       "    <tr>\n",
       "      <th>975</th>\n",
       "      <td>719367763014393856</td>\n",
       "      <td>2016-04-11 03:33:34+00:00</td>\n",
       "      <td>Twitter for iPhone</td>\n",
       "      <td>Meet Sid &amp;amp; Murphy. Murphy floats alongside...</td>\n",
       "      <td>https://twitter.com/dog_rates/status/719367763...</td>\n",
       "      <td>11</td>\n",
       "      <td>10</td>\n",
       "      <td>Sid</td>\n",
       "      <td>NaN</td>\n",
       "      <td>https://pbs.twimg.com/media/Cfu1KSRXEAACC5X.jpg</td>\n",
       "      <td>...</td>\n",
       "      <td>0.171486</td>\n",
       "      <td>False</td>\n",
       "      <td>Soft-Coated Wheaten Terrier</td>\n",
       "      <td>0.050971</td>\n",
       "      <td>True</td>\n",
       "      <td>Tibetan Terrier</td>\n",
       "      <td>0.047759</td>\n",
       "      <td>True</td>\n",
       "      <td>827</td>\n",
       "      <td>3022</td>\n",
       "    </tr>\n",
       "  </tbody>\n",
       "</table>\n",
       "<p>5 rows × 22 columns</p>\n",
       "</div>"
      ],
      "text/plain": [
       "                tweet_id                  timestamp               source  \\\n",
       "1718  672231046314901505  2015-12-03 01:49:05+00:00  Twitter for iPhone    \n",
       "24    887101392804085760  2017-07-18 00:07:08+00:00  Twitter for iPhone    \n",
       "799   749981277374128128  2016-07-04 15:00:45+00:00           TweetDeck    \n",
       "564   785639753186217984  2016-10-11 00:34:48+00:00  Twitter for iPhone    \n",
       "975   719367763014393856  2016-04-11 03:33:34+00:00  Twitter for iPhone    \n",
       "\n",
       "                                                   text  \\\n",
       "1718  Exotic underwater dog here. Very shy. Wont ret...   \n",
       "24    This... is a Jubilant Antarctic House Bear. We...   \n",
       "799   This is Atticus. He's quite simply America af....   \n",
       "564   This is Pinot. He's a sophisticated doggo. You...   \n",
       "975   Meet Sid &amp; Murphy. Murphy floats alongside...   \n",
       "\n",
       "                                          expanded_urls  rating_numerator  \\\n",
       "1718  https://twitter.com/dog_rates/status/672231046...                 5   \n",
       "24    https://twitter.com/dog_rates/status/887101392...                12   \n",
       "799   https://twitter.com/dog_rates/status/749981277...              1776   \n",
       "564   https://twitter.com/dog_rates/status/785639753...                10   \n",
       "975   https://twitter.com/dog_rates/status/719367763...                11   \n",
       "\n",
       "      rating_denominator     name     dog_stage  \\\n",
       "1718                  10      NaN           NaN   \n",
       "24                    10      NaN           NaN   \n",
       "799                   10  Atticus           NaN   \n",
       "564                   10    Pinot  doggo,pupper   \n",
       "975                   10      Sid           NaN   \n",
       "\n",
       "                                            image_url  ...  first_pred_score  \\\n",
       "1718  https://pbs.twimg.com/media/CVQ-kfWWoAAXV15.jpg  ...          0.823919   \n",
       "24    https://pbs.twimg.com/media/DE-eAq6UwAA-jaE.jpg  ...          0.733942   \n",
       "799   https://pbs.twimg.com/media/CmgBZ7kWcAAlzFD.jpg  ...          0.533941   \n",
       "564   https://pbs.twimg.com/media/CucnLmeWAAALOSC.jpg  ...          0.978042   \n",
       "975   https://pbs.twimg.com/media/Cfu1KSRXEAACC5X.jpg  ...          0.171486   \n",
       "\n",
       "     first_is_dog            second_prediction  second_pred_score  \\\n",
       "1718        False                   Grey Whale           0.036601   \n",
       "24           True                   Eskimo Dog           0.035029   \n",
       "799         False                   Sunglasses           0.080822   \n",
       "564         False                   Sea Urchin           0.006106   \n",
       "975         False  Soft-Coated Wheaten Terrier           0.050971   \n",
       "\n",
       "     second_is_dog           third_prediction  third_pred_score third_is_dog  \\\n",
       "1718         False                 Hammerhead          0.029522        False   \n",
       "24            True  Staffordshire Bullterrier          0.029705         True   \n",
       "799          False                   Sunglass          0.050776        False   \n",
       "564          False                    Echidna          0.005442        False   \n",
       "975           True            Tibetan Terrier          0.047759         True   \n",
       "\n",
       "      retweet_count  favorite_count  \n",
       "1718           1089            1956  \n",
       "24             6167           31061  \n",
       "799            2772            5569  \n",
       "564            2561            8735  \n",
       "975             827            3022  \n",
       "\n",
       "[5 rows x 22 columns]"
      ]
     },
     "execution_count": 53,
     "metadata": {},
     "output_type": "execute_result"
    }
   ],
   "source": [
    "all_df_merged.sample(5)"
   ]
  },
  {
   "cell_type": "code",
   "execution_count": 54,
   "metadata": {},
   "outputs": [
    {
     "data": {
      "text/plain": [
       "(2055, 22)"
      ]
     },
     "execution_count": 54,
     "metadata": {},
     "output_type": "execute_result"
    }
   ],
   "source": [
    "all_df_merged.shape"
   ]
  },
  {
   "cell_type": "markdown",
   "metadata": {},
   "source": [
    "### Issue #11: timestamp column contains month, year and data"
   ]
  },
  {
   "cell_type": "markdown",
   "metadata": {},
   "source": [
    "#### Define: Split the timestamp column into seperate year and month column"
   ]
  },
  {
   "cell_type": "markdown",
   "metadata": {},
   "source": [
    "#### Code\n"
   ]
  },
  {
   "cell_type": "code",
   "execution_count": 55,
   "metadata": {},
   "outputs": [],
   "source": [
    "# create year, month and day from timestamp\n",
    "all_df_merged['year'] = pd.to_datetime(all_df_merged['timestamp']).dt.year\n",
    "all_df_merged['month'] = pd.to_datetime(all_df_merged['timestamp']).dt.strftime('%B')\n",
    "all_df_merged['day'] = pd.to_datetime(all_df_merged['timestamp']).dt.day_name()"
   ]
  },
  {
   "cell_type": "markdown",
   "metadata": {},
   "source": [
    "#### Test"
   ]
  },
  {
   "cell_type": "code",
   "execution_count": 56,
   "metadata": {},
   "outputs": [
    {
     "name": "stdout",
     "output_type": "stream",
     "text": [
      "<class 'pandas.core.frame.DataFrame'>\n",
      "Int64Index: 2055 entries, 0 to 2054\n",
      "Data columns (total 25 columns):\n",
      " #   Column              Non-Null Count  Dtype  \n",
      "---  ------              --------------  -----  \n",
      " 0   tweet_id            2055 non-null   int64  \n",
      " 1   timestamp           2055 non-null   object \n",
      " 2   source              2025 non-null   object \n",
      " 3   text                2055 non-null   object \n",
      " 4   expanded_urls       2055 non-null   object \n",
      " 5   rating_numerator    2055 non-null   int64  \n",
      " 6   rating_denominator  2055 non-null   int64  \n",
      " 7   name                1436 non-null   object \n",
      " 8   dog_stage           320 non-null    object \n",
      " 9   image_url           2055 non-null   object \n",
      " 10  img_num             2055 non-null   int64  \n",
      " 11  first_prediction    2055 non-null   object \n",
      " 12  first_pred_score    2055 non-null   float64\n",
      " 13  first_is_dog        2055 non-null   bool   \n",
      " 14  second_prediction   2055 non-null   object \n",
      " 15  second_pred_score   2055 non-null   float64\n",
      " 16  second_is_dog       2055 non-null   bool   \n",
      " 17  third_prediction    2055 non-null   object \n",
      " 18  third_pred_score    2055 non-null   float64\n",
      " 19  third_is_dog        2055 non-null   bool   \n",
      " 20  retweet_count       2055 non-null   int64  \n",
      " 21  favorite_count      2055 non-null   int64  \n",
      " 22  year                2055 non-null   int64  \n",
      " 23  month               2055 non-null   object \n",
      " 24  day                 2055 non-null   object \n",
      "dtypes: bool(3), float64(3), int64(7), object(12)\n",
      "memory usage: 375.3+ KB\n"
     ]
    }
   ],
   "source": [
    "all_df_merged.info()"
   ]
  },
  {
   "cell_type": "markdown",
   "metadata": {},
   "source": [
    "## Storing Data\n",
    "Save gathered, assessed, and cleaned master dataset to a CSV file named \"twitter_archive_master.csv\"."
   ]
  },
  {
   "cell_type": "code",
   "execution_count": 57,
   "metadata": {},
   "outputs": [],
   "source": [
    "all_df_merged.to_csv('twitter_archive_master.csv', index = False)"
   ]
  },
  {
   "cell_type": "markdown",
   "metadata": {},
   "source": [
    "## Analyzing and Visualizing Data\n",
    "In this section, analyze and visualize your wrangled data. You must produce at least **three (3) insights and one (1) visualization.**"
   ]
  },
  {
   "cell_type": "code",
   "execution_count": 58,
   "metadata": {},
   "outputs": [
    {
     "data": {
      "text/plain": [
       "(2055, 25)"
      ]
     },
     "execution_count": 58,
     "metadata": {},
     "output_type": "execute_result"
    }
   ],
   "source": [
    "df = pd.read_csv('twitter_archive_master.csv')\n",
    "df.shape"
   ]
  },
  {
   "cell_type": "code",
   "execution_count": 59,
   "metadata": {},
   "outputs": [
    {
     "data": {
      "text/html": [
       "<div>\n",
       "<style scoped>\n",
       "    .dataframe tbody tr th:only-of-type {\n",
       "        vertical-align: middle;\n",
       "    }\n",
       "\n",
       "    .dataframe tbody tr th {\n",
       "        vertical-align: top;\n",
       "    }\n",
       "\n",
       "    .dataframe thead th {\n",
       "        text-align: right;\n",
       "    }\n",
       "</style>\n",
       "<table border=\"1\" class=\"dataframe\">\n",
       "  <thead>\n",
       "    <tr style=\"text-align: right;\">\n",
       "      <th></th>\n",
       "      <th>favorite_count</th>\n",
       "      <th>retweet_count</th>\n",
       "    </tr>\n",
       "    <tr>\n",
       "      <th>first_prediction</th>\n",
       "      <th></th>\n",
       "      <th></th>\n",
       "    </tr>\n",
       "  </thead>\n",
       "  <tbody>\n",
       "    <tr>\n",
       "      <th>Golden Retriever</th>\n",
       "      <td>1665621</td>\n",
       "      <td>569227</td>\n",
       "    </tr>\n",
       "    <tr>\n",
       "      <th>Labrador Retriever</th>\n",
       "      <td>1111859</td>\n",
       "      <td>421792</td>\n",
       "    </tr>\n",
       "    <tr>\n",
       "      <th>Pembroke</th>\n",
       "      <td>994755</td>\n",
       "      <td>280367</td>\n",
       "    </tr>\n",
       "    <tr>\n",
       "      <th>Chihuahua</th>\n",
       "      <td>676441</td>\n",
       "      <td>304218</td>\n",
       "    </tr>\n",
       "    <tr>\n",
       "      <th>Samoyed</th>\n",
       "      <td>542991</td>\n",
       "      <td>212438</td>\n",
       "    </tr>\n",
       "    <tr>\n",
       "      <th>French Bulldog</th>\n",
       "      <td>465738</td>\n",
       "      <td>121782</td>\n",
       "    </tr>\n",
       "    <tr>\n",
       "      <th>Chow</th>\n",
       "      <td>404241</td>\n",
       "      <td>130080</td>\n",
       "    </tr>\n",
       "    <tr>\n",
       "      <th>Pug</th>\n",
       "      <td>320223</td>\n",
       "      <td>112830</td>\n",
       "    </tr>\n",
       "    <tr>\n",
       "      <th>Cocker Spaniel</th>\n",
       "      <td>315825</td>\n",
       "      <td>122939</td>\n",
       "    </tr>\n",
       "    <tr>\n",
       "      <th>Pomeranian</th>\n",
       "      <td>299114</td>\n",
       "      <td>106518</td>\n",
       "    </tr>\n",
       "  </tbody>\n",
       "</table>\n",
       "</div>"
      ],
      "text/plain": [
       "                    favorite_count  retweet_count\n",
       "first_prediction                                 \n",
       "Golden Retriever           1665621         569227\n",
       "Labrador Retriever         1111859         421792\n",
       "Pembroke                    994755         280367\n",
       "Chihuahua                   676441         304218\n",
       "Samoyed                     542991         212438\n",
       "French Bulldog              465738         121782\n",
       "Chow                        404241         130080\n",
       "Pug                         320223         112830\n",
       "Cocker Spaniel              315825         122939\n",
       "Pomeranian                  299114         106518"
      ]
     },
     "execution_count": 59,
     "metadata": {},
     "output_type": "execute_result"
    }
   ],
   "source": [
    "#  most popular dog breeds to feature on WeRateDogs\n",
    "df.groupby('first_prediction')[['favorite_count', \n",
    "                                'retweet_count']].sum().sort_values(by =\n",
    "                                'favorite_count', ascending = False)[:10]"
   ]
  },
  {
   "cell_type": "code",
   "execution_count": 60,
   "metadata": {},
   "outputs": [
    {
     "data": {
      "text/plain": [
       "source\n",
       "TweetDeck                11\n",
       "Twitter for iPhone     2014\n",
       "Name: tweet_id, dtype: int64"
      ]
     },
     "execution_count": 60,
     "metadata": {},
     "output_type": "execute_result"
    }
   ],
   "source": [
    "# source of tweet\n",
    "df.groupby('source')['tweet_id'].count()"
   ]
  },
  {
   "cell_type": "code",
   "execution_count": 61,
   "metadata": {},
   "outputs": [
    {
     "data": {
      "text/html": [
       "<div>\n",
       "<style scoped>\n",
       "    .dataframe tbody tr th:only-of-type {\n",
       "        vertical-align: middle;\n",
       "    }\n",
       "\n",
       "    .dataframe tbody tr th {\n",
       "        vertical-align: top;\n",
       "    }\n",
       "\n",
       "    .dataframe thead th {\n",
       "        text-align: right;\n",
       "    }\n",
       "</style>\n",
       "<table border=\"1\" class=\"dataframe\">\n",
       "  <thead>\n",
       "    <tr style=\"text-align: right;\">\n",
       "      <th></th>\n",
       "      <th></th>\n",
       "      <th></th>\n",
       "      <th></th>\n",
       "      <th></th>\n",
       "      <th>favorite_count</th>\n",
       "      <th>retweet_count</th>\n",
       "    </tr>\n",
       "    <tr>\n",
       "      <th>name</th>\n",
       "      <th>first_prediction</th>\n",
       "      <th>second_prediction</th>\n",
       "      <th>third_prediction</th>\n",
       "      <th>dog_stage</th>\n",
       "      <th></th>\n",
       "      <th></th>\n",
       "    </tr>\n",
       "  </thead>\n",
       "  <tbody>\n",
       "    <tr>\n",
       "      <th>Jamesy</th>\n",
       "      <th>French Bulldog</th>\n",
       "      <th>Boston Bull</th>\n",
       "      <th>Pug</th>\n",
       "      <th>pupper</th>\n",
       "      <td>106827</td>\n",
       "      <td>32883</td>\n",
       "    </tr>\n",
       "    <tr>\n",
       "      <th>Bo</th>\n",
       "      <th>Standard Poodle</th>\n",
       "      <th>Toy Poodle</th>\n",
       "      <th>Tibetan Terrier</th>\n",
       "      <th>doggo</th>\n",
       "      <td>95450</td>\n",
       "      <td>84456</td>\n",
       "    </tr>\n",
       "    <tr>\n",
       "      <th>Sunny</th>\n",
       "      <th>Prison</th>\n",
       "      <th>Palace</th>\n",
       "      <th>Umbrella</th>\n",
       "      <th>doggo</th>\n",
       "      <td>49960</td>\n",
       "      <td>43588</td>\n",
       "    </tr>\n",
       "    <tr>\n",
       "      <th>Barney</th>\n",
       "      <th>Golden Retriever</th>\n",
       "      <th>Leonberg</th>\n",
       "      <th>Norfolk Terrier</th>\n",
       "      <th>doggo</th>\n",
       "      <td>48410</td>\n",
       "      <td>13076</td>\n",
       "    </tr>\n",
       "    <tr>\n",
       "      <th>Cupid</th>\n",
       "      <th>Great Pyrenees</th>\n",
       "      <th>Golden Retriever</th>\n",
       "      <th>Pekinese</th>\n",
       "      <th>doggo</th>\n",
       "      <td>40325</td>\n",
       "      <td>11878</td>\n",
       "    </tr>\n",
       "    <tr>\n",
       "      <th>Astrid</th>\n",
       "      <th>Staffordshire Bullterrier</th>\n",
       "      <th>American Staffordshire Terrier</th>\n",
       "      <th>Chesapeake Bay Retriever</th>\n",
       "      <th>doggo</th>\n",
       "      <td>38074</td>\n",
       "      <td>21412</td>\n",
       "    </tr>\n",
       "    <tr>\n",
       "      <th>Sebastian</th>\n",
       "      <th>Cardigan</th>\n",
       "      <th>Pembroke</th>\n",
       "      <th>Kelpie</th>\n",
       "      <th>puppo</th>\n",
       "      <td>35501</td>\n",
       "      <td>11007</td>\n",
       "    </tr>\n",
       "    <tr>\n",
       "      <th>Cassie</th>\n",
       "      <th>Pembroke</th>\n",
       "      <th>Cardigan</th>\n",
       "      <th>Chihuahua</th>\n",
       "      <th>doggo</th>\n",
       "      <td>32467</td>\n",
       "      <td>7711</td>\n",
       "    </tr>\n",
       "    <tr>\n",
       "      <th>Gabe</th>\n",
       "      <th>Pomeranian</th>\n",
       "      <th>Samoyed</th>\n",
       "      <th>Maltese Dog</th>\n",
       "      <th>pupper</th>\n",
       "      <td>31800</td>\n",
       "      <td>17209</td>\n",
       "    </tr>\n",
       "    <tr>\n",
       "      <th>Gus</th>\n",
       "      <th>Labrador Retriever</th>\n",
       "      <th>Chesapeake Bay Retriever</th>\n",
       "      <th>Flat-Coated Retriever</th>\n",
       "      <th>pupper</th>\n",
       "      <td>28903</td>\n",
       "      <td>5134</td>\n",
       "    </tr>\n",
       "    <tr>\n",
       "      <th>Jed</th>\n",
       "      <th>Cocker Spaniel</th>\n",
       "      <th>Miniature Poodle</th>\n",
       "      <th>Toy Poodle</th>\n",
       "      <th>pupper</th>\n",
       "      <td>26651</td>\n",
       "      <td>4308</td>\n",
       "    </tr>\n",
       "    <tr>\n",
       "      <th>Emanuel</th>\n",
       "      <th>Pomeranian</th>\n",
       "      <th>Marmot</th>\n",
       "      <th>Grey Fox</th>\n",
       "      <th>doggo</th>\n",
       "      <td>26404</td>\n",
       "      <td>7031</td>\n",
       "    </tr>\n",
       "    <tr>\n",
       "      <th>Pickles</th>\n",
       "      <th>Irish Water Spaniel</th>\n",
       "      <th>Labrador Retriever</th>\n",
       "      <th>Curly-Coated Retriever</th>\n",
       "      <th>pupper</th>\n",
       "      <td>25225</td>\n",
       "      <td>6039</td>\n",
       "    </tr>\n",
       "    <tr>\n",
       "      <th>Chelsea</th>\n",
       "      <th>Norwegian Elkhound</th>\n",
       "      <th>Chesapeake Bay Retriever</th>\n",
       "      <th>Malamute</th>\n",
       "      <th>pupper</th>\n",
       "      <td>24553</td>\n",
       "      <td>14252</td>\n",
       "    </tr>\n",
       "    <tr>\n",
       "      <th>Loki</th>\n",
       "      <th>Golden Retriever</th>\n",
       "      <th>Labrador Retriever</th>\n",
       "      <th>Tennis Ball</th>\n",
       "      <th>doggo</th>\n",
       "      <td>23767</td>\n",
       "      <td>11514</td>\n",
       "    </tr>\n",
       "    <tr>\n",
       "      <th>Craig</th>\n",
       "      <th>Pembroke</th>\n",
       "      <th>Cardigan</th>\n",
       "      <th>Beagle</th>\n",
       "      <th>pupper</th>\n",
       "      <td>23302</td>\n",
       "      <td>7444</td>\n",
       "    </tr>\n",
       "    <tr>\n",
       "      <th>Grizzwald</th>\n",
       "      <th>Chow</th>\n",
       "      <th>Tibetan Mastiff</th>\n",
       "      <th>Newfoundland</th>\n",
       "      <th>floofer</th>\n",
       "      <td>22986</td>\n",
       "      <td>3825</td>\n",
       "    </tr>\n",
       "    <tr>\n",
       "      <th>Kona</th>\n",
       "      <th>German Shepherd</th>\n",
       "      <th>Tibetan Mastiff</th>\n",
       "      <th>Kelpie</th>\n",
       "      <th>pupper</th>\n",
       "      <td>22180</td>\n",
       "      <td>5987</td>\n",
       "    </tr>\n",
       "    <tr>\n",
       "      <th>Gidget</th>\n",
       "      <th>Cardigan</th>\n",
       "      <th>Kelpie</th>\n",
       "      <th>Shopping Cart</th>\n",
       "      <th>pupper</th>\n",
       "      <td>22133</td>\n",
       "      <td>5513</td>\n",
       "    </tr>\n",
       "    <tr>\n",
       "      <th>Boomer</th>\n",
       "      <th>Shetland Sheepdog</th>\n",
       "      <th>Collie</th>\n",
       "      <th>Pembroke</th>\n",
       "      <th>pupper</th>\n",
       "      <td>21944</td>\n",
       "      <td>5459</td>\n",
       "    </tr>\n",
       "  </tbody>\n",
       "</table>\n",
       "</div>"
      ],
      "text/plain": [
       "                                                                                                       favorite_count  \\\n",
       "name      first_prediction          second_prediction              third_prediction         dog_stage                   \n",
       "Jamesy    French Bulldog            Boston Bull                    Pug                      pupper             106827   \n",
       "Bo        Standard Poodle           Toy Poodle                     Tibetan Terrier          doggo               95450   \n",
       "Sunny     Prison                    Palace                         Umbrella                 doggo               49960   \n",
       "Barney    Golden Retriever          Leonberg                       Norfolk Terrier          doggo               48410   \n",
       "Cupid     Great Pyrenees            Golden Retriever               Pekinese                 doggo               40325   \n",
       "Astrid    Staffordshire Bullterrier American Staffordshire Terrier Chesapeake Bay Retriever doggo               38074   \n",
       "Sebastian Cardigan                  Pembroke                       Kelpie                   puppo               35501   \n",
       "Cassie    Pembroke                  Cardigan                       Chihuahua                doggo               32467   \n",
       "Gabe      Pomeranian                Samoyed                        Maltese Dog              pupper              31800   \n",
       "Gus       Labrador Retriever        Chesapeake Bay Retriever       Flat-Coated Retriever    pupper              28903   \n",
       "Jed       Cocker Spaniel            Miniature Poodle               Toy Poodle               pupper              26651   \n",
       "Emanuel   Pomeranian                Marmot                         Grey Fox                 doggo               26404   \n",
       "Pickles   Irish Water Spaniel       Labrador Retriever             Curly-Coated Retriever   pupper              25225   \n",
       "Chelsea   Norwegian Elkhound        Chesapeake Bay Retriever       Malamute                 pupper              24553   \n",
       "Loki      Golden Retriever          Labrador Retriever             Tennis Ball              doggo               23767   \n",
       "Craig     Pembroke                  Cardigan                       Beagle                   pupper              23302   \n",
       "Grizzwald Chow                      Tibetan Mastiff                Newfoundland             floofer             22986   \n",
       "Kona      German Shepherd           Tibetan Mastiff                Kelpie                   pupper              22180   \n",
       "Gidget    Cardigan                  Kelpie                         Shopping Cart            pupper              22133   \n",
       "Boomer    Shetland Sheepdog         Collie                         Pembroke                 pupper              21944   \n",
       "\n",
       "                                                                                                       retweet_count  \n",
       "name      first_prediction          second_prediction              third_prediction         dog_stage                 \n",
       "Jamesy    French Bulldog            Boston Bull                    Pug                      pupper             32883  \n",
       "Bo        Standard Poodle           Toy Poodle                     Tibetan Terrier          doggo              84456  \n",
       "Sunny     Prison                    Palace                         Umbrella                 doggo              43588  \n",
       "Barney    Golden Retriever          Leonberg                       Norfolk Terrier          doggo              13076  \n",
       "Cupid     Great Pyrenees            Golden Retriever               Pekinese                 doggo              11878  \n",
       "Astrid    Staffordshire Bullterrier American Staffordshire Terrier Chesapeake Bay Retriever doggo              21412  \n",
       "Sebastian Cardigan                  Pembroke                       Kelpie                   puppo              11007  \n",
       "Cassie    Pembroke                  Cardigan                       Chihuahua                doggo               7711  \n",
       "Gabe      Pomeranian                Samoyed                        Maltese Dog              pupper             17209  \n",
       "Gus       Labrador Retriever        Chesapeake Bay Retriever       Flat-Coated Retriever    pupper              5134  \n",
       "Jed       Cocker Spaniel            Miniature Poodle               Toy Poodle               pupper              4308  \n",
       "Emanuel   Pomeranian                Marmot                         Grey Fox                 doggo               7031  \n",
       "Pickles   Irish Water Spaniel       Labrador Retriever             Curly-Coated Retriever   pupper              6039  \n",
       "Chelsea   Norwegian Elkhound        Chesapeake Bay Retriever       Malamute                 pupper             14252  \n",
       "Loki      Golden Retriever          Labrador Retriever             Tennis Ball              doggo              11514  \n",
       "Craig     Pembroke                  Cardigan                       Beagle                   pupper              7444  \n",
       "Grizzwald Chow                      Tibetan Mastiff                Newfoundland             floofer             3825  \n",
       "Kona      German Shepherd           Tibetan Mastiff                Kelpie                   pupper              5987  \n",
       "Gidget    Cardigan                  Kelpie                         Shopping Cart            pupper              5513  \n",
       "Boomer    Shetland Sheepdog         Collie                         Pembroke                 pupper              5459  "
      ]
     },
     "execution_count": 61,
     "metadata": {},
     "output_type": "execute_result"
    }
   ],
   "source": [
    "# most liked and retweeted dog with its breed \n",
    "df.groupby(['name', 'first_prediction', 'second_prediction', 'third_prediction', 'dog_stage'])[['favorite_count',\n",
    "                        'retweet_count']].sum().sort_values(by = ['favorite_count', 'retweet_count'], ascending = False)[:20]"
   ]
  },
  {
   "cell_type": "code",
   "execution_count": 62,
   "metadata": {},
   "outputs": [
    {
     "data": {
      "text/plain": [
       "dog_stage\n",
       "doggo      7901.552239\n",
       "puppo      6431.434783\n",
       "floofer    4968.714286\n",
       "pupper     2468.209524\n",
       "Name: retweet_count, dtype: float64"
      ]
     },
     "execution_count": 62,
     "metadata": {},
     "output_type": "execute_result"
    }
   ],
   "source": [
    "# popular dog stages\n",
    "encap  = df.query('dog_stage==\"pupper\" or dog_stage==\"doggo\" or dog_stage==\"puppo\" or dog_stage==\"floofer\"')\n",
    "encap.groupby('dog_stage')[\n",
    "                        'retweet_count'].mean().sort_values(ascending = False)"
   ]
  },
  {
   "cell_type": "code",
   "execution_count": 63,
   "metadata": {},
   "outputs": [
    {
     "data": {
      "text/plain": [
       "name\n",
       "Atticus    1787\n",
       "Charlie     128\n",
       "Tucker      121\n",
       "Lucy        114\n",
       "Oliver      113\n",
       "Cooper      113\n",
       "Penny       106\n",
       "Bo           98\n",
       "Lola         86\n",
       "Winston      84\n",
       "Daisy        83\n",
       "Sadie        82\n",
       "Logan        75\n",
       "Toby         74\n",
       "Koda         70\n",
       "the          70\n",
       "Rusty        69\n",
       "Milo         69\n",
       "Stanley      68\n",
       "Bailey       67\n",
       "Name: rating_numerator, dtype: int64"
      ]
     },
     "execution_count": 63,
     "metadata": {},
     "output_type": "execute_result"
    }
   ],
   "source": [
    "# dog with high ratings(best boy or girl)\n",
    "df.groupby('name')['rating_numerator'].sum().sort_values(ascending = False)[:20]"
   ]
  },
  {
   "cell_type": "code",
   "execution_count": 64,
   "metadata": {},
   "outputs": [
    {
     "data": {
      "text/plain": [
       "first_prediction\n",
       "Golden Retriever             1690\n",
       "Labrador Retriever           1080\n",
       "Pembroke                     1007\n",
       "Chihuahua                     897\n",
       "Pug                           588\n",
       "Chow                          512\n",
       "Samoyed                       503\n",
       "Pomeranian                    489\n",
       "Toy Poodle                    434\n",
       "Microphone                    420\n",
       "Cocker Spaniel                342\n",
       "Malamute                      327\n",
       "French Bulldog                293\n",
       "Chesapeake Bay Retriever      248\n",
       "Miniature Pinscher            245\n",
       "Web Site                      224\n",
       "German Shepherd               220\n",
       "Cardigan                      219\n",
       "Staffordshire Bullterrier     216\n",
       "Name: rating_numerator, dtype: int64"
      ]
     },
     "execution_count": 64,
     "metadata": {},
     "output_type": "execute_result"
    }
   ],
   "source": [
    "# dog breeds with high ratings\n",
    "df.groupby('first_prediction')['rating_numerator'].sum().sort_values(ascending = False)[1:20]"
   ]
  },
  {
   "cell_type": "code",
   "execution_count": 65,
   "metadata": {},
   "outputs": [
    {
     "data": {
      "text/html": [
       "<div>\n",
       "<style scoped>\n",
       "    .dataframe tbody tr th:only-of-type {\n",
       "        vertical-align: middle;\n",
       "    }\n",
       "\n",
       "    .dataframe tbody tr th {\n",
       "        vertical-align: top;\n",
       "    }\n",
       "\n",
       "    .dataframe thead th {\n",
       "        text-align: right;\n",
       "    }\n",
       "</style>\n",
       "<table border=\"1\" class=\"dataframe\">\n",
       "  <thead>\n",
       "    <tr style=\"text-align: right;\">\n",
       "      <th></th>\n",
       "      <th>first_prediction</th>\n",
       "    </tr>\n",
       "  </thead>\n",
       "  <tbody>\n",
       "    <tr>\n",
       "      <th>249</th>\n",
       "      <td>Swing</td>\n",
       "    </tr>\n",
       "    <tr>\n",
       "      <th>613</th>\n",
       "      <td>Afghan Hound</td>\n",
       "    </tr>\n",
       "    <tr>\n",
       "      <th>829</th>\n",
       "      <td>Traffic Light</td>\n",
       "    </tr>\n",
       "    <tr>\n",
       "      <th>985</th>\n",
       "      <td>Chihuahua</td>\n",
       "    </tr>\n",
       "    <tr>\n",
       "      <th>1034</th>\n",
       "      <td>Leatherback Turtle</td>\n",
       "    </tr>\n",
       "    <tr>\n",
       "      <th>1088</th>\n",
       "      <td>Wild Boar</td>\n",
       "    </tr>\n",
       "    <tr>\n",
       "      <th>1172</th>\n",
       "      <td>Mousetrap</td>\n",
       "    </tr>\n",
       "    <tr>\n",
       "      <th>1232</th>\n",
       "      <td>Dining Table</td>\n",
       "    </tr>\n",
       "    <tr>\n",
       "      <th>1338</th>\n",
       "      <td>Damselfly</td>\n",
       "    </tr>\n",
       "    <tr>\n",
       "      <th>1417</th>\n",
       "      <td>Frilled Lizard</td>\n",
       "    </tr>\n",
       "    <tr>\n",
       "      <th>1481</th>\n",
       "      <td>Maze</td>\n",
       "    </tr>\n",
       "    <tr>\n",
       "      <th>1484</th>\n",
       "      <td>Maltese Dog</td>\n",
       "    </tr>\n",
       "    <tr>\n",
       "      <th>1548</th>\n",
       "      <td>Walking Stick</td>\n",
       "    </tr>\n",
       "    <tr>\n",
       "      <th>1579</th>\n",
       "      <td>Paper Towel</td>\n",
       "    </tr>\n",
       "    <tr>\n",
       "      <th>1607</th>\n",
       "      <td>Tick</td>\n",
       "    </tr>\n",
       "    <tr>\n",
       "      <th>1626</th>\n",
       "      <td>Slug</td>\n",
       "    </tr>\n",
       "    <tr>\n",
       "      <th>1634</th>\n",
       "      <td>Robin</td>\n",
       "    </tr>\n",
       "    <tr>\n",
       "      <th>1644</th>\n",
       "      <td>Toilet Seat</td>\n",
       "    </tr>\n",
       "    <tr>\n",
       "      <th>1652</th>\n",
       "      <td>Water Bottle</td>\n",
       "    </tr>\n",
       "    <tr>\n",
       "      <th>1783</th>\n",
       "      <td>Scorpion</td>\n",
       "    </tr>\n",
       "    <tr>\n",
       "      <th>1795</th>\n",
       "      <td>Lacewing</td>\n",
       "    </tr>\n",
       "    <tr>\n",
       "      <th>1840</th>\n",
       "      <td>Snail</td>\n",
       "    </tr>\n",
       "    <tr>\n",
       "      <th>1886</th>\n",
       "      <td>Pug</td>\n",
       "    </tr>\n",
       "    <tr>\n",
       "      <th>1904</th>\n",
       "      <td>Common Iguana</td>\n",
       "    </tr>\n",
       "    <tr>\n",
       "      <th>1938</th>\n",
       "      <td>Angora</td>\n",
       "    </tr>\n",
       "    <tr>\n",
       "      <th>1940</th>\n",
       "      <td>Hamster</td>\n",
       "    </tr>\n",
       "    <tr>\n",
       "      <th>1947</th>\n",
       "      <td>Seat Belt</td>\n",
       "    </tr>\n",
       "    <tr>\n",
       "      <th>1962</th>\n",
       "      <td>Electric Fan</td>\n",
       "    </tr>\n",
       "    <tr>\n",
       "      <th>2005</th>\n",
       "      <td>Triceratops</td>\n",
       "    </tr>\n",
       "    <tr>\n",
       "      <th>2010</th>\n",
       "      <td>Snail</td>\n",
       "    </tr>\n",
       "    <tr>\n",
       "      <th>2026</th>\n",
       "      <td>Coho</td>\n",
       "    </tr>\n",
       "    <tr>\n",
       "      <th>2034</th>\n",
       "      <td>Three-Toed Sloth</td>\n",
       "    </tr>\n",
       "    <tr>\n",
       "      <th>2037</th>\n",
       "      <td>Hen</td>\n",
       "    </tr>\n",
       "    <tr>\n",
       "      <th>2048</th>\n",
       "      <td>Box Turtle</td>\n",
       "    </tr>\n",
       "  </tbody>\n",
       "</table>\n",
       "</div>"
      ],
      "text/plain": [
       "        first_prediction\n",
       "249                Swing\n",
       "613         Afghan Hound\n",
       "829        Traffic Light\n",
       "985            Chihuahua\n",
       "1034  Leatherback Turtle\n",
       "1088           Wild Boar\n",
       "1172           Mousetrap\n",
       "1232        Dining Table\n",
       "1338           Damselfly\n",
       "1417      Frilled Lizard\n",
       "1481                Maze\n",
       "1484         Maltese Dog\n",
       "1548       Walking Stick\n",
       "1579         Paper Towel\n",
       "1607                Tick\n",
       "1626                Slug\n",
       "1634               Robin\n",
       "1644         Toilet Seat\n",
       "1652        Water Bottle\n",
       "1783            Scorpion\n",
       "1795            Lacewing\n",
       "1840               Snail\n",
       "1886                 Pug\n",
       "1904       Common Iguana\n",
       "1938              Angora\n",
       "1940             Hamster\n",
       "1947           Seat Belt\n",
       "1962        Electric Fan\n",
       "2005         Triceratops\n",
       "2010               Snail\n",
       "2026                Coho\n",
       "2034    Three-Toed Sloth\n",
       "2037                 Hen\n",
       "2048          Box Turtle"
      ]
     },
     "execution_count": 65,
     "metadata": {},
     "output_type": "execute_result"
    }
   ],
   "source": [
    "# dog breeds with low ratings\n",
    "df.loc[df['rating_numerator'] <= 3, ['first_prediction']]"
   ]
  },
  {
   "cell_type": "code",
   "execution_count": 66,
   "metadata": {},
   "outputs": [
    {
     "data": {
      "text/plain": [
       "name     first_prediction\n",
       "Stephan  Chihuahua           56625.0\n",
       "Duddles  English Springer    45849.0\n",
       "Bo       Standard Poodle     42228.0\n",
       "Jamesy   French Bulldog      32883.0\n",
       "Kenneth  Bubble              31989.0\n",
       "Name: retweet_count, dtype: float64"
      ]
     },
     "execution_count": 66,
     "metadata": {},
     "output_type": "execute_result"
    }
   ],
   "source": [
    "# top breed of dog that got highest average retweet\n",
    "df.groupby(['name', 'first_prediction'])['retweet_count'].mean().sort_values(ascending = False)[:5]"
   ]
  },
  {
   "cell_type": "code",
   "execution_count": 67,
   "metadata": {},
   "outputs": [
    {
     "data": {
      "text/plain": [
       "dog_stage\n",
       "doggo      7901.552239\n",
       "puppo      6431.434783\n",
       "floofer    4968.714286\n",
       "pupper     2468.209524\n",
       "Name: retweet_count, dtype: float64"
      ]
     },
     "execution_count": 67,
     "metadata": {},
     "output_type": "execute_result"
    }
   ],
   "source": [
    "# average retweet count by dog stage\n",
    "df_dog_stage = df.query('dog_stage==\"pupper\" or dog_stage==\"doggo\" or dog_stage==\"puppo\" or dog_stage==\"floofer\"')\n",
    "df_dog_stage.groupby('dog_stage')['retweet_count'].mean().sort_values(ascending = False)[:5]"
   ]
  },
  {
   "cell_type": "code",
   "execution_count": 68,
   "metadata": {},
   "outputs": [
    {
     "data": {
      "text/html": [
       "<div>\n",
       "<style scoped>\n",
       "    .dataframe tbody tr th:only-of-type {\n",
       "        vertical-align: middle;\n",
       "    }\n",
       "\n",
       "    .dataframe tbody tr th {\n",
       "        vertical-align: top;\n",
       "    }\n",
       "\n",
       "    .dataframe thead th {\n",
       "        text-align: right;\n",
       "    }\n",
       "</style>\n",
       "<table border=\"1\" class=\"dataframe\">\n",
       "  <thead>\n",
       "    <tr style=\"text-align: right;\">\n",
       "      <th></th>\n",
       "      <th>rating_numerator</th>\n",
       "    </tr>\n",
       "    <tr>\n",
       "      <th>first_prediction</th>\n",
       "      <th></th>\n",
       "    </tr>\n",
       "  </thead>\n",
       "  <tbody>\n",
       "    <tr>\n",
       "      <th>Welsh Springer Spaniel</th>\n",
       "      <td>8</td>\n",
       "    </tr>\n",
       "  </tbody>\n",
       "</table>\n",
       "</div>"
      ],
      "text/plain": [
       "                        rating_numerator\n",
       "first_prediction                        \n",
       "Welsh Springer Spaniel                 8"
      ]
     },
     "execution_count": 68,
     "metadata": {},
     "output_type": "execute_result"
    }
   ],
   "source": [
    "# first dog to feature on WeRateDog(breed, etc, )\n",
    "\n",
    "df['timestamp'] = pd.to_datetime(df['timestamp'])\n",
    "\n",
    "early = df.loc[df['timestamp'] == df['timestamp'].min(), :]\n",
    "early.groupby('first_prediction')[['timestamp', 'rating_numerator']].sum()"
   ]
  },
  {
   "cell_type": "code",
   "execution_count": 69,
   "metadata": {},
   "outputs": [
    {
     "data": {
      "text/plain": [
       "year  day      \n",
       "2016  Monday       168\n",
       "      Tuesday      155\n",
       "      Wednesday    153\n",
       "      Friday       142\n",
       "      Thursday     137\n",
       "      Saturday     132\n",
       "      Sunday       121\n",
       "2015  Monday       110\n",
       "      Thursday     100\n",
       "      Tuesday       96\n",
       "      Wednesday     95\n",
       "      Sunday        93\n",
       "      Friday        85\n",
       "      Saturday      83\n",
       "2017  Friday        64\n",
       "      Wednesday     63\n",
       "      Monday        58\n",
       "      Tuesday       58\n",
       "      Thursday      52\n",
       "      Saturday      47\n",
       "      Sunday        43\n",
       "Name: tweet_id, dtype: int64"
      ]
     },
     "execution_count": 69,
     "metadata": {},
     "output_type": "execute_result"
    }
   ],
   "source": [
    "# most day of the week a dog is rated\n",
    "df.groupby(['year','day'])['tweet_id'].count().sort_values(ascending = False)"
   ]
  },
  {
   "cell_type": "markdown",
   "metadata": {},
   "source": [
    "### Insights: After gathering, assessing, cleaning and exploring the data, I have come to a conclusion.\n",
    "1. The Dog breed with highest total rating, total likes and total retweet count on the WeRateDogs profile is Golden Retriever. From the analysis of the dataset, it is concluded that Golden Retrievers are one of the most popular breed of dogs, followed by Labrador Retriever and Pembroke. This could be due to the fact that they are hardworking, great therapy dogs and they are the cutest, in my opinion.\n",
    " \n",
    "2. The first dog to ever feature on the WeRateDogs profile according to the gathered dataset is a Welsh Springer Spaniel, thsis dog was introduced to us on 15th of November 2015, although no further information like its name and dog stage was provided in the dataset but we know he or she is a good dog with an amazing rating of 8 out of 10.\n",
    " \n",
    "3. 2016 was the busiest year for WeRateDogs and Mondays seem to be the day that dogs are rated the most, possibly to stimulate humans serotonin on the first day of a week. We all know Monday can be a challenging day for most people but after seeing cute and happy faces of dogs, that can put a little smile on our faces.\n",
    "\n",
    "4. Although there wasn't enough data on the breed of the dog but with the data provided, I was able to analyze the dog breeds with low ratings(3/10 and below), these particular breeds are not bad or anything, they are just unpopular among other dog breeds and probably humans. The breeds are: Afghan Hound, Chihuahua and Maltese Dog.\n",
    "\n",
    "5. Now on to the most popular dogs also known as our best boys and girls, based on number of likes and retweet. The list of the top 10 dogs are as follows: \n",
    "* Jamesy, a French Bulldog who is a pupper\n",
    "* Bo, a Standard Poodle who is a doggo\n",
    "* Sunny, a doggo\n",
    "* Barney, a Golden Retriever who is a doggo\n",
    "* Cupid, a Great Pyrenees who is a doggo\n",
    "* Astrid, a Staffordshire Bullterrier who is a doggo\n",
    "* Sebastian, a Pembroke who is a puppo\n",
    "* Cassie, a pembroke who is a doggo\n",
    "* Gabe, a Pomeranian who is a pupper\n",
    "* Gus, a Labrador Retriever who is a pupper\n"
   ]
  },
  {
   "cell_type": "markdown",
   "metadata": {},
   "source": [
    "### Visualization"
   ]
  },
  {
   "cell_type": "markdown",
   "metadata": {},
   "source": [
    "To see a pictorial representaion of some of the codes above, I have put together some charts to help understand some of the insights made."
   ]
  },
  {
   "cell_type": "code",
   "execution_count": 70,
   "metadata": {},
   "outputs": [],
   "source": [
    "import matplotlib.pyplot as plt\n",
    "import seaborn as sns\n",
    "%matplotlib inline"
   ]
  },
  {
   "cell_type": "markdown",
   "metadata": {},
   "source": [
    "#### The chart below shows top 10 popular dog breeds in the dataset, it also shows the great difference between likes and retweet"
   ]
  },
  {
   "cell_type": "code",
   "execution_count": 71,
   "metadata": {},
   "outputs": [
    {
     "data": {
      "image/png": "[encoded data removed]",
      "text/plain": [
       "<Figure size 864x576 with 1 Axes>"
      ]
     },
     "metadata": {
      "needs_background": "light"
     },
     "output_type": "display_data"
    }
   ],
   "source": [
    "pop_dog = df.groupby('first_prediction')[['favorite_count', \n",
    "                                'retweet_count']].sum().sort_values(by = 'favorite_count', ascending = False)[:10]\n",
    "\n",
    "\n",
    "colors = ['#1f77b4', '#ff7f0e', '#2ca02c', '#d62728', '#9467bd',\n",
    "          '#8c564b', '#e377c2', '#7f7f7f', '#bcbd22', '#17becf']\n",
    "\n",
    "pop_dog.plot(kind = 'bar', color = ['steelblue', 'green'],\n",
    "             edgecolor='black', linewidth=1.0, alpha=.7, figsize = (12,8))\n",
    "plt.xlabel('Dog Breed', fontsize = 18)\n",
    "plt.ylabel('Number of Likes and Retweet', fontsize = 18)\n",
    "plt.title(\"Most Popular Dog Breed by Total Tweet Likes\", fontsize = 18);"
   ]
  },
  {
   "cell_type": "code",
   "execution_count": 72,
   "metadata": {},
   "outputs": [
    {
     "data": {
      "image/png": "[encoded data removed]",
      "text/plain": [
       "<Figure size 864x576 with 1 Axes>"
      ]
     },
     "metadata": {
      "needs_background": "light"
     },
     "output_type": "display_data"
    }
   ],
   "source": [
    "# popular dog on WeRateDogs based on likes\n",
    "dog = df.groupby('name')[['favorite_count',\n",
    "                        'retweet_count']].sum().sort_values(by = ['favorite_count', 'retweet_count'], ascending = False)[:10]\n",
    "dog.plot(kind = 'bar', color = ['teal', 'yellow'],\n",
    "             edgecolor='black', linewidth=1.0, alpha=.7, figsize = (12,8))\n",
    "plt.xlabel('Good Boys and Girls', fontsize = 18)\n",
    "plt.ylabel('Number of Retweet(Fans)', fontsize = 18)\n",
    "plt.title(\"Our Best Boy or Girl Based on Number of Retweet\", fontsize = 18);"
   ]
  },
  {
   "cell_type": "code",
   "execution_count": 73,
   "metadata": {},
   "outputs": [
    {
     "data": {
      "image/png": "[encoded data removed]",
      "text/plain": [
       "<Figure size 864x576 with 1 Axes>"
      ]
     },
     "metadata": {
      "needs_background": "light"
     },
     "output_type": "display_data"
    }
   ],
   "source": [
    "# popular dog stage \n",
    "stage = df_dog_stage.groupby('dog_stage')['retweet_count'].sum().sort_values(ascending = False)[:5]\n",
    "\n",
    "stage.plot(kind = 'bar', color = ['cyan'],\n",
    "             edgecolor='black', linewidth=1.0, alpha=.7, figsize = (12,8))\n",
    "plt.xlabel('Dog Stage', fontsize = 18)\n",
    "plt.ylabel('Average Retweet(Fans)', fontsize = 18)\n",
    "plt.title(\"Favourite Dog Stage Based on Average of Retweet\", fontsize = 18);"
   ]
  },
  {
   "cell_type": "markdown",
   "metadata": {},
   "source": [
    "#### The chart below shows the number of dogs that have been rated on a particular day of the week with the popular days being Monday and Friday"
   ]
  },
  {
   "cell_type": "code",
   "execution_count": 74,
   "metadata": {},
   "outputs": [
    {
     "data": {
      "image/png": "[encoded data removed]",
      "text/plain": [
       "<Figure size 864x576 with 1 Axes>"
      ]
     },
     "metadata": {
      "needs_background": "light"
     },
     "output_type": "display_data"
    }
   ],
   "source": [
    "timeline = df.groupby('day')['tweet_id'].count()\n",
    "\n",
    "timeline.plot(color = 'green', figsize = (12,8))\n",
    "plt.xlabel('Days of Week', fontsize = 18)\n",
    "plt.ylabel('Number of Tweets', fontsize = 18)\n",
    "plt.title('Total Number of Tweets Per Day', fontsize = 18)\n",
    "plt.legend();"
   ]
  },
  {
   "cell_type": "code",
   "execution_count": null,
   "metadata": {},
   "outputs": [],
   "source": []
  }
 ],
 "metadata": {
  "extensions": {
   "jupyter_dashboards": {
    "activeView": "report_default",
    "version": 1,
    "views": {
     "grid_default": {
      "cellMargin": 10,
      "defaultCellHeight": 20,
      "maxColumns": 12,
      "name": "grid",
      "type": "grid"
     },
     "report_default": {
      "name": "report",
      "type": "report"
     }
    }
   }
  },
  "kernelspec": {
   "display_name": "Python 3 (ipykernel)",
   "language": "python",
   "name": "python3"
  },
  "language_info": {
   "codemirror_mode": {
    "name": "ipython",
    "version": 3
   },
   "file_extension": ".py",
   "mimetype": "text/x-python",
   "name": "python",
   "nbconvert_exporter": "python",
   "pygments_lexer": "ipython3",
   "version": "3.9.12"
  }
 },
 "nbformat": 4,
 "nbformat_minor": 4
}
