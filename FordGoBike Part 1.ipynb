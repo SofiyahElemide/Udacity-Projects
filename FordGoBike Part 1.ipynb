{
 "cells": [
  {
   "cell_type": "markdown",
   "id": "30b2948e-ce07-4d19-a29a-339eae760a36",
   "metadata": {},
   "source": [
    "# Part I - Ford GoBike System Data\n",
    "## by Eniola Sofiyah Elemide\n",
    "\n",
    "## Introduction\n",
    "> The dataset contains information about **183412** ride details that occured in 2019, collected from Ford GoBike System. The dataset contains **16 columns** with gives the details about each ride. Each column is described below:\n",
    "    <ol>\n",
    "    <li><strong>duration_sec</strong>: Trip duration in seconds</li>\n",
    "    <li><strong>start_time</strong>: Time the trip started</li>\n",
    "    <li><strong>end_time</strong>: Time the trip ended</li> \n",
    "    <li><strong>start_station_id</strong>: Unique number assigned to the start station</li>\n",
    "    <li><strong>start_station_name</strong>: Name of the start station</li>\n",
    "    <li><strong>start_station_latitude</strong>: Latitude of start station</li>\n",
    "    <li><strong>start_station_longitude</strong>: Longitude of start station</li>\n",
    "    <li><strong>end_station_id</strong>: Unique number assigned to the end station</li>\n",
    "    <li><strong>end_station_name</strong>: Name of the end station</li>\n",
    "    <li><strong>end_station_latitude</strong>: Latitude of end station</li>\n",
    "    <li><strong>end_station_longitude</strong>: Longitude of end station</li>\n",
    "    <li><strong>bike_id</strong>: Unique number asigned to the bike used</li>\n",
    "    <li><strong>user_type</strong>: Whether user is a one off customer or a subscriber</li>\n",
    "    <li><strong>member_birth_year</strong>: User year of birth</li>\n",
    "    <li><strong>member_gender</strong>: User gender</li>\n",
    "    <li><strong>bike_share_for_all_trip</strong></li>\n",
    "    </ol>\n",
    "\n",
    "\n",
    "\n",
    "## Preliminary Wrangling\n",
    "I'll begin the exploration of a dataset containing duration and details for 183421 bike trips in the year 2019."
   ]
  },
  {
   "cell_type": "code",
   "execution_count": null,
   "id": "b40122ef-9028-40dd-b429-20e95d02c60a",
   "metadata": {},
   "outputs": [],
   "source": [
    "# import all packages and set plots to be embedded inline\n",
    "import pandas as pd\n",
    "import numpy as np\n",
    "import matplotlib.pyplot as plt\n",
    "import seaborn as sb\n",
    "\n",
    "%matplotlib inline"
   ]
  },
  {
   "cell_type": "code",
   "execution_count": null,
   "id": "b4d2b201-d303-4005-abfe-05da2877d6aa",
   "metadata": {},
   "outputs": [],
   "source": [
    "# load the dataset into a dataframe\n",
    "bike = pd.read_csv('201902-fordgobike-tripdata.csv')\n",
    "\n",
    "# check if the data is properly loaded\n",
    "bike.head()"
   ]
  },
  {
   "cell_type": "code",
   "execution_count": null,
   "id": "5b27b5d0-0bbc-40d1-9cec-bbc060af8718",
   "metadata": {},
   "outputs": [],
   "source": [
    "# print the structure of the dataset\n",
    "print(bike.shape)\n",
    "# print the datatypes of the variables in the dataset\n",
    "print(bike.dtypes)"
   ]
  },
  {
   "cell_type": "code",
   "execution_count": null,
   "id": "f82a6e16-d7c7-4afa-8c28-6c239059ef14",
   "metadata": {},
   "outputs": [],
   "source": [
    "# check for duplicated rows\n",
    "bike.duplicated().sum()"
   ]
  },
  {
   "cell_type": "code",
   "execution_count": null,
   "id": "94e9c573-acd8-45a0-8296-7dadab343649",
   "metadata": {},
   "outputs": [],
   "source": [
    "# check the statistical summary of the data\n",
    "bike.describe()"
   ]
  },
  {
   "cell_type": "code",
   "execution_count": null,
   "id": "c30295dc-b359-4682-a44b-e15a1a3b9601",
   "metadata": {},
   "outputs": [],
   "source": []
  },
  {
   "cell_type": "code",
   "execution_count": null,
   "id": "be50f6a5-be99-447e-8f78-bf2bc81f2685",
   "metadata": {},
   "outputs": [],
   "source": []
  },
  {
   "cell_type": "code",
   "execution_count": null,
   "id": "9bc1aa11-9a67-49e2-a220-8aae2dfcf1c6",
   "metadata": {},
   "outputs": [],
   "source": []
  }
 ],
 "metadata": {
  "kernelspec": {
   "display_name": "Python 3 (ipykernel)",
   "language": "python",
   "name": "python3"
  },
  "language_info": {
   "codemirror_mode": {
    "name": "ipython",
    "version": 3
   },
   "file_extension": ".py",
   "mimetype": "text/x-python",
   "name": "python",
   "nbconvert_exporter": "python",
   "pygments_lexer": "ipython3",
   "version": "3.9.12"
  }
 },
 "nbformat": 4,
 "nbformat_minor": 5
}
