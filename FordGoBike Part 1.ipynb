{
 "cells": [
  {
   "cell_type": "markdown",
   "id": "30b2948e-ce07-4d19-a29a-339eae760a36",
   "metadata": {},
   "source": [
    "# Part I - Ford GoBike System Data\n",
    "## by Eniola Sofiyah Elemide\n",
    "\n",
    "## Introduction\n",
    "> The dataset contains information about **183412** ride details that occured in 2019, collected from Ford GoBike System. The dataset contains **16 columns** with gives the details about each ride. Each column is described below:\n",
    "    <ol>\n",
    "    <li><strong>duration_sec</strong>: Trip duration in seconds</li>\n",
    "    <li><strong>start_time</strong>: Time the trip started</li>\n",
    "    <li><strong>end_time</strong>: Time the trip ended</li> \n",
    "    <li><strong>start_station_id</strong>: Unique number assigned to the start station</li>\n",
    "    <li><strong>start_station_name</strong>: Name of the start station</li>\n",
    "    <li><strong>start_station_latitude</strong>: Latitude of start station</li>\n",
    "    <li><strong>start_station_longitude</strong>: Longitude of start station</li>\n",
    "    <li><strong>end_station_id</strong>: Unique number assigned to the end station</li>\n",
    "    <li><strong>end_station_name</strong>: Name of the end station</li>\n",
    "    <li><strong>end_station_latitude</strong>: Latitude of end station</li>\n",
    "    <li><strong>end_station_longitude</strong>: Longitude of end station</li>\n",
    "    <li><strong>bike_id</strong>: Unique number asigned to the bike used</li>\n",
    "    <li><strong>user_type</strong>: Whether user is a one off customer or a subscriber</li>\n",
    "    <li><strong>member_birth_year</strong>: User year of birth</li>\n",
    "    <li><strong>member_gender</strong>: User gender</li>\n",
    "    <li><strong>bike_share_for_all_trip</strong></li>\n",
    "    </ol>\n",
    "\n",
    "\n",
    "\n",
    "## Preliminary Wrangling\n",
    "I'll begin the exploration of a dataset containing duration and details for 183421 bike trips in the year 2019."
   ]
  },
  {
   "cell_type": "code",
   "execution_count": 1,
   "id": "b40122ef-9028-40dd-b429-20e95d02c60a",
   "metadata": {},
   "outputs": [],
   "source": [
    "# import all packages and set plots to be embedded inline\n",
    "import pandas as pd\n",
    "import numpy as np\n",
    "import matplotlib.pyplot as plt\n",
    "import seaborn as sb\n",
    "\n",
    "%matplotlib inline"
   ]
  },
  {
   "cell_type": "code",
   "execution_count": 2,
   "id": "b4d2b201-d303-4005-abfe-05da2877d6aa",
   "metadata": {},
   "outputs": [
    {
     "data": {
      "text/html": [
       "<div>\n",
       "<style scoped>\n",
       "    .dataframe tbody tr th:only-of-type {\n",
       "        vertical-align: middle;\n",
       "    }\n",
       "\n",
       "    .dataframe tbody tr th {\n",
       "        vertical-align: top;\n",
       "    }\n",
       "\n",
       "    .dataframe thead th {\n",
       "        text-align: right;\n",
       "    }\n",
       "</style>\n",
       "<table border=\"1\" class=\"dataframe\">\n",
       "  <thead>\n",
       "    <tr style=\"text-align: right;\">\n",
       "      <th></th>\n",
       "      <th>duration_sec</th>\n",
       "      <th>start_time</th>\n",
       "      <th>end_time</th>\n",
       "      <th>start_station_id</th>\n",
       "      <th>start_station_name</th>\n",
       "      <th>start_station_latitude</th>\n",
       "      <th>start_station_longitude</th>\n",
       "      <th>end_station_id</th>\n",
       "      <th>end_station_name</th>\n",
       "      <th>end_station_latitude</th>\n",
       "      <th>end_station_longitude</th>\n",
       "      <th>bike_id</th>\n",
       "      <th>user_type</th>\n",
       "      <th>member_birth_year</th>\n",
       "      <th>member_gender</th>\n",
       "      <th>bike_share_for_all_trip</th>\n",
       "    </tr>\n",
       "  </thead>\n",
       "  <tbody>\n",
       "    <tr>\n",
       "      <th>0</th>\n",
       "      <td>52185</td>\n",
       "      <td>2019-02-28 17:32:10.1450</td>\n",
       "      <td>2019-03-01 08:01:55.9750</td>\n",
       "      <td>21.0</td>\n",
       "      <td>Montgomery St BART Station (Market St at 2nd St)</td>\n",
       "      <td>37.789625</td>\n",
       "      <td>-122.400811</td>\n",
       "      <td>13.0</td>\n",
       "      <td>Commercial St at Montgomery St</td>\n",
       "      <td>37.794231</td>\n",
       "      <td>-122.402923</td>\n",
       "      <td>4902</td>\n",
       "      <td>Customer</td>\n",
       "      <td>1984.0</td>\n",
       "      <td>Male</td>\n",
       "      <td>No</td>\n",
       "    </tr>\n",
       "    <tr>\n",
       "      <th>1</th>\n",
       "      <td>42521</td>\n",
       "      <td>2019-02-28 18:53:21.7890</td>\n",
       "      <td>2019-03-01 06:42:03.0560</td>\n",
       "      <td>23.0</td>\n",
       "      <td>The Embarcadero at Steuart St</td>\n",
       "      <td>37.791464</td>\n",
       "      <td>-122.391034</td>\n",
       "      <td>81.0</td>\n",
       "      <td>Berry St at 4th St</td>\n",
       "      <td>37.775880</td>\n",
       "      <td>-122.393170</td>\n",
       "      <td>2535</td>\n",
       "      <td>Customer</td>\n",
       "      <td>NaN</td>\n",
       "      <td>NaN</td>\n",
       "      <td>No</td>\n",
       "    </tr>\n",
       "    <tr>\n",
       "      <th>2</th>\n",
       "      <td>61854</td>\n",
       "      <td>2019-02-28 12:13:13.2180</td>\n",
       "      <td>2019-03-01 05:24:08.1460</td>\n",
       "      <td>86.0</td>\n",
       "      <td>Market St at Dolores St</td>\n",
       "      <td>37.769305</td>\n",
       "      <td>-122.426826</td>\n",
       "      <td>3.0</td>\n",
       "      <td>Powell St BART Station (Market St at 4th St)</td>\n",
       "      <td>37.786375</td>\n",
       "      <td>-122.404904</td>\n",
       "      <td>5905</td>\n",
       "      <td>Customer</td>\n",
       "      <td>1972.0</td>\n",
       "      <td>Male</td>\n",
       "      <td>No</td>\n",
       "    </tr>\n",
       "    <tr>\n",
       "      <th>3</th>\n",
       "      <td>36490</td>\n",
       "      <td>2019-02-28 17:54:26.0100</td>\n",
       "      <td>2019-03-01 04:02:36.8420</td>\n",
       "      <td>375.0</td>\n",
       "      <td>Grove St at Masonic Ave</td>\n",
       "      <td>37.774836</td>\n",
       "      <td>-122.446546</td>\n",
       "      <td>70.0</td>\n",
       "      <td>Central Ave at Fell St</td>\n",
       "      <td>37.773311</td>\n",
       "      <td>-122.444293</td>\n",
       "      <td>6638</td>\n",
       "      <td>Subscriber</td>\n",
       "      <td>1989.0</td>\n",
       "      <td>Other</td>\n",
       "      <td>No</td>\n",
       "    </tr>\n",
       "    <tr>\n",
       "      <th>4</th>\n",
       "      <td>1585</td>\n",
       "      <td>2019-02-28 23:54:18.5490</td>\n",
       "      <td>2019-03-01 00:20:44.0740</td>\n",
       "      <td>7.0</td>\n",
       "      <td>Frank H Ogawa Plaza</td>\n",
       "      <td>37.804562</td>\n",
       "      <td>-122.271738</td>\n",
       "      <td>222.0</td>\n",
       "      <td>10th Ave at E 15th St</td>\n",
       "      <td>37.792714</td>\n",
       "      <td>-122.248780</td>\n",
       "      <td>4898</td>\n",
       "      <td>Subscriber</td>\n",
       "      <td>1974.0</td>\n",
       "      <td>Male</td>\n",
       "      <td>Yes</td>\n",
       "    </tr>\n",
       "  </tbody>\n",
       "</table>\n",
       "</div>"
      ],
      "text/plain": [
       "   duration_sec                start_time                  end_time  \\\n",
       "0         52185  2019-02-28 17:32:10.1450  2019-03-01 08:01:55.9750   \n",
       "1         42521  2019-02-28 18:53:21.7890  2019-03-01 06:42:03.0560   \n",
       "2         61854  2019-02-28 12:13:13.2180  2019-03-01 05:24:08.1460   \n",
       "3         36490  2019-02-28 17:54:26.0100  2019-03-01 04:02:36.8420   \n",
       "4          1585  2019-02-28 23:54:18.5490  2019-03-01 00:20:44.0740   \n",
       "\n",
       "   start_station_id                                start_station_name  \\\n",
       "0              21.0  Montgomery St BART Station (Market St at 2nd St)   \n",
       "1              23.0                     The Embarcadero at Steuart St   \n",
       "2              86.0                           Market St at Dolores St   \n",
       "3             375.0                           Grove St at Masonic Ave   \n",
       "4               7.0                               Frank H Ogawa Plaza   \n",
       "\n",
       "   start_station_latitude  start_station_longitude  end_station_id  \\\n",
       "0               37.789625              -122.400811            13.0   \n",
       "1               37.791464              -122.391034            81.0   \n",
       "2               37.769305              -122.426826             3.0   \n",
       "3               37.774836              -122.446546            70.0   \n",
       "4               37.804562              -122.271738           222.0   \n",
       "\n",
       "                               end_station_name  end_station_latitude  \\\n",
       "0                Commercial St at Montgomery St             37.794231   \n",
       "1                            Berry St at 4th St             37.775880   \n",
       "2  Powell St BART Station (Market St at 4th St)             37.786375   \n",
       "3                        Central Ave at Fell St             37.773311   \n",
       "4                         10th Ave at E 15th St             37.792714   \n",
       "\n",
       "   end_station_longitude  bike_id   user_type  member_birth_year  \\\n",
       "0            -122.402923     4902    Customer             1984.0   \n",
       "1            -122.393170     2535    Customer                NaN   \n",
       "2            -122.404904     5905    Customer             1972.0   \n",
       "3            -122.444293     6638  Subscriber             1989.0   \n",
       "4            -122.248780     4898  Subscriber             1974.0   \n",
       "\n",
       "  member_gender bike_share_for_all_trip  \n",
       "0          Male                      No  \n",
       "1           NaN                      No  \n",
       "2          Male                      No  \n",
       "3         Other                      No  \n",
       "4          Male                     Yes  "
      ]
     },
     "execution_count": 2,
     "metadata": {},
     "output_type": "execute_result"
    }
   ],
   "source": [
    "# load the dataset into a dataframe\n",
    "bike = pd.read_csv('201902-fordgobike-tripdata.csv')\n",
    "\n",
    "# check if the data is properly loaded\n",
    "bike.head()"
   ]
  },
  {
   "cell_type": "code",
   "execution_count": 3,
   "id": "5b27b5d0-0bbc-40d1-9cec-bbc060af8718",
   "metadata": {},
   "outputs": [
    {
     "name": "stdout",
     "output_type": "stream",
     "text": [
      "(183412, 16)\n",
      "duration_sec                 int64\n",
      "start_time                  object\n",
      "end_time                    object\n",
      "start_station_id           float64\n",
      "start_station_name          object\n",
      "start_station_latitude     float64\n",
      "start_station_longitude    float64\n",
      "end_station_id             float64\n",
      "end_station_name            object\n",
      "end_station_latitude       float64\n",
      "end_station_longitude      float64\n",
      "bike_id                      int64\n",
      "user_type                   object\n",
      "member_birth_year          float64\n",
      "member_gender               object\n",
      "bike_share_for_all_trip     object\n",
      "dtype: object\n"
     ]
    }
   ],
   "source": [
    "# print the structure of the dataset\n",
    "print(bike.shape)\n",
    "# print the datatypes of the variables in the dataset\n",
    "print(bike.dtypes)"
   ]
  },
  {
   "cell_type": "code",
   "execution_count": 4,
   "id": "f82a6e16-d7c7-4afa-8c28-6c239059ef14",
   "metadata": {},
   "outputs": [
    {
     "data": {
      "text/plain": [
       "0"
      ]
     },
     "execution_count": 4,
     "metadata": {},
     "output_type": "execute_result"
    }
   ],
   "source": [
    "# check for duplicated rows\n",
    "bike.duplicated().sum()"
   ]
  },
  {
   "cell_type": "code",
   "execution_count": 5,
   "id": "94e9c573-acd8-45a0-8296-7dadab343649",
   "metadata": {},
   "outputs": [
    {
     "data": {
      "text/html": [
       "<div>\n",
       "<style scoped>\n",
       "    .dataframe tbody tr th:only-of-type {\n",
       "        vertical-align: middle;\n",
       "    }\n",
       "\n",
       "    .dataframe tbody tr th {\n",
       "        vertical-align: top;\n",
       "    }\n",
       "\n",
       "    .dataframe thead th {\n",
       "        text-align: right;\n",
       "    }\n",
       "</style>\n",
       "<table border=\"1\" class=\"dataframe\">\n",
       "  <thead>\n",
       "    <tr style=\"text-align: right;\">\n",
       "      <th></th>\n",
       "      <th>duration_sec</th>\n",
       "      <th>start_station_id</th>\n",
       "      <th>start_station_latitude</th>\n",
       "      <th>start_station_longitude</th>\n",
       "      <th>end_station_id</th>\n",
       "      <th>end_station_latitude</th>\n",
       "      <th>end_station_longitude</th>\n",
       "      <th>bike_id</th>\n",
       "      <th>member_birth_year</th>\n",
       "    </tr>\n",
       "  </thead>\n",
       "  <tbody>\n",
       "    <tr>\n",
       "      <th>count</th>\n",
       "      <td>183412.000000</td>\n",
       "      <td>183215.000000</td>\n",
       "      <td>183412.000000</td>\n",
       "      <td>183412.000000</td>\n",
       "      <td>183215.000000</td>\n",
       "      <td>183412.000000</td>\n",
       "      <td>183412.000000</td>\n",
       "      <td>183412.000000</td>\n",
       "      <td>175147.000000</td>\n",
       "    </tr>\n",
       "    <tr>\n",
       "      <th>mean</th>\n",
       "      <td>726.078435</td>\n",
       "      <td>138.590427</td>\n",
       "      <td>37.771223</td>\n",
       "      <td>-122.352664</td>\n",
       "      <td>136.249123</td>\n",
       "      <td>37.771427</td>\n",
       "      <td>-122.352250</td>\n",
       "      <td>4472.906375</td>\n",
       "      <td>1984.806437</td>\n",
       "    </tr>\n",
       "    <tr>\n",
       "      <th>std</th>\n",
       "      <td>1794.389780</td>\n",
       "      <td>111.778864</td>\n",
       "      <td>0.099581</td>\n",
       "      <td>0.117097</td>\n",
       "      <td>111.515131</td>\n",
       "      <td>0.099490</td>\n",
       "      <td>0.116673</td>\n",
       "      <td>1664.383394</td>\n",
       "      <td>10.116689</td>\n",
       "    </tr>\n",
       "    <tr>\n",
       "      <th>min</th>\n",
       "      <td>61.000000</td>\n",
       "      <td>3.000000</td>\n",
       "      <td>37.317298</td>\n",
       "      <td>-122.453704</td>\n",
       "      <td>3.000000</td>\n",
       "      <td>37.317298</td>\n",
       "      <td>-122.453704</td>\n",
       "      <td>11.000000</td>\n",
       "      <td>1878.000000</td>\n",
       "    </tr>\n",
       "    <tr>\n",
       "      <th>25%</th>\n",
       "      <td>325.000000</td>\n",
       "      <td>47.000000</td>\n",
       "      <td>37.770083</td>\n",
       "      <td>-122.412408</td>\n",
       "      <td>44.000000</td>\n",
       "      <td>37.770407</td>\n",
       "      <td>-122.411726</td>\n",
       "      <td>3777.000000</td>\n",
       "      <td>1980.000000</td>\n",
       "    </tr>\n",
       "    <tr>\n",
       "      <th>50%</th>\n",
       "      <td>514.000000</td>\n",
       "      <td>104.000000</td>\n",
       "      <td>37.780760</td>\n",
       "      <td>-122.398285</td>\n",
       "      <td>100.000000</td>\n",
       "      <td>37.781010</td>\n",
       "      <td>-122.398279</td>\n",
       "      <td>4958.000000</td>\n",
       "      <td>1987.000000</td>\n",
       "    </tr>\n",
       "    <tr>\n",
       "      <th>75%</th>\n",
       "      <td>796.000000</td>\n",
       "      <td>239.000000</td>\n",
       "      <td>37.797280</td>\n",
       "      <td>-122.286533</td>\n",
       "      <td>235.000000</td>\n",
       "      <td>37.797320</td>\n",
       "      <td>-122.288045</td>\n",
       "      <td>5502.000000</td>\n",
       "      <td>1992.000000</td>\n",
       "    </tr>\n",
       "    <tr>\n",
       "      <th>max</th>\n",
       "      <td>85444.000000</td>\n",
       "      <td>398.000000</td>\n",
       "      <td>37.880222</td>\n",
       "      <td>-121.874119</td>\n",
       "      <td>398.000000</td>\n",
       "      <td>37.880222</td>\n",
       "      <td>-121.874119</td>\n",
       "      <td>6645.000000</td>\n",
       "      <td>2001.000000</td>\n",
       "    </tr>\n",
       "  </tbody>\n",
       "</table>\n",
       "</div>"
      ],
      "text/plain": [
       "        duration_sec  start_station_id  start_station_latitude  \\\n",
       "count  183412.000000     183215.000000           183412.000000   \n",
       "mean      726.078435        138.590427               37.771223   \n",
       "std      1794.389780        111.778864                0.099581   \n",
       "min        61.000000          3.000000               37.317298   \n",
       "25%       325.000000         47.000000               37.770083   \n",
       "50%       514.000000        104.000000               37.780760   \n",
       "75%       796.000000        239.000000               37.797280   \n",
       "max     85444.000000        398.000000               37.880222   \n",
       "\n",
       "       start_station_longitude  end_station_id  end_station_latitude  \\\n",
       "count            183412.000000   183215.000000         183412.000000   \n",
       "mean               -122.352664      136.249123             37.771427   \n",
       "std                   0.117097      111.515131              0.099490   \n",
       "min                -122.453704        3.000000             37.317298   \n",
       "25%                -122.412408       44.000000             37.770407   \n",
       "50%                -122.398285      100.000000             37.781010   \n",
       "75%                -122.286533      235.000000             37.797320   \n",
       "max                -121.874119      398.000000             37.880222   \n",
       "\n",
       "       end_station_longitude        bike_id  member_birth_year  \n",
       "count          183412.000000  183412.000000      175147.000000  \n",
       "mean             -122.352250    4472.906375        1984.806437  \n",
       "std                 0.116673    1664.383394          10.116689  \n",
       "min              -122.453704      11.000000        1878.000000  \n",
       "25%              -122.411726    3777.000000        1980.000000  \n",
       "50%              -122.398279    4958.000000        1987.000000  \n",
       "75%              -122.288045    5502.000000        1992.000000  \n",
       "max              -121.874119    6645.000000        2001.000000  "
      ]
     },
     "execution_count": 5,
     "metadata": {},
     "output_type": "execute_result"
    }
   ],
   "source": [
    "# check the statistical summary of the data\n",
    "bike.describe()"
   ]
  },
  {
   "cell_type": "markdown",
   "id": "7365e871-b646-408e-b5c2-d18504ccd7cc",
   "metadata": {},
   "source": [
    "# Data Cleaning \n",
    "## Issues\n",
    "1. Improper datatypes for start_time and end_time columns\n",
    "2. Impossible values in the member_birth_year column(<1920)\n",
    "3. Multiple variables in the start_time and end_time columns\n",
    "4. Missing values in gender column"
   ]
  },
  {
   "cell_type": "markdown",
   "id": "22fa1328-48ec-44e3-9d4f-799255e6468a",
   "metadata": {},
   "source": [
    "### Define \n",
    "Convert start_time and end_time columns to the proper datatype(datetime columns)\n",
    "\n",
    "### Code "
   ]
  },
  {
   "cell_type": "code",
   "execution_count": 6,
   "id": "9bc1aa11-9a67-49e2-a220-8aae2dfcf1c6",
   "metadata": {},
   "outputs": [],
   "source": [
    "bike['start_time'] = pd.to_datetime(bike['start_time'])\n",
    "bike['end_time'] = pd.to_datetime(bike['end_time'])"
   ]
  },
  {
   "cell_type": "markdown",
   "id": "75a7af09-57b1-4318-8544-bdb1ba9b973a",
   "metadata": {},
   "source": [
    "### Test"
   ]
  },
  {
   "cell_type": "code",
   "execution_count": 7,
   "id": "62b365ab-071b-4dee-a221-70f36a6c4567",
   "metadata": {},
   "outputs": [
    {
     "name": "stdout",
     "output_type": "stream",
     "text": [
      "The datatype of start_time column is datetime64[ns]\n",
      "The datatype of end_time column is datetime64[ns]\n"
     ]
    }
   ],
   "source": [
    "print('The datatype of start_time column is {}'.format(bike['start_time'].dtype))\n",
    "print('The datatype of end_time column is {}'.format(bike['end_time'].dtype))"
   ]
  },
  {
   "cell_type": "markdown",
   "id": "78c9d1b3-db25-4c43-a969-f9745c709943",
   "metadata": {},
   "source": [
    "### Define \n",
    "Extract the days and months variables from start_time and end_time column\n",
    "\n",
    "### Code"
   ]
  },
  {
   "cell_type": "code",
   "execution_count": 8,
   "id": "029d9006-9ff6-4a99-9e01-bfe0f2f19d3b",
   "metadata": {},
   "outputs": [],
   "source": [
    "# extract the variables(date, hour, day and month) from the start_time column\n",
    "bike['start_date'] = pd.to_datetime(bike['start_time']).dt.date \n",
    "bike['start_clock'] = pd.to_datetime(bike['start_time']).dt.strftime('%H:%M')\n",
    "bike['start_day'] = pd.to_datetime(bike['start_time']).dt.day_name()\n",
    "bike['start_month'] = pd.to_datetime(bike['start_time']).dt.strftime('%B')\n",
    "\n",
    "# extract from the end_time column\n",
    "bike['end_date'] = pd.to_datetime(bike['end_time']).dt.date\n",
    "bike['end_clock'] = pd.to_datetime(bike['end_time']).dt.strftime('%H:%M')\n",
    "bike['end_day'] = pd.to_datetime(bike['end_time']).dt.day_name()\n",
    "bike['end_month'] = pd.to_datetime(bike['end_time']).dt.strftime('%B')"
   ]
  },
  {
   "cell_type": "markdown",
   "id": "cc8c6da3-22a4-40c5-9c58-36455b695ebd",
   "metadata": {},
   "source": [
    "### Test"
   ]
  },
  {
   "cell_type": "code",
   "execution_count": 9,
   "id": "34fd54c7-9ba0-4a8c-8463-dfb449341079",
   "metadata": {},
   "outputs": [
    {
     "name": "stdout",
     "output_type": "stream",
     "text": [
      "<class 'pandas.core.frame.DataFrame'>\n",
      "RangeIndex: 183412 entries, 0 to 183411\n",
      "Data columns (total 24 columns):\n",
      " #   Column                   Non-Null Count   Dtype         \n",
      "---  ------                   --------------   -----         \n",
      " 0   duration_sec             183412 non-null  int64         \n",
      " 1   start_time               183412 non-null  datetime64[ns]\n",
      " 2   end_time                 183412 non-null  datetime64[ns]\n",
      " 3   start_station_id         183215 non-null  float64       \n",
      " 4   start_station_name       183215 non-null  object        \n",
      " 5   start_station_latitude   183412 non-null  float64       \n",
      " 6   start_station_longitude  183412 non-null  float64       \n",
      " 7   end_station_id           183215 non-null  float64       \n",
      " 8   end_station_name         183215 non-null  object        \n",
      " 9   end_station_latitude     183412 non-null  float64       \n",
      " 10  end_station_longitude    183412 non-null  float64       \n",
      " 11  bike_id                  183412 non-null  int64         \n",
      " 12  user_type                183412 non-null  object        \n",
      " 13  member_birth_year        175147 non-null  float64       \n",
      " 14  member_gender            175147 non-null  object        \n",
      " 15  bike_share_for_all_trip  183412 non-null  object        \n",
      " 16  start_date               183412 non-null  object        \n",
      " 17  start_clock              183412 non-null  object        \n",
      " 18  start_day                183412 non-null  object        \n",
      " 19  start_month              183412 non-null  object        \n",
      " 20  end_date                 183412 non-null  object        \n",
      " 21  end_clock                183412 non-null  object        \n",
      " 22  end_day                  183412 non-null  object        \n",
      " 23  end_month                183412 non-null  object        \n",
      "dtypes: datetime64[ns](2), float64(7), int64(2), object(13)\n",
      "memory usage: 33.6+ MB\n",
      "None\n"
     ]
    },
    {
     "data": {
      "text/html": [
       "<div>\n",
       "<style scoped>\n",
       "    .dataframe tbody tr th:only-of-type {\n",
       "        vertical-align: middle;\n",
       "    }\n",
       "\n",
       "    .dataframe tbody tr th {\n",
       "        vertical-align: top;\n",
       "    }\n",
       "\n",
       "    .dataframe thead th {\n",
       "        text-align: right;\n",
       "    }\n",
       "</style>\n",
       "<table border=\"1\" class=\"dataframe\">\n",
       "  <thead>\n",
       "    <tr style=\"text-align: right;\">\n",
       "      <th></th>\n",
       "      <th>duration_sec</th>\n",
       "      <th>start_time</th>\n",
       "      <th>end_time</th>\n",
       "      <th>start_station_id</th>\n",
       "      <th>start_station_name</th>\n",
       "      <th>start_station_latitude</th>\n",
       "      <th>start_station_longitude</th>\n",
       "      <th>end_station_id</th>\n",
       "      <th>end_station_name</th>\n",
       "      <th>end_station_latitude</th>\n",
       "      <th>...</th>\n",
       "      <th>member_gender</th>\n",
       "      <th>bike_share_for_all_trip</th>\n",
       "      <th>start_date</th>\n",
       "      <th>start_clock</th>\n",
       "      <th>start_day</th>\n",
       "      <th>start_month</th>\n",
       "      <th>end_date</th>\n",
       "      <th>end_clock</th>\n",
       "      <th>end_day</th>\n",
       "      <th>end_month</th>\n",
       "    </tr>\n",
       "  </thead>\n",
       "  <tbody>\n",
       "    <tr>\n",
       "      <th>36116</th>\n",
       "      <td>353</td>\n",
       "      <td>2019-02-23 16:58:08.753</td>\n",
       "      <td>2019-02-23 17:04:01.866</td>\n",
       "      <td>196.0</td>\n",
       "      <td>Grand Ave at Perkins St</td>\n",
       "      <td>37.808894</td>\n",
       "      <td>-122.25646</td>\n",
       "      <td>183.0</td>\n",
       "      <td>Telegraph Ave at 19th St</td>\n",
       "      <td>37.808702</td>\n",
       "      <td>...</td>\n",
       "      <td>Male</td>\n",
       "      <td>No</td>\n",
       "      <td>2019-02-23</td>\n",
       "      <td>16:58</td>\n",
       "      <td>Saturday</td>\n",
       "      <td>February</td>\n",
       "      <td>2019-02-23</td>\n",
       "      <td>17:04</td>\n",
       "      <td>Saturday</td>\n",
       "      <td>February</td>\n",
       "    </tr>\n",
       "  </tbody>\n",
       "</table>\n",
       "<p>1 rows × 24 columns</p>\n",
       "</div>"
      ],
      "text/plain": [
       "       duration_sec              start_time                end_time  \\\n",
       "36116           353 2019-02-23 16:58:08.753 2019-02-23 17:04:01.866   \n",
       "\n",
       "       start_station_id       start_station_name  start_station_latitude  \\\n",
       "36116             196.0  Grand Ave at Perkins St               37.808894   \n",
       "\n",
       "       start_station_longitude  end_station_id          end_station_name  \\\n",
       "36116               -122.25646           183.0  Telegraph Ave at 19th St   \n",
       "\n",
       "       end_station_latitude  ...  member_gender  bike_share_for_all_trip  \\\n",
       "36116             37.808702  ...           Male                       No   \n",
       "\n",
       "       start_date  start_clock start_day start_month    end_date end_clock  \\\n",
       "36116  2019-02-23        16:58  Saturday    February  2019-02-23     17:04   \n",
       "\n",
       "        end_day end_month  \n",
       "36116  Saturday  February  \n",
       "\n",
       "[1 rows x 24 columns]"
      ]
     },
     "execution_count": 9,
     "metadata": {},
     "output_type": "execute_result"
    }
   ],
   "source": [
    "print(bike.info())\n",
    "\n",
    "# confirm that the columns are created with proper values\n",
    "bike.sample()"
   ]
  },
  {
   "cell_type": "markdown",
   "id": "6662857e-828a-48c2-8ab6-bd9c1afd5214",
   "metadata": {},
   "source": [
    "### Define \n",
    "Replace impossible values in the member_birth_year column; values less than 1910 are considered impossible because riders that are over 100 years are too old to ride a bike.\n",
    "\n",
    "**Note: Oldest person to ride a bike was 105 years according to google**\n",
    "\n",
    "### Code"
   ]
  },
  {
   "cell_type": "code",
   "execution_count": 10,
   "id": "afda510c-ef22-4fb4-9d59-6177e9bdf36a",
   "metadata": {},
   "outputs": [],
   "source": [
    "# replace values less than 1910 with mean of the variable\n",
    "bike.loc[bike['member_birth_year'] < 1910, 'member_birth_year'] = bike['member_birth_year'].mean()"
   ]
  },
  {
   "cell_type": "markdown",
   "id": "2bcb8714-d946-4cd6-a5f1-f98fdd778bc3",
   "metadata": {},
   "source": [
    "### Test"
   ]
  },
  {
   "cell_type": "code",
   "execution_count": 11,
   "id": "f94d9695-4e4f-4c3b-8b72-e72fbfb51ce2",
   "metadata": {},
   "outputs": [
    {
     "data": {
      "text/plain": [
       "count    175147.000000\n",
       "mean       1984.840781\n",
       "std           9.971632\n",
       "min        1910.000000\n",
       "25%        1980.000000\n",
       "50%        1987.000000\n",
       "75%        1992.000000\n",
       "max        2001.000000\n",
       "Name: member_birth_year, dtype: float64"
      ]
     },
     "execution_count": 11,
     "metadata": {},
     "output_type": "execute_result"
    }
   ],
   "source": [
    "# check the statistics for the minimum year\n",
    "bike['member_birth_year'].describe()"
   ]
  },
  {
   "cell_type": "markdown",
   "id": "e9632d6c-7f9a-4b60-83f5-d68f35dfb051",
   "metadata": {},
   "source": [
    "### Define\n",
    "Replace missing values in member_gender column with 'Other'\n",
    "\n",
    "### Code"
   ]
  },
  {
   "cell_type": "code",
   "execution_count": 12,
   "id": "0c552968-e77a-44cf-a315-e1d53bf21aff",
   "metadata": {},
   "outputs": [],
   "source": [
    "bike['member_gender'].replace(np.nan, 'Other', inplace = True)"
   ]
  },
  {
   "cell_type": "markdown",
   "id": "868807c5-1632-49c3-a54c-96d317ca980b",
   "metadata": {},
   "source": [
    "### Test"
   ]
  },
  {
   "cell_type": "code",
   "execution_count": 13,
   "id": "663d3898-3e98-4d3e-b6e1-8b8da0f68088",
   "metadata": {},
   "outputs": [
    {
     "data": {
      "text/plain": [
       "0"
      ]
     },
     "execution_count": 13,
     "metadata": {},
     "output_type": "execute_result"
    }
   ],
   "source": [
    "bike['member_gender'].isna().sum()"
   ]
  },
  {
   "cell_type": "markdown",
   "id": "4aa17bda-b882-438c-be38-7bef7166d7d0",
   "metadata": {},
   "source": [
    "**Create a time_of_day column that contains categorical values values: Morning, Afternoon, Evening and Night**"
   ]
  },
  {
   "cell_type": "code",
   "execution_count": 14,
   "id": "f3a21682-dbbe-4bfe-877f-05ce4813a42c",
   "metadata": {},
   "outputs": [],
   "source": [
    "# get the hour before the colon and minutes form the start hour\n",
    "bike['start_hour'] = bike['start_clock'].str.split(':').str[0]\n",
    "# convert the extracted hour to an integer\n",
    "bike['start_hour'] = bike['start_hour'].astype('int')\n",
    "\n",
    "# get the hour before the colon and minutes form the start hour\n",
    "bike['end_hour'] = bike['end_clock'].str.split(':').str[0]\n",
    "bike['end_hour'] = bike['end_hour'].astype('int')"
   ]
  },
  {
   "cell_type": "code",
   "execution_count": 15,
   "id": "4f168a3a-3cf0-4c7d-8040-5afe111751f3",
   "metadata": {},
   "outputs": [],
   "source": [
    "# create a function to divide the hours into parts of the day\n",
    "def time_of_day(dataframe):\n",
    "\n",
    "    '''\n",
    "    create a modified dataframe that contains important columns\n",
    "    \n",
    "    Parameters:\n",
    "    dataframe: Dataframe to modify\n",
    "    \n",
    "    Variables:\n",
    "    start_time_day: a list containing start time grouped into categories\n",
    "    end_time_day: a list containing end time grouped into categories\n",
    "    \n",
    "    Returns:\n",
    "    A new dataframe to perform operation on \n",
    "    '''\n",
    "    df = dataframe.copy()\n",
    "    \n",
    "    start_time_of_day = []\n",
    "    for row in df['start_hour']:\n",
    "        if row >= 5 and row <= 11:\n",
    "            start_time_of_day.append('Morning')\n",
    "        elif row >= 12 and row <= 16:\n",
    "            start_time_of_day.append('Afternoon')\n",
    "        elif row >= 17 and row <= 20:\n",
    "            start_time_of_day.append('Evening')\n",
    "        else:\n",
    "            start_time_of_day.append('Night')\n",
    "    \n",
    "    df['start_time_of_day'] = start_time_of_day\n",
    "    \n",
    "    end_time_of_day = []\n",
    "    for row in df['end_hour']:\n",
    "        if row >= 5 and row <= 11:\n",
    "            end_time_of_day.append('Morning')\n",
    "        elif row >= 12 and row <= 16:\n",
    "            end_time_of_day.append('Afternoon')\n",
    "        elif row >= 17 and row <= 20:\n",
    "            end_time_of_day.append('Evening')\n",
    "        else:\n",
    "            end_time_of_day.append('Night')\n",
    "            \n",
    "    df['end_time_of_day'] = end_time_of_day\n",
    "    \n",
    "    return df"
   ]
  },
  {
   "cell_type": "code",
   "execution_count": 16,
   "id": "7119272f-f01b-4931-8edc-1ab0d7e2ef59",
   "metadata": {},
   "outputs": [],
   "source": [
    "# create an elaborate dataset\n",
    "bike_cp = time_of_day(bike)"
   ]
  },
  {
   "cell_type": "code",
   "execution_count": 17,
   "id": "46355710-d56b-45bb-bfd3-1255b97c1c75",
   "metadata": {},
   "outputs": [
    {
     "data": {
      "text/html": [
       "<div>\n",
       "<style scoped>\n",
       "    .dataframe tbody tr th:only-of-type {\n",
       "        vertical-align: middle;\n",
       "    }\n",
       "\n",
       "    .dataframe tbody tr th {\n",
       "        vertical-align: top;\n",
       "    }\n",
       "\n",
       "    .dataframe thead th {\n",
       "        text-align: right;\n",
       "    }\n",
       "</style>\n",
       "<table border=\"1\" class=\"dataframe\">\n",
       "  <thead>\n",
       "    <tr style=\"text-align: right;\">\n",
       "      <th></th>\n",
       "      <th>duration_sec</th>\n",
       "      <th>start_time</th>\n",
       "      <th>end_time</th>\n",
       "      <th>start_station_id</th>\n",
       "      <th>start_station_name</th>\n",
       "      <th>start_station_latitude</th>\n",
       "      <th>start_station_longitude</th>\n",
       "      <th>end_station_id</th>\n",
       "      <th>end_station_name</th>\n",
       "      <th>end_station_latitude</th>\n",
       "      <th>...</th>\n",
       "      <th>start_day</th>\n",
       "      <th>start_month</th>\n",
       "      <th>end_date</th>\n",
       "      <th>end_clock</th>\n",
       "      <th>end_day</th>\n",
       "      <th>end_month</th>\n",
       "      <th>start_hour</th>\n",
       "      <th>end_hour</th>\n",
       "      <th>start_time_of_day</th>\n",
       "      <th>end_time_of_day</th>\n",
       "    </tr>\n",
       "  </thead>\n",
       "  <tbody>\n",
       "    <tr>\n",
       "      <th>69301</th>\n",
       "      <td>471</td>\n",
       "      <td>2019-02-19 19:47:16.780</td>\n",
       "      <td>2019-02-19 19:55:08.526</td>\n",
       "      <td>141.0</td>\n",
       "      <td>Valencia St at Cesar Chavez St</td>\n",
       "      <td>37.747998</td>\n",
       "      <td>-122.420219</td>\n",
       "      <td>129.0</td>\n",
       "      <td>Harrison St at 20th St</td>\n",
       "      <td>37.758862</td>\n",
       "      <td>...</td>\n",
       "      <td>Tuesday</td>\n",
       "      <td>February</td>\n",
       "      <td>2019-02-19</td>\n",
       "      <td>19:55</td>\n",
       "      <td>Tuesday</td>\n",
       "      <td>February</td>\n",
       "      <td>19</td>\n",
       "      <td>19</td>\n",
       "      <td>Evening</td>\n",
       "      <td>Evening</td>\n",
       "    </tr>\n",
       "    <tr>\n",
       "      <th>119546</th>\n",
       "      <td>871</td>\n",
       "      <td>2019-02-11 17:39:45.928</td>\n",
       "      <td>2019-02-11 17:54:17.737</td>\n",
       "      <td>61.0</td>\n",
       "      <td>Howard St at 8th St</td>\n",
       "      <td>37.776513</td>\n",
       "      <td>-122.411306</td>\n",
       "      <td>144.0</td>\n",
       "      <td>Precita Park</td>\n",
       "      <td>37.747300</td>\n",
       "      <td>...</td>\n",
       "      <td>Monday</td>\n",
       "      <td>February</td>\n",
       "      <td>2019-02-11</td>\n",
       "      <td>17:54</td>\n",
       "      <td>Monday</td>\n",
       "      <td>February</td>\n",
       "      <td>17</td>\n",
       "      <td>17</td>\n",
       "      <td>Evening</td>\n",
       "      <td>Evening</td>\n",
       "    </tr>\n",
       "    <tr>\n",
       "      <th>120957</th>\n",
       "      <td>1368</td>\n",
       "      <td>2019-02-11 16:08:37.285</td>\n",
       "      <td>2019-02-11 16:31:25.586</td>\n",
       "      <td>52.0</td>\n",
       "      <td>McAllister St at Baker St</td>\n",
       "      <td>37.777416</td>\n",
       "      <td>-122.441838</td>\n",
       "      <td>323.0</td>\n",
       "      <td>Broadway at Kearny</td>\n",
       "      <td>37.798014</td>\n",
       "      <td>...</td>\n",
       "      <td>Monday</td>\n",
       "      <td>February</td>\n",
       "      <td>2019-02-11</td>\n",
       "      <td>16:31</td>\n",
       "      <td>Monday</td>\n",
       "      <td>February</td>\n",
       "      <td>16</td>\n",
       "      <td>16</td>\n",
       "      <td>Afternoon</td>\n",
       "      <td>Afternoon</td>\n",
       "    </tr>\n",
       "    <tr>\n",
       "      <th>60</th>\n",
       "      <td>401</td>\n",
       "      <td>2019-02-28 23:28:53.508</td>\n",
       "      <td>2019-02-28 23:35:34.926</td>\n",
       "      <td>240.0</td>\n",
       "      <td>Haste St at Telegraph Ave</td>\n",
       "      <td>37.866043</td>\n",
       "      <td>-122.258804</td>\n",
       "      <td>240.0</td>\n",
       "      <td>Haste St at Telegraph Ave</td>\n",
       "      <td>37.866043</td>\n",
       "      <td>...</td>\n",
       "      <td>Thursday</td>\n",
       "      <td>February</td>\n",
       "      <td>2019-02-28</td>\n",
       "      <td>23:35</td>\n",
       "      <td>Thursday</td>\n",
       "      <td>February</td>\n",
       "      <td>23</td>\n",
       "      <td>23</td>\n",
       "      <td>Night</td>\n",
       "      <td>Night</td>\n",
       "    </tr>\n",
       "    <tr>\n",
       "      <th>6396</th>\n",
       "      <td>980</td>\n",
       "      <td>2019-02-28 10:11:57.313</td>\n",
       "      <td>2019-02-28 10:28:18.041</td>\n",
       "      <td>30.0</td>\n",
       "      <td>San Francisco Caltrain (Townsend St at 4th St)</td>\n",
       "      <td>37.776598</td>\n",
       "      <td>-122.395282</td>\n",
       "      <td>324.0</td>\n",
       "      <td>Union Square (Powell St at Post St)</td>\n",
       "      <td>37.788300</td>\n",
       "      <td>...</td>\n",
       "      <td>Thursday</td>\n",
       "      <td>February</td>\n",
       "      <td>2019-02-28</td>\n",
       "      <td>10:28</td>\n",
       "      <td>Thursday</td>\n",
       "      <td>February</td>\n",
       "      <td>10</td>\n",
       "      <td>10</td>\n",
       "      <td>Morning</td>\n",
       "      <td>Morning</td>\n",
       "    </tr>\n",
       "  </tbody>\n",
       "</table>\n",
       "<p>5 rows × 28 columns</p>\n",
       "</div>"
      ],
      "text/plain": [
       "        duration_sec              start_time                end_time  \\\n",
       "69301            471 2019-02-19 19:47:16.780 2019-02-19 19:55:08.526   \n",
       "119546           871 2019-02-11 17:39:45.928 2019-02-11 17:54:17.737   \n",
       "120957          1368 2019-02-11 16:08:37.285 2019-02-11 16:31:25.586   \n",
       "60               401 2019-02-28 23:28:53.508 2019-02-28 23:35:34.926   \n",
       "6396             980 2019-02-28 10:11:57.313 2019-02-28 10:28:18.041   \n",
       "\n",
       "        start_station_id                              start_station_name  \\\n",
       "69301              141.0                  Valencia St at Cesar Chavez St   \n",
       "119546              61.0                             Howard St at 8th St   \n",
       "120957              52.0                       McAllister St at Baker St   \n",
       "60                 240.0                       Haste St at Telegraph Ave   \n",
       "6396                30.0  San Francisco Caltrain (Townsend St at 4th St)   \n",
       "\n",
       "        start_station_latitude  start_station_longitude  end_station_id  \\\n",
       "69301                37.747998              -122.420219           129.0   \n",
       "119546               37.776513              -122.411306           144.0   \n",
       "120957               37.777416              -122.441838           323.0   \n",
       "60                   37.866043              -122.258804           240.0   \n",
       "6396                 37.776598              -122.395282           324.0   \n",
       "\n",
       "                           end_station_name  end_station_latitude  ...  \\\n",
       "69301                Harrison St at 20th St             37.758862  ...   \n",
       "119546                         Precita Park             37.747300  ...   \n",
       "120957                   Broadway at Kearny             37.798014  ...   \n",
       "60                Haste St at Telegraph Ave             37.866043  ...   \n",
       "6396    Union Square (Powell St at Post St)             37.788300  ...   \n",
       "\n",
       "        start_day  start_month    end_date  end_clock   end_day end_month  \\\n",
       "69301     Tuesday     February  2019-02-19      19:55   Tuesday  February   \n",
       "119546     Monday     February  2019-02-11      17:54    Monday  February   \n",
       "120957     Monday     February  2019-02-11      16:31    Monday  February   \n",
       "60       Thursday     February  2019-02-28      23:35  Thursday  February   \n",
       "6396     Thursday     February  2019-02-28      10:28  Thursday  February   \n",
       "\n",
       "       start_hour end_hour start_time_of_day end_time_of_day  \n",
       "69301          19       19           Evening         Evening  \n",
       "119546         17       17           Evening         Evening  \n",
       "120957         16       16         Afternoon       Afternoon  \n",
       "60             23       23             Night           Night  \n",
       "6396           10       10           Morning         Morning  \n",
       "\n",
       "[5 rows x 28 columns]"
      ]
     },
     "execution_count": 17,
     "metadata": {},
     "output_type": "execute_result"
    }
   ],
   "source": [
    "# check if the dataframe has all necessary columns and values\n",
    "bike_cp.sample(5)"
   ]
  },
  {
   "cell_type": "code",
   "execution_count": 18,
   "id": "b28fcf44-5940-49d6-93a2-c012bb7fe358",
   "metadata": {},
   "outputs": [
    {
     "name": "stdout",
     "output_type": "stream",
     "text": [
      "Shape of the dataset is: (183412, 28)\n",
      "------------------------------------------------------------\n",
      "<class 'pandas.core.frame.DataFrame'>\n",
      "RangeIndex: 183412 entries, 0 to 183411\n",
      "Data columns (total 28 columns):\n",
      " #   Column                   Non-Null Count   Dtype         \n",
      "---  ------                   --------------   -----         \n",
      " 0   duration_sec             183412 non-null  int64         \n",
      " 1   start_time               183412 non-null  datetime64[ns]\n",
      " 2   end_time                 183412 non-null  datetime64[ns]\n",
      " 3   start_station_id         183215 non-null  float64       \n",
      " 4   start_station_name       183215 non-null  object        \n",
      " 5   start_station_latitude   183412 non-null  float64       \n",
      " 6   start_station_longitude  183412 non-null  float64       \n",
      " 7   end_station_id           183215 non-null  float64       \n",
      " 8   end_station_name         183215 non-null  object        \n",
      " 9   end_station_latitude     183412 non-null  float64       \n",
      " 10  end_station_longitude    183412 non-null  float64       \n",
      " 11  bike_id                  183412 non-null  int64         \n",
      " 12  user_type                183412 non-null  object        \n",
      " 13  member_birth_year        175147 non-null  float64       \n",
      " 14  member_gender            183412 non-null  object        \n",
      " 15  bike_share_for_all_trip  183412 non-null  object        \n",
      " 16  start_date               183412 non-null  object        \n",
      " 17  start_clock              183412 non-null  object        \n",
      " 18  start_day                183412 non-null  object        \n",
      " 19  start_month              183412 non-null  object        \n",
      " 20  end_date                 183412 non-null  object        \n",
      " 21  end_clock                183412 non-null  object        \n",
      " 22  end_day                  183412 non-null  object        \n",
      " 23  end_month                183412 non-null  object        \n",
      " 24  start_hour               183412 non-null  int32         \n",
      " 25  end_hour                 183412 non-null  int32         \n",
      " 26  start_time_of_day        183412 non-null  object        \n",
      " 27  end_time_of_day          183412 non-null  object        \n",
      "dtypes: datetime64[ns](2), float64(7), int32(2), int64(2), object(15)\n",
      "memory usage: 37.8+ MB\n"
     ]
    }
   ],
   "source": [
    "# final shape of the dataset\n",
    "print('Shape of the dataset is:', bike_cp.shape)\n",
    "print('------------------------------------------------------------')\n",
    "# information about the columns\n",
    "bike_cp.info()"
   ]
  },
  {
   "cell_type": "markdown",
   "id": "a01d2652-a33b-4fc2-85de-4ea016223642",
   "metadata": {},
   "source": [
    "### What is the structure of your dataset?\n",
    "\n",
    "> The dataset contains 183412 records and originally 16 columns 7 of which are object or string variables, 2 integer variables and 7 float variables. But after data cleaning, the dataset now has 28 columns;\n",
    "\n",
    "> 1. datetime64 - 2 features.\n",
    "2. float64 - 7 features.\n",
    "3. int32 - 2 features.\n",
    "4. int64 - 2 features.\n",
    "5. object - 15 features.\n",
    "\n",
    "### What is/are the main feature(s) of interest in your dataset?\n",
    "\n",
    "> I am interested in determining the features that best predicts the duration_sec variable in the dataset.\n",
    "\n",
    "### What features in the dataset do you think will help support your investigation into your feature(s) of interest?\n",
    "\n",
    "> Age can be a factor that affects the duration of a trip. Also the user_type along with the station id and gender can determime the duration of the trip."
   ]
  },
  {
   "cell_type": "markdown",
   "id": "7492f99b-70fd-4fbe-a466-464ee72d62be",
   "metadata": {},
   "source": [
    "# Univariate Exploration\n",
    "\n",
    "> In this section, I'll investigate distributions of individual variables.\n",
    " \n"
   ]
  },
  {
   "cell_type": "code",
   "execution_count": 19,
   "id": "cc492f4e-bb2c-4d5a-a174-c541c92c4f15",
   "metadata": {},
   "outputs": [],
   "source": [
    "# create a function that annotates on each bar in a plot\n",
    "def annot_pct(a, b):\n",
    "    '''\n",
    "    create annotations on bars in a plot\n",
    "    \n",
    "    Parameters:\n",
    "    a: value counts of a variable\n",
    "    b: sum of the count of each value in a variable\n",
    "    \n",
    "    Returns:\n",
    "    annotations in percentage on each bar in a plot\n",
    "    '''\n",
    "    locs, labels = plt.xticks() \n",
    "\n",
    "    # loop through each pair of locations and labels\n",
    "    for loc, label in zip(locs, labels):\n",
    "\n",
    "        # get the text property for the label to get the correct count\n",
    "        count = a[label.get_text()]\n",
    "        string_per = '{:0.1f}%'.format(100*count/b)\n",
    "\n",
    "        # print the annotation just below the top of the bar\n",
    "        ans = plt.text(loc, count+2, string_per, ha = 'center', color = 'black')\n",
    "    return ans"
   ]
  },
  {
   "cell_type": "markdown",
   "id": "32cc688e-f06a-4ee8-b8f9-5ea21d589cd4",
   "metadata": {},
   "source": [
    "### Question\n",
    "Is there any observation I can make from the distribution of the variable. I'll begin by analyzing the distribution of the main variable of interest whcih is duration_sec.\n",
    "\n",
    "### Visualization"
   ]
  },
  {
   "cell_type": "code",
   "execution_count": 20,
   "id": "dcdc684f-9c7d-4ea9-a97f-db01d9db9de9",
   "metadata": {},
   "outputs": [
    {
     "data": {
      "image/png": "[encoded data removed]",
      "text/plain": [
       "<Figure size 720x432 with 1 Axes>"
      ]
     },
     "metadata": {
      "needs_background": "light"
     },
     "output_type": "display_data"
    }
   ],
   "source": [
    "bins = np.arange(0, bike_cp['duration_sec'].max()+200, 200)\n",
    "plt.figure(figsize=(10,6))\n",
    "plt.hist(data = bike_cp, x = 'duration_sec', bins = bins);\n",
    "plt.xlim([0,10000])\n",
    "plt.title('Distribution of Trip Duration', fontsize = 15)\n",
    "plt.ylabel('Count of User')\n",
    "plt.xlabel(\"Trip Duration(seconds)\");"
   ]
  },
  {
   "cell_type": "markdown",
   "id": "03a366c1-e960-4173-a583-9055174eb1c7",
   "metadata": {},
   "source": [
    "**Since the distribution is skewed to the right,I'll put it on a log scale to get further insight**"
   ]
  },
  {
   "cell_type": "code",
   "execution_count": 21,
   "id": "aeae406c-bf25-4f92-819b-643e4885b36d",
   "metadata": {},
   "outputs": [
    {
     "data": {
      "image/png": "[encoded data removed]",
      "text/plain": [
       "<Figure size 1440x360 with 2 Axes>"
      ]
     },
     "metadata": {
      "needs_background": "light"
     },
     "output_type": "display_data"
    }
   ],
   "source": [
    "plt.figure(figsize = [20, 5])\n",
    "\n",
    "plt.subplot(1,2,1)\n",
    "bins = 10 ** np.arange(2.5, np.log10(bike_cp['duration_sec'].max())+0.05, 0.05)\n",
    "plt.hist(data = bike_cp, x = 'duration_sec', bins = bins);\n",
    "plt.xscale('log')\n",
    "plt.xticks([500, 1e3, 2e3, 5e3, 1e4, 2e4, 5e4, 1e5], [500, '1k', '2k','5k','10k', '20k','50k', '100k']);\n",
    "plt.xlim([250, 10000])\n",
    "plt.title('Logarithmic Distribution of Trip Duration', fontsize = 15)\n",
    "plt.ylabel('Count of User')\n",
    "plt.xlabel(\"Trip Duration(seconds)\");\n",
    "\n",
    "# second plot to spot any outlier in the distribution\n",
    "plt.subplot(1,2,2)\n",
    "bins = 10 ** np.arange(2.5, np.log10(bike_cp['duration_sec'].max())+0.005, 0.005)\n",
    "plt.hist(data = bike_cp, x = 'duration_sec', bins = bins)\n",
    "plt.xscale('log')\n",
    "plt.xticks([5e3, 6e3, 7e3, 8e3, 9e3, 1e4], ['5k','6k','7k','8k','9k','10k'])\n",
    "plt.xlim([5000, 10000])\n",
    "plt.ylim([0,100])\n",
    "plt.title('Distribution of Age of Riders(Tail Zoom in)', fontsize = 15)\n",
    "plt.ylabel('Count of User')\n",
    "plt.xlabel(\"Trip Duration From 5000(seconds)\");"
   ]
  },
  {
   "cell_type": "markdown",
   "id": "9926f13c-9f36-40a8-a305-a2efc9600dde",
   "metadata": {},
   "source": [
    "### Observation\n",
    "Duration has a long-tailed distribution, lots of riders have duration of less than 1000 seconds, and few riders took more than 2000 seconds to get to the end station. After plotting on a log-scale, the distribution looks unimodal, with one peak between 500 seconds and 700 seconds and starts to dip without regaining any peak value\n",
    "\n",
    "The subplot was plotted to see if there are any outlier in the tail of the distribution. There are no ouliers for the next 20k seconds and more.\n",
    "\n",
    "### Question\n",
    "I'll visualize the first predictor variable : member_birth_year. How does the age distribution look\n",
    "\n",
    "### Visualization"
   ]
  },
  {
   "cell_type": "code",
   "execution_count": 22,
   "id": "11bec106-cf8e-4e89-b2de-584ed0106e1b",
   "metadata": {},
   "outputs": [
    {
     "data": {
      "image/png": "[encoded data removed]",
      "text/plain": [
       "<Figure size 720x432 with 1 Axes>"
      ]
     },
     "metadata": {
      "needs_background": "light"
     },
     "output_type": "display_data"
    }
   ],
   "source": [
    "bins = np.arange(0, bike_cp['member_birth_year'].max()+1, 1)\n",
    "\n",
    "plt.figure(figsize=(10,6))\n",
    "\n",
    "plt.hist(data = bike_cp.dropna(), x = 'member_birth_year',bins = bins);\n",
    "\n",
    "plt.axis([2010, 1910, 0, 12000])\n",
    "\n",
    "years = [2000, 1990, 1980, 1970, 1960, 1950, 1940, 1930, 1920, 1910]\n",
    "age = []\n",
    "for year in years:\n",
    "    i = 2019 - year\n",
    "    age.append(i)\n",
    "    \n",
    "plt.xticks(years, age);\n",
    "\n",
    "plt.title('Distribution of User Age', fontsize = 15)\n",
    "plt.ylabel('Count of User')\n",
    "plt.xlabel(\"User's Age(Years)\");"
   ]
  },
  {
   "cell_type": "markdown",
   "id": "769941bf-52cd-42de-9704-c6f36f72711d",
   "metadata": {},
   "source": [
    "### Observation\n",
    "The distribution is bimodal and slightly skewed to the right. Majority of the distribution is set between the ages 20 and 40.\n",
    "\n",
    "### Question\n",
    "I'll visualize the second predictor variable : user_type\n",
    "### Visualization"
   ]
  },
  {
   "cell_type": "code",
   "execution_count": 23,
   "id": "6fbb8bd5-3221-471e-bd49-3f1253ab2945",
   "metadata": {},
   "outputs": [
    {
     "data": {
      "image/png": "[encoded data removed]",
      "text/plain": [
       "<Figure size 720x432 with 1 Axes>"
      ]
     },
     "metadata": {
      "needs_background": "light"
     },
     "output_type": "display_data"
    }
   ],
   "source": [
    "rider_count = bike_cp['user_type'].value_counts()\n",
    "# get the total of all user_type\n",
    "total_rider = rider_count.sum()\n",
    "\n",
    "order = rider_count.index\n",
    "plt.figure(figsize=(10,6))\n",
    "sb.countplot(data = bike_cp, x = 'user_type', color = sb.color_palette()[0], order = order);\n",
    "\n",
    "# call the function to annotate the bars\n",
    "annot_pct(rider_count, total_rider)\n",
    "\n",
    "plt.title('Distribution of User Type', fontsize = 15)\n",
    "plt.ylabel('Count of User')\n",
    "plt.xlabel(\"User Type\");"
   ]
  },
  {
   "cell_type": "markdown",
   "id": "bca6b447-4c5c-4ecf-a9ae-2d4ae496a964",
   "metadata": {},
   "source": [
    "### Observation\n",
    "The percentage of subscribers is eight times the percentage of non subscribers. The Customer may be users that are trying the bikeshare system for the first time as at the recorded time.\n",
    "\n",
    "### Question\n",
    "I'll visualize the third predictor variable: member_gender, to see the distribution in the dataset\n",
    "### Visualization"
   ]
  },
  {
   "cell_type": "code",
   "execution_count": 24,
   "id": "f1ae0911-a92d-4e64-b505-41413a552d3d",
   "metadata": {},
   "outputs": [
    {
     "data": {
      "image/png": "[encoded data removed]",
      "text/plain": [
       "<Figure size 1440x576 with 2 Axes>"
      ]
     },
     "metadata": {
      "needs_background": "light"
     },
     "output_type": "display_data"
    }
   ],
   "source": [
    "plt.figure(figsize = [20,8])\n",
    "\n",
    "gender_count = bike_cp['member_gender'].value_counts()\n",
    "total = gender_count.sum()\n",
    "order = gender_count.index\n",
    "\n",
    "# plot the bar chart of the distribution\n",
    "plt.subplot(1,2,1)\n",
    "sb.countplot(data = bike_cp, x = 'member_gender', color = sb.color_palette()[0], order = order);\n",
    "\n",
    "plt.xticks(rotation = 45)\n",
    "plt.title('Distribution of Gender', fontsize = 15)\n",
    "plt.ylabel('Count of User')\n",
    "plt.xlabel(\"Gender\")\n",
    "\n",
    "\n",
    "# call the function to annotate the bars\n",
    "annot_pct(gender_count, total)\n",
    "\n",
    "# plot the pie chart of the distribution\n",
    "plt.subplot(1,2,2)\n",
    "plt.pie(gender_count, labels = order, startangle = 90, autopct='%1.1f%%', counterclock = False);\n",
    "plt.title('Distribution of Gender in a Pie Chart', fontsize = 15)\n",
    "plt.legend();"
   ]
  },
  {
   "cell_type": "markdown",
   "id": "e6aeb790-211f-4919-a0fe-cc5485b2802d",
   "metadata": {},
   "source": [
    "### Observation\n",
    "Women and other gender types are much more less than men\n",
    "\n",
    "### Question\n",
    "I'll visualize other variables I think might also help predict the feature of interest. I'll begin with the start  and end station id.\n",
    "### Visualization"
   ]
  },
  {
   "cell_type": "code",
   "execution_count": 25,
   "id": "2e4df489-6e94-4682-976f-69ffee46478f",
   "metadata": {},
   "outputs": [
    {
     "data": {
      "image/png": "[encoded data removed]",
      "text/plain": [
       "<Figure size 1440x360 with 2 Axes>"
      ]
     },
     "metadata": {
      "needs_background": "light"
     },
     "output_type": "display_data"
    }
   ],
   "source": [
    "plt.figure(figsize = [20, 5])\n",
    "\n",
    "plt.subplot(1,2,1)\n",
    "\n",
    "bins = np.arange(0, bike_cp['start_station_id'].max()+1, 1)\n",
    "plt.hist(data = bike_cp, x = 'start_station_id', bins = bins);\n",
    "plt.xlim(50,100)\n",
    "plt.title('Start Station', fontsize = 15)\n",
    "plt.ylabel('Count of User Arriving at the Station')\n",
    "plt.xlabel(\"End Station Identifier\");\n",
    "\n",
    "# plot for end_time \n",
    "plt.subplot(1,2,2)\n",
    "bins = np.arange(0, bike_cp['end_station_id'].max()+1, 1)\n",
    "plt.hist(data = bike_cp, x = 'end_station_id', bins = bins);\n",
    "plt.xlim(50,100);\n",
    "plt.title('End Station', fontsize = 15)\n",
    "plt.ylabel('Count of User Arriving at the Station')\n",
    "plt.xlabel(\"End Station Identifier\");"
   ]
  },
  {
   "cell_type": "markdown",
   "id": "8515170f-897e-4cce-96f5-5d3da2b65bda",
   "metadata": {},
   "source": [
    "### Observation\n",
    "Zooming into the Start station with id of 58 is the most popular start station followed by start station with id of 67 while end station with id of 67 is the most popular end station followed by end station with id of 58.\n",
    "\n",
    "### Question\n",
    "I'll visualize the 'day' variable to check if it is an important feature to predict duration\n",
    "### Visualization"
   ]
  },
  {
   "cell_type": "code",
   "execution_count": 26,
   "id": "851530e6-e980-4080-935a-0301e93be95f",
   "metadata": {},
   "outputs": [
    {
     "data": {
      "image/png": "[encoded data removed]",
      "text/plain": [
       "<Figure size 720x432 with 1 Axes>"
      ]
     },
     "metadata": {
      "needs_background": "light"
     },
     "output_type": "display_data"
    }
   ],
   "source": [
    "# place the days of the week in order\n",
    "day_order = ['Monday', 'Tuesday', 'Wednesday', 'Thursday', 'Friday', 'Saturday', 'Sunday']\n",
    "plt.figure(figsize=(10,6))\n",
    "sb.countplot(data = bike_cp, x = 'start_day', color = sb.color_palette()[0], order = day_order);\n",
    "plt.xticks(rotation = 45)\n",
    "plt.title('Distribution of Days of Week', fontsize = 15)\n",
    "plt.ylabel('Count of User')\n",
    "plt.xlabel(\"Days of Week\");"
   ]
  },
  {
   "cell_type": "markdown",
   "id": "aad15c67-f820-46fa-848d-2c8f5d5dfc47",
   "metadata": {},
   "source": [
    "### Observation\n",
    "Thursday is the most popular day riders make use of the bike share system. Sunday and Saturday are the least popular days with almost equal frequencies. This could mean that riders mainly use the bike share system for work or school commute which happens on weekdays. But on weekends most riders stay back home or prefare another mode of transportation.\n",
    "\n",
    "I notice that there are some records where start and end days are different, meaning the rider did not arrive to the end station on the same day they left the start station. This could be due to many reasons, example, the rider left the start station close to midnight.\n",
    "\n",
    "\n",
    "I'll plot the distribution for the rides that are not completed the same day that they started.\n"
   ]
  },
  {
   "cell_type": "code",
   "execution_count": 27,
   "id": "fed0474b-64e6-4a74-8fc3-eb8f144169c8",
   "metadata": {},
   "outputs": [
    {
     "data": {
      "image/png": "[encoded data removed]",
      "text/plain": [
       "<Figure size 1440x360 with 2 Axes>"
      ]
     },
     "metadata": {
      "needs_background": "light"
     },
     "output_type": "display_data"
    }
   ],
   "source": [
    "# lets see the records where strat day is not same as end day\n",
    "over = bike_cp.query('start_day != end_day')\n",
    "\n",
    "# lets plot the distribution of an overnight ride\n",
    "plt.figure(figsize = [20, 5])\n",
    "\n",
    "plt.subplot(1,2,1)\n",
    "order = over['start_day'].value_counts().index\n",
    "sb.countplot(data = over, x = 'start_day', color = sb.color_palette()[0], order = order);\n",
    "plt.xticks(rotation = 45)\n",
    "plt.title('Distribution of Start Days of Week', fontsize = 15)\n",
    "plt.ylabel('Count of User')\n",
    "plt.xlabel(\"Start Day\");\n",
    "\n",
    "# plot for rides that didn't get to the end station on the same day\n",
    "plt.subplot(1,2,2)\n",
    "order = over['end_day'].value_counts().index\n",
    "sb.countplot(data = over, x = 'end_day', color = sb.color_palette()[0], order = order);\n",
    "plt.xticks(rotation = 45)\n",
    "plt.title('Distribution of End Days of Week', fontsize = 15)\n",
    "plt.ylabel('Count of User')\n",
    "plt.xlabel(\"End Day\");"
   ]
  },
  {
   "cell_type": "markdown",
   "id": "95c053ab-aaa8-4fd2-911f-df315d8af03b",
   "metadata": {},
   "source": [
    "### Observation\n",
    "Notice that side by side plot shows the days following each other and having the same frequency, for instance, start_day chart has Thursday as its first bar with the highest frquency and end_day chart has Friday(a day following Thursday) has its first bar with the same frequency as Thursday's bar in start_day chart.\n"
   ]
  },
  {
   "cell_type": "code",
   "execution_count": 28,
   "id": "7584ed81-ad31-4c0a-91c6-f56a25ec361e",
   "metadata": {},
   "outputs": [
    {
     "data": {
      "image/png": "[encoded data removed]",
      "text/plain": [
       "<Figure size 1440x360 with 2 Axes>"
      ]
     },
     "metadata": {
      "needs_background": "light"
     },
     "output_type": "display_data"
    }
   ],
   "source": [
    "plt.figure(figsize = [20, 5])\n",
    "\n",
    "plt.subplot(1,2,1)\n",
    "# plot start hour of the day\n",
    "order = bike_cp['start_hour'].value_counts().index\n",
    "sb.countplot(data = bike_cp, x = 'start_hour', color = sb.color_palette()[0]);\n",
    "\n",
    "plt.title('Distribution of Start Hour of the Day', fontsize = 15)\n",
    "plt.ylabel('Count of User')\n",
    "plt.xlabel(\"Hour of Day\");\n",
    "\n",
    "# plot for end_hour \n",
    "plt.subplot(1,2,2)\n",
    "\n",
    "sb.countplot(data = bike_cp, x = 'end_hour', color = sb.color_palette()[0])\n",
    "\n",
    "plt.title('Distribution of End Hour of the Day', fontsize = 15)\n",
    "plt.ylabel('Count of User')\n",
    "plt.xlabel(\"Hour of Day\");"
   ]
  },
  {
   "cell_type": "markdown",
   "id": "cb13f852-803e-4ab6-b9f3-db21678e0e2a",
   "metadata": {},
   "source": [
    "### Observation\n",
    "The charts are bimodal distribution with 8am and 5pm as the most popular start and end times of the day. Notive that both times are Opening time and closing time for work respectively.\n",
    "\n",
    "### Question\n",
    "Let's see if we can get any insight on disribution of time_of_day column\n",
    "### Visualization"
   ]
  },
  {
   "cell_type": "code",
   "execution_count": 29,
   "id": "b44ced1c-b6ca-45a5-8cc1-a9de7eb97b52",
   "metadata": {},
   "outputs": [
    {
     "data": {
      "image/png": "[encoded data removed]",
      "text/plain": [
       "<Figure size 1440x360 with 2 Axes>"
      ]
     },
     "metadata": {
      "needs_background": "light"
     },
     "output_type": "display_data"
    }
   ],
   "source": [
    "plt.figure(figsize = [20, 5])\n",
    "\n",
    "time_order = ['Morning', 'Afternoon', 'Evening', 'Night']\n",
    "\n",
    "plt.subplot(1,2,1)\n",
    "# plot start time of the day\n",
    "order = bike_cp['start_time_of_day'].value_counts().index\n",
    "sb.countplot(data = bike_cp, x = 'start_time_of_day', color = sb.color_palette()[0], order = time_order);\n",
    "\n",
    "\n",
    "part_count = bike_cp['start_time_of_day'].value_counts()\n",
    "total_part_count = part_count.sum()\n",
    "\n",
    "# call the function to annotate the bars\n",
    "annot_pct(part_count, total_part_count)\n",
    "\n",
    "plt.title('Distribution of Start Time of the Day', fontsize = 15)\n",
    "plt.ylabel('Count of User')\n",
    "plt.xlabel(\"Time of Day\");\n",
    "\n",
    "# plot for end_time \n",
    "plt.subplot(1,2,2)\n",
    "order = bike_cp['end_time_of_day'].value_counts().index\n",
    "sb.countplot(data = bike_cp, x = 'end_time_of_day', color = sb.color_palette()[0], order = time_order)\n",
    "\n",
    "end_part_count = bike_cp['end_time_of_day'].value_counts()\n",
    "total_end_count = end_part_count.sum()\n",
    "\n",
    "# call the function to annotate the bars\n",
    "annot_pct(end_part_count, total_end_count);\n",
    "\n",
    "plt.title('Distribution of End Time of the Day', fontsize = 15)\n",
    "plt.ylabel('Count of User')\n",
    "plt.xlabel(\"Time of Day\");"
   ]
  },
  {
   "cell_type": "markdown",
   "id": "130c5a00-1961-4110-834d-421f3de70aa3",
   "metadata": {},
   "source": [
    "### Observation\n",
    "Time of the day on both plots are very identical, meaning most trips started in the morning ends in the morning and so on. Only 1% or less difference."
   ]
  },
  {
   "cell_type": "markdown",
   "id": "a12a73d0-de5c-4507-a341-ac56e1618d1b",
   "metadata": {},
   "source": [
    "### Discuss the distribution(s) of your variable(s) of interest. Were there any unusual points? Did you need to perform any transformations?\n",
    "\n",
    "> The trip duration has an unexpectedly large amount of values and most of the higher values are towards the tail of the distribution so the best way to understand the data was to put it on log scale. The insight I made was that peak occurs at 600 to 700 seconds then distribution starts to dip and does not regain any more peak value.\n",
    "\n",
    "### Of the features you investigated, were there any unusual distributions? Did you perform any operations on the data to tidy, adjust, or change the form of the data? If so, why did you do this?\n",
    "\n",
    "> 1. Age column was created by subtracting member_birth_year from 2019, within the creation of the visualizations containing 'age' an axis. Other columns created are: time_of_day, start_day and end_day\n",
    "2. Imposible member_birh_year entry were replaced with the mean of the series."
   ]
  },
  {
   "cell_type": "markdown",
   "id": "c6006c01-3304-4175-ac77-788af6ba5afa",
   "metadata": {},
   "source": [
    "## Bivariate Exploration\n",
    "\n",
    "> In this section, I'll investigate relationships between pairs of variables in the\n",
    "dataset.\n",
    "\n",
    "### Question\n",
    "What does the relationship between user's age and trip duration look like?"
   ]
  },
  {
   "cell_type": "code",
   "execution_count": null,
   "id": "c0edcae4-7873-4b76-bdd9-c04be891a25c",
   "metadata": {},
   "outputs": [],
   "source": [
    "# set the age to use on x axis\n",
    "age = 2019 - bike_cp['member_birth_year']\n",
    "plt.figure(figsize=(10,6))\n",
    "sb.regplot(data = bike_cp, x = age.fillna(age.mean()), y = 'duration_sec', scatter_kws={'alpha':1/20});\n",
    "plt.xlabel('User Age(Year)')\n",
    "plt.ylabel('Ride Duration(Seconds)')\n",
    "plt.title('Relationship Between User Age and Ride Duration', fontsize = 15);"
   ]
  },
  {
   "cell_type": "markdown",
   "id": "76019cf3-69cb-4bec-ad52-dc43db632ec9",
   "metadata": {},
   "source": [
    "Most data fall below the duration of 20000 seconds.  \n",
    "I'll set the limit on the y-axis to see the distribution clearly."
   ]
  },
  {
   "cell_type": "code",
   "execution_count": null,
   "id": "d5d1fb81-00ea-4325-95ad-175fdd771b8b",
   "metadata": {},
   "outputs": [],
   "source": [
    "plt.figure(figsize = [18, 6])\n",
    "\n",
    "age = 2019 - bike_cp['member_birth_year']\n",
    "\n",
    "plt.subplot(1,2,1)\n",
    "\n",
    "plt.scatter(data = bike_cp, x = age.fillna(age.mean()), y = 'duration_sec', marker = '.', alpha = 0.25)\n",
    "# set the limit on y axis to zoom into the distribution\n",
    "plt.ylim([0, 20000])\n",
    "plt.xlabel('User Age(Year)')\n",
    "plt.ylabel('Trip Duration(Seconds)')\n",
    "plt.title('Scatter Plot Relationship Between User Age and Ride Duration', fontsize = 15);\n",
    "\n",
    "plt.subplot(1,2,2)\n",
    "\n",
    "bins_x = np.arange(0, age.max()+5, 5)\n",
    "bins_y = np.arange(0, bike_cp['duration_sec'].max()+50, 1000)\n",
    "\n",
    "plt.hist2d(data = bike_cp, x = age.fillna(age.mean()), y = 'duration_sec', cmin=0.5, cmap='viridis_r', bins = [bins_x, bins_y])\n",
    "plt.colorbar()\n",
    "plt.ylim([0, 20000])\n",
    "plt.xlabel('User Age(Year)')\n",
    "plt.ylabel('Trip Duration(seconds)')\n",
    "plt.title('Heatmap Relationship Between User Age and Ride Duration', fontsize = 15);"
   ]
  },
  {
   "cell_type": "markdown",
   "id": "5df6bde0-f6a0-4ee6-8c1f-44c76e2d1761",
   "metadata": {},
   "source": [
    "### Observation\n",
    "The heatmap shows that most riders age fall within 20 years and 40 years with trip duration not more than 2500 seconds. \n",
    "\n",
    "### Question\n",
    "What is the distribution of average duration by user type ?\n",
    "\n",
    "### Visualization"
   ]
  },
  {
   "cell_type": "code",
   "execution_count": null,
   "id": "dd282c7d-de96-42d3-a47a-3f5efb092c74",
   "metadata": {},
   "outputs": [],
   "source": [
    "# avg duration vs user_type\n",
    "plt.figure(figsize=(10,6))\n",
    "avg = bike_cp['duration_sec']\n",
    "sb.barplot(data=bike_cp, x='user_type', y=avg, color = sb.color_palette()[0]);\n",
    "plt.xlabel('User Type')\n",
    "plt.ylabel('Average Trip Duration(seconds)')\n",
    "plt.title('Average Trip Duration for User Types', fontsize = 15);"
   ]
  },
  {
   "cell_type": "markdown",
   "id": "84989deb-a213-4c7c-9681-2d862561358b",
   "metadata": {},
   "source": [
    "### Observation\n",
    "Customer have two times the average trip duration than Subscriber has. What could be the reason?, I'll plot an histogram to see the individual distribution of the two values"
   ]
  },
  {
   "cell_type": "code",
   "execution_count": null,
   "id": "df24acf8-cf4c-4572-8792-d31a0e881073",
   "metadata": {},
   "outputs": [],
   "source": [
    "# create a dataframe that contains the records on only customers\n",
    "cust = bike_cp.query(\"user_type == 'Customer'\")\n",
    "# create a dataframe that contains the records on only subscribers\n",
    "sub = bike_cp.query(\"user_type == 'Subscriber'\")\n",
    "\n",
    "plt.figure(figsize=(10,6))\n",
    "bins = np.arange(0, 10000, 50)\n",
    "\n",
    "# plot each dataframe\n",
    "plt.hist(cust.duration_sec, bins = bins, label='Customer')\n",
    "plt.hist(sub.duration_sec, bins = bins, alpha=0.25, label='Subscriber')\n",
    "\n",
    "plt.legend()\n",
    "plt.title('Duration Distributions by User Type', fontsize = 15)\n",
    "plt.xlabel('Trip Duration(seconds)', fontsize = 10);"
   ]
  },
  {
   "cell_type": "markdown",
   "id": "292ce11f-7cd0-4c88-9d20-6ef17654de59",
   "metadata": {},
   "source": [
    "### Observation\n",
    "The plot shows that the customer value spreads wide across the duration axis while the subscriber is narrowed to one point.\n",
    "\n",
    "### Question\n",
    "What is the distribution of average duration by start day ?\n",
    "\n",
    "### Visualization"
   ]
  },
  {
   "cell_type": "code",
   "execution_count": null,
   "id": "25fa77cd-a3b0-45df-aebf-b820e7b30a93",
   "metadata": {},
   "outputs": [],
   "source": [
    "# avg duration vs days\n",
    "plt.figure(figsize=(10,6))\n",
    "sb.barplot(data=bike_cp, x='start_day', y='duration_sec', color = sb.color_palette()[0], order = day_order);\n",
    "plt.xlabel('Days of the Week')\n",
    "plt.ylabel('Average Trip Duration(seconds)')\n",
    "plt.title('Average Trip Duration Per Day', fontsize = 15);\n",
    "plt.xticks(rotation = 45);"
   ]
  },
  {
   "cell_type": "markdown",
   "id": "f93e3c5e-6814-4cb7-81bb-5e977064311d",
   "metadata": {},
   "source": [
    "### Observation\n",
    "Weekends are the days that have higher average trip duration, this could be due to the fact that no one is rushing to their destination and the users took the trip for recreation.\n",
    "\n",
    "### Question\n",
    "What is the distribution of average duration by hours of the day?\n",
    "\n",
    "### Visualization"
   ]
  },
  {
   "cell_type": "code",
   "execution_count": null,
   "id": "e10ccc70-3155-4ea8-b9dc-e7233975a558",
   "metadata": {},
   "outputs": [],
   "source": [
    "plt.figure(figsize=(20,5))\n",
    "\n",
    "plt.subplot(1, 2, 1)\n",
    "# plot for start hour\n",
    "sb.barplot(data=bike_cp, x='start_hour', y='duration_sec', color = sb.color_palette()[0]);\n",
    "plt.xlabel('Time of the Day')\n",
    "plt.ylabel('Average Trip Duration(seconds)')\n",
    "plt.title('Average Trip Duration Per Start Time of the Day', fontsize = 15);\n",
    "\n",
    "plt.subplot(1, 2, 2)\n",
    "# plot for end hours\n",
    "sb.barplot(data=bike_cp, x='end_hour', y='duration_sec', color = sb.color_palette()[0]);\n",
    "plt.xlabel('Time of the Day')\n",
    "plt.ylabel('Average Trip Duration(seconds)')\n",
    "plt.title('Average Trip Duration Per End Time of the Day', fontsize = 15);"
   ]
  },
  {
   "cell_type": "markdown",
   "id": "05fbe497-44ac-4af9-93de-6eeeac2e3e5b",
   "metadata": {},
   "source": [
    "### Observation\n",
    "The hours that had highest average trip duration are in the midlle of the night.\n",
    "\n",
    "### Question\n",
    "What is the distribution of user_type by day?\n",
    "\n",
    "### Visualization"
   ]
  },
  {
   "cell_type": "code",
   "execution_count": null,
   "id": "006c1106-e0d5-4b02-9ccb-d809ba8b87f0",
   "metadata": {},
   "outputs": [],
   "source": [
    "plt.figure(figsize=(10,6))\n",
    "sb.countplot(data=bike_cp, x='start_day', order=day_order, hue='user_type', palette = 'Blues')\n",
    "plt.title('Distribution of User Type by Day', fontsize=15)\n",
    "plt.xlabel('Days of Week')\n",
    "plt.ylabel('User Count')\n",
    "plt.legend();"
   ]
  },
  {
   "cell_type": "markdown",
   "id": "40eb70f5-5ff1-464a-bd50-668b420f1e96",
   "metadata": {},
   "source": [
    "### Question\n",
    "What is the distribution of user_type by time_of_day?\n",
    "\n",
    "### Visualization"
   ]
  },
  {
   "cell_type": "code",
   "execution_count": null,
   "id": "8052242d-9c7d-4226-b79e-dd4f9e92ba26",
   "metadata": {},
   "outputs": [],
   "source": [
    "plt.figure(figsize=(10,6))\n",
    "sb.countplot(data=bike_cp, x='start_time_of_day', order=time_order, hue='user_type', palette = 'Blues')\n",
    "plt.title('Distribution of User Type by Time', fontsize=15)\n",
    "plt.xlabel('Time of Day')\n",
    "plt.ylabel('User Count')\n",
    "plt.legend();"
   ]
  },
  {
   "cell_type": "markdown",
   "id": "37973852-31b2-4011-9c6e-381e44da8334",
   "metadata": {},
   "source": [
    "### Observation\n",
    "Thursday is the most popular day of the week and Mornings are the most frequent start times.\n",
    "\n",
    "### Question\n",
    "What is the most popular combination of start station and end station?\n",
    "\n",
    "### Visualization"
   ]
  },
  {
   "cell_type": "code",
   "execution_count": null,
   "id": "7744668c-6de5-4f7c-b269-342eba42f70a",
   "metadata": {},
   "outputs": [],
   "source": [
    "comb = bike_cp.groupby(['start_station_name', 'end_station_name']).size().sort_values(ascending = False)[:10]\n",
    "comb = comb.reset_index(name = 'count')\n",
    "comb"
   ]
  },
  {
   "cell_type": "markdown",
   "id": "c7256b38-1f68-4744-88ce-5bd178aae308",
   "metadata": {},
   "source": [
    "### Observation\n",
    "The most popular combination of start and end station are:\n",
    "\n",
    "start station: Berry St at 4th St.\n",
    "\n",
    "end station: San Francisco Ferry Building, with total count of 337 trips.\n",
    "\n",
    "### Question\n",
    "What is the average trip duration by gender ?\n",
    "### Visualization"
   ]
  },
  {
   "cell_type": "code",
   "execution_count": null,
   "id": "9a9ef5aa-44d9-4e0b-96d5-e9fbdd5eb20e",
   "metadata": {},
   "outputs": [],
   "source": [
    "plt.figure(figsize=(10,6))\n",
    "sb.barplot(data=bike_cp, x='member_gender', y='duration_sec', color = sb.color_palette()[0]);\n",
    "plt.xlabel('User Gender')\n",
    "plt.ylabel('Average Trip Duration(seconds)')\n",
    "plt.title('Average Trip Duration by Gender', fontsize = 15);\n",
    "plt.xticks(rotation = 45);"
   ]
  },
  {
   "cell_type": "markdown",
   "id": "7e16bc52-0a8b-4797-9589-d143329384b2",
   "metadata": {},
   "source": [
    "### Observation\n",
    "'Other' is the gender that has the highest average trip duration. The reason could be the same as why Customers have higher average trip duration than Subscriber. I'll test the theory "
   ]
  },
  {
   "cell_type": "code",
   "execution_count": null,
   "id": "e1ebf086-0952-4d4c-afcc-038f25c96671",
   "metadata": {},
   "outputs": [],
   "source": [
    "# create a dataframe that contains the records on only male users\n",
    "man = bike_cp.query(\"member_gender == 'Male'\")\n",
    "# create a dataframe that contains the records on only female users\n",
    "wmn = bike_cp.query(\"member_gender == 'Female'\")\n",
    "# create a dataframe that contains the records on only other gender\n",
    "oth = bike_cp.query(\"member_gender == 'Other'\")\n",
    "\n",
    "plt.figure(figsize=(10,6))\n",
    "bins = np.arange(0, 10000, 50)\n",
    "\n",
    "# plot histogram of each dataframe\n",
    "plt.hist(man.duration_sec, bins = bins, alpha=0.25, label='Male')\n",
    "plt.hist(wmn.duration_sec, bins = bins, alpha=0.25, label='Female')\n",
    "plt.hist(oth.duration_sec, bins = bins, label='Other')\n",
    "\n",
    "\n",
    "plt.legend()\n",
    "plt.title('Duration Distributions by User Gender', fontsize = 15)\n",
    "plt.xlabel('Trip Duration(seconds)', fontsize = 10);"
   ]
  },
  {
   "cell_type": "markdown",
   "id": "014716af-9307-4ebe-a311-ee06695c36d3",
   "metadata": {},
   "source": [
    "Like earlier, 'Other' is widely distributed across the trip duration axis, hence the reason for it's highest average value."
   ]
  },
  {
   "cell_type": "markdown",
   "id": "49afcbac-8387-4829-85f9-276cd2a9a748",
   "metadata": {},
   "source": [
    "### Talk about some of the relationships you observed in this part of the investigation. How did the feature(s) of interest vary with other features in the dataset?\n",
    "\n",
    "> Trip Duration has dependency on the age of the user. Subscribers have shorter usage times than Customers, same as Other gender compared to Male and Female genders.\n",
    "\n",
    "### Did you observe any interesting relationships between the other features (not the main feature(s) of interest)?\n",
    "\n",
    "> Days of the week and user type , Customer remained on the same level throughout the day except at Night."
   ]
  },
  {
   "cell_type": "code",
   "execution_count": null,
   "id": "0776985b-480d-4d4a-bdfe-6d24697fa756",
   "metadata": {},
   "outputs": [],
   "source": []
  },
  {
   "cell_type": "code",
   "execution_count": null,
   "id": "65e5100e-017f-4bff-a887-327196d8294e",
   "metadata": {},
   "outputs": [],
   "source": []
  }
 ],
 "metadata": {
  "kernelspec": {
   "display_name": "Python 3 (ipykernel)",
   "language": "python",
   "name": "python3"
  },
  "language_info": {
   "codemirror_mode": {
    "name": "ipython",
    "version": 3
   },
   "file_extension": ".py",
   "mimetype": "text/x-python",
   "name": "python",
   "nbconvert_exporter": "python",
   "pygments_lexer": "ipython3",
   "version": "3.9.12"
  }
 },
 "nbformat": 4,
 "nbformat_minor": 5
}
