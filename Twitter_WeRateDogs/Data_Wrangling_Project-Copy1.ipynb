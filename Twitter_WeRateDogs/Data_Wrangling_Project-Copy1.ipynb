{
 "cells": [
  {
   "cell_type": "markdown",
   "metadata": {
    "extensions": {
     "jupyter_dashboards": {
      "version": 1,
      "views": {
       "grid_default": {
        "col": 0,
        "height": 4,
        "hidden": false,
        "row": 0,
        "width": 4
       },
       "report_default": {
        "hidden": false
       }
      }
     }
    }
   },
   "source": [
    "# Project: Wrangling and Analyze Data"
   ]
  },
  {
   "cell_type": "markdown",
   "metadata": {},
   "source": [
    "## Data Gathering\n",
    "In the cell below, gather **all** three pieces of data for this project and load them in the notebook. **Note:** the methods required to gather each data are different.\n",
    "1. Directly download the WeRateDogs Twitter archive data (twitter_archive_enhanced.csv)"
   ]
  },
  {
   "cell_type": "code",
   "execution_count": 1,
   "metadata": {},
   "outputs": [],
   "source": [
    "# import libraries\n",
    "import pandas as pd\n",
    "import numpy as np\n",
    "import matplotlib.pyplot as plt\n",
    "import json\n",
    "import requests\n",
    "\n",
    "%matplotlib inline"
   ]
  },
  {
   "cell_type": "code",
   "execution_count": 2,
   "metadata": {
    "extensions": {
     "jupyter_dashboards": {
      "version": 1,
      "views": {
       "grid_default": {
        "hidden": true
       },
       "report_default": {
        "hidden": true
       }
      }
     }
    }
   },
   "outputs": [],
   "source": [
    "# load the twitter-archive-enhanced.csv into a dataframe\n",
    "twit_arch = pd.read_csv('twitter-archive-enhanced.csv')"
   ]
  },
  {
   "cell_type": "markdown",
   "metadata": {},
   "source": [
    "2. Use the Requests library to download the tweet image prediction (image_predictions.tsv)"
   ]
  },
  {
   "cell_type": "code",
   "execution_count": 3,
   "metadata": {},
   "outputs": [],
   "source": [
    "# downlod the image prediction file programmatically\n",
    "url = 'https://d17h27t6h515a5.cloudfront.net/topher/2017/August/599fd2ad_image-predictions/image-predictions.tsv'\n",
    "response = requests.get(url)\n",
    "\n",
    "with open(url.split('/')[-1], mode = 'wb') as file:\n",
    "    file.write(response.content)"
   ]
  },
  {
   "cell_type": "code",
   "execution_count": 4,
   "metadata": {},
   "outputs": [],
   "source": [
    "# load the image-prediction.tsv into a dataframe\n",
    "image_pred = pd.read_table('image-predictions.tsv')"
   ]
  },
  {
   "cell_type": "markdown",
   "metadata": {},
   "source": [
    "3. Use the Tweepy library to query additional data via the Twitter API (tweet_json.txt)"
   ]
  },
  {
   "cell_type": "code",
   "execution_count": 5,
   "metadata": {},
   "outputs": [],
   "source": [
    "# I have no access to twitter API, so download the tweet-json provided by Udacity\n",
    "data = []\n",
    "with open('tweet-json.txt', 'r')  as file:\n",
    "    for line in file:\n",
    "        data.append(json.loads(line))"
   ]
  },
  {
   "cell_type": "code",
   "execution_count": 6,
   "metadata": {},
   "outputs": [],
   "source": [
    "# extract the contents needed(tweet_id, retweet_count, favorite_count)\n",
    "deets = []\n",
    "for item in data:\n",
    "    tweet_id = item['id']\n",
    "    retweet_count = item['retweet_count']\n",
    "    favorite_count = item['favorite_count']\n",
    "    \n",
    "    deets.append({'tweet_id': tweet_id,\n",
    "                 'retweet_count': retweet_count,\n",
    "                 'favorite_count': favorite_count})"
   ]
  },
  {
   "cell_type": "code",
   "execution_count": 7,
   "metadata": {},
   "outputs": [],
   "source": [
    "# read the extracted content into a dataframe\n",
    "twit_like = pd.DataFrame(deets, columns = ['tweet_id', 'retweet_count', 'favorite_count'])"
   ]
  },
  {
   "cell_type": "markdown",
   "metadata": {
    "extensions": {
     "jupyter_dashboards": {
      "version": 1,
      "views": {
       "grid_default": {
        "col": 4,
        "height": 4,
        "hidden": false,
        "row": 28,
        "width": 4
       },
       "report_default": {
        "hidden": false
       }
      }
     }
    }
   },
   "source": [
    "## Assessing Data\n",
    "In this section, detect and document at least **eight (8) quality issues and two (2) tidiness issue**. You must use **both** visual assessment\n",
    "programmatic assessement to assess the data.\n",
    "\n",
    "**Note:** pay attention to the following key points when you access the data.\n",
    "\n",
    "* You only want original ratings (no retweets) that have images. Though there are 5000+ tweets in the dataset, not all are dog ratings and some are retweets.\n",
    "* Assessing and cleaning the entire dataset completely would require a lot of time, and is not necessary to practice and demonstrate your skills in data wrangling. Therefore, the requirements of this project are only to assess and clean at least 8 quality issues and at least 2 tidiness issues in this dataset.\n",
    "* The fact that the rating numerators are greater than the denominators does not need to be cleaned. This [unique rating system](http://knowyourmeme.com/memes/theyre-good-dogs-brent) is a big part of the popularity of WeRateDogs.\n",
    "* You do not need to gather the tweets beyond August 1st, 2017. You can, but note that you won't be able to gather the image predictions for these tweets since you don't have access to the algorithm used.\n",
    "\n"
   ]
  },
  {
   "cell_type": "code",
   "execution_count": 8,
   "metadata": {
    "tags": []
   },
   "outputs": [
    {
     "data": {
      "text/html": [
       "<div>\n",
       "<style scoped>\n",
       "    .dataframe tbody tr th:only-of-type {\n",
       "        vertical-align: middle;\n",
       "    }\n",
       "\n",
       "    .dataframe tbody tr th {\n",
       "        vertical-align: top;\n",
       "    }\n",
       "\n",
       "    .dataframe thead th {\n",
       "        text-align: right;\n",
       "    }\n",
       "</style>\n",
       "<table border=\"1\" class=\"dataframe\">\n",
       "  <thead>\n",
       "    <tr style=\"text-align: right;\">\n",
       "      <th></th>\n",
       "      <th>tweet_id</th>\n",
       "      <th>in_reply_to_status_id</th>\n",
       "      <th>in_reply_to_user_id</th>\n",
       "      <th>timestamp</th>\n",
       "      <th>source</th>\n",
       "      <th>text</th>\n",
       "      <th>retweeted_status_id</th>\n",
       "      <th>retweeted_status_user_id</th>\n",
       "      <th>retweeted_status_timestamp</th>\n",
       "      <th>expanded_urls</th>\n",
       "      <th>rating_numerator</th>\n",
       "      <th>rating_denominator</th>\n",
       "      <th>name</th>\n",
       "      <th>doggo</th>\n",
       "      <th>floofer</th>\n",
       "      <th>pupper</th>\n",
       "      <th>puppo</th>\n",
       "    </tr>\n",
       "  </thead>\n",
       "  <tbody>\n",
       "    <tr>\n",
       "      <th>2335</th>\n",
       "      <td>666287406224695296</td>\n",
       "      <td>NaN</td>\n",
       "      <td>NaN</td>\n",
       "      <td>2015-11-16 16:11:11 +0000</td>\n",
       "      <td>&lt;a href=\"http://twitter.com/download/iphone\" r...</td>\n",
       "      <td>This is an Albanian 3 1/2 legged  Episcopalian...</td>\n",
       "      <td>NaN</td>\n",
       "      <td>NaN</td>\n",
       "      <td>NaN</td>\n",
       "      <td>https://twitter.com/dog_rates/status/666287406...</td>\n",
       "      <td>1</td>\n",
       "      <td>2</td>\n",
       "      <td>an</td>\n",
       "      <td>None</td>\n",
       "      <td>None</td>\n",
       "      <td>None</td>\n",
       "      <td>None</td>\n",
       "    </tr>\n",
       "    <tr>\n",
       "      <th>972</th>\n",
       "      <td>750086836815486976</td>\n",
       "      <td>NaN</td>\n",
       "      <td>NaN</td>\n",
       "      <td>2016-07-04 22:00:12 +0000</td>\n",
       "      <td>&lt;a href=\"https://about.twitter.com/products/tw...</td>\n",
       "      <td>This is Spanky. He was a member of the 2002 US...</td>\n",
       "      <td>NaN</td>\n",
       "      <td>NaN</td>\n",
       "      <td>NaN</td>\n",
       "      <td>https://twitter.com/dog_rates/status/750086836...</td>\n",
       "      <td>12</td>\n",
       "      <td>10</td>\n",
       "      <td>Spanky</td>\n",
       "      <td>None</td>\n",
       "      <td>None</td>\n",
       "      <td>None</td>\n",
       "      <td>None</td>\n",
       "    </tr>\n",
       "    <tr>\n",
       "      <th>1305</th>\n",
       "      <td>707387676719185920</td>\n",
       "      <td>NaN</td>\n",
       "      <td>NaN</td>\n",
       "      <td>2016-03-09 02:08:59 +0000</td>\n",
       "      <td>&lt;a href=\"http://twitter.com/download/iphone\" r...</td>\n",
       "      <td>Meet Clarkus. He's a Skinny Eastern Worcesters...</td>\n",
       "      <td>NaN</td>\n",
       "      <td>NaN</td>\n",
       "      <td>NaN</td>\n",
       "      <td>https://twitter.com/dog_rates/status/707387676...</td>\n",
       "      <td>10</td>\n",
       "      <td>10</td>\n",
       "      <td>Clarkus</td>\n",
       "      <td>None</td>\n",
       "      <td>None</td>\n",
       "      <td>None</td>\n",
       "      <td>None</td>\n",
       "    </tr>\n",
       "    <tr>\n",
       "      <th>2336</th>\n",
       "      <td>666273097616637952</td>\n",
       "      <td>NaN</td>\n",
       "      <td>NaN</td>\n",
       "      <td>2015-11-16 15:14:19 +0000</td>\n",
       "      <td>&lt;a href=\"http://twitter.com/download/iphone\" r...</td>\n",
       "      <td>Can take selfies 11/10 https://t.co/ws2AMaNwPW</td>\n",
       "      <td>NaN</td>\n",
       "      <td>NaN</td>\n",
       "      <td>NaN</td>\n",
       "      <td>https://twitter.com/dog_rates/status/666273097...</td>\n",
       "      <td>11</td>\n",
       "      <td>10</td>\n",
       "      <td>None</td>\n",
       "      <td>None</td>\n",
       "      <td>None</td>\n",
       "      <td>None</td>\n",
       "      <td>None</td>\n",
       "    </tr>\n",
       "    <tr>\n",
       "      <th>2117</th>\n",
       "      <td>670421925039075328</td>\n",
       "      <td>NaN</td>\n",
       "      <td>NaN</td>\n",
       "      <td>2015-11-28 02:00:17 +0000</td>\n",
       "      <td>&lt;a href=\"http://twitter.com/download/iphone\" r...</td>\n",
       "      <td>Meet Herb. 12/10 https://t.co/tLRyYvCci3</td>\n",
       "      <td>NaN</td>\n",
       "      <td>NaN</td>\n",
       "      <td>NaN</td>\n",
       "      <td>https://twitter.com/dog_rates/status/670421925...</td>\n",
       "      <td>12</td>\n",
       "      <td>10</td>\n",
       "      <td>Herb</td>\n",
       "      <td>None</td>\n",
       "      <td>None</td>\n",
       "      <td>None</td>\n",
       "      <td>None</td>\n",
       "    </tr>\n",
       "  </tbody>\n",
       "</table>\n",
       "</div>"
      ],
      "text/plain": [
       "                tweet_id  in_reply_to_status_id  in_reply_to_user_id  \\\n",
       "2335  666287406224695296                    NaN                  NaN   \n",
       "972   750086836815486976                    NaN                  NaN   \n",
       "1305  707387676719185920                    NaN                  NaN   \n",
       "2336  666273097616637952                    NaN                  NaN   \n",
       "2117  670421925039075328                    NaN                  NaN   \n",
       "\n",
       "                      timestamp  \\\n",
       "2335  2015-11-16 16:11:11 +0000   \n",
       "972   2016-07-04 22:00:12 +0000   \n",
       "1305  2016-03-09 02:08:59 +0000   \n",
       "2336  2015-11-16 15:14:19 +0000   \n",
       "2117  2015-11-28 02:00:17 +0000   \n",
       "\n",
       "                                                 source  \\\n",
       "2335  <a href=\"http://twitter.com/download/iphone\" r...   \n",
       "972   <a href=\"https://about.twitter.com/products/tw...   \n",
       "1305  <a href=\"http://twitter.com/download/iphone\" r...   \n",
       "2336  <a href=\"http://twitter.com/download/iphone\" r...   \n",
       "2117  <a href=\"http://twitter.com/download/iphone\" r...   \n",
       "\n",
       "                                                   text  retweeted_status_id  \\\n",
       "2335  This is an Albanian 3 1/2 legged  Episcopalian...                  NaN   \n",
       "972   This is Spanky. He was a member of the 2002 US...                  NaN   \n",
       "1305  Meet Clarkus. He's a Skinny Eastern Worcesters...                  NaN   \n",
       "2336     Can take selfies 11/10 https://t.co/ws2AMaNwPW                  NaN   \n",
       "2117           Meet Herb. 12/10 https://t.co/tLRyYvCci3                  NaN   \n",
       "\n",
       "      retweeted_status_user_id retweeted_status_timestamp  \\\n",
       "2335                       NaN                        NaN   \n",
       "972                        NaN                        NaN   \n",
       "1305                       NaN                        NaN   \n",
       "2336                       NaN                        NaN   \n",
       "2117                       NaN                        NaN   \n",
       "\n",
       "                                          expanded_urls  rating_numerator  \\\n",
       "2335  https://twitter.com/dog_rates/status/666287406...                 1   \n",
       "972   https://twitter.com/dog_rates/status/750086836...                12   \n",
       "1305  https://twitter.com/dog_rates/status/707387676...                10   \n",
       "2336  https://twitter.com/dog_rates/status/666273097...                11   \n",
       "2117  https://twitter.com/dog_rates/status/670421925...                12   \n",
       "\n",
       "      rating_denominator     name doggo floofer pupper puppo  \n",
       "2335                   2       an  None    None   None  None  \n",
       "972                   10   Spanky  None    None   None  None  \n",
       "1305                  10  Clarkus  None    None   None  None  \n",
       "2336                  10     None  None    None   None  None  \n",
       "2117                  10     Herb  None    None   None  None  "
      ]
     },
     "execution_count": 8,
     "metadata": {},
     "output_type": "execute_result"
    }
   ],
   "source": [
    "# First assess the tables (twitter-archive-enhanced) visually with google sheets, or any other program, for review, I'll use pandas .sample() function\n",
    "twit_arch.sample(5)"
   ]
  },
  {
   "cell_type": "code",
   "execution_count": 9,
   "metadata": {},
   "outputs": [
    {
     "data": {
      "text/html": [
       "<div>\n",
       "<style scoped>\n",
       "    .dataframe tbody tr th:only-of-type {\n",
       "        vertical-align: middle;\n",
       "    }\n",
       "\n",
       "    .dataframe tbody tr th {\n",
       "        vertical-align: top;\n",
       "    }\n",
       "\n",
       "    .dataframe thead th {\n",
       "        text-align: right;\n",
       "    }\n",
       "</style>\n",
       "<table border=\"1\" class=\"dataframe\">\n",
       "  <thead>\n",
       "    <tr style=\"text-align: right;\">\n",
       "      <th></th>\n",
       "      <th>tweet_id</th>\n",
       "      <th>jpg_url</th>\n",
       "      <th>img_num</th>\n",
       "      <th>p1</th>\n",
       "      <th>p1_conf</th>\n",
       "      <th>p1_dog</th>\n",
       "      <th>p2</th>\n",
       "      <th>p2_conf</th>\n",
       "      <th>p2_dog</th>\n",
       "      <th>p3</th>\n",
       "      <th>p3_conf</th>\n",
       "      <th>p3_dog</th>\n",
       "    </tr>\n",
       "  </thead>\n",
       "  <tbody>\n",
       "    <tr>\n",
       "      <th>796</th>\n",
       "      <td>690959652130045952</td>\n",
       "      <td>https://pbs.twimg.com/media/CZbIIM-WkAIPClg.jpg</td>\n",
       "      <td>2</td>\n",
       "      <td>golden_retriever</td>\n",
       "      <td>0.862964</td>\n",
       "      <td>True</td>\n",
       "      <td>Labrador_retriever</td>\n",
       "      <td>0.044865</td>\n",
       "      <td>True</td>\n",
       "      <td>Saluki</td>\n",
       "      <td>0.012468</td>\n",
       "      <td>True</td>\n",
       "    </tr>\n",
       "    <tr>\n",
       "      <th>1691</th>\n",
       "      <td>815966073409433600</td>\n",
       "      <td>https://pbs.twimg.com/ext_tw_video_thumb/81596...</td>\n",
       "      <td>1</td>\n",
       "      <td>Tibetan_mastiff</td>\n",
       "      <td>0.506312</td>\n",
       "      <td>True</td>\n",
       "      <td>Tibetan_terrier</td>\n",
       "      <td>0.295690</td>\n",
       "      <td>True</td>\n",
       "      <td>otterhound</td>\n",
       "      <td>0.036251</td>\n",
       "      <td>True</td>\n",
       "    </tr>\n",
       "    <tr>\n",
       "      <th>340</th>\n",
       "      <td>672248013293752320</td>\n",
       "      <td>https://pbs.twimg.com/media/CVROAIfWsAECA5t.jpg</td>\n",
       "      <td>1</td>\n",
       "      <td>Irish_terrier</td>\n",
       "      <td>0.413173</td>\n",
       "      <td>True</td>\n",
       "      <td>Airedale</td>\n",
       "      <td>0.335616</td>\n",
       "      <td>True</td>\n",
       "      <td>toy_poodle</td>\n",
       "      <td>0.027952</td>\n",
       "      <td>True</td>\n",
       "    </tr>\n",
       "    <tr>\n",
       "      <th>1382</th>\n",
       "      <td>765395769549590528</td>\n",
       "      <td>https://pbs.twimg.com/media/Cp87Y0jXYAQyjuV.jpg</td>\n",
       "      <td>1</td>\n",
       "      <td>Pembroke</td>\n",
       "      <td>0.509491</td>\n",
       "      <td>True</td>\n",
       "      <td>Cardigan</td>\n",
       "      <td>0.330401</td>\n",
       "      <td>True</td>\n",
       "      <td>Shetland_sheepdog</td>\n",
       "      <td>0.038875</td>\n",
       "      <td>True</td>\n",
       "    </tr>\n",
       "    <tr>\n",
       "      <th>219</th>\n",
       "      <td>670079681849372674</td>\n",
       "      <td>https://pbs.twimg.com/media/CUyZ6mVW4AI8YWZ.jpg</td>\n",
       "      <td>1</td>\n",
       "      <td>mud_turtle</td>\n",
       "      <td>0.157477</td>\n",
       "      <td>False</td>\n",
       "      <td>terrapin</td>\n",
       "      <td>0.131846</td>\n",
       "      <td>False</td>\n",
       "      <td>box_turtle</td>\n",
       "      <td>0.060678</td>\n",
       "      <td>False</td>\n",
       "    </tr>\n",
       "  </tbody>\n",
       "</table>\n",
       "</div>"
      ],
      "text/plain": [
       "                tweet_id                                            jpg_url  \\\n",
       "796   690959652130045952    https://pbs.twimg.com/media/CZbIIM-WkAIPClg.jpg   \n",
       "1691  815966073409433600  https://pbs.twimg.com/ext_tw_video_thumb/81596...   \n",
       "340   672248013293752320    https://pbs.twimg.com/media/CVROAIfWsAECA5t.jpg   \n",
       "1382  765395769549590528    https://pbs.twimg.com/media/Cp87Y0jXYAQyjuV.jpg   \n",
       "219   670079681849372674    https://pbs.twimg.com/media/CUyZ6mVW4AI8YWZ.jpg   \n",
       "\n",
       "      img_num                p1   p1_conf  p1_dog                  p2  \\\n",
       "796         2  golden_retriever  0.862964    True  Labrador_retriever   \n",
       "1691        1   Tibetan_mastiff  0.506312    True     Tibetan_terrier   \n",
       "340         1     Irish_terrier  0.413173    True            Airedale   \n",
       "1382        1          Pembroke  0.509491    True            Cardigan   \n",
       "219         1        mud_turtle  0.157477   False            terrapin   \n",
       "\n",
       "       p2_conf  p2_dog                 p3   p3_conf  p3_dog  \n",
       "796   0.044865    True             Saluki  0.012468    True  \n",
       "1691  0.295690    True         otterhound  0.036251    True  \n",
       "340   0.335616    True         toy_poodle  0.027952    True  \n",
       "1382  0.330401    True  Shetland_sheepdog  0.038875    True  \n",
       "219   0.131846   False         box_turtle  0.060678   False  "
      ]
     },
     "execution_count": 9,
     "metadata": {},
     "output_type": "execute_result"
    }
   ],
   "source": [
    "# Assess the tables(image-prediction) visually\n",
    "image_pred.sample(5)"
   ]
  },
  {
   "cell_type": "code",
   "execution_count": 10,
   "metadata": {
    "tags": []
   },
   "outputs": [
    {
     "data": {
      "text/html": [
       "<div>\n",
       "<style scoped>\n",
       "    .dataframe tbody tr th:only-of-type {\n",
       "        vertical-align: middle;\n",
       "    }\n",
       "\n",
       "    .dataframe tbody tr th {\n",
       "        vertical-align: top;\n",
       "    }\n",
       "\n",
       "    .dataframe thead th {\n",
       "        text-align: right;\n",
       "    }\n",
       "</style>\n",
       "<table border=\"1\" class=\"dataframe\">\n",
       "  <thead>\n",
       "    <tr style=\"text-align: right;\">\n",
       "      <th></th>\n",
       "      <th>tweet_id</th>\n",
       "      <th>retweet_count</th>\n",
       "      <th>favorite_count</th>\n",
       "    </tr>\n",
       "  </thead>\n",
       "  <tbody>\n",
       "    <tr>\n",
       "      <th>1870</th>\n",
       "      <td>675146535592706048</td>\n",
       "      <td>349</td>\n",
       "      <td>1300</td>\n",
       "    </tr>\n",
       "    <tr>\n",
       "      <th>186</th>\n",
       "      <td>856282028240666624</td>\n",
       "      <td>6841</td>\n",
       "      <td>29086</td>\n",
       "    </tr>\n",
       "    <tr>\n",
       "      <th>2215</th>\n",
       "      <td>668528771708952576</td>\n",
       "      <td>242</td>\n",
       "      <td>496</td>\n",
       "    </tr>\n",
       "    <tr>\n",
       "      <th>1293</th>\n",
       "      <td>707983188426153984</td>\n",
       "      <td>2</td>\n",
       "      <td>52</td>\n",
       "    </tr>\n",
       "    <tr>\n",
       "      <th>979</th>\n",
       "      <td>749417653287129088</td>\n",
       "      <td>1904</td>\n",
       "      <td>6721</td>\n",
       "    </tr>\n",
       "  </tbody>\n",
       "</table>\n",
       "</div>"
      ],
      "text/plain": [
       "                tweet_id  retweet_count  favorite_count\n",
       "1870  675146535592706048            349            1300\n",
       "186   856282028240666624           6841           29086\n",
       "2215  668528771708952576            242             496\n",
       "1293  707983188426153984              2              52\n",
       "979   749417653287129088           1904            6721"
      ]
     },
     "execution_count": 10,
     "metadata": {},
     "output_type": "execute_result"
    }
   ],
   "source": [
    "# Assess the tables(retweet and tweet likes) visually\n",
    "twit_like.sample(5)"
   ]
  },
  {
   "cell_type": "markdown",
   "metadata": {},
   "source": [
    "Assess each table programatically with pandas methods or functions(.head(), .describe(), .duplicated(), .info(), e.t.c)"
   ]
  },
  {
   "cell_type": "code",
   "execution_count": 11,
   "metadata": {},
   "outputs": [
    {
     "name": "stdout",
     "output_type": "stream",
     "text": [
      "<class 'pandas.core.frame.DataFrame'>\n",
      "RangeIndex: 2356 entries, 0 to 2355\n",
      "Data columns (total 17 columns):\n",
      " #   Column                      Non-Null Count  Dtype  \n",
      "---  ------                      --------------  -----  \n",
      " 0   tweet_id                    2356 non-null   int64  \n",
      " 1   in_reply_to_status_id       78 non-null     float64\n",
      " 2   in_reply_to_user_id         78 non-null     float64\n",
      " 3   timestamp                   2356 non-null   object \n",
      " 4   source                      2356 non-null   object \n",
      " 5   text                        2356 non-null   object \n",
      " 6   retweeted_status_id         181 non-null    float64\n",
      " 7   retweeted_status_user_id    181 non-null    float64\n",
      " 8   retweeted_status_timestamp  181 non-null    object \n",
      " 9   expanded_urls               2297 non-null   object \n",
      " 10  rating_numerator            2356 non-null   int64  \n",
      " 11  rating_denominator          2356 non-null   int64  \n",
      " 12  name                        2356 non-null   object \n",
      " 13  doggo                       2356 non-null   object \n",
      " 14  floofer                     2356 non-null   object \n",
      " 15  pupper                      2356 non-null   object \n",
      " 16  puppo                       2356 non-null   object \n",
      "dtypes: float64(4), int64(3), object(10)\n",
      "memory usage: 313.0+ KB\n"
     ]
    }
   ],
   "source": [
    "# Assess each table programatically (twitter-archive-enhanced)\n",
    "twit_arch.info()"
   ]
  },
  {
   "cell_type": "code",
   "execution_count": 12,
   "metadata": {},
   "outputs": [
    {
     "data": {
      "text/html": [
       "<div>\n",
       "<style scoped>\n",
       "    .dataframe tbody tr th:only-of-type {\n",
       "        vertical-align: middle;\n",
       "    }\n",
       "\n",
       "    .dataframe tbody tr th {\n",
       "        vertical-align: top;\n",
       "    }\n",
       "\n",
       "    .dataframe thead th {\n",
       "        text-align: right;\n",
       "    }\n",
       "</style>\n",
       "<table border=\"1\" class=\"dataframe\">\n",
       "  <thead>\n",
       "    <tr style=\"text-align: right;\">\n",
       "      <th></th>\n",
       "      <th>tweet_id</th>\n",
       "      <th>in_reply_to_status_id</th>\n",
       "      <th>in_reply_to_user_id</th>\n",
       "      <th>retweeted_status_id</th>\n",
       "      <th>retweeted_status_user_id</th>\n",
       "      <th>rating_numerator</th>\n",
       "      <th>rating_denominator</th>\n",
       "    </tr>\n",
       "  </thead>\n",
       "  <tbody>\n",
       "    <tr>\n",
       "      <th>count</th>\n",
       "      <td>2.356000e+03</td>\n",
       "      <td>7.800000e+01</td>\n",
       "      <td>7.800000e+01</td>\n",
       "      <td>1.810000e+02</td>\n",
       "      <td>1.810000e+02</td>\n",
       "      <td>2356.000000</td>\n",
       "      <td>2356.000000</td>\n",
       "    </tr>\n",
       "    <tr>\n",
       "      <th>mean</th>\n",
       "      <td>7.427716e+17</td>\n",
       "      <td>7.455079e+17</td>\n",
       "      <td>2.014171e+16</td>\n",
       "      <td>7.720400e+17</td>\n",
       "      <td>1.241698e+16</td>\n",
       "      <td>13.126486</td>\n",
       "      <td>10.455433</td>\n",
       "    </tr>\n",
       "    <tr>\n",
       "      <th>std</th>\n",
       "      <td>6.856705e+16</td>\n",
       "      <td>7.582492e+16</td>\n",
       "      <td>1.252797e+17</td>\n",
       "      <td>6.236928e+16</td>\n",
       "      <td>9.599254e+16</td>\n",
       "      <td>45.876648</td>\n",
       "      <td>6.745237</td>\n",
       "    </tr>\n",
       "    <tr>\n",
       "      <th>min</th>\n",
       "      <td>6.660209e+17</td>\n",
       "      <td>6.658147e+17</td>\n",
       "      <td>1.185634e+07</td>\n",
       "      <td>6.661041e+17</td>\n",
       "      <td>7.832140e+05</td>\n",
       "      <td>0.000000</td>\n",
       "      <td>0.000000</td>\n",
       "    </tr>\n",
       "    <tr>\n",
       "      <th>25%</th>\n",
       "      <td>6.783989e+17</td>\n",
       "      <td>6.757419e+17</td>\n",
       "      <td>3.086374e+08</td>\n",
       "      <td>7.186315e+17</td>\n",
       "      <td>4.196984e+09</td>\n",
       "      <td>10.000000</td>\n",
       "      <td>10.000000</td>\n",
       "    </tr>\n",
       "    <tr>\n",
       "      <th>50%</th>\n",
       "      <td>7.196279e+17</td>\n",
       "      <td>7.038708e+17</td>\n",
       "      <td>4.196984e+09</td>\n",
       "      <td>7.804657e+17</td>\n",
       "      <td>4.196984e+09</td>\n",
       "      <td>11.000000</td>\n",
       "      <td>10.000000</td>\n",
       "    </tr>\n",
       "    <tr>\n",
       "      <th>75%</th>\n",
       "      <td>7.993373e+17</td>\n",
       "      <td>8.257804e+17</td>\n",
       "      <td>4.196984e+09</td>\n",
       "      <td>8.203146e+17</td>\n",
       "      <td>4.196984e+09</td>\n",
       "      <td>12.000000</td>\n",
       "      <td>10.000000</td>\n",
       "    </tr>\n",
       "    <tr>\n",
       "      <th>max</th>\n",
       "      <td>8.924206e+17</td>\n",
       "      <td>8.862664e+17</td>\n",
       "      <td>8.405479e+17</td>\n",
       "      <td>8.874740e+17</td>\n",
       "      <td>7.874618e+17</td>\n",
       "      <td>1776.000000</td>\n",
       "      <td>170.000000</td>\n",
       "    </tr>\n",
       "  </tbody>\n",
       "</table>\n",
       "</div>"
      ],
      "text/plain": [
       "           tweet_id  in_reply_to_status_id  in_reply_to_user_id  \\\n",
       "count  2.356000e+03           7.800000e+01         7.800000e+01   \n",
       "mean   7.427716e+17           7.455079e+17         2.014171e+16   \n",
       "std    6.856705e+16           7.582492e+16         1.252797e+17   \n",
       "min    6.660209e+17           6.658147e+17         1.185634e+07   \n",
       "25%    6.783989e+17           6.757419e+17         3.086374e+08   \n",
       "50%    7.196279e+17           7.038708e+17         4.196984e+09   \n",
       "75%    7.993373e+17           8.257804e+17         4.196984e+09   \n",
       "max    8.924206e+17           8.862664e+17         8.405479e+17   \n",
       "\n",
       "       retweeted_status_id  retweeted_status_user_id  rating_numerator  \\\n",
       "count         1.810000e+02              1.810000e+02       2356.000000   \n",
       "mean          7.720400e+17              1.241698e+16         13.126486   \n",
       "std           6.236928e+16              9.599254e+16         45.876648   \n",
       "min           6.661041e+17              7.832140e+05          0.000000   \n",
       "25%           7.186315e+17              4.196984e+09         10.000000   \n",
       "50%           7.804657e+17              4.196984e+09         11.000000   \n",
       "75%           8.203146e+17              4.196984e+09         12.000000   \n",
       "max           8.874740e+17              7.874618e+17       1776.000000   \n",
       "\n",
       "       rating_denominator  \n",
       "count         2356.000000  \n",
       "mean            10.455433  \n",
       "std              6.745237  \n",
       "min              0.000000  \n",
       "25%             10.000000  \n",
       "50%             10.000000  \n",
       "75%             10.000000  \n",
       "max            170.000000  "
      ]
     },
     "execution_count": 12,
     "metadata": {},
     "output_type": "execute_result"
    }
   ],
   "source": [
    "# show statistical summary of table\n",
    "twit_arch.describe()"
   ]
  },
  {
   "cell_type": "code",
   "execution_count": 13,
   "metadata": {},
   "outputs": [
    {
     "data": {
      "text/plain": [
       "0"
      ]
     },
     "execution_count": 13,
     "metadata": {},
     "output_type": "execute_result"
    }
   ],
   "source": [
    "# check number of duplicated rows\n",
    "sum(twit_arch.duplicated())"
   ]
  },
  {
   "cell_type": "code",
   "execution_count": 14,
   "metadata": {},
   "outputs": [
    {
     "data": {
      "text/plain": [
       "tweet_id                         0\n",
       "in_reply_to_status_id         2278\n",
       "in_reply_to_user_id           2278\n",
       "timestamp                        0\n",
       "source                           0\n",
       "text                             0\n",
       "retweeted_status_id           2175\n",
       "retweeted_status_user_id      2175\n",
       "retweeted_status_timestamp    2175\n",
       "expanded_urls                   59\n",
       "rating_numerator                 0\n",
       "rating_denominator               0\n",
       "name                             0\n",
       "doggo                            0\n",
       "floofer                          0\n",
       "pupper                           0\n",
       "puppo                            0\n",
       "dtype: int64"
      ]
     },
     "execution_count": 14,
     "metadata": {},
     "output_type": "execute_result"
    }
   ],
   "source": [
    "# show number of missing values in each column\n",
    "twit_arch.isna().sum()"
   ]
  },
  {
   "cell_type": "code",
   "execution_count": 15,
   "metadata": {},
   "outputs": [
    {
     "name": "stdout",
     "output_type": "stream",
     "text": [
      "<class 'pandas.core.frame.DataFrame'>\n",
      "RangeIndex: 2075 entries, 0 to 2074\n",
      "Data columns (total 12 columns):\n",
      " #   Column    Non-Null Count  Dtype  \n",
      "---  ------    --------------  -----  \n",
      " 0   tweet_id  2075 non-null   int64  \n",
      " 1   jpg_url   2075 non-null   object \n",
      " 2   img_num   2075 non-null   int64  \n",
      " 3   p1        2075 non-null   object \n",
      " 4   p1_conf   2075 non-null   float64\n",
      " 5   p1_dog    2075 non-null   bool   \n",
      " 6   p2        2075 non-null   object \n",
      " 7   p2_conf   2075 non-null   float64\n",
      " 8   p2_dog    2075 non-null   bool   \n",
      " 9   p3        2075 non-null   object \n",
      " 10  p3_conf   2075 non-null   float64\n",
      " 11  p3_dog    2075 non-null   bool   \n",
      "dtypes: bool(3), float64(3), int64(2), object(4)\n",
      "memory usage: 152.1+ KB\n"
     ]
    }
   ],
   "source": [
    "# Assess each table programatically (image-prediction)\n",
    "image_pred.info()"
   ]
  },
  {
   "cell_type": "code",
   "execution_count": 16,
   "metadata": {},
   "outputs": [
    {
     "data": {
      "text/html": [
       "<div>\n",
       "<style scoped>\n",
       "    .dataframe tbody tr th:only-of-type {\n",
       "        vertical-align: middle;\n",
       "    }\n",
       "\n",
       "    .dataframe tbody tr th {\n",
       "        vertical-align: top;\n",
       "    }\n",
       "\n",
       "    .dataframe thead th {\n",
       "        text-align: right;\n",
       "    }\n",
       "</style>\n",
       "<table border=\"1\" class=\"dataframe\">\n",
       "  <thead>\n",
       "    <tr style=\"text-align: right;\">\n",
       "      <th></th>\n",
       "      <th>tweet_id</th>\n",
       "      <th>img_num</th>\n",
       "      <th>p1_conf</th>\n",
       "      <th>p2_conf</th>\n",
       "      <th>p3_conf</th>\n",
       "    </tr>\n",
       "  </thead>\n",
       "  <tbody>\n",
       "    <tr>\n",
       "      <th>count</th>\n",
       "      <td>2.075000e+03</td>\n",
       "      <td>2075.000000</td>\n",
       "      <td>2075.000000</td>\n",
       "      <td>2.075000e+03</td>\n",
       "      <td>2.075000e+03</td>\n",
       "    </tr>\n",
       "    <tr>\n",
       "      <th>mean</th>\n",
       "      <td>7.384514e+17</td>\n",
       "      <td>1.203855</td>\n",
       "      <td>0.594548</td>\n",
       "      <td>1.345886e-01</td>\n",
       "      <td>6.032417e-02</td>\n",
       "    </tr>\n",
       "    <tr>\n",
       "      <th>std</th>\n",
       "      <td>6.785203e+16</td>\n",
       "      <td>0.561875</td>\n",
       "      <td>0.271174</td>\n",
       "      <td>1.006657e-01</td>\n",
       "      <td>5.090593e-02</td>\n",
       "    </tr>\n",
       "    <tr>\n",
       "      <th>min</th>\n",
       "      <td>6.660209e+17</td>\n",
       "      <td>1.000000</td>\n",
       "      <td>0.044333</td>\n",
       "      <td>1.011300e-08</td>\n",
       "      <td>1.740170e-10</td>\n",
       "    </tr>\n",
       "    <tr>\n",
       "      <th>25%</th>\n",
       "      <td>6.764835e+17</td>\n",
       "      <td>1.000000</td>\n",
       "      <td>0.364412</td>\n",
       "      <td>5.388625e-02</td>\n",
       "      <td>1.622240e-02</td>\n",
       "    </tr>\n",
       "    <tr>\n",
       "      <th>50%</th>\n",
       "      <td>7.119988e+17</td>\n",
       "      <td>1.000000</td>\n",
       "      <td>0.588230</td>\n",
       "      <td>1.181810e-01</td>\n",
       "      <td>4.944380e-02</td>\n",
       "    </tr>\n",
       "    <tr>\n",
       "      <th>75%</th>\n",
       "      <td>7.932034e+17</td>\n",
       "      <td>1.000000</td>\n",
       "      <td>0.843855</td>\n",
       "      <td>1.955655e-01</td>\n",
       "      <td>9.180755e-02</td>\n",
       "    </tr>\n",
       "    <tr>\n",
       "      <th>max</th>\n",
       "      <td>8.924206e+17</td>\n",
       "      <td>4.000000</td>\n",
       "      <td>1.000000</td>\n",
       "      <td>4.880140e-01</td>\n",
       "      <td>2.734190e-01</td>\n",
       "    </tr>\n",
       "  </tbody>\n",
       "</table>\n",
       "</div>"
      ],
      "text/plain": [
       "           tweet_id      img_num      p1_conf       p2_conf       p3_conf\n",
       "count  2.075000e+03  2075.000000  2075.000000  2.075000e+03  2.075000e+03\n",
       "mean   7.384514e+17     1.203855     0.594548  1.345886e-01  6.032417e-02\n",
       "std    6.785203e+16     0.561875     0.271174  1.006657e-01  5.090593e-02\n",
       "min    6.660209e+17     1.000000     0.044333  1.011300e-08  1.740170e-10\n",
       "25%    6.764835e+17     1.000000     0.364412  5.388625e-02  1.622240e-02\n",
       "50%    7.119988e+17     1.000000     0.588230  1.181810e-01  4.944380e-02\n",
       "75%    7.932034e+17     1.000000     0.843855  1.955655e-01  9.180755e-02\n",
       "max    8.924206e+17     4.000000     1.000000  4.880140e-01  2.734190e-01"
      ]
     },
     "execution_count": 16,
     "metadata": {},
     "output_type": "execute_result"
    }
   ],
   "source": [
    "# show statistical summary of table\n",
    "image_pred.describe()"
   ]
  },
  {
   "cell_type": "code",
   "execution_count": 17,
   "metadata": {},
   "outputs": [
    {
     "data": {
      "text/plain": [
       "0"
      ]
     },
     "execution_count": 17,
     "metadata": {},
     "output_type": "execute_result"
    }
   ],
   "source": [
    "# check number of duplicated rows\n",
    "sum(image_pred.duplicated())"
   ]
  },
  {
   "cell_type": "code",
   "execution_count": 18,
   "metadata": {},
   "outputs": [
    {
     "name": "stdout",
     "output_type": "stream",
     "text": [
      "<class 'pandas.core.frame.DataFrame'>\n",
      "RangeIndex: 2354 entries, 0 to 2353\n",
      "Data columns (total 3 columns):\n",
      " #   Column          Non-Null Count  Dtype\n",
      "---  ------          --------------  -----\n",
      " 0   tweet_id        2354 non-null   int64\n",
      " 1   retweet_count   2354 non-null   int64\n",
      " 2   favorite_count  2354 non-null   int64\n",
      "dtypes: int64(3)\n",
      "memory usage: 55.3 KB\n"
     ]
    }
   ],
   "source": [
    "# Assess each table programatically (tweet-json)\n",
    "twit_like.info()"
   ]
  },
  {
   "cell_type": "code",
   "execution_count": 19,
   "metadata": {},
   "outputs": [
    {
     "data": {
      "text/html": [
       "<div>\n",
       "<style scoped>\n",
       "    .dataframe tbody tr th:only-of-type {\n",
       "        vertical-align: middle;\n",
       "    }\n",
       "\n",
       "    .dataframe tbody tr th {\n",
       "        vertical-align: top;\n",
       "    }\n",
       "\n",
       "    .dataframe thead th {\n",
       "        text-align: right;\n",
       "    }\n",
       "</style>\n",
       "<table border=\"1\" class=\"dataframe\">\n",
       "  <thead>\n",
       "    <tr style=\"text-align: right;\">\n",
       "      <th></th>\n",
       "      <th>tweet_id</th>\n",
       "      <th>retweet_count</th>\n",
       "      <th>favorite_count</th>\n",
       "    </tr>\n",
       "  </thead>\n",
       "  <tbody>\n",
       "    <tr>\n",
       "      <th>count</th>\n",
       "      <td>2.354000e+03</td>\n",
       "      <td>2354.000000</td>\n",
       "      <td>2354.000000</td>\n",
       "    </tr>\n",
       "    <tr>\n",
       "      <th>mean</th>\n",
       "      <td>7.426978e+17</td>\n",
       "      <td>3164.797366</td>\n",
       "      <td>8080.968564</td>\n",
       "    </tr>\n",
       "    <tr>\n",
       "      <th>std</th>\n",
       "      <td>6.852812e+16</td>\n",
       "      <td>5284.770364</td>\n",
       "      <td>11814.771334</td>\n",
       "    </tr>\n",
       "    <tr>\n",
       "      <th>min</th>\n",
       "      <td>6.660209e+17</td>\n",
       "      <td>0.000000</td>\n",
       "      <td>0.000000</td>\n",
       "    </tr>\n",
       "    <tr>\n",
       "      <th>25%</th>\n",
       "      <td>6.783975e+17</td>\n",
       "      <td>624.500000</td>\n",
       "      <td>1415.000000</td>\n",
       "    </tr>\n",
       "    <tr>\n",
       "      <th>50%</th>\n",
       "      <td>7.194596e+17</td>\n",
       "      <td>1473.500000</td>\n",
       "      <td>3603.500000</td>\n",
       "    </tr>\n",
       "    <tr>\n",
       "      <th>75%</th>\n",
       "      <td>7.993058e+17</td>\n",
       "      <td>3652.000000</td>\n",
       "      <td>10122.250000</td>\n",
       "    </tr>\n",
       "    <tr>\n",
       "      <th>max</th>\n",
       "      <td>8.924206e+17</td>\n",
       "      <td>79515.000000</td>\n",
       "      <td>132810.000000</td>\n",
       "    </tr>\n",
       "  </tbody>\n",
       "</table>\n",
       "</div>"
      ],
      "text/plain": [
       "           tweet_id  retweet_count  favorite_count\n",
       "count  2.354000e+03    2354.000000     2354.000000\n",
       "mean   7.426978e+17    3164.797366     8080.968564\n",
       "std    6.852812e+16    5284.770364    11814.771334\n",
       "min    6.660209e+17       0.000000        0.000000\n",
       "25%    6.783975e+17     624.500000     1415.000000\n",
       "50%    7.194596e+17    1473.500000     3603.500000\n",
       "75%    7.993058e+17    3652.000000    10122.250000\n",
       "max    8.924206e+17   79515.000000   132810.000000"
      ]
     },
     "execution_count": 19,
     "metadata": {},
     "output_type": "execute_result"
    }
   ],
   "source": [
    "# show statistical summary of table\n",
    "twit_like.describe()"
   ]
  },
  {
   "cell_type": "code",
   "execution_count": 20,
   "metadata": {},
   "outputs": [
    {
     "data": {
      "text/plain": [
       "0"
      ]
     },
     "execution_count": 20,
     "metadata": {},
     "output_type": "execute_result"
    }
   ],
   "source": [
    "# check number of duplicated rows\n",
    "sum(twit_like.duplicated())"
   ]
  },
  {
   "cell_type": "markdown",
   "metadata": {},
   "source": [
    "### Quality issues\n",
    "1. twitter-archive-enhanced table: Source column is not in a proper format\n",
    "\n",
    "2. twitter-archive-enhanced table: Columns that are not relevant to analysis are present\n",
    "\n",
    "3. twitter-archive-enhanced table: incorrect datatype for timestamp column\n",
    "\n",
    "4. image-prediction table: missing records leading to incomplete dataset (2075 out of 2356)\n",
    "\n",
    "5. twitter-archive-enhanced table: Null values represented as None in name column\n",
    "\n",
    "6. image-prediction table: some values in P1, P2 ans p3 columns begin with lowercase\n",
    "\n",
    "7. twitter-archive-enhanced table: maximum and minimum value for rating_denominator column are 170 and 0 instead of 10\n",
    "\n",
    "8. image-preiction table: p1, p2 and p3 column values containing underscore(_)"
   ]
  },
  {
   "cell_type": "markdown",
   "metadata": {
    "extensions": {
     "jupyter_dashboards": {
      "version": 1,
      "views": {
       "grid_default": {
        "col": 0,
        "height": 7,
        "hidden": false,
        "row": 40,
        "width": 12
       },
       "report_default": {
        "hidden": false
       }
      }
     }
    }
   },
   "source": [
    "### Tidiness issues\n",
    "1. twitter-archive-enhanced table: Dog stages are divided into columns \n",
    "\n",
    "2. image-preiction table: names of columns are not explanatory"
   ]
  },
  {
   "cell_type": "markdown",
   "metadata": {
    "extensions": {
     "jupyter_dashboards": {
      "version": 1,
      "views": {
       "grid_default": {
        "col": 4,
        "height": 4,
        "hidden": false,
        "row": 32,
        "width": 4
       },
       "report_default": {
        "hidden": false
       }
      }
     }
    }
   },
   "source": [
    "## Cleaning Data\n",
    "In this section, clean **all** of the issues you documented while assessing. \n",
    "\n",
    "**Note:** Make a copy of the original data before cleaning. Cleaning includes merging individual pieces of data according to the rules of [tidy data](https://cran.r-project.org/web/packages/tidyr/vignettes/tidy-data.html). The result should be a high-quality and tidy master pandas DataFrame (or DataFrames, if appropriate)."
   ]
  },
  {
   "cell_type": "code",
   "execution_count": 21,
   "metadata": {},
   "outputs": [],
   "source": [
    "# Make copies of original pieces of data\n",
    "twit_arch_cp = twit_arch.copy()\n",
    "image_pred_cp = image_pred.copy()\n",
    "twit_like_cp = twit_like.copy()"
   ]
  },
  {
   "cell_type": "code",
   "execution_count": 22,
   "metadata": {
    "tags": []
   },
   "outputs": [
    {
     "data": {
      "text/html": [
       "<div>\n",
       "<style scoped>\n",
       "    .dataframe tbody tr th:only-of-type {\n",
       "        vertical-align: middle;\n",
       "    }\n",
       "\n",
       "    .dataframe tbody tr th {\n",
       "        vertical-align: top;\n",
       "    }\n",
       "\n",
       "    .dataframe thead th {\n",
       "        text-align: right;\n",
       "    }\n",
       "</style>\n",
       "<table border=\"1\" class=\"dataframe\">\n",
       "  <thead>\n",
       "    <tr style=\"text-align: right;\">\n",
       "      <th></th>\n",
       "      <th>tweet_id</th>\n",
       "      <th>in_reply_to_status_id</th>\n",
       "      <th>in_reply_to_user_id</th>\n",
       "      <th>timestamp</th>\n",
       "      <th>source</th>\n",
       "      <th>text</th>\n",
       "      <th>retweeted_status_id</th>\n",
       "      <th>retweeted_status_user_id</th>\n",
       "      <th>retweeted_status_timestamp</th>\n",
       "      <th>expanded_urls</th>\n",
       "      <th>rating_numerator</th>\n",
       "      <th>rating_denominator</th>\n",
       "      <th>name</th>\n",
       "      <th>doggo</th>\n",
       "      <th>floofer</th>\n",
       "      <th>pupper</th>\n",
       "      <th>puppo</th>\n",
       "    </tr>\n",
       "  </thead>\n",
       "  <tbody>\n",
       "    <tr>\n",
       "      <th>1242</th>\n",
       "      <td>711998809858043904</td>\n",
       "      <td>NaN</td>\n",
       "      <td>NaN</td>\n",
       "      <td>2016-03-21 19:31:59 +0000</td>\n",
       "      <td>&lt;a href=\"http://twitter.com/download/iphone\" r...</td>\n",
       "      <td>RT @twitter: @dog_rates Awesome Tweet! 12/10. ...</td>\n",
       "      <td>7.119983e+17</td>\n",
       "      <td>783214.0</td>\n",
       "      <td>2016-03-21 19:29:52 +0000</td>\n",
       "      <td>https://twitter.com/twitter/status/71199827977...</td>\n",
       "      <td>12</td>\n",
       "      <td>10</td>\n",
       "      <td>None</td>\n",
       "      <td>None</td>\n",
       "      <td>None</td>\n",
       "      <td>None</td>\n",
       "      <td>None</td>\n",
       "    </tr>\n",
       "  </tbody>\n",
       "</table>\n",
       "</div>"
      ],
      "text/plain": [
       "                tweet_id  in_reply_to_status_id  in_reply_to_user_id  \\\n",
       "1242  711998809858043904                    NaN                  NaN   \n",
       "\n",
       "                      timestamp  \\\n",
       "1242  2016-03-21 19:31:59 +0000   \n",
       "\n",
       "                                                 source  \\\n",
       "1242  <a href=\"http://twitter.com/download/iphone\" r...   \n",
       "\n",
       "                                                   text  retweeted_status_id  \\\n",
       "1242  RT @twitter: @dog_rates Awesome Tweet! 12/10. ...         7.119983e+17   \n",
       "\n",
       "      retweeted_status_user_id retweeted_status_timestamp  \\\n",
       "1242                  783214.0  2016-03-21 19:29:52 +0000   \n",
       "\n",
       "                                          expanded_urls  rating_numerator  \\\n",
       "1242  https://twitter.com/twitter/status/71199827977...                12   \n",
       "\n",
       "      rating_denominator  name doggo floofer pupper puppo  \n",
       "1242                  10  None  None    None   None  None  "
      ]
     },
     "execution_count": 22,
     "metadata": {},
     "output_type": "execute_result"
    }
   ],
   "source": [
    "twit_arch_cp.sample()"
   ]
  },
  {
   "cell_type": "markdown",
   "metadata": {},
   "source": [
    "### Issue #1: twitter-archive-enhanced table: Columns that are not relevant to analysis are present"
   ]
  },
  {
   "cell_type": "markdown",
   "metadata": {
    "tags": []
   },
   "source": [
    "#### Define: Drop columns that are not needed for analysis"
   ]
  },
  {
   "cell_type": "markdown",
   "metadata": {},
   "source": [
    "#### Code"
   ]
  },
  {
   "cell_type": "code",
   "execution_count": 23,
   "metadata": {},
   "outputs": [],
   "source": [
    "# define the columns to drop\n",
    "cols = ['in_reply_to_status_id', 'in_reply_to_user_id', 'retweeted_status_id', 'retweeted_status_user_id', 'retweeted_status_timestamp']\n",
    "# drop the columns\n",
    "twit_arch_cp.drop(cols, axis = 1, inplace = True)"
   ]
  },
  {
   "cell_type": "markdown",
   "metadata": {},
   "source": [
    "#### Test"
   ]
  },
  {
   "cell_type": "code",
   "execution_count": 24,
   "metadata": {},
   "outputs": [
    {
     "name": "stdout",
     "output_type": "stream",
     "text": [
      "<class 'pandas.core.frame.DataFrame'>\n",
      "RangeIndex: 2356 entries, 0 to 2355\n",
      "Data columns (total 12 columns):\n",
      " #   Column              Non-Null Count  Dtype \n",
      "---  ------              --------------  ----- \n",
      " 0   tweet_id            2356 non-null   int64 \n",
      " 1   timestamp           2356 non-null   object\n",
      " 2   source              2356 non-null   object\n",
      " 3   text                2356 non-null   object\n",
      " 4   expanded_urls       2297 non-null   object\n",
      " 5   rating_numerator    2356 non-null   int64 \n",
      " 6   rating_denominator  2356 non-null   int64 \n",
      " 7   name                2356 non-null   object\n",
      " 8   doggo               2356 non-null   object\n",
      " 9   floofer             2356 non-null   object\n",
      " 10  pupper              2356 non-null   object\n",
      " 11  puppo               2356 non-null   object\n",
      "dtypes: int64(3), object(9)\n",
      "memory usage: 221.0+ KB\n"
     ]
    }
   ],
   "source": [
    "# check if the columns are dropped\n",
    "twit_arch_cp.info()"
   ]
  },
  {
   "cell_type": "markdown",
   "metadata": {},
   "source": [
    "### Issue #2: twitter-archive-enhanced table: incorrect datatype for timestamp column"
   ]
  },
  {
   "cell_type": "markdown",
   "metadata": {
    "extensions": {
     "jupyter_dashboards": {
      "version": 1,
      "views": {
       "grid_default": {
        "hidden": true
       },
       "report_default": {
        "hidden": true
       }
      }
     }
    }
   },
   "source": [
    "#### Define: Convert the timestamp coumn from object data type to datetime data type"
   ]
  },
  {
   "cell_type": "markdown",
   "metadata": {},
   "source": [
    "#### Code"
   ]
  },
  {
   "cell_type": "code",
   "execution_count": 25,
   "metadata": {},
   "outputs": [],
   "source": [
    "# use pd.to_datetime function\n",
    "twit_arch_cp['timestamp'] = pd.to_datetime(twit_arch_cp['timestamp'])"
   ]
  },
  {
   "cell_type": "markdown",
   "metadata": {},
   "source": [
    "#### Test"
   ]
  },
  {
   "cell_type": "code",
   "execution_count": 26,
   "metadata": {},
   "outputs": [
    {
     "name": "stdout",
     "output_type": "stream",
     "text": [
      "<class 'pandas.core.frame.DataFrame'>\n",
      "RangeIndex: 2356 entries, 0 to 2355\n",
      "Data columns (total 12 columns):\n",
      " #   Column              Non-Null Count  Dtype              \n",
      "---  ------              --------------  -----              \n",
      " 0   tweet_id            2356 non-null   int64              \n",
      " 1   timestamp           2356 non-null   datetime64[ns, UTC]\n",
      " 2   source              2356 non-null   object             \n",
      " 3   text                2356 non-null   object             \n",
      " 4   expanded_urls       2297 non-null   object             \n",
      " 5   rating_numerator    2356 non-null   int64              \n",
      " 6   rating_denominator  2356 non-null   int64              \n",
      " 7   name                2356 non-null   object             \n",
      " 8   doggo               2356 non-null   object             \n",
      " 9   floofer             2356 non-null   object             \n",
      " 10  pupper              2356 non-null   object             \n",
      " 11  puppo               2356 non-null   object             \n",
      "dtypes: datetime64[ns, UTC](1), int64(3), object(8)\n",
      "memory usage: 221.0+ KB\n"
     ]
    }
   ],
   "source": [
    "# confirm if the change has been made\n",
    "twit_arch_cp.info()"
   ]
  },
  {
   "cell_type": "markdown",
   "metadata": {},
   "source": [
    "### Issue #3: twitter-archive-enhanced table: Null values represented as None and 'a' in name column"
   ]
  },
  {
   "cell_type": "markdown",
   "metadata": {},
   "source": [
    "#### Define: convert None and 'a' in name column to NaN values with np.nan"
   ]
  },
  {
   "cell_type": "markdown",
   "metadata": {},
   "source": [
    "#### Code"
   ]
  },
  {
   "cell_type": "code",
   "execution_count": 27,
   "metadata": {},
   "outputs": [
    {
     "data": {
      "text/plain": [
       "None          745\n",
       "a              55\n",
       "Charlie        12\n",
       "Cooper         11\n",
       "Lucy           11\n",
       "             ... \n",
       "Dex             1\n",
       "Ace             1\n",
       "Tayzie          1\n",
       "Grizzie         1\n",
       "Christoper      1\n",
       "Name: name, Length: 957, dtype: int64"
      ]
     },
     "execution_count": 27,
     "metadata": {},
     "output_type": "execute_result"
    }
   ],
   "source": [
    "# check the values in name column\n",
    "twit_arch_cp.name.value_counts()"
   ]
  },
  {
   "cell_type": "code",
   "execution_count": 28,
   "metadata": {},
   "outputs": [],
   "source": [
    "# replace the 'none' and 'a' values with NaN value\n",
    "(twit_arch_cp['name']).replace(['None', 'a'], np.nan, inplace = True)"
   ]
  },
  {
   "cell_type": "markdown",
   "metadata": {},
   "source": [
    "\n",
    "\n",
    "#### Test"
   ]
  },
  {
   "cell_type": "code",
   "execution_count": 29,
   "metadata": {},
   "outputs": [
    {
     "data": {
      "text/plain": [
       "Charlie       12\n",
       "Cooper        11\n",
       "Lucy          11\n",
       "Oliver        11\n",
       "Tucker        10\n",
       "              ..\n",
       "Aqua           1\n",
       "Chase          1\n",
       "Meatball       1\n",
       "Rorie          1\n",
       "Christoper     1\n",
       "Name: name, Length: 955, dtype: int64"
      ]
     },
     "execution_count": 29,
     "metadata": {},
     "output_type": "execute_result"
    }
   ],
   "source": [
    "# confirm if the change has been made\n",
    "twit_arch_cp.name.value_counts()"
   ]
  },
  {
   "cell_type": "markdown",
   "metadata": {},
   "source": [
    "### Issue #4: **image-prediction table**: some fields in P1, P2 ans p3 columns begin with lowercase"
   ]
  },
  {
   "cell_type": "markdown",
   "metadata": {},
   "source": [
    "#### Define: Change the starting characters in the columns to uppercase"
   ]
  },
  {
   "cell_type": "markdown",
   "metadata": {},
   "source": [
    "#### Code"
   ]
  },
  {
   "cell_type": "code",
   "execution_count": 30,
   "metadata": {},
   "outputs": [],
   "source": [
    "# capitalize the first characters and characters after a delimeter\n",
    "image_pred_cp['p1'] = image_pred_cp['p1'].str.title()\n",
    "image_pred_cp['p2'] = image_pred_cp['p2'].str.title()\n",
    "image_pred_cp['p3'] = image_pred_cp['p3'].str.title()"
   ]
  },
  {
   "cell_type": "markdown",
   "metadata": {},
   "source": [
    "#### Test"
   ]
  },
  {
   "cell_type": "code",
   "execution_count": 31,
   "metadata": {},
   "outputs": [
    {
     "data": {
      "text/html": [
       "<div>\n",
       "<style scoped>\n",
       "    .dataframe tbody tr th:only-of-type {\n",
       "        vertical-align: middle;\n",
       "    }\n",
       "\n",
       "    .dataframe tbody tr th {\n",
       "        vertical-align: top;\n",
       "    }\n",
       "\n",
       "    .dataframe thead th {\n",
       "        text-align: right;\n",
       "    }\n",
       "</style>\n",
       "<table border=\"1\" class=\"dataframe\">\n",
       "  <thead>\n",
       "    <tr style=\"text-align: right;\">\n",
       "      <th></th>\n",
       "      <th>tweet_id</th>\n",
       "      <th>jpg_url</th>\n",
       "      <th>img_num</th>\n",
       "      <th>p1</th>\n",
       "      <th>p1_conf</th>\n",
       "      <th>p1_dog</th>\n",
       "      <th>p2</th>\n",
       "      <th>p2_conf</th>\n",
       "      <th>p2_dog</th>\n",
       "      <th>p3</th>\n",
       "      <th>p3_conf</th>\n",
       "      <th>p3_dog</th>\n",
       "    </tr>\n",
       "  </thead>\n",
       "  <tbody>\n",
       "    <tr>\n",
       "      <th>2070</th>\n",
       "      <td>891327558926688256</td>\n",
       "      <td>https://pbs.twimg.com/media/DF6hr6BUMAAzZgT.jpg</td>\n",
       "      <td>2</td>\n",
       "      <td>Basset</td>\n",
       "      <td>0.555712</td>\n",
       "      <td>True</td>\n",
       "      <td>English_Springer</td>\n",
       "      <td>0.225770</td>\n",
       "      <td>True</td>\n",
       "      <td>German_Short-Haired_Pointer</td>\n",
       "      <td>0.175219</td>\n",
       "      <td>True</td>\n",
       "    </tr>\n",
       "    <tr>\n",
       "      <th>2071</th>\n",
       "      <td>891689557279858688</td>\n",
       "      <td>https://pbs.twimg.com/media/DF_q7IAWsAEuuN8.jpg</td>\n",
       "      <td>1</td>\n",
       "      <td>Paper_Towel</td>\n",
       "      <td>0.170278</td>\n",
       "      <td>False</td>\n",
       "      <td>Labrador_Retriever</td>\n",
       "      <td>0.168086</td>\n",
       "      <td>True</td>\n",
       "      <td>Spatula</td>\n",
       "      <td>0.040836</td>\n",
       "      <td>False</td>\n",
       "    </tr>\n",
       "    <tr>\n",
       "      <th>2072</th>\n",
       "      <td>891815181378084864</td>\n",
       "      <td>https://pbs.twimg.com/media/DGBdLU1WsAANxJ9.jpg</td>\n",
       "      <td>1</td>\n",
       "      <td>Chihuahua</td>\n",
       "      <td>0.716012</td>\n",
       "      <td>True</td>\n",
       "      <td>Malamute</td>\n",
       "      <td>0.078253</td>\n",
       "      <td>True</td>\n",
       "      <td>Kelpie</td>\n",
       "      <td>0.031379</td>\n",
       "      <td>True</td>\n",
       "    </tr>\n",
       "    <tr>\n",
       "      <th>2073</th>\n",
       "      <td>892177421306343426</td>\n",
       "      <td>https://pbs.twimg.com/media/DGGmoV4XsAAUL6n.jpg</td>\n",
       "      <td>1</td>\n",
       "      <td>Chihuahua</td>\n",
       "      <td>0.323581</td>\n",
       "      <td>True</td>\n",
       "      <td>Pekinese</td>\n",
       "      <td>0.090647</td>\n",
       "      <td>True</td>\n",
       "      <td>Papillon</td>\n",
       "      <td>0.068957</td>\n",
       "      <td>True</td>\n",
       "    </tr>\n",
       "    <tr>\n",
       "      <th>2074</th>\n",
       "      <td>892420643555336193</td>\n",
       "      <td>https://pbs.twimg.com/media/DGKD1-bXoAAIAUK.jpg</td>\n",
       "      <td>1</td>\n",
       "      <td>Orange</td>\n",
       "      <td>0.097049</td>\n",
       "      <td>False</td>\n",
       "      <td>Bagel</td>\n",
       "      <td>0.085851</td>\n",
       "      <td>False</td>\n",
       "      <td>Banana</td>\n",
       "      <td>0.076110</td>\n",
       "      <td>False</td>\n",
       "    </tr>\n",
       "  </tbody>\n",
       "</table>\n",
       "</div>"
      ],
      "text/plain": [
       "                tweet_id                                          jpg_url  \\\n",
       "2070  891327558926688256  https://pbs.twimg.com/media/DF6hr6BUMAAzZgT.jpg   \n",
       "2071  891689557279858688  https://pbs.twimg.com/media/DF_q7IAWsAEuuN8.jpg   \n",
       "2072  891815181378084864  https://pbs.twimg.com/media/DGBdLU1WsAANxJ9.jpg   \n",
       "2073  892177421306343426  https://pbs.twimg.com/media/DGGmoV4XsAAUL6n.jpg   \n",
       "2074  892420643555336193  https://pbs.twimg.com/media/DGKD1-bXoAAIAUK.jpg   \n",
       "\n",
       "      img_num           p1   p1_conf  p1_dog                  p2   p2_conf  \\\n",
       "2070        2       Basset  0.555712    True    English_Springer  0.225770   \n",
       "2071        1  Paper_Towel  0.170278   False  Labrador_Retriever  0.168086   \n",
       "2072        1    Chihuahua  0.716012    True            Malamute  0.078253   \n",
       "2073        1    Chihuahua  0.323581    True            Pekinese  0.090647   \n",
       "2074        1       Orange  0.097049   False               Bagel  0.085851   \n",
       "\n",
       "      p2_dog                           p3   p3_conf  p3_dog  \n",
       "2070    True  German_Short-Haired_Pointer  0.175219    True  \n",
       "2071    True                      Spatula  0.040836   False  \n",
       "2072    True                       Kelpie  0.031379    True  \n",
       "2073    True                     Papillon  0.068957    True  \n",
       "2074   False                       Banana  0.076110   False  "
      ]
     },
     "execution_count": 31,
     "metadata": {},
     "output_type": "execute_result"
    }
   ],
   "source": [
    "# check if the change has been made\n",
    "image_pred_cp.tail()"
   ]
  },
  {
   "cell_type": "markdown",
   "metadata": {},
   "source": [
    "### Issue #5: **image-preiction table**: p1, p2 and p3 column values containing underscore(_)"
   ]
  },
  {
   "cell_type": "markdown",
   "metadata": {},
   "source": [
    "#### Define: Replace underscore(_) with white space(' ') in the elemets of the columns"
   ]
  },
  {
   "cell_type": "markdown",
   "metadata": {},
   "source": [
    "#### Code"
   ]
  },
  {
   "cell_type": "code",
   "execution_count": 32,
   "metadata": {},
   "outputs": [],
   "source": [
    "# replace underscore with white space\n",
    "image_pred_cp['p1'] = image_pred_cp['p1'].str.replace('_', ' ')\n",
    "image_pred_cp['p2'] = image_pred_cp['p2'].str.replace('_', ' ')\n",
    "image_pred_cp['p3'] = image_pred_cp['p3'].str.replace('_', ' ')"
   ]
  },
  {
   "cell_type": "markdown",
   "metadata": {},
   "source": [
    "#### Test"
   ]
  },
  {
   "cell_type": "code",
   "execution_count": 33,
   "metadata": {},
   "outputs": [
    {
     "data": {
      "text/html": [
       "<div>\n",
       "<style scoped>\n",
       "    .dataframe tbody tr th:only-of-type {\n",
       "        vertical-align: middle;\n",
       "    }\n",
       "\n",
       "    .dataframe tbody tr th {\n",
       "        vertical-align: top;\n",
       "    }\n",
       "\n",
       "    .dataframe thead th {\n",
       "        text-align: right;\n",
       "    }\n",
       "</style>\n",
       "<table border=\"1\" class=\"dataframe\">\n",
       "  <thead>\n",
       "    <tr style=\"text-align: right;\">\n",
       "      <th></th>\n",
       "      <th>tweet_id</th>\n",
       "      <th>jpg_url</th>\n",
       "      <th>img_num</th>\n",
       "      <th>p1</th>\n",
       "      <th>p1_conf</th>\n",
       "      <th>p1_dog</th>\n",
       "      <th>p2</th>\n",
       "      <th>p2_conf</th>\n",
       "      <th>p2_dog</th>\n",
       "      <th>p3</th>\n",
       "      <th>p3_conf</th>\n",
       "      <th>p3_dog</th>\n",
       "    </tr>\n",
       "  </thead>\n",
       "  <tbody>\n",
       "    <tr>\n",
       "      <th>1385</th>\n",
       "      <td>766008592277377025</td>\n",
       "      <td>https://pbs.twimg.com/media/CqFouXOXYAAYpzG.jpg</td>\n",
       "      <td>1</td>\n",
       "      <td>Welsh Springer Spaniel</td>\n",
       "      <td>0.728153</td>\n",
       "      <td>True</td>\n",
       "      <td>Basset</td>\n",
       "      <td>0.103842</td>\n",
       "      <td>True</td>\n",
       "      <td>Brittany Spaniel</td>\n",
       "      <td>0.062414</td>\n",
       "      <td>True</td>\n",
       "    </tr>\n",
       "    <tr>\n",
       "      <th>1711</th>\n",
       "      <td>818536468981415936</td>\n",
       "      <td>https://pbs.twimg.com/media/C1wGkYoVQAAuC_O.jpg</td>\n",
       "      <td>1</td>\n",
       "      <td>Swing</td>\n",
       "      <td>0.999403</td>\n",
       "      <td>False</td>\n",
       "      <td>Welsh Springer Spaniel</td>\n",
       "      <td>0.000062</td>\n",
       "      <td>True</td>\n",
       "      <td>Bow</td>\n",
       "      <td>0.000030</td>\n",
       "      <td>False</td>\n",
       "    </tr>\n",
       "    <tr>\n",
       "      <th>1112</th>\n",
       "      <td>724049859469295616</td>\n",
       "      <td>https://pbs.twimg.com/media/CgxXf1TWYAEjY61.jpg</td>\n",
       "      <td>1</td>\n",
       "      <td>Border Collie</td>\n",
       "      <td>0.581835</td>\n",
       "      <td>True</td>\n",
       "      <td>Collie</td>\n",
       "      <td>0.344588</td>\n",
       "      <td>True</td>\n",
       "      <td>Shetland Sheepdog</td>\n",
       "      <td>0.043584</td>\n",
       "      <td>True</td>\n",
       "    </tr>\n",
       "    <tr>\n",
       "      <th>421</th>\n",
       "      <td>674045139690631169</td>\n",
       "      <td>https://pbs.twimg.com/media/CVqwedgXIAEAT6A.jpg</td>\n",
       "      <td>1</td>\n",
       "      <td>Robin</td>\n",
       "      <td>0.369661</td>\n",
       "      <td>False</td>\n",
       "      <td>Rhinoceros Beetle</td>\n",
       "      <td>0.110607</td>\n",
       "      <td>False</td>\n",
       "      <td>European Fire Salamander</td>\n",
       "      <td>0.043178</td>\n",
       "      <td>False</td>\n",
       "    </tr>\n",
       "    <tr>\n",
       "      <th>23</th>\n",
       "      <td>666345417576210432</td>\n",
       "      <td>https://pbs.twimg.com/media/CT9Vn7PWoAA_ZCM.jpg</td>\n",
       "      <td>1</td>\n",
       "      <td>Golden Retriever</td>\n",
       "      <td>0.858744</td>\n",
       "      <td>True</td>\n",
       "      <td>Chesapeake Bay Retriever</td>\n",
       "      <td>0.054787</td>\n",
       "      <td>True</td>\n",
       "      <td>Labrador Retriever</td>\n",
       "      <td>0.014241</td>\n",
       "      <td>True</td>\n",
       "    </tr>\n",
       "  </tbody>\n",
       "</table>\n",
       "</div>"
      ],
      "text/plain": [
       "                tweet_id                                          jpg_url  \\\n",
       "1385  766008592277377025  https://pbs.twimg.com/media/CqFouXOXYAAYpzG.jpg   \n",
       "1711  818536468981415936  https://pbs.twimg.com/media/C1wGkYoVQAAuC_O.jpg   \n",
       "1112  724049859469295616  https://pbs.twimg.com/media/CgxXf1TWYAEjY61.jpg   \n",
       "421   674045139690631169  https://pbs.twimg.com/media/CVqwedgXIAEAT6A.jpg   \n",
       "23    666345417576210432  https://pbs.twimg.com/media/CT9Vn7PWoAA_ZCM.jpg   \n",
       "\n",
       "      img_num                      p1   p1_conf  p1_dog  \\\n",
       "1385        1  Welsh Springer Spaniel  0.728153    True   \n",
       "1711        1                   Swing  0.999403   False   \n",
       "1112        1           Border Collie  0.581835    True   \n",
       "421         1                   Robin  0.369661   False   \n",
       "23          1        Golden Retriever  0.858744    True   \n",
       "\n",
       "                            p2   p2_conf  p2_dog                        p3  \\\n",
       "1385                    Basset  0.103842    True          Brittany Spaniel   \n",
       "1711    Welsh Springer Spaniel  0.000062    True                       Bow   \n",
       "1112                    Collie  0.344588    True         Shetland Sheepdog   \n",
       "421          Rhinoceros Beetle  0.110607   False  European Fire Salamander   \n",
       "23    Chesapeake Bay Retriever  0.054787    True        Labrador Retriever   \n",
       "\n",
       "       p3_conf  p3_dog  \n",
       "1385  0.062414    True  \n",
       "1711  0.000030   False  \n",
       "1112  0.043584    True  \n",
       "421   0.043178   False  \n",
       "23    0.014241    True  "
      ]
     },
     "execution_count": 33,
     "metadata": {},
     "output_type": "execute_result"
    }
   ],
   "source": [
    "# confirm if the change has been made\n",
    "image_pred_cp.sample(5)"
   ]
  },
  {
   "cell_type": "markdown",
   "metadata": {},
   "source": [
    "### Issue #6: **twitter-archive-enhanced table**: maximum and minimum value for rating_denominator column are 170 and 0 instead of 10"
   ]
  },
  {
   "cell_type": "markdown",
   "metadata": {},
   "source": [
    "#### Define: Replace all denominator that has the value of 170 and 0 to 10"
   ]
  },
  {
   "cell_type": "markdown",
   "metadata": {},
   "source": [
    "#### Code"
   ]
  },
  {
   "cell_type": "code",
   "execution_count": 34,
   "metadata": {},
   "outputs": [],
   "source": [
    "# replace any denominator value less than 10 woth 10\n",
    "twit_arch_cp[twit_arch_cp['rating_denominator'] < 10] = 10\n",
    "# replace any denominator value greater than 10 woth 10\n",
    "twit_arch_cp[twit_arch_cp['rating_denominator'] > 10] = 10"
   ]
  },
  {
   "cell_type": "markdown",
   "metadata": {},
   "source": [
    "#### Test"
   ]
  },
  {
   "cell_type": "code",
   "execution_count": 35,
   "metadata": {},
   "outputs": [
    {
     "data": {
      "text/plain": [
       "count    2356.0\n",
       "mean       10.0\n",
       "std         0.0\n",
       "min        10.0\n",
       "25%        10.0\n",
       "50%        10.0\n",
       "75%        10.0\n",
       "max        10.0\n",
       "Name: rating_denominator, dtype: float64"
      ]
     },
     "execution_count": 35,
     "metadata": {},
     "output_type": "execute_result"
    }
   ],
   "source": [
    "# check for correction\n",
    "twit_arch_cp['rating_denominator'].describe()"
   ]
  },
  {
   "cell_type": "markdown",
   "metadata": {},
   "source": [
    "### Issue #7: twitter-archive-enhanced table: Source column is not in a proper format"
   ]
  },
  {
   "cell_type": "markdown",
   "metadata": {},
   "source": [
    "#### Define: Extract tweet source from long complicated string"
   ]
  },
  {
   "cell_type": "markdown",
   "metadata": {},
   "source": [
    "#### Code"
   ]
  },
  {
   "cell_type": "code",
   "execution_count": 36,
   "metadata": {},
   "outputs": [],
   "source": [
    "#extract the tweet source\n",
    "twit_arch_cp['source'] = twit_arch_cp['source'].str.split(\"/\").str[4]\n",
    "twit_arch_cp['source'] = twit_arch_cp['source'].str.split('>').str[1]\n",
    "twit_arch_cp['source'] = twit_arch_cp['source'].str.replace('<', \" \")"
   ]
  },
  {
   "cell_type": "markdown",
   "metadata": {},
   "source": [
    "#### Test"
   ]
  },
  {
   "cell_type": "code",
   "execution_count": 37,
   "metadata": {},
   "outputs": [
    {
     "data": {
      "text/plain": [
       "Twitter for iPhone     2198\n",
       "TweetDeck                11\n",
       "Name: source, dtype: int64"
      ]
     },
     "execution_count": 37,
     "metadata": {},
     "output_type": "execute_result"
    }
   ],
   "source": [
    "# confirm if the change has been made\n",
    "twit_arch_cp['source'].value_counts()"
   ]
  },
  {
   "cell_type": "markdown",
   "metadata": {},
   "source": [
    "### Issue #8: **twitter-archive-enhanced table**: Dog stages are divided into columns"
   ]
  },
  {
   "cell_type": "markdown",
   "metadata": {},
   "source": [
    "#### Define: Convert the different dog stages columns into a single column containing the value of dog stage"
   ]
  },
  {
   "cell_type": "markdown",
   "metadata": {},
   "source": [
    "#### Code"
   ]
  },
  {
   "cell_type": "code",
   "execution_count": 38,
   "metadata": {},
   "outputs": [],
   "source": [
    "# replace none values with NaN\n",
    "dog = [\"doggo\",\"floofer\",\"pupper\",\"puppo\"]\n",
    "twit_arch_cp[dog] = twit_arch_cp[dog].replace({'None':np.nan})"
   ]
  },
  {
   "cell_type": "code",
   "execution_count": 39,
   "metadata": {},
   "outputs": [],
   "source": [
    "# create a new column to represent dog stages by merging all relevant columns\n",
    "twit_arch_cp['dog_stage'] = twit_arch_cp[twit_arch_cp.columns[8:]].apply(lambda x: ','.join(x.dropna().astype(str)), axis=1)"
   ]
  },
  {
   "cell_type": "code",
   "execution_count": 40,
   "metadata": {},
   "outputs": [],
   "source": [
    "# replace whitespace with NaN in the newly created column\n",
    "twit_arch_cp['dog_stage'] = twit_arch_cp['dog_stage'].replace('',np.nan)\n",
    "#drop columns after merging\n",
    "twit_arch_cp.drop([\"doggo\",\"floofer\",\"pupper\",\"puppo\"], axis=1, inplace=True)"
   ]
  },
  {
   "cell_type": "code",
   "execution_count": 41,
   "metadata": {},
   "outputs": [
    {
     "data": {
      "text/plain": [
       "pupper           245\n",
       "doggo             83\n",
       "puppo             29\n",
       "10,10,10,10       23\n",
       "doggo,pupper      12\n",
       "floofer            9\n",
       "doggo,puppo        1\n",
       "doggo,floofer      1\n",
       "Name: dog_stage, dtype: int64"
      ]
     },
     "execution_count": 41,
     "metadata": {},
     "output_type": "execute_result"
    }
   ],
   "source": [
    "# check the values of the new column\n",
    "twit_arch_cp.dog_stage.value_counts()"
   ]
  },
  {
   "cell_type": "markdown",
   "metadata": {},
   "source": [
    "A value 10,10,10,10 is present, this is not a valid value of the dog_stage column, lets check for duplicates in the dataset"
   ]
  },
  {
   "cell_type": "code",
   "execution_count": 42,
   "metadata": {},
   "outputs": [
    {
     "data": {
      "text/plain": [
       "22"
      ]
     },
     "execution_count": 42,
     "metadata": {},
     "output_type": "execute_result"
    }
   ],
   "source": [
    "sum(twit_arch_cp.duplicated())"
   ]
  },
  {
   "cell_type": "code",
   "execution_count": 43,
   "metadata": {},
   "outputs": [
    {
     "data": {
      "text/plain": [
       "pupper           245\n",
       "doggo             83\n",
       "puppo             29\n",
       "doggo,pupper      12\n",
       "floofer            9\n",
       "doggo,puppo        1\n",
       "doggo,floofer      1\n",
       "10,10,10,10        1\n",
       "Name: dog_stage, dtype: int64"
      ]
     },
     "execution_count": 43,
     "metadata": {},
     "output_type": "execute_result"
    }
   ],
   "source": [
    "# drop duplicated rows\n",
    "twit_arch_cp.drop_duplicates(inplace = True)\n",
    "# check the values of the new column if there's still 10,10,10,10 present\n",
    "twit_arch_cp.dog_stage.value_counts()"
   ]
  },
  {
   "cell_type": "code",
   "execution_count": 44,
   "metadata": {},
   "outputs": [],
   "source": [
    "# replace the value with NaN\n",
    "twit_arch_cp['dog_stage'] = twit_arch_cp['dog_stage'].replace('10,10,10,10', np.nan)"
   ]
  },
  {
   "cell_type": "code",
   "execution_count": 45,
   "metadata": {},
   "outputs": [
    {
     "data": {
      "text/plain": [
       "pupper           245\n",
       "doggo             83\n",
       "puppo             29\n",
       "doggo,pupper      12\n",
       "floofer            9\n",
       "doggo,puppo        1\n",
       "doggo,floofer      1\n",
       "Name: dog_stage, dtype: int64"
      ]
     },
     "execution_count": 45,
     "metadata": {},
     "output_type": "execute_result"
    }
   ],
   "source": [
    "twit_arch_cp.dog_stage.value_counts()"
   ]
  },
  {
   "cell_type": "markdown",
   "metadata": {},
   "source": [
    "#### Test"
   ]
  },
  {
   "cell_type": "code",
   "execution_count": 46,
   "metadata": {},
   "outputs": [
    {
     "data": {
      "text/html": [
       "<div>\n",
       "<style scoped>\n",
       "    .dataframe tbody tr th:only-of-type {\n",
       "        vertical-align: middle;\n",
       "    }\n",
       "\n",
       "    .dataframe tbody tr th {\n",
       "        vertical-align: top;\n",
       "    }\n",
       "\n",
       "    .dataframe thead th {\n",
       "        text-align: right;\n",
       "    }\n",
       "</style>\n",
       "<table border=\"1\" class=\"dataframe\">\n",
       "  <thead>\n",
       "    <tr style=\"text-align: right;\">\n",
       "      <th></th>\n",
       "      <th>tweet_id</th>\n",
       "      <th>timestamp</th>\n",
       "      <th>source</th>\n",
       "      <th>text</th>\n",
       "      <th>expanded_urls</th>\n",
       "      <th>rating_numerator</th>\n",
       "      <th>rating_denominator</th>\n",
       "      <th>name</th>\n",
       "      <th>dog_stage</th>\n",
       "    </tr>\n",
       "  </thead>\n",
       "  <tbody>\n",
       "    <tr>\n",
       "      <th>1861</th>\n",
       "      <td>675483430902214656</td>\n",
       "      <td>2015-12-12 01:12:54+00:00</td>\n",
       "      <td>Twitter for iPhone</td>\n",
       "      <td>Rare shielded battle dog here. Very happy abou...</td>\n",
       "      <td>https://twitter.com/dog_rates/status/675483430...</td>\n",
       "      <td>5</td>\n",
       "      <td>10</td>\n",
       "      <td>NaN</td>\n",
       "      <td>NaN</td>\n",
       "    </tr>\n",
       "    <tr>\n",
       "      <th>547</th>\n",
       "      <td>805520635690676224</td>\n",
       "      <td>2016-12-04 21:14:20+00:00</td>\n",
       "      <td>Twitter for iPhone</td>\n",
       "      <td>This is Zeke the Wonder Dog. He never let that...</td>\n",
       "      <td>https://twitter.com/dog_rates/status/805520635...</td>\n",
       "      <td>13</td>\n",
       "      <td>10</td>\n",
       "      <td>Zeke</td>\n",
       "      <td>NaN</td>\n",
       "    </tr>\n",
       "    <tr>\n",
       "      <th>19</th>\n",
       "      <td>888202515573088257</td>\n",
       "      <td>2017-07-21 01:02:36+00:00</td>\n",
       "      <td>Twitter for iPhone</td>\n",
       "      <td>RT @dog_rates: This is Canela. She attempted s...</td>\n",
       "      <td>https://twitter.com/dog_rates/status/887473957...</td>\n",
       "      <td>13</td>\n",
       "      <td>10</td>\n",
       "      <td>Canela</td>\n",
       "      <td>NaN</td>\n",
       "    </tr>\n",
       "    <tr>\n",
       "      <th>1442</th>\n",
       "      <td>696754882863349760</td>\n",
       "      <td>2016-02-08 17:58:03+00:00</td>\n",
       "      <td>Twitter for iPhone</td>\n",
       "      <td>This is Reptar. He specifically asked for his ...</td>\n",
       "      <td>https://twitter.com/dog_rates/status/696754882...</td>\n",
       "      <td>10</td>\n",
       "      <td>10</td>\n",
       "      <td>Reptar</td>\n",
       "      <td>NaN</td>\n",
       "    </tr>\n",
       "    <tr>\n",
       "      <th>1804</th>\n",
       "      <td>676946864479084545</td>\n",
       "      <td>2015-12-16 02:08:04+00:00</td>\n",
       "      <td>Twitter for iPhone</td>\n",
       "      <td>This pups goal was to get all four feet as clo...</td>\n",
       "      <td>https://twitter.com/dog_rates/status/676946864...</td>\n",
       "      <td>12</td>\n",
       "      <td>10</td>\n",
       "      <td>NaN</td>\n",
       "      <td>NaN</td>\n",
       "    </tr>\n",
       "    <tr>\n",
       "      <th>1446</th>\n",
       "      <td>696490539101908992</td>\n",
       "      <td>2016-02-08 00:27:39+00:00</td>\n",
       "      <td>Twitter for iPhone</td>\n",
       "      <td>After reading the comments I may have overesti...</td>\n",
       "      <td>NaN</td>\n",
       "      <td>1</td>\n",
       "      <td>10</td>\n",
       "      <td>NaN</td>\n",
       "      <td>NaN</td>\n",
       "    </tr>\n",
       "    <tr>\n",
       "      <th>2277</th>\n",
       "      <td>667437278097252352</td>\n",
       "      <td>2015-11-19 20:20:22+00:00</td>\n",
       "      <td>Twitter for iPhone</td>\n",
       "      <td>Never seen this breed before. Very pointy pup....</td>\n",
       "      <td>https://twitter.com/dog_rates/status/667437278...</td>\n",
       "      <td>10</td>\n",
       "      <td>10</td>\n",
       "      <td>NaN</td>\n",
       "      <td>NaN</td>\n",
       "    </tr>\n",
       "  </tbody>\n",
       "</table>\n",
       "</div>"
      ],
      "text/plain": [
       "                tweet_id                  timestamp               source  \\\n",
       "1861  675483430902214656  2015-12-12 01:12:54+00:00  Twitter for iPhone    \n",
       "547   805520635690676224  2016-12-04 21:14:20+00:00  Twitter for iPhone    \n",
       "19    888202515573088257  2017-07-21 01:02:36+00:00  Twitter for iPhone    \n",
       "1442  696754882863349760  2016-02-08 17:58:03+00:00  Twitter for iPhone    \n",
       "1804  676946864479084545  2015-12-16 02:08:04+00:00  Twitter for iPhone    \n",
       "1446  696490539101908992  2016-02-08 00:27:39+00:00  Twitter for iPhone    \n",
       "2277  667437278097252352  2015-11-19 20:20:22+00:00  Twitter for iPhone    \n",
       "\n",
       "                                                   text  \\\n",
       "1861  Rare shielded battle dog here. Very happy abou...   \n",
       "547   This is Zeke the Wonder Dog. He never let that...   \n",
       "19    RT @dog_rates: This is Canela. She attempted s...   \n",
       "1442  This is Reptar. He specifically asked for his ...   \n",
       "1804  This pups goal was to get all four feet as clo...   \n",
       "1446  After reading the comments I may have overesti...   \n",
       "2277  Never seen this breed before. Very pointy pup....   \n",
       "\n",
       "                                          expanded_urls  rating_numerator  \\\n",
       "1861  https://twitter.com/dog_rates/status/675483430...                 5   \n",
       "547   https://twitter.com/dog_rates/status/805520635...                13   \n",
       "19    https://twitter.com/dog_rates/status/887473957...                13   \n",
       "1442  https://twitter.com/dog_rates/status/696754882...                10   \n",
       "1804  https://twitter.com/dog_rates/status/676946864...                12   \n",
       "1446                                                NaN                 1   \n",
       "2277  https://twitter.com/dog_rates/status/667437278...                10   \n",
       "\n",
       "      rating_denominator    name dog_stage  \n",
       "1861                  10     NaN       NaN  \n",
       "547                   10    Zeke       NaN  \n",
       "19                    10  Canela       NaN  \n",
       "1442                  10  Reptar       NaN  \n",
       "1804                  10     NaN       NaN  \n",
       "1446                  10     NaN       NaN  \n",
       "2277                  10     NaN       NaN  "
      ]
     },
     "execution_count": 46,
     "metadata": {},
     "output_type": "execute_result"
    }
   ],
   "source": [
    "twit_arch_cp.sample(7)"
   ]
  },
  {
   "cell_type": "markdown",
   "metadata": {},
   "source": [
    "### Issue #9: image-preiction table: names of columns are not explanatory"
   ]
  },
  {
   "cell_type": "markdown",
   "metadata": {},
   "source": [
    "#### Define: Rename the columns in image-prediction dataset "
   ]
  },
  {
   "cell_type": "markdown",
   "metadata": {},
   "source": [
    "#### Code"
   ]
  },
  {
   "cell_type": "code",
   "execution_count": 47,
   "metadata": {},
   "outputs": [
    {
     "name": "stdout",
     "output_type": "stream",
     "text": [
      "<class 'pandas.core.frame.DataFrame'>\n",
      "RangeIndex: 2075 entries, 0 to 2074\n",
      "Data columns (total 12 columns):\n",
      " #   Column    Non-Null Count  Dtype  \n",
      "---  ------    --------------  -----  \n",
      " 0   tweet_id  2075 non-null   int64  \n",
      " 1   jpg_url   2075 non-null   object \n",
      " 2   img_num   2075 non-null   int64  \n",
      " 3   p1        2075 non-null   object \n",
      " 4   p1_conf   2075 non-null   float64\n",
      " 5   p1_dog    2075 non-null   bool   \n",
      " 6   p2        2075 non-null   object \n",
      " 7   p2_conf   2075 non-null   float64\n",
      " 8   p2_dog    2075 non-null   bool   \n",
      " 9   p3        2075 non-null   object \n",
      " 10  p3_conf   2075 non-null   float64\n",
      " 11  p3_dog    2075 non-null   bool   \n",
      "dtypes: bool(3), float64(3), int64(2), object(4)\n",
      "memory usage: 152.1+ KB\n"
     ]
    }
   ],
   "source": [
    "image_pred_cp.info()"
   ]
  },
  {
   "cell_type": "code",
   "execution_count": 48,
   "metadata": {},
   "outputs": [],
   "source": [
    "# rename the vague column names\n",
    "image_pred_cp.rename(columns = {'jpg_url':'image_url', 'p1':'first_prediction',\n",
    "                                'p2':'second_prediction', 'p3':'third_prediction',\n",
    "                               'p1_dog':'first_is_dog', 'p2_dog':'second_is_dog',\n",
    "                               'p3_dog':'third_is_dog', 'p1_conf':'first_pred_score',\n",
    "                               'p2_conf':'second_pred_score', 'p3_conf':'third_pred_score'}, inplace = True)"
   ]
  },
  {
   "cell_type": "markdown",
   "metadata": {},
   "source": [
    "#### Test"
   ]
  },
  {
   "cell_type": "code",
   "execution_count": 49,
   "metadata": {},
   "outputs": [
    {
     "data": {
      "text/html": [
       "<div>\n",
       "<style scoped>\n",
       "    .dataframe tbody tr th:only-of-type {\n",
       "        vertical-align: middle;\n",
       "    }\n",
       "\n",
       "    .dataframe tbody tr th {\n",
       "        vertical-align: top;\n",
       "    }\n",
       "\n",
       "    .dataframe thead th {\n",
       "        text-align: right;\n",
       "    }\n",
       "</style>\n",
       "<table border=\"1\" class=\"dataframe\">\n",
       "  <thead>\n",
       "    <tr style=\"text-align: right;\">\n",
       "      <th></th>\n",
       "      <th>tweet_id</th>\n",
       "      <th>image_url</th>\n",
       "      <th>img_num</th>\n",
       "      <th>first_prediction</th>\n",
       "      <th>first_pred_score</th>\n",
       "      <th>first_is_dog</th>\n",
       "      <th>second_prediction</th>\n",
       "      <th>second_pred_score</th>\n",
       "      <th>second_is_dog</th>\n",
       "      <th>third_prediction</th>\n",
       "      <th>third_pred_score</th>\n",
       "      <th>third_is_dog</th>\n",
       "    </tr>\n",
       "  </thead>\n",
       "  <tbody>\n",
       "    <tr>\n",
       "      <th>1741</th>\n",
       "      <td>822610361945911296</td>\n",
       "      <td>https://pbs.twimg.com/media/C2p_wQyXEAELtvS.jpg</td>\n",
       "      <td>1</td>\n",
       "      <td>Cocker Spaniel</td>\n",
       "      <td>0.664487</td>\n",
       "      <td>True</td>\n",
       "      <td>Norfolk Terrier</td>\n",
       "      <td>0.075089</td>\n",
       "      <td>True</td>\n",
       "      <td>Norwich Terrier</td>\n",
       "      <td>0.059644</td>\n",
       "      <td>True</td>\n",
       "    </tr>\n",
       "  </tbody>\n",
       "</table>\n",
       "</div>"
      ],
      "text/plain": [
       "                tweet_id                                        image_url  \\\n",
       "1741  822610361945911296  https://pbs.twimg.com/media/C2p_wQyXEAELtvS.jpg   \n",
       "\n",
       "      img_num first_prediction  first_pred_score  first_is_dog  \\\n",
       "1741        1   Cocker Spaniel          0.664487          True   \n",
       "\n",
       "     second_prediction  second_pred_score  second_is_dog third_prediction  \\\n",
       "1741   Norfolk Terrier           0.075089           True  Norwich Terrier   \n",
       "\n",
       "      third_pred_score  third_is_dog  \n",
       "1741          0.059644          True  "
      ]
     },
     "execution_count": 49,
     "metadata": {},
     "output_type": "execute_result"
    }
   ],
   "source": [
    "image_pred_cp.sample()"
   ]
  },
  {
   "cell_type": "markdown",
   "metadata": {},
   "source": [
    "### Issue #10: **image-prediction table**: missing records leading to incomplete dataset (2075 out of 2356)"
   ]
  },
  {
   "cell_type": "markdown",
   "metadata": {},
   "source": [
    "#### Define: Merge all the tables(image-prediction, tweet-json, twitter archive) table to drop rows with no records"
   ]
  },
  {
   "cell_type": "markdown",
   "metadata": {},
   "source": [
    "#### Code"
   ]
  },
  {
   "cell_type": "code",
   "execution_count": 50,
   "metadata": {},
   "outputs": [],
   "source": [
    "# merge twit_arch_cp with image_pred_cp\n",
    "twit_image_merged = pd.merge(twit_arch_cp, image_pred_cp, on='tweet_id', how='inner')"
   ]
  },
  {
   "cell_type": "code",
   "execution_count": 51,
   "metadata": {},
   "outputs": [],
   "source": [
    "# merge twit_image_merged with twit_like_cp\n",
    "all_df_merged = pd.merge(twit_image_merged, twit_like_cp, on = 'tweet_id', how = 'inner')"
   ]
  },
  {
   "cell_type": "markdown",
   "metadata": {},
   "source": [
    "#### Test"
   ]
  },
  {
   "cell_type": "code",
   "execution_count": 52,
   "metadata": {},
   "outputs": [
    {
     "data": {
      "text/html": [
       "<div>\n",
       "<style scoped>\n",
       "    .dataframe tbody tr th:only-of-type {\n",
       "        vertical-align: middle;\n",
       "    }\n",
       "\n",
       "    .dataframe tbody tr th {\n",
       "        vertical-align: top;\n",
       "    }\n",
       "\n",
       "    .dataframe thead th {\n",
       "        text-align: right;\n",
       "    }\n",
       "</style>\n",
       "<table border=\"1\" class=\"dataframe\">\n",
       "  <thead>\n",
       "    <tr style=\"text-align: right;\">\n",
       "      <th></th>\n",
       "      <th>tweet_id</th>\n",
       "      <th>timestamp</th>\n",
       "      <th>source</th>\n",
       "      <th>text</th>\n",
       "      <th>expanded_urls</th>\n",
       "      <th>rating_numerator</th>\n",
       "      <th>rating_denominator</th>\n",
       "      <th>name</th>\n",
       "      <th>dog_stage</th>\n",
       "      <th>image_url</th>\n",
       "      <th>img_num</th>\n",
       "      <th>first_prediction</th>\n",
       "      <th>first_pred_score</th>\n",
       "      <th>first_is_dog</th>\n",
       "      <th>second_prediction</th>\n",
       "      <th>second_pred_score</th>\n",
       "      <th>second_is_dog</th>\n",
       "      <th>third_prediction</th>\n",
       "      <th>third_pred_score</th>\n",
       "      <th>third_is_dog</th>\n",
       "    </tr>\n",
       "  </thead>\n",
       "  <tbody>\n",
       "    <tr>\n",
       "      <th>655</th>\n",
       "      <td>771171053431250945</td>\n",
       "      <td>2016-09-01 02:21:21+00:00</td>\n",
       "      <td>Twitter for iPhone</td>\n",
       "      <td>RT @dog_rates: This is Frankie. He's wearing b...</td>\n",
       "      <td>https://twitter.com/dog_rates/status/673320132...</td>\n",
       "      <td>11</td>\n",
       "      <td>10</td>\n",
       "      <td>Frankie</td>\n",
       "      <td>NaN</td>\n",
       "      <td>https://pbs.twimg.com/media/CVgdFjNWEAAxmbq.jpg</td>\n",
       "      <td>3</td>\n",
       "      <td>Samoyed</td>\n",
       "      <td>0.978833</td>\n",
       "      <td>True</td>\n",
       "      <td>Pomeranian</td>\n",
       "      <td>0.012763</td>\n",
       "      <td>True</td>\n",
       "      <td>Eskimo Dog</td>\n",
       "      <td>0.001853</td>\n",
       "      <td>True</td>\n",
       "    </tr>\n",
       "    <tr>\n",
       "      <th>1791</th>\n",
       "      <td>670804601705242624</td>\n",
       "      <td>2015-11-29 03:20:54+00:00</td>\n",
       "      <td>Twitter for iPhone</td>\n",
       "      <td>Meet Mason. He's a total frat boy. Pretends to...</td>\n",
       "      <td>https://twitter.com/dog_rates/status/670804601...</td>\n",
       "      <td>10</td>\n",
       "      <td>10</td>\n",
       "      <td>Mason</td>\n",
       "      <td>NaN</td>\n",
       "      <td>https://pbs.twimg.com/media/CU8tOJZWUAAlNoF.jpg</td>\n",
       "      <td>1</td>\n",
       "      <td>Pomeranian</td>\n",
       "      <td>0.868560</td>\n",
       "      <td>True</td>\n",
       "      <td>Pekinese</td>\n",
       "      <td>0.090129</td>\n",
       "      <td>True</td>\n",
       "      <td>Chow</td>\n",
       "      <td>0.021722</td>\n",
       "      <td>True</td>\n",
       "    </tr>\n",
       "    <tr>\n",
       "      <th>310</th>\n",
       "      <td>826476773533745153</td>\n",
       "      <td>2017-01-31 17:06:32+00:00</td>\n",
       "      <td>Twitter for iPhone</td>\n",
       "      <td>This is Pilot. He has mastered the synchronize...</td>\n",
       "      <td>https://twitter.com/dog_rates/status/826476773...</td>\n",
       "      <td>12</td>\n",
       "      <td>10</td>\n",
       "      <td>Pilot</td>\n",
       "      <td>doggo</td>\n",
       "      <td>https://pbs.twimg.com/media/C3g8M0lWIAEcFgn.jpg</td>\n",
       "      <td>1</td>\n",
       "      <td>German Shepherd</td>\n",
       "      <td>0.741860</td>\n",
       "      <td>True</td>\n",
       "      <td>Tibetan Mastiff</td>\n",
       "      <td>0.122812</td>\n",
       "      <td>True</td>\n",
       "      <td>Kelpie</td>\n",
       "      <td>0.100460</td>\n",
       "      <td>True</td>\n",
       "    </tr>\n",
       "    <tr>\n",
       "      <th>1802</th>\n",
       "      <td>670755717859713024</td>\n",
       "      <td>2015-11-29 00:06:39+00:00</td>\n",
       "      <td>Twitter for iPhone</td>\n",
       "      <td>Say hello to Gin &amp;amp; Tonic. They're having a...</td>\n",
       "      <td>https://twitter.com/dog_rates/status/670755717...</td>\n",
       "      <td>9</td>\n",
       "      <td>10</td>\n",
       "      <td>Gin</td>\n",
       "      <td>NaN</td>\n",
       "      <td>https://pbs.twimg.com/media/CU8AwZ_UsAA-Lbu.jpg</td>\n",
       "      <td>1</td>\n",
       "      <td>Keeshond</td>\n",
       "      <td>0.994065</td>\n",
       "      <td>True</td>\n",
       "      <td>Norwegian Elkhound</td>\n",
       "      <td>0.001827</td>\n",
       "      <td>True</td>\n",
       "      <td>Cairn</td>\n",
       "      <td>0.001821</td>\n",
       "      <td>True</td>\n",
       "    </tr>\n",
       "    <tr>\n",
       "      <th>766</th>\n",
       "      <td>753375668877008896</td>\n",
       "      <td>2016-07-13 23:48:51+00:00</td>\n",
       "      <td>Twitter for iPhone</td>\n",
       "      <td>This is Hank. He's mischievous af. Doesn't eve...</td>\n",
       "      <td>https://twitter.com/dog_rates/status/753375668...</td>\n",
       "      <td>8</td>\n",
       "      <td>10</td>\n",
       "      <td>Hank</td>\n",
       "      <td>NaN</td>\n",
       "      <td>https://pbs.twimg.com/media/CnSHLFeWgAAwV-I.jpg</td>\n",
       "      <td>1</td>\n",
       "      <td>Bluetick</td>\n",
       "      <td>0.360071</td>\n",
       "      <td>True</td>\n",
       "      <td>Crutch</td>\n",
       "      <td>0.134816</td>\n",
       "      <td>False</td>\n",
       "      <td>Tripod</td>\n",
       "      <td>0.098207</td>\n",
       "      <td>False</td>\n",
       "    </tr>\n",
       "  </tbody>\n",
       "</table>\n",
       "</div>"
      ],
      "text/plain": [
       "                tweet_id                  timestamp               source  \\\n",
       "655   771171053431250945  2016-09-01 02:21:21+00:00  Twitter for iPhone    \n",
       "1791  670804601705242624  2015-11-29 03:20:54+00:00  Twitter for iPhone    \n",
       "310   826476773533745153  2017-01-31 17:06:32+00:00  Twitter for iPhone    \n",
       "1802  670755717859713024  2015-11-29 00:06:39+00:00  Twitter for iPhone    \n",
       "766   753375668877008896  2016-07-13 23:48:51+00:00  Twitter for iPhone    \n",
       "\n",
       "                                                   text  \\\n",
       "655   RT @dog_rates: This is Frankie. He's wearing b...   \n",
       "1791  Meet Mason. He's a total frat boy. Pretends to...   \n",
       "310   This is Pilot. He has mastered the synchronize...   \n",
       "1802  Say hello to Gin &amp; Tonic. They're having a...   \n",
       "766   This is Hank. He's mischievous af. Doesn't eve...   \n",
       "\n",
       "                                          expanded_urls  rating_numerator  \\\n",
       "655   https://twitter.com/dog_rates/status/673320132...                11   \n",
       "1791  https://twitter.com/dog_rates/status/670804601...                10   \n",
       "310   https://twitter.com/dog_rates/status/826476773...                12   \n",
       "1802  https://twitter.com/dog_rates/status/670755717...                 9   \n",
       "766   https://twitter.com/dog_rates/status/753375668...                 8   \n",
       "\n",
       "      rating_denominator     name dog_stage  \\\n",
       "655                   10  Frankie       NaN   \n",
       "1791                  10    Mason       NaN   \n",
       "310                   10    Pilot     doggo   \n",
       "1802                  10      Gin       NaN   \n",
       "766                   10     Hank       NaN   \n",
       "\n",
       "                                            image_url  img_num  \\\n",
       "655   https://pbs.twimg.com/media/CVgdFjNWEAAxmbq.jpg        3   \n",
       "1791  https://pbs.twimg.com/media/CU8tOJZWUAAlNoF.jpg        1   \n",
       "310   https://pbs.twimg.com/media/C3g8M0lWIAEcFgn.jpg        1   \n",
       "1802  https://pbs.twimg.com/media/CU8AwZ_UsAA-Lbu.jpg        1   \n",
       "766   https://pbs.twimg.com/media/CnSHLFeWgAAwV-I.jpg        1   \n",
       "\n",
       "     first_prediction  first_pred_score  first_is_dog   second_prediction  \\\n",
       "655           Samoyed          0.978833          True          Pomeranian   \n",
       "1791       Pomeranian          0.868560          True            Pekinese   \n",
       "310   German Shepherd          0.741860          True     Tibetan Mastiff   \n",
       "1802         Keeshond          0.994065          True  Norwegian Elkhound   \n",
       "766          Bluetick          0.360071          True              Crutch   \n",
       "\n",
       "      second_pred_score  second_is_dog third_prediction  third_pred_score  \\\n",
       "655            0.012763           True       Eskimo Dog          0.001853   \n",
       "1791           0.090129           True             Chow          0.021722   \n",
       "310            0.122812           True           Kelpie          0.100460   \n",
       "1802           0.001827           True            Cairn          0.001821   \n",
       "766            0.134816          False           Tripod          0.098207   \n",
       "\n",
       "      third_is_dog  \n",
       "655           True  \n",
       "1791          True  \n",
       "310           True  \n",
       "1802          True  \n",
       "766          False  "
      ]
     },
     "execution_count": 52,
     "metadata": {},
     "output_type": "execute_result"
    }
   ],
   "source": [
    "twit_image_merged.sample(5)"
   ]
  },
  {
   "cell_type": "code",
   "execution_count": 53,
   "metadata": {},
   "outputs": [
    {
     "data": {
      "text/html": [
       "<div>\n",
       "<style scoped>\n",
       "    .dataframe tbody tr th:only-of-type {\n",
       "        vertical-align: middle;\n",
       "    }\n",
       "\n",
       "    .dataframe tbody tr th {\n",
       "        vertical-align: top;\n",
       "    }\n",
       "\n",
       "    .dataframe thead th {\n",
       "        text-align: right;\n",
       "    }\n",
       "</style>\n",
       "<table border=\"1\" class=\"dataframe\">\n",
       "  <thead>\n",
       "    <tr style=\"text-align: right;\">\n",
       "      <th></th>\n",
       "      <th>tweet_id</th>\n",
       "      <th>timestamp</th>\n",
       "      <th>source</th>\n",
       "      <th>text</th>\n",
       "      <th>expanded_urls</th>\n",
       "      <th>rating_numerator</th>\n",
       "      <th>rating_denominator</th>\n",
       "      <th>name</th>\n",
       "      <th>dog_stage</th>\n",
       "      <th>image_url</th>\n",
       "      <th>...</th>\n",
       "      <th>first_pred_score</th>\n",
       "      <th>first_is_dog</th>\n",
       "      <th>second_prediction</th>\n",
       "      <th>second_pred_score</th>\n",
       "      <th>second_is_dog</th>\n",
       "      <th>third_prediction</th>\n",
       "      <th>third_pred_score</th>\n",
       "      <th>third_is_dog</th>\n",
       "      <th>retweet_count</th>\n",
       "      <th>favorite_count</th>\n",
       "    </tr>\n",
       "  </thead>\n",
       "  <tbody>\n",
       "    <tr>\n",
       "      <th>1463</th>\n",
       "      <td>679503373272485890</td>\n",
       "      <td>2015-12-23 03:26:43+00:00</td>\n",
       "      <td>Twitter for iPhone</td>\n",
       "      <td>This is Dwight. He's a pointy pupper. Very doc...</td>\n",
       "      <td>https://twitter.com/dog_rates/status/679503373...</td>\n",
       "      <td>8</td>\n",
       "      <td>10</td>\n",
       "      <td>Dwight</td>\n",
       "      <td>pupper</td>\n",
       "      <td>https://pbs.twimg.com/media/CW4UtmYWsAAEjqA.jpg</td>\n",
       "      <td>...</td>\n",
       "      <td>0.999846</td>\n",
       "      <td>False</td>\n",
       "      <td>Meerkat</td>\n",
       "      <td>0.000072</td>\n",
       "      <td>False</td>\n",
       "      <td>Echidna</td>\n",
       "      <td>0.000044</td>\n",
       "      <td>False</td>\n",
       "      <td>1673</td>\n",
       "      <td>3484</td>\n",
       "    </tr>\n",
       "    <tr>\n",
       "      <th>459</th>\n",
       "      <td>801538201127157760</td>\n",
       "      <td>2016-11-23 21:29:33+00:00</td>\n",
       "      <td>Twitter for iPhone</td>\n",
       "      <td>This is Wallace. He'll be your chau-fur this e...</td>\n",
       "      <td>https://twitter.com/dog_rates/status/801538201...</td>\n",
       "      <td>12</td>\n",
       "      <td>10</td>\n",
       "      <td>Wallace</td>\n",
       "      <td>NaN</td>\n",
       "      <td>https://pbs.twimg.com/media/Cx-itFWWIAAZu7l.jpg</td>\n",
       "      <td>...</td>\n",
       "      <td>0.550506</td>\n",
       "      <td>True</td>\n",
       "      <td>Cardigan</td>\n",
       "      <td>0.306612</td>\n",
       "      <td>True</td>\n",
       "      <td>Shetland Sheepdog</td>\n",
       "      <td>0.054230</td>\n",
       "      <td>True</td>\n",
       "      <td>2391</td>\n",
       "      <td>9141</td>\n",
       "    </tr>\n",
       "    <tr>\n",
       "      <th>1638</th>\n",
       "      <td>674024893172875264</td>\n",
       "      <td>2015-12-08 00:37:11+00:00</td>\n",
       "      <td>Twitter for iPhone</td>\n",
       "      <td>When you realize it doesn't matter how hard yo...</td>\n",
       "      <td>https://twitter.com/dog_rates/status/674024893...</td>\n",
       "      <td>10</td>\n",
       "      <td>10</td>\n",
       "      <td>NaN</td>\n",
       "      <td>NaN</td>\n",
       "      <td>https://pbs.twimg.com/media/CVqeEKLW4AA1wXH.jpg</td>\n",
       "      <td>...</td>\n",
       "      <td>0.648500</td>\n",
       "      <td>True</td>\n",
       "      <td>Pekinese</td>\n",
       "      <td>0.339835</td>\n",
       "      <td>True</td>\n",
       "      <td>Persian Cat</td>\n",
       "      <td>0.006448</td>\n",
       "      <td>False</td>\n",
       "      <td>1360</td>\n",
       "      <td>1914</td>\n",
       "    </tr>\n",
       "    <tr>\n",
       "      <th>331</th>\n",
       "      <td>822647212903690241</td>\n",
       "      <td>2017-01-21 03:29:14+00:00</td>\n",
       "      <td>Twitter for iPhone</td>\n",
       "      <td>RT @dog_rates: This is Paisley. She really wan...</td>\n",
       "      <td>https://twitter.com/dog_rates/status/822489057...</td>\n",
       "      <td>13</td>\n",
       "      <td>10</td>\n",
       "      <td>Paisley</td>\n",
       "      <td>NaN</td>\n",
       "      <td>https://pbs.twimg.com/media/C2oRbOuWEAAbVSl.jpg</td>\n",
       "      <td>...</td>\n",
       "      <td>0.416769</td>\n",
       "      <td>True</td>\n",
       "      <td>Malamute</td>\n",
       "      <td>0.252706</td>\n",
       "      <td>True</td>\n",
       "      <td>Kuvasz</td>\n",
       "      <td>0.157028</td>\n",
       "      <td>True</td>\n",
       "      <td>7390</td>\n",
       "      <td>0</td>\n",
       "    </tr>\n",
       "    <tr>\n",
       "      <th>765</th>\n",
       "      <td>753294487569522689</td>\n",
       "      <td>2016-07-13 18:26:16+00:00</td>\n",
       "      <td>Twitter for iPhone</td>\n",
       "      <td>This is Ace. He's a window washer. One of the ...</td>\n",
       "      <td>https://twitter.com/dog_rates/status/753294487...</td>\n",
       "      <td>11</td>\n",
       "      <td>10</td>\n",
       "      <td>Ace</td>\n",
       "      <td>NaN</td>\n",
       "      <td>https://pbs.twimg.com/media/CnQ9Vq1WEAEYP01.jpg</td>\n",
       "      <td>...</td>\n",
       "      <td>0.194773</td>\n",
       "      <td>True</td>\n",
       "      <td>Monitor</td>\n",
       "      <td>0.102305</td>\n",
       "      <td>False</td>\n",
       "      <td>Siberian Husky</td>\n",
       "      <td>0.086855</td>\n",
       "      <td>True</td>\n",
       "      <td>1191</td>\n",
       "      <td>3758</td>\n",
       "    </tr>\n",
       "  </tbody>\n",
       "</table>\n",
       "<p>5 rows × 22 columns</p>\n",
       "</div>"
      ],
      "text/plain": [
       "                tweet_id                  timestamp               source  \\\n",
       "1463  679503373272485890  2015-12-23 03:26:43+00:00  Twitter for iPhone    \n",
       "459   801538201127157760  2016-11-23 21:29:33+00:00  Twitter for iPhone    \n",
       "1638  674024893172875264  2015-12-08 00:37:11+00:00  Twitter for iPhone    \n",
       "331   822647212903690241  2017-01-21 03:29:14+00:00  Twitter for iPhone    \n",
       "765   753294487569522689  2016-07-13 18:26:16+00:00  Twitter for iPhone    \n",
       "\n",
       "                                                   text  \\\n",
       "1463  This is Dwight. He's a pointy pupper. Very doc...   \n",
       "459   This is Wallace. He'll be your chau-fur this e...   \n",
       "1638  When you realize it doesn't matter how hard yo...   \n",
       "331   RT @dog_rates: This is Paisley. She really wan...   \n",
       "765   This is Ace. He's a window washer. One of the ...   \n",
       "\n",
       "                                          expanded_urls  rating_numerator  \\\n",
       "1463  https://twitter.com/dog_rates/status/679503373...                 8   \n",
       "459   https://twitter.com/dog_rates/status/801538201...                12   \n",
       "1638  https://twitter.com/dog_rates/status/674024893...                10   \n",
       "331   https://twitter.com/dog_rates/status/822489057...                13   \n",
       "765   https://twitter.com/dog_rates/status/753294487...                11   \n",
       "\n",
       "      rating_denominator     name dog_stage  \\\n",
       "1463                  10   Dwight    pupper   \n",
       "459                   10  Wallace       NaN   \n",
       "1638                  10      NaN       NaN   \n",
       "331                   10  Paisley       NaN   \n",
       "765                   10      Ace       NaN   \n",
       "\n",
       "                                            image_url  ...  first_pred_score  \\\n",
       "1463  https://pbs.twimg.com/media/CW4UtmYWsAAEjqA.jpg  ...          0.999846   \n",
       "459   https://pbs.twimg.com/media/Cx-itFWWIAAZu7l.jpg  ...          0.550506   \n",
       "1638  https://pbs.twimg.com/media/CVqeEKLW4AA1wXH.jpg  ...          0.648500   \n",
       "331   https://pbs.twimg.com/media/C2oRbOuWEAAbVSl.jpg  ...          0.416769   \n",
       "765   https://pbs.twimg.com/media/CnQ9Vq1WEAEYP01.jpg  ...          0.194773   \n",
       "\n",
       "     first_is_dog  second_prediction  second_pred_score second_is_dog  \\\n",
       "1463        False            Meerkat           0.000072         False   \n",
       "459          True           Cardigan           0.306612          True   \n",
       "1638         True           Pekinese           0.339835          True   \n",
       "331          True           Malamute           0.252706          True   \n",
       "765          True            Monitor           0.102305         False   \n",
       "\n",
       "       third_prediction  third_pred_score third_is_dog  retweet_count  \\\n",
       "1463            Echidna          0.000044        False           1673   \n",
       "459   Shetland Sheepdog          0.054230         True           2391   \n",
       "1638        Persian Cat          0.006448        False           1360   \n",
       "331              Kuvasz          0.157028         True           7390   \n",
       "765      Siberian Husky          0.086855         True           1191   \n",
       "\n",
       "      favorite_count  \n",
       "1463            3484  \n",
       "459             9141  \n",
       "1638            1914  \n",
       "331                0  \n",
       "765             3758  \n",
       "\n",
       "[5 rows x 22 columns]"
      ]
     },
     "execution_count": 53,
     "metadata": {},
     "output_type": "execute_result"
    }
   ],
   "source": [
    "all_df_merged.sample(5)"
   ]
  },
  {
   "cell_type": "code",
   "execution_count": 54,
   "metadata": {},
   "outputs": [
    {
     "data": {
      "text/plain": [
       "(2055, 22)"
      ]
     },
     "execution_count": 54,
     "metadata": {},
     "output_type": "execute_result"
    }
   ],
   "source": [
    "all_df_merged.shape"
   ]
  },
  {
   "cell_type": "markdown",
   "metadata": {},
   "source": [
    "### Issue #11: timestamp column contains month, year and data"
   ]
  },
  {
   "cell_type": "markdown",
   "metadata": {},
   "source": [
    "#### Define: Split the timestamp column into seperate year and month column"
   ]
  },
  {
   "cell_type": "markdown",
   "metadata": {},
   "source": [
    "#### Code\n"
   ]
  },
  {
   "cell_type": "code",
   "execution_count": 55,
   "metadata": {},
   "outputs": [],
   "source": [
    "# create year, month and day from timestamp\n",
    "all_df_merged['year'] = pd.to_datetime(all_df_merged['timestamp']).dt.year\n",
    "all_df_merged['month'] = pd.to_datetime(all_df_merged['timestamp']).dt.strftime('%B')\n",
    "all_df_merged['day'] = pd.to_datetime(all_df_merged['timestamp']).dt.day_name()"
   ]
  },
  {
   "cell_type": "markdown",
   "metadata": {},
   "source": [
    "#### Test"
   ]
  },
  {
   "cell_type": "code",
   "execution_count": 56,
   "metadata": {},
   "outputs": [
    {
     "name": "stdout",
     "output_type": "stream",
     "text": [
      "<class 'pandas.core.frame.DataFrame'>\n",
      "Int64Index: 2055 entries, 0 to 2054\n",
      "Data columns (total 25 columns):\n",
      " #   Column              Non-Null Count  Dtype  \n",
      "---  ------              --------------  -----  \n",
      " 0   tweet_id            2055 non-null   int64  \n",
      " 1   timestamp           2055 non-null   object \n",
      " 2   source              2025 non-null   object \n",
      " 3   text                2055 non-null   object \n",
      " 4   expanded_urls       2055 non-null   object \n",
      " 5   rating_numerator    2055 non-null   int64  \n",
      " 6   rating_denominator  2055 non-null   int64  \n",
      " 7   name                1436 non-null   object \n",
      " 8   dog_stage           320 non-null    object \n",
      " 9   image_url           2055 non-null   object \n",
      " 10  img_num             2055 non-null   int64  \n",
      " 11  first_prediction    2055 non-null   object \n",
      " 12  first_pred_score    2055 non-null   float64\n",
      " 13  first_is_dog        2055 non-null   bool   \n",
      " 14  second_prediction   2055 non-null   object \n",
      " 15  second_pred_score   2055 non-null   float64\n",
      " 16  second_is_dog       2055 non-null   bool   \n",
      " 17  third_prediction    2055 non-null   object \n",
      " 18  third_pred_score    2055 non-null   float64\n",
      " 19  third_is_dog        2055 non-null   bool   \n",
      " 20  retweet_count       2055 non-null   int64  \n",
      " 21  favorite_count      2055 non-null   int64  \n",
      " 22  year                2055 non-null   int64  \n",
      " 23  month               2055 non-null   object \n",
      " 24  day                 2055 non-null   object \n",
      "dtypes: bool(3), float64(3), int64(7), object(12)\n",
      "memory usage: 375.3+ KB\n"
     ]
    }
   ],
   "source": [
    "all_df_merged.info()"
   ]
  },
  {
   "cell_type": "markdown",
   "metadata": {},
   "source": [
    "## Storing Data\n",
    "Save gathered, assessed, and cleaned master dataset to a CSV file named \"twitter_archive_master.csv\"."
   ]
  },
  {
   "cell_type": "code",
   "execution_count": 57,
   "metadata": {},
   "outputs": [],
   "source": [
    "all_df_merged.to_csv('twitter_archive_master.csv', index = False)"
   ]
  },
  {
   "cell_type": "markdown",
   "metadata": {},
   "source": [
    "## Analyzing and Visualizing Data\n",
    "In this section, analyze and visualize your wrangled data. You must produce at least **three (3) insights and one (1) visualization.**"
   ]
  },
  {
   "cell_type": "code",
   "execution_count": 58,
   "metadata": {},
   "outputs": [
    {
     "data": {
      "text/plain": [
       "(2055, 25)"
      ]
     },
     "execution_count": 58,
     "metadata": {},
     "output_type": "execute_result"
    }
   ],
   "source": [
    "df = pd.read_csv('twitter_archive_master.csv')\n",
    "df.shape"
   ]
  },
  {
   "cell_type": "code",
   "execution_count": 59,
   "metadata": {},
   "outputs": [
    {
     "data": {
      "text/html": [
       "<div>\n",
       "<style scoped>\n",
       "    .dataframe tbody tr th:only-of-type {\n",
       "        vertical-align: middle;\n",
       "    }\n",
       "\n",
       "    .dataframe tbody tr th {\n",
       "        vertical-align: top;\n",
       "    }\n",
       "\n",
       "    .dataframe thead th {\n",
       "        text-align: right;\n",
       "    }\n",
       "</style>\n",
       "<table border=\"1\" class=\"dataframe\">\n",
       "  <thead>\n",
       "    <tr style=\"text-align: right;\">\n",
       "      <th></th>\n",
       "      <th>favorite_count</th>\n",
       "      <th>retweet_count</th>\n",
       "    </tr>\n",
       "    <tr>\n",
       "      <th>first_prediction</th>\n",
       "      <th></th>\n",
       "      <th></th>\n",
       "    </tr>\n",
       "  </thead>\n",
       "  <tbody>\n",
       "    <tr>\n",
       "      <th>Golden Retriever</th>\n",
       "      <td>1665621</td>\n",
       "      <td>569227</td>\n",
       "    </tr>\n",
       "    <tr>\n",
       "      <th>Labrador Retriever</th>\n",
       "      <td>1111859</td>\n",
       "      <td>421792</td>\n",
       "    </tr>\n",
       "    <tr>\n",
       "      <th>Pembroke</th>\n",
       "      <td>994755</td>\n",
       "      <td>280367</td>\n",
       "    </tr>\n",
       "    <tr>\n",
       "      <th>Chihuahua</th>\n",
       "      <td>676441</td>\n",
       "      <td>304218</td>\n",
       "    </tr>\n",
       "    <tr>\n",
       "      <th>Samoyed</th>\n",
       "      <td>542991</td>\n",
       "      <td>212438</td>\n",
       "    </tr>\n",
       "    <tr>\n",
       "      <th>French Bulldog</th>\n",
       "      <td>465738</td>\n",
       "      <td>121782</td>\n",
       "    </tr>\n",
       "    <tr>\n",
       "      <th>Chow</th>\n",
       "      <td>404241</td>\n",
       "      <td>130080</td>\n",
       "    </tr>\n",
       "    <tr>\n",
       "      <th>Pug</th>\n",
       "      <td>320223</td>\n",
       "      <td>112830</td>\n",
       "    </tr>\n",
       "    <tr>\n",
       "      <th>Cocker Spaniel</th>\n",
       "      <td>315825</td>\n",
       "      <td>122939</td>\n",
       "    </tr>\n",
       "    <tr>\n",
       "      <th>Pomeranian</th>\n",
       "      <td>299114</td>\n",
       "      <td>106518</td>\n",
       "    </tr>\n",
       "  </tbody>\n",
       "</table>\n",
       "</div>"
      ],
      "text/plain": [
       "                    favorite_count  retweet_count\n",
       "first_prediction                                 \n",
       "Golden Retriever           1665621         569227\n",
       "Labrador Retriever         1111859         421792\n",
       "Pembroke                    994755         280367\n",
       "Chihuahua                   676441         304218\n",
       "Samoyed                     542991         212438\n",
       "French Bulldog              465738         121782\n",
       "Chow                        404241         130080\n",
       "Pug                         320223         112830\n",
       "Cocker Spaniel              315825         122939\n",
       "Pomeranian                  299114         106518"
      ]
     },
     "execution_count": 59,
     "metadata": {},
     "output_type": "execute_result"
    }
   ],
   "source": [
    "#  most popular dog breeds to feature on WeRateDogs\n",
    "df.groupby('first_prediction')[['favorite_count', \n",
    "                                'retweet_count']].sum().sort_values(by =\n",
    "                                'favorite_count', ascending = False)[:10]"
   ]
  },
  {
   "cell_type": "code",
   "execution_count": 60,
   "metadata": {},
   "outputs": [
    {
     "data": {
      "text/plain": [
       "source\n",
       "TweetDeck                11\n",
       "Twitter for iPhone     2014\n",
       "Name: tweet_id, dtype: int64"
      ]
     },
     "execution_count": 60,
     "metadata": {},
     "output_type": "execute_result"
    }
   ],
   "source": [
    "# source of tweet\n",
    "df.groupby('source')['tweet_id'].count()"
   ]
  },
  {
   "cell_type": "code",
   "execution_count": 61,
   "metadata": {},
   "outputs": [
    {
     "data": {
      "text/html": [
       "<div>\n",
       "<style scoped>\n",
       "    .dataframe tbody tr th:only-of-type {\n",
       "        vertical-align: middle;\n",
       "    }\n",
       "\n",
       "    .dataframe tbody tr th {\n",
       "        vertical-align: top;\n",
       "    }\n",
       "\n",
       "    .dataframe thead th {\n",
       "        text-align: right;\n",
       "    }\n",
       "</style>\n",
       "<table border=\"1\" class=\"dataframe\">\n",
       "  <thead>\n",
       "    <tr style=\"text-align: right;\">\n",
       "      <th></th>\n",
       "      <th></th>\n",
       "      <th></th>\n",
       "      <th></th>\n",
       "      <th></th>\n",
       "      <th>favorite_count</th>\n",
       "      <th>retweet_count</th>\n",
       "    </tr>\n",
       "    <tr>\n",
       "      <th>name</th>\n",
       "      <th>first_prediction</th>\n",
       "      <th>second_prediction</th>\n",
       "      <th>third_prediction</th>\n",
       "      <th>dog_stage</th>\n",
       "      <th></th>\n",
       "      <th></th>\n",
       "    </tr>\n",
       "  </thead>\n",
       "  <tbody>\n",
       "    <tr>\n",
       "      <th>Jamesy</th>\n",
       "      <th>French Bulldog</th>\n",
       "      <th>Boston Bull</th>\n",
       "      <th>Pug</th>\n",
       "      <th>pupper</th>\n",
       "      <td>106827</td>\n",
       "      <td>32883</td>\n",
       "    </tr>\n",
       "    <tr>\n",
       "      <th>Bo</th>\n",
       "      <th>Standard Poodle</th>\n",
       "      <th>Toy Poodle</th>\n",
       "      <th>Tibetan Terrier</th>\n",
       "      <th>doggo</th>\n",
       "      <td>95450</td>\n",
       "      <td>84456</td>\n",
       "    </tr>\n",
       "    <tr>\n",
       "      <th>Sunny</th>\n",
       "      <th>Prison</th>\n",
       "      <th>Palace</th>\n",
       "      <th>Umbrella</th>\n",
       "      <th>doggo</th>\n",
       "      <td>49960</td>\n",
       "      <td>43588</td>\n",
       "    </tr>\n",
       "    <tr>\n",
       "      <th>Barney</th>\n",
       "      <th>Golden Retriever</th>\n",
       "      <th>Leonberg</th>\n",
       "      <th>Norfolk Terrier</th>\n",
       "      <th>doggo</th>\n",
       "      <td>48410</td>\n",
       "      <td>13076</td>\n",
       "    </tr>\n",
       "    <tr>\n",
       "      <th>Cupid</th>\n",
       "      <th>Great Pyrenees</th>\n",
       "      <th>Golden Retriever</th>\n",
       "      <th>Pekinese</th>\n",
       "      <th>doggo</th>\n",
       "      <td>40325</td>\n",
       "      <td>11878</td>\n",
       "    </tr>\n",
       "    <tr>\n",
       "      <th>Astrid</th>\n",
       "      <th>Staffordshire Bullterrier</th>\n",
       "      <th>American Staffordshire Terrier</th>\n",
       "      <th>Chesapeake Bay Retriever</th>\n",
       "      <th>doggo</th>\n",
       "      <td>38074</td>\n",
       "      <td>21412</td>\n",
       "    </tr>\n",
       "    <tr>\n",
       "      <th>Sebastian</th>\n",
       "      <th>Cardigan</th>\n",
       "      <th>Pembroke</th>\n",
       "      <th>Kelpie</th>\n",
       "      <th>puppo</th>\n",
       "      <td>35501</td>\n",
       "      <td>11007</td>\n",
       "    </tr>\n",
       "    <tr>\n",
       "      <th>Cassie</th>\n",
       "      <th>Pembroke</th>\n",
       "      <th>Cardigan</th>\n",
       "      <th>Chihuahua</th>\n",
       "      <th>doggo</th>\n",
       "      <td>32467</td>\n",
       "      <td>7711</td>\n",
       "    </tr>\n",
       "    <tr>\n",
       "      <th>Gabe</th>\n",
       "      <th>Pomeranian</th>\n",
       "      <th>Samoyed</th>\n",
       "      <th>Maltese Dog</th>\n",
       "      <th>pupper</th>\n",
       "      <td>31800</td>\n",
       "      <td>17209</td>\n",
       "    </tr>\n",
       "    <tr>\n",
       "      <th>Gus</th>\n",
       "      <th>Labrador Retriever</th>\n",
       "      <th>Chesapeake Bay Retriever</th>\n",
       "      <th>Flat-Coated Retriever</th>\n",
       "      <th>pupper</th>\n",
       "      <td>28903</td>\n",
       "      <td>5134</td>\n",
       "    </tr>\n",
       "    <tr>\n",
       "      <th>Jed</th>\n",
       "      <th>Cocker Spaniel</th>\n",
       "      <th>Miniature Poodle</th>\n",
       "      <th>Toy Poodle</th>\n",
       "      <th>pupper</th>\n",
       "      <td>26651</td>\n",
       "      <td>4308</td>\n",
       "    </tr>\n",
       "    <tr>\n",
       "      <th>Emanuel</th>\n",
       "      <th>Pomeranian</th>\n",
       "      <th>Marmot</th>\n",
       "      <th>Grey Fox</th>\n",
       "      <th>doggo</th>\n",
       "      <td>26404</td>\n",
       "      <td>7031</td>\n",
       "    </tr>\n",
       "    <tr>\n",
       "      <th>Pickles</th>\n",
       "      <th>Irish Water Spaniel</th>\n",
       "      <th>Labrador Retriever</th>\n",
       "      <th>Curly-Coated Retriever</th>\n",
       "      <th>pupper</th>\n",
       "      <td>25225</td>\n",
       "      <td>6039</td>\n",
       "    </tr>\n",
       "    <tr>\n",
       "      <th>Chelsea</th>\n",
       "      <th>Norwegian Elkhound</th>\n",
       "      <th>Chesapeake Bay Retriever</th>\n",
       "      <th>Malamute</th>\n",
       "      <th>pupper</th>\n",
       "      <td>24553</td>\n",
       "      <td>14252</td>\n",
       "    </tr>\n",
       "    <tr>\n",
       "      <th>Loki</th>\n",
       "      <th>Golden Retriever</th>\n",
       "      <th>Labrador Retriever</th>\n",
       "      <th>Tennis Ball</th>\n",
       "      <th>doggo</th>\n",
       "      <td>23767</td>\n",
       "      <td>11514</td>\n",
       "    </tr>\n",
       "    <tr>\n",
       "      <th>Craig</th>\n",
       "      <th>Pembroke</th>\n",
       "      <th>Cardigan</th>\n",
       "      <th>Beagle</th>\n",
       "      <th>pupper</th>\n",
       "      <td>23302</td>\n",
       "      <td>7444</td>\n",
       "    </tr>\n",
       "    <tr>\n",
       "      <th>Grizzwald</th>\n",
       "      <th>Chow</th>\n",
       "      <th>Tibetan Mastiff</th>\n",
       "      <th>Newfoundland</th>\n",
       "      <th>floofer</th>\n",
       "      <td>22986</td>\n",
       "      <td>3825</td>\n",
       "    </tr>\n",
       "    <tr>\n",
       "      <th>Kona</th>\n",
       "      <th>German Shepherd</th>\n",
       "      <th>Tibetan Mastiff</th>\n",
       "      <th>Kelpie</th>\n",
       "      <th>pupper</th>\n",
       "      <td>22180</td>\n",
       "      <td>5987</td>\n",
       "    </tr>\n",
       "    <tr>\n",
       "      <th>Gidget</th>\n",
       "      <th>Cardigan</th>\n",
       "      <th>Kelpie</th>\n",
       "      <th>Shopping Cart</th>\n",
       "      <th>pupper</th>\n",
       "      <td>22133</td>\n",
       "      <td>5513</td>\n",
       "    </tr>\n",
       "    <tr>\n",
       "      <th>Boomer</th>\n",
       "      <th>Shetland Sheepdog</th>\n",
       "      <th>Collie</th>\n",
       "      <th>Pembroke</th>\n",
       "      <th>pupper</th>\n",
       "      <td>21944</td>\n",
       "      <td>5459</td>\n",
       "    </tr>\n",
       "  </tbody>\n",
       "</table>\n",
       "</div>"
      ],
      "text/plain": [
       "                                                                                                       favorite_count  \\\n",
       "name      first_prediction          second_prediction              third_prediction         dog_stage                   \n",
       "Jamesy    French Bulldog            Boston Bull                    Pug                      pupper             106827   \n",
       "Bo        Standard Poodle           Toy Poodle                     Tibetan Terrier          doggo               95450   \n",
       "Sunny     Prison                    Palace                         Umbrella                 doggo               49960   \n",
       "Barney    Golden Retriever          Leonberg                       Norfolk Terrier          doggo               48410   \n",
       "Cupid     Great Pyrenees            Golden Retriever               Pekinese                 doggo               40325   \n",
       "Astrid    Staffordshire Bullterrier American Staffordshire Terrier Chesapeake Bay Retriever doggo               38074   \n",
       "Sebastian Cardigan                  Pembroke                       Kelpie                   puppo               35501   \n",
       "Cassie    Pembroke                  Cardigan                       Chihuahua                doggo               32467   \n",
       "Gabe      Pomeranian                Samoyed                        Maltese Dog              pupper              31800   \n",
       "Gus       Labrador Retriever        Chesapeake Bay Retriever       Flat-Coated Retriever    pupper              28903   \n",
       "Jed       Cocker Spaniel            Miniature Poodle               Toy Poodle               pupper              26651   \n",
       "Emanuel   Pomeranian                Marmot                         Grey Fox                 doggo               26404   \n",
       "Pickles   Irish Water Spaniel       Labrador Retriever             Curly-Coated Retriever   pupper              25225   \n",
       "Chelsea   Norwegian Elkhound        Chesapeake Bay Retriever       Malamute                 pupper              24553   \n",
       "Loki      Golden Retriever          Labrador Retriever             Tennis Ball              doggo               23767   \n",
       "Craig     Pembroke                  Cardigan                       Beagle                   pupper              23302   \n",
       "Grizzwald Chow                      Tibetan Mastiff                Newfoundland             floofer             22986   \n",
       "Kona      German Shepherd           Tibetan Mastiff                Kelpie                   pupper              22180   \n",
       "Gidget    Cardigan                  Kelpie                         Shopping Cart            pupper              22133   \n",
       "Boomer    Shetland Sheepdog         Collie                         Pembroke                 pupper              21944   \n",
       "\n",
       "                                                                                                       retweet_count  \n",
       "name      first_prediction          second_prediction              third_prediction         dog_stage                 \n",
       "Jamesy    French Bulldog            Boston Bull                    Pug                      pupper             32883  \n",
       "Bo        Standard Poodle           Toy Poodle                     Tibetan Terrier          doggo              84456  \n",
       "Sunny     Prison                    Palace                         Umbrella                 doggo              43588  \n",
       "Barney    Golden Retriever          Leonberg                       Norfolk Terrier          doggo              13076  \n",
       "Cupid     Great Pyrenees            Golden Retriever               Pekinese                 doggo              11878  \n",
       "Astrid    Staffordshire Bullterrier American Staffordshire Terrier Chesapeake Bay Retriever doggo              21412  \n",
       "Sebastian Cardigan                  Pembroke                       Kelpie                   puppo              11007  \n",
       "Cassie    Pembroke                  Cardigan                       Chihuahua                doggo               7711  \n",
       "Gabe      Pomeranian                Samoyed                        Maltese Dog              pupper             17209  \n",
       "Gus       Labrador Retriever        Chesapeake Bay Retriever       Flat-Coated Retriever    pupper              5134  \n",
       "Jed       Cocker Spaniel            Miniature Poodle               Toy Poodle               pupper              4308  \n",
       "Emanuel   Pomeranian                Marmot                         Grey Fox                 doggo               7031  \n",
       "Pickles   Irish Water Spaniel       Labrador Retriever             Curly-Coated Retriever   pupper              6039  \n",
       "Chelsea   Norwegian Elkhound        Chesapeake Bay Retriever       Malamute                 pupper             14252  \n",
       "Loki      Golden Retriever          Labrador Retriever             Tennis Ball              doggo              11514  \n",
       "Craig     Pembroke                  Cardigan                       Beagle                   pupper              7444  \n",
       "Grizzwald Chow                      Tibetan Mastiff                Newfoundland             floofer             3825  \n",
       "Kona      German Shepherd           Tibetan Mastiff                Kelpie                   pupper              5987  \n",
       "Gidget    Cardigan                  Kelpie                         Shopping Cart            pupper              5513  \n",
       "Boomer    Shetland Sheepdog         Collie                         Pembroke                 pupper              5459  "
      ]
     },
     "execution_count": 61,
     "metadata": {},
     "output_type": "execute_result"
    }
   ],
   "source": [
    "# most liked and retweeted dog with its breed \n",
    "df.groupby(['name', 'first_prediction', 'second_prediction', 'third_prediction', 'dog_stage'])[['favorite_count',\n",
    "                        'retweet_count']].sum().sort_values(by = ['favorite_count', 'retweet_count'], ascending = False)[:20]"
   ]
  },
  {
   "cell_type": "code",
   "execution_count": 62,
   "metadata": {},
   "outputs": [
    {
     "data": {
      "text/plain": [
       "dog_stage\n",
       "doggo      7901.552239\n",
       "puppo      6431.434783\n",
       "floofer    4968.714286\n",
       "pupper     2468.209524\n",
       "Name: retweet_count, dtype: float64"
      ]
     },
     "execution_count": 62,
     "metadata": {},
     "output_type": "execute_result"
    }
   ],
   "source": [
    "# popular dog stages\n",
    "encap  = df.query('dog_stage==\"pupper\" or dog_stage==\"doggo\" or dog_stage==\"puppo\" or dog_stage==\"floofer\"')\n",
    "encap.groupby('dog_stage')[\n",
    "                        'retweet_count'].mean().sort_values(ascending = False)"
   ]
  },
  {
   "cell_type": "code",
   "execution_count": 63,
   "metadata": {},
   "outputs": [
    {
     "data": {
      "text/plain": [
       "name\n",
       "Atticus    1787\n",
       "Charlie     128\n",
       "Tucker      121\n",
       "Lucy        114\n",
       "Oliver      113\n",
       "Cooper      113\n",
       "Penny       106\n",
       "Bo           98\n",
       "Lola         86\n",
       "Winston      84\n",
       "Daisy        83\n",
       "Sadie        82\n",
       "Logan        75\n",
       "Toby         74\n",
       "Koda         70\n",
       "the          70\n",
       "Rusty        69\n",
       "Milo         69\n",
       "Stanley      68\n",
       "Bailey       67\n",
       "Name: rating_numerator, dtype: int64"
      ]
     },
     "execution_count": 63,
     "metadata": {},
     "output_type": "execute_result"
    }
   ],
   "source": [
    "# dog with high ratings(best boy or girl)\n",
    "df.groupby('name')['rating_numerator'].sum().sort_values(ascending = False)[:20]"
   ]
  },
  {
   "cell_type": "code",
   "execution_count": 64,
   "metadata": {},
   "outputs": [
    {
     "data": {
      "text/plain": [
       "first_prediction\n",
       "Golden Retriever             1690\n",
       "Labrador Retriever           1080\n",
       "Pembroke                     1007\n",
       "Chihuahua                     897\n",
       "Pug                           588\n",
       "Chow                          512\n",
       "Samoyed                       503\n",
       "Pomeranian                    489\n",
       "Toy Poodle                    434\n",
       "Microphone                    420\n",
       "Cocker Spaniel                342\n",
       "Malamute                      327\n",
       "French Bulldog                293\n",
       "Chesapeake Bay Retriever      248\n",
       "Miniature Pinscher            245\n",
       "Web Site                      224\n",
       "German Shepherd               220\n",
       "Cardigan                      219\n",
       "Staffordshire Bullterrier     216\n",
       "Name: rating_numerator, dtype: int64"
      ]
     },
     "execution_count": 64,
     "metadata": {},
     "output_type": "execute_result"
    }
   ],
   "source": [
    "# dog breeds with high ratings\n",
    "df.groupby('first_prediction')['rating_numerator'].sum().sort_values(ascending = False)[1:20]"
   ]
  },
  {
   "cell_type": "code",
   "execution_count": 65,
   "metadata": {},
   "outputs": [
    {
     "data": {
      "text/plain": [
       "third_prediction\n",
       "Space Shuttle               0\n",
       "Partridge                   1\n",
       "Lampshade                   1\n",
       "Acorn                       2\n",
       "Gar                         2\n",
       "Wolf Spider                 2\n",
       "Axolotl                     3\n",
       "Screw                       3\n",
       "European Fire Salamander    3\n",
       "Great Grey Owl              3\n",
       "Leafhopper                  3\n",
       "Band Aid                    3\n",
       "Whiptail                    3\n",
       "Goldfish                    4\n",
       "Stinkhorn                   4\n",
       "Windsor Tie                 4\n",
       "Dugong                      5\n",
       "Rock Crab                   5\n",
       "Triceratops                 5\n",
       "Wild Boar                   5\n",
       "Name: rating_numerator, dtype: int64"
      ]
     },
     "execution_count": 65,
     "metadata": {},
     "output_type": "execute_result"
    }
   ],
   "source": [
    "# dog breeds with low ratings\n",
    "df.groupby('third_prediction')['rating_numerator'].sum().sort_values()[:20]"
   ]
  },
  {
   "cell_type": "code",
   "execution_count": 66,
   "metadata": {},
   "outputs": [
    {
     "data": {
      "text/plain": [
       "name     first_prediction\n",
       "Stephan  Chihuahua           56625.0\n",
       "Duddles  English Springer    45849.0\n",
       "Bo       Standard Poodle     42228.0\n",
       "Jamesy   French Bulldog      32883.0\n",
       "Kenneth  Bubble              31989.0\n",
       "Name: retweet_count, dtype: float64"
      ]
     },
     "execution_count": 66,
     "metadata": {},
     "output_type": "execute_result"
    }
   ],
   "source": [
    "# top breed of dog that got highest average retweet\n",
    "df.groupby(['name', 'first_prediction'])['retweet_count'].mean().sort_values(ascending = False)[:5]"
   ]
  },
  {
   "cell_type": "code",
   "execution_count": 67,
   "metadata": {},
   "outputs": [
    {
     "data": {
      "text/plain": [
       "dog_stage\n",
       "doggo      7901.552239\n",
       "puppo      6431.434783\n",
       "floofer    4968.714286\n",
       "pupper     2468.209524\n",
       "Name: retweet_count, dtype: float64"
      ]
     },
     "execution_count": 67,
     "metadata": {},
     "output_type": "execute_result"
    }
   ],
   "source": [
    "# average retweet count by dog stage\n",
    "df_dog_stage = df.query('dog_stage==\"pupper\" or dog_stage==\"doggo\" or dog_stage==\"puppo\" or dog_stage==\"floofer\"')\n",
    "df_dog_stage.groupby('dog_stage')['retweet_count'].mean().sort_values(ascending = False)[:5]"
   ]
  },
  {
   "cell_type": "code",
   "execution_count": 68,
   "metadata": {},
   "outputs": [
    {
     "data": {
      "text/plain": [
       "dog_stage\n",
       "doggo,puppo     19196.000000\n",
       "doggo            7901.552239\n",
       "puppo            6431.434783\n",
       "doggo,pupper     5262.909091\n",
       "floofer          4968.714286\n",
       "Name: retweet_count, dtype: float64"
      ]
     },
     "execution_count": 68,
     "metadata": {},
     "output_type": "execute_result"
    }
   ],
   "source": [
    "# dog stage that go the highest retweet count\n",
    "df.groupby('dog_stage')['retweet_count'].mean().sort_values(ascending = False)[:5]"
   ]
  },
  {
   "cell_type": "code",
   "execution_count": 69,
   "metadata": {},
   "outputs": [
    {
     "data": {
      "text/html": [
       "<div>\n",
       "<style scoped>\n",
       "    .dataframe tbody tr th:only-of-type {\n",
       "        vertical-align: middle;\n",
       "    }\n",
       "\n",
       "    .dataframe tbody tr th {\n",
       "        vertical-align: top;\n",
       "    }\n",
       "\n",
       "    .dataframe thead th {\n",
       "        text-align: right;\n",
       "    }\n",
       "</style>\n",
       "<table border=\"1\" class=\"dataframe\">\n",
       "  <thead>\n",
       "    <tr style=\"text-align: right;\">\n",
       "      <th></th>\n",
       "      <th>rating_numerator</th>\n",
       "    </tr>\n",
       "    <tr>\n",
       "      <th>first_prediction</th>\n",
       "      <th></th>\n",
       "    </tr>\n",
       "  </thead>\n",
       "  <tbody>\n",
       "    <tr>\n",
       "      <th>Welsh Springer Spaniel</th>\n",
       "      <td>8</td>\n",
       "    </tr>\n",
       "  </tbody>\n",
       "</table>\n",
       "</div>"
      ],
      "text/plain": [
       "                        rating_numerator\n",
       "first_prediction                        \n",
       "Welsh Springer Spaniel                 8"
      ]
     },
     "execution_count": 69,
     "metadata": {},
     "output_type": "execute_result"
    }
   ],
   "source": [
    "# first dog to feature on WeRateDog(breed, etc, )\n",
    "\n",
    "df['timestamp'] = pd.to_datetime(df['timestamp'])\n",
    "\n",
    "early = df.loc[df['timestamp'] == df['timestamp'].min(), :]\n",
    "early.groupby('first_prediction')[['timestamp', 'rating_numerator']].sum()"
   ]
  },
  {
   "cell_type": "code",
   "execution_count": 70,
   "metadata": {},
   "outputs": [
    {
     "data": {
      "text/plain": [
       "year  day      \n",
       "2016  Monday       168\n",
       "      Tuesday      155\n",
       "      Wednesday    153\n",
       "      Friday       142\n",
       "      Thursday     137\n",
       "      Saturday     132\n",
       "      Sunday       121\n",
       "2015  Monday       110\n",
       "      Thursday     100\n",
       "      Tuesday       96\n",
       "      Wednesday     95\n",
       "      Sunday        93\n",
       "      Friday        85\n",
       "      Saturday      83\n",
       "2017  Friday        64\n",
       "      Wednesday     63\n",
       "      Monday        58\n",
       "      Tuesday       58\n",
       "      Thursday      52\n",
       "      Saturday      47\n",
       "      Sunday        43\n",
       "Name: tweet_id, dtype: int64"
      ]
     },
     "execution_count": 70,
     "metadata": {},
     "output_type": "execute_result"
    }
   ],
   "source": [
    "# most day of the week a dog is rated\n",
    "df.groupby(['year','day'])['tweet_id'].count().sort_values(ascending = False)"
   ]
  },
  {
   "cell_type": "markdown",
   "metadata": {},
   "source": [
    "### Insights: After gathering, assessing, cleaning and exploring the data, I have come to a conclusion.\n",
    "1. The Dog breed with highest total rating, total likes and total retweet count on the WeRateDogs profile is Golden Retriever. From the analysis of the dataset, it is concluded that Golden Retrievers are one of the most popular breed of dogs. This could be due to the fact that they are hardworking, great therapy dogs and they are the cutest, in my opinion.\n",
    " \n",
    "2. The first dog to ever feature on the WeRateDogs profile according to the gathered dataset is a Welsh Springer Spaniel, thsis dog was introduced to us on 15th of November 2015, although no further information like its name and dog stage was provided in the dataset but we know he or she is a good dog with an amazing rating of 8 out of 10.\n",
    "\n",
    "3. 2016 was the busiest year for WeRateDogs and Mondays seem to be the day that dogs are rated the most, possibly to stimulate humans serotonin on the first day of a week. We all know Monday can be a challenging day for most people but after seeing cute and happy faces of dogs, that can put a little smile on our faces."
   ]
  },
  {
   "cell_type": "markdown",
   "metadata": {},
   "source": [
    "### Visualization"
   ]
  },
  {
   "cell_type": "markdown",
   "metadata": {},
   "source": [
    "To see a pictorial representaion of some of the codes above, I have put together some charts to help understand some of the insights made."
   ]
  },
  {
   "cell_type": "code",
   "execution_count": 71,
   "metadata": {},
   "outputs": [],
   "source": [
    "import matplotlib.pyplot as plt\n",
    "import seaborn as sns\n",
    "%matplotlib inline"
   ]
  },
  {
   "cell_type": "markdown",
   "metadata": {},
   "source": [
    "#### The chart below shows top 10 popular dog breeds in the dataset, it also shows the great difference between likes and retweet"
   ]
  },
  {
   "cell_type": "code",
   "execution_count": 98,
   "metadata": {},
   "outputs": [
    {
     "data": {
      "image/png": "[encoded data removed]",
      "text/plain": [
       "<Figure size 864x576 with 1 Axes>"
      ]
     },
     "metadata": {
      "needs_background": "light"
     },
     "output_type": "display_data"
    }
   ],
   "source": [
    "pop_dog = df.groupby('first_prediction')[['favorite_count', \n",
    "                                'retweet_count']].sum().sort_values(by = 'favorite_count', ascending = False)[:10]\n",
    "\n",
    "\n",
    "colors = ['#1f77b4', '#ff7f0e', '#2ca02c', '#d62728', '#9467bd',\n",
    "          '#8c564b', '#e377c2', '#7f7f7f', '#bcbd22', '#17becf']\n",
    "\n",
    "pop_dog.plot(kind = 'bar', color = ['steelblue', 'green'],\n",
    "             edgecolor='black', linewidth=1.0, alpha=.7, figsize = (12,8))\n",
    "plt.xlabel('Dog Breed', fontsize = 18)\n",
    "plt.ylabel('Number of Likes and Retwwet', fontsize = 18)\n",
    "plt.title(\"Most Popular Dog Breed by Total Tweet Likes\", fontsize = 18);"
   ]
  },
  {
   "cell_type": "markdown",
   "metadata": {},
   "source": [
    "#### The chart below shows the number of dogs that have been rated on a particular day of the week"
   ]
  },
  {
   "cell_type": "code",
   "execution_count": 110,
   "metadata": {},
   "outputs": [
    {
     "data": {
      "image/png": "[encoded data removed]",
      "text/plain": [
       "<Figure size 864x576 with 1 Axes>"
      ]
     },
     "metadata": {
      "needs_background": "light"
     },
     "output_type": "display_data"
    }
   ],
   "source": [
    "timeline = df.groupby('day')['tweet_id'].count()\n",
    "\n",
    "timeline.plot(color = 'green', figsize = (12,8))\n",
    "plt.xlabel('Days of Week', fontsize = 18)\n",
    "plt.ylabel('Number of Tweets', fontsize = 18)\n",
    "plt.title('Total Number of Tweets Per Day', fontsize = 18)\n",
    "plt.legend();"
   ]
  },
  {
   "cell_type": "code",
   "execution_count": null,
   "metadata": {},
   "outputs": [],
   "source": []
  },
  {
   "cell_type": "code",
   "execution_count": null,
   "metadata": {},
   "outputs": [],
   "source": []
  }
 ],
 "metadata": {
  "extensions": {
   "jupyter_dashboards": {
    "activeView": "report_default",
    "version": 1,
    "views": {
     "grid_default": {
      "cellMargin": 10,
      "defaultCellHeight": 20,
      "maxColumns": 12,
      "name": "grid",
      "type": "grid"
     },
     "report_default": {
      "name": "report",
      "type": "report"
     }
    }
   }
  },
  "kernelspec": {
   "display_name": "Python 3 (ipykernel)",
   "language": "python",
   "name": "python3"
  },
  "language_info": {
   "codemirror_mode": {
    "name": "ipython",
    "version": 3
   },
   "file_extension": ".py",
   "mimetype": "text/x-python",
   "name": "python",
   "nbconvert_exporter": "python",
   "pygments_lexer": "ipython3",
   "version": "3.9.12"
  }
 },
 "nbformat": 4,
 "nbformat_minor": 4
}
